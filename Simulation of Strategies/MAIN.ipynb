{
 "cells": [
  {
   "cell_type": "markdown",
   "metadata": {},
   "source": [
    "# Backtesting for Options Strategy\n",
    "\n",
    "This notebook is created to test short-options (theta) strategies, such as the one used by QYLD.\n",
    "\n",
    "The methodology is as follows:\n",
    "- Use a statistical distribution based on historical SPY prices to generate series of daily close prices.\n",
    "- Use the Black-Scholes-Merton equation to evaluate options and trade them according to stated strategy.\n",
    "- Do Monte Carlo simulations to evaluate the returns of each strategy."
   ]
  },
  {
   "cell_type": "code",
   "execution_count": 20,
   "metadata": {},
   "outputs": [],
   "source": [
    "import numpy as np\n",
    "import pandas as pd\n",
    "import misc\n",
    "import matplotlib.pyplot as plt\n",
    "import mplfinance as mpf\n",
    "import seaborn as sns\n",
    "from scipy.stats import laplace, norm, gmean\n",
    "from tqdm.notebook import tqdm\n",
    "\n",
    "pd.options.display.max_columns=300\n",
    "pd.options.display.max_rows=100\n",
    "\n",
    "\n"
   ]
  },
  {
   "cell_type": "markdown",
   "metadata": {},
   "source": [
    "### Dataset\n",
    "Dataset is SPY (S&P 500 ETF). We take closing prices from yahoo finance."
   ]
  },
  {
   "cell_type": "code",
   "execution_count": 2,
   "metadata": {},
   "outputs": [
    {
     "data": {
      "text/html": [
       "<div>\n",
       "<style scoped>\n",
       "    .dataframe tbody tr th:only-of-type {\n",
       "        vertical-align: middle;\n",
       "    }\n",
       "\n",
       "    .dataframe tbody tr th {\n",
       "        vertical-align: top;\n",
       "    }\n",
       "\n",
       "    .dataframe thead th {\n",
       "        text-align: right;\n",
       "    }\n",
       "</style>\n",
       "<table border=\"1\" class=\"dataframe\">\n",
       "  <thead>\n",
       "    <tr style=\"text-align: right;\">\n",
       "      <th></th>\n",
       "      <th>open</th>\n",
       "      <th>high</th>\n",
       "      <th>low</th>\n",
       "      <th>close</th>\n",
       "      <th>adjclose</th>\n",
       "      <th>volume</th>\n",
       "      <th>ticker</th>\n",
       "      <th>close daily returns</th>\n",
       "    </tr>\n",
       "    <tr>\n",
       "      <th>date</th>\n",
       "      <th></th>\n",
       "      <th></th>\n",
       "      <th></th>\n",
       "      <th></th>\n",
       "      <th></th>\n",
       "      <th></th>\n",
       "      <th></th>\n",
       "      <th></th>\n",
       "    </tr>\n",
       "  </thead>\n",
       "  <tbody>\n",
       "    <tr>\n",
       "      <th>1993-02-01</th>\n",
       "      <td>43.968750</td>\n",
       "      <td>44.250000</td>\n",
       "      <td>43.968750</td>\n",
       "      <td>44.250000</td>\n",
       "      <td>25.397579</td>\n",
       "      <td>480500</td>\n",
       "      <td>SPY</td>\n",
       "      <td>0.007112</td>\n",
       "    </tr>\n",
       "    <tr>\n",
       "      <th>1993-02-02</th>\n",
       "      <td>44.218750</td>\n",
       "      <td>44.375000</td>\n",
       "      <td>44.125000</td>\n",
       "      <td>44.343750</td>\n",
       "      <td>25.451405</td>\n",
       "      <td>201300</td>\n",
       "      <td>SPY</td>\n",
       "      <td>0.002119</td>\n",
       "    </tr>\n",
       "    <tr>\n",
       "      <th>1993-02-03</th>\n",
       "      <td>44.406250</td>\n",
       "      <td>44.843750</td>\n",
       "      <td>44.375000</td>\n",
       "      <td>44.812500</td>\n",
       "      <td>25.720440</td>\n",
       "      <td>529400</td>\n",
       "      <td>SPY</td>\n",
       "      <td>0.010571</td>\n",
       "    </tr>\n",
       "    <tr>\n",
       "      <th>1993-02-04</th>\n",
       "      <td>44.968750</td>\n",
       "      <td>45.093750</td>\n",
       "      <td>44.468750</td>\n",
       "      <td>45.000000</td>\n",
       "      <td>25.828058</td>\n",
       "      <td>531500</td>\n",
       "      <td>SPY</td>\n",
       "      <td>0.004184</td>\n",
       "    </tr>\n",
       "    <tr>\n",
       "      <th>1993-02-05</th>\n",
       "      <td>44.968750</td>\n",
       "      <td>45.062500</td>\n",
       "      <td>44.718750</td>\n",
       "      <td>44.968750</td>\n",
       "      <td>25.810114</td>\n",
       "      <td>492100</td>\n",
       "      <td>SPY</td>\n",
       "      <td>-0.000694</td>\n",
       "    </tr>\n",
       "    <tr>\n",
       "      <th>...</th>\n",
       "      <td>...</td>\n",
       "      <td>...</td>\n",
       "      <td>...</td>\n",
       "      <td>...</td>\n",
       "      <td>...</td>\n",
       "      <td>...</td>\n",
       "      <td>...</td>\n",
       "      <td>...</td>\n",
       "    </tr>\n",
       "    <tr>\n",
       "      <th>2023-01-26</th>\n",
       "      <td>403.130005</td>\n",
       "      <td>404.920013</td>\n",
       "      <td>400.029999</td>\n",
       "      <td>404.750000</td>\n",
       "      <td>404.750000</td>\n",
       "      <td>72287400</td>\n",
       "      <td>SPY</td>\n",
       "      <td>0.010990</td>\n",
       "    </tr>\n",
       "    <tr>\n",
       "      <th>2023-01-27</th>\n",
       "      <td>403.660004</td>\n",
       "      <td>408.160004</td>\n",
       "      <td>403.440002</td>\n",
       "      <td>405.679993</td>\n",
       "      <td>405.679993</td>\n",
       "      <td>68280700</td>\n",
       "      <td>SPY</td>\n",
       "      <td>0.002298</td>\n",
       "    </tr>\n",
       "    <tr>\n",
       "      <th>2023-01-30</th>\n",
       "      <td>402.799988</td>\n",
       "      <td>405.130005</td>\n",
       "      <td>400.279999</td>\n",
       "      <td>400.589996</td>\n",
       "      <td>400.589996</td>\n",
       "      <td>74202000</td>\n",
       "      <td>SPY</td>\n",
       "      <td>-0.012547</td>\n",
       "    </tr>\n",
       "    <tr>\n",
       "      <th>2023-01-31</th>\n",
       "      <td>401.130005</td>\n",
       "      <td>406.529999</td>\n",
       "      <td>400.769989</td>\n",
       "      <td>406.480011</td>\n",
       "      <td>406.480011</td>\n",
       "      <td>86811800</td>\n",
       "      <td>SPY</td>\n",
       "      <td>0.014703</td>\n",
       "    </tr>\n",
       "    <tr>\n",
       "      <th>2023-02-01</th>\n",
       "      <td>405.209991</td>\n",
       "      <td>413.670013</td>\n",
       "      <td>402.350006</td>\n",
       "      <td>410.799988</td>\n",
       "      <td>410.799988</td>\n",
       "      <td>100945300</td>\n",
       "      <td>SPY</td>\n",
       "      <td>0.010628</td>\n",
       "    </tr>\n",
       "  </tbody>\n",
       "</table>\n",
       "<p>7556 rows × 8 columns</p>\n",
       "</div>"
      ],
      "text/plain": [
       "                  open        high         low       close    adjclose  \\\n",
       "date                                                                     \n",
       "1993-02-01   43.968750   44.250000   43.968750   44.250000   25.397579   \n",
       "1993-02-02   44.218750   44.375000   44.125000   44.343750   25.451405   \n",
       "1993-02-03   44.406250   44.843750   44.375000   44.812500   25.720440   \n",
       "1993-02-04   44.968750   45.093750   44.468750   45.000000   25.828058   \n",
       "1993-02-05   44.968750   45.062500   44.718750   44.968750   25.810114   \n",
       "...                ...         ...         ...         ...         ...   \n",
       "2023-01-26  403.130005  404.920013  400.029999  404.750000  404.750000   \n",
       "2023-01-27  403.660004  408.160004  403.440002  405.679993  405.679993   \n",
       "2023-01-30  402.799988  405.130005  400.279999  400.589996  400.589996   \n",
       "2023-01-31  401.130005  406.529999  400.769989  406.480011  406.480011   \n",
       "2023-02-01  405.209991  413.670013  402.350006  410.799988  410.799988   \n",
       "\n",
       "               volume ticker  close daily returns  \n",
       "date                                               \n",
       "1993-02-01     480500    SPY             0.007112  \n",
       "1993-02-02     201300    SPY             0.002119  \n",
       "1993-02-03     529400    SPY             0.010571  \n",
       "1993-02-04     531500    SPY             0.004184  \n",
       "1993-02-05     492100    SPY            -0.000694  \n",
       "...               ...    ...                  ...  \n",
       "2023-01-26   72287400    SPY             0.010990  \n",
       "2023-01-27   68280700    SPY             0.002298  \n",
       "2023-01-30   74202000    SPY            -0.012547  \n",
       "2023-01-31   86811800    SPY             0.014703  \n",
       "2023-02-01  100945300    SPY             0.010628  \n",
       "\n",
       "[7556 rows x 8 columns]"
      ]
     },
     "execution_count": 2,
     "metadata": {},
     "output_type": "execute_result"
    }
   ],
   "source": [
    "misc.get_price_data('SPY')\n",
    "df = pd.read_csv('SPY.csv')\n",
    "df = misc.clean_df(df)\n",
    "df = df.set_index('date')\n",
    "df['close daily returns'] = (df['close'] - df['close'].shift(1)) / df['close'].shift(1)\n",
    "df = df.dropna()\n",
    "\n",
    "df"
   ]
  },
  {
   "cell_type": "markdown",
   "metadata": {},
   "source": [
    "### Statistics of SPY"
   ]
  },
  {
   "cell_type": "code",
   "execution_count": 3,
   "metadata": {
    "scrolled": true
   },
   "outputs": [
    {
     "data": {
      "image/png": "[encoded data removed]",
      "text/plain": [
       "<Figure size 432x288 with 1 Axes>"
      ]
     },
     "metadata": {
      "needs_background": "light"
     },
     "output_type": "display_data"
    }
   ],
   "source": [
    "# Distribution of daily returns\n",
    "count, bins, ignored = plt.hist(df['close daily returns'], 1000, density=True)"
   ]
  },
  {
   "cell_type": "markdown",
   "metadata": {},
   "source": [
    "Normal distribution:"
   ]
  },
  {
   "cell_type": "code",
   "execution_count": 4,
   "metadata": {},
   "outputs": [
    {
     "name": "stdout",
     "output_type": "stream",
     "text": [
      "(0.00036727541885155687, 0.01194347407292802)\n"
     ]
    },
    {
     "data": {
      "image/png": "[encoded data removed]",
      "text/plain": [
       "<Figure size 432x288 with 1 Axes>"
      ]
     },
     "metadata": {
      "needs_background": "light"
     },
     "output_type": "display_data"
    }
   ],
   "source": [
    "# Fit normal distribution parameters\n",
    "norm_params = norm.fit(df['close daily returns'])\n",
    "print(norm_params)\n",
    "\n",
    "# Plot daily return distribution\n",
    "count, bins, ignored = plt.hist(df['close daily returns'], 1000, density=True)\n",
    "\n",
    "# Plot normal distribution with parameters\n",
    "mu, sigma = norm_params\n",
    "plt.plot(bins, 1/(sigma * np.sqrt(2 * np.pi)) *\n",
    "               np.exp( - (bins - mu)**2 / (2 * sigma**2) ),\n",
    "         linewidth=2, color='r')\n",
    "plt.show()"
   ]
  },
  {
   "attachments": {},
   "cell_type": "markdown",
   "metadata": {},
   "source": [
    "Laplace Distribution:\n",
    "\n",
    "https://arxiv.org/ftp/arxiv/papers/1906/1906.10325.pdf"
   ]
  },
  {
   "cell_type": "code",
   "execution_count": 5,
   "metadata": {},
   "outputs": [
    {
     "name": "stdout",
     "output_type": "stream",
     "text": [
      "(0.0005986361682018114, 0.007939312817785232)\n"
     ]
    },
    {
     "data": {
      "text/plain": [
       "[<matplotlib.lines.Line2D at 0x1bc495a7730>]"
      ]
     },
     "execution_count": 5,
     "metadata": {},
     "output_type": "execute_result"
    },
    {
     "data": {
      "image/png": "[encoded data removed]",
      "text/plain": [
       "<Figure size 432x288 with 1 Axes>"
      ]
     },
     "metadata": {
      "needs_background": "light"
     },
     "output_type": "display_data"
    }
   ],
   "source": [
    "# Fit Laplace distribution parameters\n",
    "laplace_params = laplace.fit(df['close daily returns'])\n",
    "print(laplace_params)\n",
    "\n",
    "# Plot daily returns distribution\n",
    "count, bins, ignored = plt.hist(df['close daily returns'], 1000, density=True)\n",
    "\n",
    "# Plot Laplace distribution with parameters\n",
    "loc, scale = laplace_params\n",
    "x = np.arange(-0.2, 0.2, .001)\n",
    "pdf = np.exp(-abs(x-loc)/scale)/(2.*scale)\n",
    "plt.plot(x, pdf)"
   ]
  },
  {
   "cell_type": "markdown",
   "metadata": {},
   "source": [
    "The laplace distribution appears to be fit SPY daily returns distribution more closely.\n",
    "\n",
    "We calculate the historical volatility of SPY for use in the BSM equation.\n",
    "\n",
    "\\begin{equation}\n",
    "    \\sigma_{annual} = \\sigma_{daily} \\times \\sqrt{252}\n",
    "\\end{equation}"
   ]
  },
  {
   "cell_type": "code",
   "execution_count": 6,
   "metadata": {},
   "outputs": [
    {
     "name": "stdout",
     "output_type": "stream",
     "text": [
      "SPY Historical Volatility: 18.96 %\n"
     ]
    }
   ],
   "source": [
    "spy_hist_vol = np.std(df['close daily returns']) * np.sqrt(252)\n",
    "print(\"SPY Historical Volatility: \" + \"{:.2f}\".format(spy_hist_vol * 100) + \" %\")"
   ]
  },
  {
   "cell_type": "markdown",
   "metadata": {},
   "source": [
    "### Model Stock Replication\n",
    "\n",
    "We create a model stock by:\n",
    "- Generating a random series of daily returns distributed by the laplace distribution with previously fitted parameters.\n",
    "- Specify an initial price.\n",
    "- Calculate subsequent closing prices by multiplying by daily returns"
   ]
  },
  {
   "cell_type": "code",
   "execution_count": 7,
   "metadata": {},
   "outputs": [
    {
     "data": {
      "text/plain": [
       "[<matplotlib.lines.Line2D at 0x1bc48ac6430>]"
      ]
     },
     "execution_count": 7,
     "metadata": {},
     "output_type": "execute_result"
    },
    {
     "data": {
      "image/png": "[encoded data removed]",
      "text/plain": [
       "<Figure size 432x288 with 1 Axes>"
      ]
     },
     "metadata": {
      "needs_background": "light"
     },
     "output_type": "display_data"
    }
   ],
   "source": [
    "def generate_stock(laplace_params, num_days, initial_price):\n",
    "    '''\n",
    "    Generate array of stock prices according to laplace distribution\n",
    "    '''\n",
    "    # laplace parameters\n",
    "    loc, scale = laplace_params\n",
    "    \n",
    "    # generate daily returns from laplace distribution\n",
    "    s = np.random.laplace(loc, scale, num_days)\n",
    "    \n",
    "    # generate stock price from daily returns\n",
    "    stock_arr = [initial_price]\n",
    "    for i in range(num_days):\n",
    "        stock_arr.append(stock_arr[-1] * (1 + s[i]))\n",
    "        \n",
    "    return np.array(stock_arr), np.array([0] + s)\n",
    "\n",
    "sp, dc = generate_stock(laplace_params, 100, 400)\n",
    "t = range(1, 102)\n",
    "plt.plot(t, sp)"
   ]
  },
  {
   "cell_type": "code",
   "execution_count": 8,
   "metadata": {},
   "outputs": [
    {
     "data": {
      "text/plain": [
       "[<matplotlib.lines.Line2D at 0x1bc469b2bb0>]"
      ]
     },
     "execution_count": 8,
     "metadata": {},
     "output_type": "execute_result"
    },
    {
     "data": {
      "image/png": "[encoded data removed]",
      "text/plain": [
       "<Figure size 432x288 with 1 Axes>"
      ]
     },
     "metadata": {
      "needs_background": "light"
     },
     "output_type": "display_data"
    }
   ],
   "source": [
    "plt.plot(t[1:], dc)"
   ]
  },
  {
   "attachments": {},
   "cell_type": "markdown",
   "metadata": {},
   "source": [
    "### Black-Scholes-Merton Equation\n",
    "BSM equation:\n",
    "\n",
    "\\begin{equation}\n",
    "    C = N(d_1)S - N(d_2)Ke^{-rt}\n",
    "\\end{equation}\n",
    "\n",
    "where\n",
    "- $d_1 = \\frac{\\ln \\frac{S}{K} + (r + \\frac{\\sigma^2}{2})t}{\\sigma\\sqrt{t}}$\n",
    "- $d_2 = d_1 - \\sigma\\sqrt{t}$\n",
    "- $C$ is the call option price.\n",
    "- $N(x)$ is the cummulative distribution function of the normal distribution.\n",
    "- $S$ is the current price of the underlying.\n",
    "- $K$ is the strike price of the contract.\n",
    "- $r$ is the risk-free interest rate (taken as 1 Year US Treasury Bill, $r = 3.26\\%$).\n",
    "- $t$ is the time to maturity.\n",
    "- $\\sigma$ is the volatility.\n",
    "\n",
    "The BSM equation makes several assumptions:\n",
    "- Options are european styled, i.e. they cannot be exercised before expiration.\n",
    "- Volatility remains constant throughout the lifetime of the option."
   ]
  },
  {
   "cell_type": "code",
   "execution_count": 9,
   "metadata": {},
   "outputs": [],
   "source": [
    "def bsm(stock_price, strike_price, dte, volatility=spy_hist_vol, rf_rate=0.03):\n",
    "    '''\n",
    "    Calculate the delta and prices of call/put option according to BSM eqn.\n",
    "    \n",
    "    Input:\n",
    "    - current stock price of underlying\n",
    "    - strike price of contract\n",
    "    - days to expiry (dte)\n",
    "    - volatility (historically 17.73% for SPY)\n",
    "    - risk-free interest rate (3.26% for 1 Year US Treasury Bill)\n",
    "    \n",
    "    Output:\n",
    "    - delta of call option\n",
    "    - price of call option\n",
    "    - delta of put option\n",
    "    - price of put option\n",
    "    '''\n",
    "    \n",
    "    # change units for dte to years\n",
    "    t = dte / 365.25\n",
    "    \n",
    "    # present value of strike price\n",
    "    pv_strike = strike_price * np.exp(-rf_rate * t)\n",
    "    \n",
    "    # d1 and d2 variables of bsm\n",
    "    d1 = (np.log(stock_price / strike_price) \\\n",
    "          + (rf_rate + (volatility ** 2) / 2) * t) / (volatility * np.sqrt(t))\n",
    "    d2 = d1 - volatility * np.sqrt(t)\n",
    "    \n",
    "    # delta of call option\n",
    "    call_delta = norm.cdf(d1)\n",
    "    \n",
    "    # price of call option\n",
    "    call_price = call_delta * stock_price - norm.cdf(d2) * pv_strike\n",
    "    \n",
    "    # delta of put option\n",
    "    put_delta = -norm.cdf(-d1)\n",
    "    \n",
    "    # price of put option\n",
    "    put_price = put_delta * stock_price + norm.cdf(-d2) * pv_strike\n",
    "    \n",
    "    return call_delta, call_price, put_delta, put_price"
   ]
  },
  {
   "attachments": {},
   "cell_type": "markdown",
   "metadata": {},
   "source": [
    "Strategy should return:\n",
    "1. Daily returns (1.xx)\n",
    "2. Daily changes in portfolio value (1.xx)"
   ]
  },
  {
   "attachments": {},
   "cell_type": "markdown",
   "metadata": {},
   "source": [
    "### Buy-Hold Strategy\n",
    "Buy assets at the start and hold until the end"
   ]
  },
  {
   "cell_type": "code",
   "execution_count": 10,
   "metadata": {},
   "outputs": [],
   "source": [
    "def buy_hold_strategy(stock_price):\n",
    "    arr = stock_price/stock_price[0]\n",
    "    return arr, arr[1:] / arr[:-1]"
   ]
  },
  {
   "attachments": {},
   "cell_type": "markdown",
   "metadata": {},
   "source": [
    "### Buy-write strategy\n",
    "\n",
    "This strategy replicates the CBOE SP500 buy-write index. We hold assets in the underlying index and sell ATM covered calls every month to generate income with the option premium. This strategy is supposed to generate consistent returns with low volatility, at the expense of capping the upside.\n",
    "\n",
    "This strategy is used by the funds QYLD, XYLD."
   ]
  },
  {
   "cell_type": "code",
   "execution_count": 11,
   "metadata": {},
   "outputs": [],
   "source": [
    "\n",
    "def buy_write_strategy(stock_price, dte=22, initial_capital=1E6):\n",
    "    num_days = len(stock_price) - 1\n",
    "\n",
    "    cash = initial_capital\n",
    "    call_dte = 0\n",
    "    day = 0\n",
    "    call_value = 0\n",
    "    stock_value = 0\n",
    "    call_pos = 0\n",
    "    stock_pos = 0\n",
    "    port_value = np.array([0])\n",
    "    call_strike = 0\n",
    "\n",
    "    while day <= num_days:\n",
    "        # print(f'- day: {day}, stock price: {stock_price[day]}')\n",
    "        if day % dte == 0:\n",
    "\n",
    "            if call_pos != 0:\n",
    "                # close the calls\n",
    "                if stock_price[day] < call_strike:\n",
    "                    pass\n",
    "                    # print(f'--- {call_pos} calls expire OTM')\n",
    "                else:\n",
    "                    stock_pos += call_pos\n",
    "                    cash += -call_pos * call_strike\n",
    "                    # print(f'--- {call_pos} calls called away @ {call_strike} for {-call_pos * call_strike}')\n",
    "                call_pos = 0\n",
    "\n",
    "            # buy stock\n",
    "            # print(f'--- buy {cash // stock_price[day]} stock @ {stock_price[day]}')\n",
    "            new_pos = cash // stock_price[day]\n",
    "            stock_pos += new_pos\n",
    "            cash -= new_pos * stock_price[day]\n",
    "            # sell calls\n",
    "            call_strike = int(stock_price[day])\n",
    "            _, call_price, _, _ = bsm(stock_price=stock_price[day], strike_price=call_strike, dte=dte)\n",
    "            call_pos = -stock_pos\n",
    "            # print(f'--- sell {-stock_pos} strike {call_strike} calls @ {call_price}')\n",
    "            cash += -call_pos * call_price\n",
    "\n",
    "        stock_value = stock_pos * stock_price[day]\n",
    "        # print(f'-- stock value: {stock_value}')\n",
    "        _, call_price, _, _ = bsm(stock_price=stock_price[day], strike_price=call_strike, dte=(dte - day % dte))\n",
    "        call_value = call_pos * call_price\n",
    "        # print(f'-- call value: {call_value}')\n",
    "        # print(f'-- cash: {cash}')\n",
    "        port_value = np.append(port_value, stock_value + call_value + cash)\n",
    "        # print(f'-- portfolio value: {port_value[-1]}')\n",
    "\n",
    "        day += 1\n",
    "\n",
    "    port_returns = port_value[1:] / initial_capital\n",
    "    return port_returns, port_returns[1:] / port_returns[:-1]\n",
    "\n"
   ]
  },
  {
   "attachments": {},
   "cell_type": "markdown",
   "metadata": {},
   "source": [
    "### Dollar Cost Average Strategy\n",
    "Divide initial capital into equal amounts to be invested into assets at regular frequency."
   ]
  },
  {
   "cell_type": "code",
   "execution_count": 12,
   "metadata": {},
   "outputs": [],
   "source": [
    "def dca_strategy(stock_price, dca_period=22, initial_capital=1E6):\n",
    "    num_days = len(stock_price)\n",
    "    dca_num = np.ceil(num_days / dca_period)\n",
    "    dca_amount = initial_capital // dca_num\n",
    "    cash = initial_capital\n",
    "    stock_pos = np.array([0])\n",
    "    cash_pos = np.array([0])\n",
    "    \n",
    "\n",
    "    for day in range(num_days):\n",
    "        stock_pos = np.append(stock_pos, stock_pos[-1])\n",
    "        if day % dca_period == 0:\n",
    "            dca_stock_pos = dca_amount // stock_price[day]\n",
    "            stock_pos[-1] += dca_stock_pos\n",
    "            cash -= dca_stock_pos * stock_price[day]\n",
    "            \n",
    "        cash_pos = np.append(cash_pos, cash)\n",
    "    \n",
    "    stock_pos = stock_pos[1:]\n",
    "    cash_pos = cash_pos[1:]\n",
    "\n",
    "    port_value = stock_price * stock_pos + cash_pos\n",
    "    arr = (port_value / initial_capital)  \n",
    "    \n",
    "    return arr, arr[1:] / arr[:-1]\n"
   ]
  },
  {
   "attachments": {},
   "cell_type": "markdown",
   "metadata": {},
   "source": [
    "### Leveraged Daily Returns Strategy\n",
    "Strategy for leveraged funds such as UPRO and TQQQ. The daily changes of the underlying index is replicated with leverage."
   ]
  },
  {
   "cell_type": "code",
   "execution_count": 13,
   "metadata": {},
   "outputs": [],
   "source": [
    "def leveraged_strategy(stock_price, leverage=3, initial_capital=1E6):\n",
    "    arr = stock_price / stock_price[0]\n",
    "    daily_changes = leverage * ((stock_price[1:] / stock_price[:-1]) - 1)\n",
    "\n",
    "    daily_returns = np.insert(np.cumprod(daily_changes + 1), 0, 1)\n",
    "    \n",
    "    return daily_returns, daily_changes + 1"
   ]
  },
  {
   "attachments": {},
   "cell_type": "markdown",
   "metadata": {},
   "source": [
    "### Comparison between strategies"
   ]
  },
  {
   "cell_type": "code",
   "execution_count": 32,
   "metadata": {},
   "outputs": [
    {
     "data": {
      "image/png": "[encoded data removed]",
      "text/plain": [
       "<Figure size 432x288 with 1 Axes>"
      ]
     },
     "metadata": {
      "needs_background": "light"
     },
     "output_type": "display_data"
    },
    {
     "name": "stdout",
     "output_type": "stream",
     "text": [
      "buy-hold\n",
      "Total Return:    0.07 %\n",
      "CAGR:    0.07 %\n",
      "Volatility:    0.21 %\n",
      "Beta:    1.00 %\n",
      "Sharpe Ratio:    0.28 %\n",
      "-------------------------------------\n",
      "buy-write\n",
      "Total Return:    -0.00 %\n",
      "CAGR:    -0.00 %\n",
      "Volatility:    0.11 %\n",
      "Beta:    0.41 %\n",
      "Sharpe Ratio:    -0.22 %\n",
      "-------------------------------------\n",
      "dca\n",
      "Total Return:    0.05 %\n",
      "CAGR:    0.05 %\n",
      "Volatility:    0.12 %\n",
      "Beta:    0.48 %\n",
      "Sharpe Ratio:    0.20 %\n",
      "-------------------------------------\n",
      "3x leverage\n",
      "Total Return:    0.05 %\n",
      "CAGR:    0.05 %\n",
      "Volatility:    0.64 %\n",
      "Beta:    3.00 %\n",
      "Sharpe Ratio:    0.42 %\n",
      "-------------------------------------\n"
     ]
    },
    {
     "data": {
      "image/png": "[encoded data removed]",
      "text/plain": [
       "<Figure size 360x360 with 1 Axes>"
      ]
     },
     "metadata": {
      "needs_background": "light"
     },
     "output_type": "display_data"
    }
   ],
   "source": [
    "# Take 252 trading days in 1 year\n",
    "num_days = 252\n",
    "stock_price, daily_changes = generate_stock(laplace_params, num_days=num_days, initial_price=400)\n",
    "\n",
    "# Array of returns\n",
    "results = {\n",
    "    'buy-hold': buy_hold_strategy(stock_price),\n",
    "    'buy-write': buy_write_strategy(stock_price),\n",
    "    'dca': dca_strategy(stock_price),\n",
    "    '3x leverage': leveraged_strategy(stock_price, leverage=3),\n",
    "}\n",
    "\n",
    "\n",
    "def returns_analysis(rt, ch):\n",
    "    kpi_dict = {\n",
    "        'Total Return': rt[-1] - 1,\n",
    "        'CAGR': gmean(ch) ** 252 - 1,\n",
    "        'Volatility': np.std(ch - 1) * np.sqrt(252),\n",
    "        'Beta': np.corrcoef(daily_changes, ch - 1)[0, 1] * np.std(daily_changes) * np.std(ch - 1) / np.var(daily_changes),\n",
    "        'Sharpe Ratio': ((np.mean(ch) ** 252 - 1) - 0.03) / (np.std(ch - 1) * np.sqrt(252)),\n",
    "    }\n",
    "    return kpi_dict\n",
    "\n",
    "for key in results:\n",
    "    plt.plot(range(num_days + 1), results[key][0], label=key)\n",
    "plt.legend()\n",
    "plt.xlabel('days')\n",
    "plt.ylabel('returns')\n",
    "plt.show()\n",
    "\n",
    "sample_var = np.var(daily_changes)\n",
    "sns.displot(daily_changes, color='blue', bins=50)\n",
    "\n",
    "for strat in results:\n",
    "    print(strat)\n",
    "    rt, ch = results[strat]\n",
    "    kpi_dict = returns_analysis(rt, ch)\n",
    "    for kpi in kpi_dict:\n",
    "\n",
    "        print(kpi + ':    {:.2f} %'.format(kpi_dict[kpi]))\n",
    "    \n",
    "    \n",
    "    # sns.displot(ca, color='red', bins=100)\n",
    "\n",
    "    print('-------------------------------------')"
   ]
  },
  {
   "cell_type": "code",
   "execution_count": 15,
   "metadata": {},
   "outputs": [
    {
     "data": {
      "application/vnd.jupyter.widget-view+json": {
       "model_id": "f68aeb93d44845e1955c814c3711f24a",
       "version_major": 2,
       "version_minor": 0
      },
      "text/plain": [
       "  0%|          | 0/1000 [00:00<?, ?it/s]"
      ]
     },
     "metadata": {},
     "output_type": "display_data"
    }
   ],
   "source": [
    "mc_results = {}\n",
    "for key in strat:\n",
    "    mc_results[key] = []\n",
    "for i in tqdm(range(1000)):\n",
    "    stock_price, daily_changes = generate_stock(laplace_params, num_days=num_days, initial_price=400)\n",
    "    \n",
    "\n",
    "    for key in strat:\n",
    "        rt, ch = strat[key](stock_price)\n",
    "        mc_results[key].append((\n",
    "            np.mean(ch) ** 252 - 1,\n",
    "            np.std(ch - 1) * np.sqrt(252), \n",
    "            np.corrcoef(daily_changes, ch - 1)[0, 1] * np.std(daily_changes) * np.std(ch - 1) / np.var(daily_changes), \n",
    "            ((np.mean(ch) ** 252 - 1) - 0.03) / (np.std(ch - 1) * np.sqrt(252))\n",
    "            ))\n",
    "\n",
    "\n"
   ]
  },
  {
   "cell_type": "code",
   "execution_count": 16,
   "metadata": {},
   "outputs": [
    {
     "name": "stdout",
     "output_type": "stream",
     "text": [
      "buy-hold\n",
      "Annual return:    18.16 %\n",
      "Volatility:       17.78 %\n",
      "Beta:             1.00\n",
      "Sharpe Ratio:     0.86\n",
      "---------------------------------------\n",
      "buy-write\n",
      "Annual return:    5.51 %\n",
      "Volatility:       9.22 %\n",
      "Beta:             0.43\n",
      "Sharpe Ratio:     0.42\n",
      "---------------------------------------\n",
      "dca\n",
      "Annual return:    8.79 %\n",
      "Volatility:       10.55 %\n",
      "Beta:             0.53\n",
      "Sharpe Ratio:     0.54\n",
      "---------------------------------------\n",
      "3x leverage\n",
      "Annual return:    82.51 %\n",
      "Volatility:       53.33 %\n",
      "Beta:             3.00\n",
      "Sharpe Ratio:     1.50\n",
      "---------------------------------------\n"
     ]
    }
   ],
   "source": [
    "for key in mc_results:\n",
    "    print(key)\n",
    "    print('Annual return:    {:.2f} %'.format(np.mean([f[0] for f in mc_results[key]]) * 100))\n",
    "    print('Volatility:       {:.2f} %'.format(np.mean([f[1] for f in mc_results[key]]) * 100))\n",
    "    print('Beta:             {:.2f}'.format(np.mean([f[2] for f in mc_results[key]])))\n",
    "    print('Sharpe Ratio:     {:.2f}'.format(np.mean([f[3] for f in mc_results[key]])))\n",
    "    print('---------------------------------------')"
   ]
  },
  {
   "cell_type": "code",
   "execution_count": 17,
   "metadata": {},
   "outputs": [
    {
     "ename": "NameError",
     "evalue": "name 'buy_hold_results' is not defined",
     "output_type": "error",
     "traceback": [
      "\u001b[1;31m---------------------------------------------------------------------------\u001b[0m",
      "\u001b[1;31mNameError\u001b[0m                                 Traceback (most recent call last)",
      "\u001b[1;32mc:\\Users\\alexr\\Quantitative_Finance_Modelling\\Simulation of Strategies\\MAIN.ipynb Cell 31\u001b[0m in \u001b[0;36m<cell line: 1>\u001b[1;34m()\u001b[0m\n\u001b[1;32m----> <a href='vscode-notebook-cell:/c%3A/Users/alexr/Quantitative_Finance_Modelling/Simulation%20of%20Strategies/MAIN.ipynb#X42sZmlsZQ%3D%3D?line=0'>1</a>\u001b[0m count, bins, ignored \u001b[39m=\u001b[39m plt\u001b[39m.\u001b[39mhist(buy_hold_results, \u001b[39m20\u001b[39m, density\u001b[39m=\u001b[39m\u001b[39mTrue\u001b[39;00m)\n\u001b[0;32m      <a href='vscode-notebook-cell:/c%3A/Users/alexr/Quantitative_Finance_Modelling/Simulation%20of%20Strategies/MAIN.ipynb#X42sZmlsZQ%3D%3D?line=1'>2</a>\u001b[0m count, bins, ignored \u001b[39m=\u001b[39m plt\u001b[39m.\u001b[39mhist(strategy_results, \u001b[39m20\u001b[39m, density\u001b[39m=\u001b[39m\u001b[39mTrue\u001b[39;00m)\n",
      "\u001b[1;31mNameError\u001b[0m: name 'buy_hold_results' is not defined"
     ]
    }
   ],
   "source": [
    "count, bins, ignored = plt.hist(buy_hold_results, 20, density=True)\n",
    "count, bins, ignored = plt.hist(strategy_results, 20, density=True)"
   ]
  },
  {
   "cell_type": "code",
   "execution_count": null,
   "metadata": {},
   "outputs": [
    {
     "data": {
      "image/png": "[encoded data removed]",
      "text/plain": [
       "<Figure size 432x288 with 1 Axes>"
      ]
     },
     "metadata": {
      "needs_background": "light"
     },
     "output_type": "display_data"
    }
   ],
   "source": [
    "count, bins, ignored = plt.hist(np.array(strategy_results) - np.array(buy_hold_results), 50, density=True)"
   ]
  },
  {
   "cell_type": "code",
   "execution_count": null,
   "metadata": {},
   "outputs": [
    {
     "name": "stdout",
     "output_type": "stream",
     "text": [
      "[-1.35288275e-01 -9.35313279e-02 -8.72659777e-02 -7.72873666e-02\n",
      " -6.98190939e-02 -5.65791230e-02 -4.92351508e-02 -3.94697933e-02\n",
      " -3.40503350e-02 -2.40270530e-02 -2.32754817e-02 -1.03563286e-02\n",
      " -9.28684267e-03 -8.76434048e-03 -7.28868656e-03  4.95266779e-05\n",
      "  1.27445261e-03  4.32455031e-03  4.82768908e-03  6.58041022e-03\n",
      "  8.99773304e-03  1.16230788e-02  1.75603505e-02  1.93555569e-02\n",
      "  2.09777345e-02  2.64912883e-02  2.83790195e-02  2.88521421e-02\n",
      "  3.09670139e-02  3.42243439e-02  3.78376310e-02  4.04325493e-02\n",
      "  4.20807893e-02  5.38628824e-02  5.72989571e-02  6.10185058e-02\n",
      "  6.42928003e-02  6.50289684e-02  6.69562022e-02  6.72047907e-02\n",
      "  7.19847512e-02  7.88127832e-02  7.94488009e-02  8.50024692e-02\n",
      "  8.77379701e-02  9.08603505e-02  9.30941586e-02  9.44484900e-02\n",
      "  9.52789723e-02  9.69629675e-02  9.70463663e-02  9.88013677e-02\n",
      "  1.00725197e-01  1.08820706e-01  1.11138637e-01  1.12792793e-01\n",
      "  1.14017117e-01  1.14798249e-01  1.16468851e-01  1.17486596e-01\n",
      "  1.18557503e-01  1.20727128e-01  1.21246188e-01  1.23109197e-01\n",
      "  1.26029638e-01  1.29806864e-01  1.33409696e-01  1.34012003e-01\n",
      "  1.50226292e-01  1.52031581e-01  1.52860348e-01  1.54242045e-01\n",
      "  1.62242717e-01  1.62935248e-01  1.67965912e-01  1.69332452e-01\n",
      "  1.69463813e-01  1.72647755e-01  1.74418720e-01  1.75080180e-01\n",
      "  1.77473326e-01  1.81035805e-01  1.85312275e-01  1.86213602e-01\n",
      "  1.88798686e-01  1.95651218e-01  1.99754147e-01  2.01039632e-01\n",
      "  2.04425906e-01  2.05296755e-01  2.05811212e-01  2.09912724e-01\n",
      "  2.18405009e-01  2.27188873e-01  2.31478798e-01  2.35931471e-01\n",
      "  2.37778275e-01  2.44795653e-01  2.50189658e-01  2.62609843e-01]\n"
     ]
    }
   ],
   "source": [
    "strat_result = np.array(strategy_results)\n",
    "strat_result.sort()\n",
    "print(strat_result)"
   ]
  },
  {
   "cell_type": "code",
   "execution_count": null,
   "metadata": {},
   "outputs": [
    {
     "data": {
      "text/html": [
       "<div>\n",
       "<style scoped>\n",
       "    .dataframe tbody tr th:only-of-type {\n",
       "        vertical-align: middle;\n",
       "    }\n",
       "\n",
       "    .dataframe tbody tr th {\n",
       "        vertical-align: top;\n",
       "    }\n",
       "\n",
       "    .dataframe thead th {\n",
       "        text-align: right;\n",
       "    }\n",
       "</style>\n",
       "<table border=\"1\" class=\"dataframe\">\n",
       "  <thead>\n",
       "    <tr style=\"text-align: right;\">\n",
       "      <th></th>\n",
       "      <th>open</th>\n",
       "      <th>high</th>\n",
       "      <th>low</th>\n",
       "      <th>close</th>\n",
       "      <th>adjclose</th>\n",
       "      <th>volume</th>\n",
       "      <th>ticker</th>\n",
       "      <th>close daily returns</th>\n",
       "    </tr>\n",
       "    <tr>\n",
       "      <th>date</th>\n",
       "      <th></th>\n",
       "      <th></th>\n",
       "      <th></th>\n",
       "      <th></th>\n",
       "      <th></th>\n",
       "      <th></th>\n",
       "      <th></th>\n",
       "      <th></th>\n",
       "    </tr>\n",
       "  </thead>\n",
       "  <tbody>\n",
       "    <tr>\n",
       "      <th>1993-02-01</th>\n",
       "      <td>43.968750</td>\n",
       "      <td>44.250000</td>\n",
       "      <td>43.968750</td>\n",
       "      <td>44.250000</td>\n",
       "      <td>25.397573</td>\n",
       "      <td>480500</td>\n",
       "      <td>SPY</td>\n",
       "      <td>0.007112</td>\n",
       "    </tr>\n",
       "    <tr>\n",
       "      <th>1993-02-02</th>\n",
       "      <td>44.218750</td>\n",
       "      <td>44.375000</td>\n",
       "      <td>44.125000</td>\n",
       "      <td>44.343750</td>\n",
       "      <td>25.451389</td>\n",
       "      <td>201300</td>\n",
       "      <td>SPY</td>\n",
       "      <td>0.002119</td>\n",
       "    </tr>\n",
       "    <tr>\n",
       "      <th>1993-02-03</th>\n",
       "      <td>44.406250</td>\n",
       "      <td>44.843750</td>\n",
       "      <td>44.375000</td>\n",
       "      <td>44.812500</td>\n",
       "      <td>25.720436</td>\n",
       "      <td>529400</td>\n",
       "      <td>SPY</td>\n",
       "      <td>0.010571</td>\n",
       "    </tr>\n",
       "    <tr>\n",
       "      <th>1993-02-04</th>\n",
       "      <td>44.968750</td>\n",
       "      <td>45.093750</td>\n",
       "      <td>44.468750</td>\n",
       "      <td>45.000000</td>\n",
       "      <td>25.828054</td>\n",
       "      <td>531500</td>\n",
       "      <td>SPY</td>\n",
       "      <td>0.004184</td>\n",
       "    </tr>\n",
       "    <tr>\n",
       "      <th>1993-02-05</th>\n",
       "      <td>44.968750</td>\n",
       "      <td>45.062500</td>\n",
       "      <td>44.718750</td>\n",
       "      <td>44.968750</td>\n",
       "      <td>25.810122</td>\n",
       "      <td>492100</td>\n",
       "      <td>SPY</td>\n",
       "      <td>-0.000694</td>\n",
       "    </tr>\n",
       "    <tr>\n",
       "      <th>...</th>\n",
       "      <td>...</td>\n",
       "      <td>...</td>\n",
       "      <td>...</td>\n",
       "      <td>...</td>\n",
       "      <td>...</td>\n",
       "      <td>...</td>\n",
       "      <td>...</td>\n",
       "      <td>...</td>\n",
       "    </tr>\n",
       "    <tr>\n",
       "      <th>2023-01-09</th>\n",
       "      <td>390.369995</td>\n",
       "      <td>393.700012</td>\n",
       "      <td>387.670013</td>\n",
       "      <td>387.859985</td>\n",
       "      <td>387.859985</td>\n",
       "      <td>73978100</td>\n",
       "      <td>SPY</td>\n",
       "      <td>-0.000567</td>\n",
       "    </tr>\n",
       "    <tr>\n",
       "      <th>2023-01-10</th>\n",
       "      <td>387.250000</td>\n",
       "      <td>390.649994</td>\n",
       "      <td>386.269989</td>\n",
       "      <td>390.579987</td>\n",
       "      <td>390.579987</td>\n",
       "      <td>65358100</td>\n",
       "      <td>SPY</td>\n",
       "      <td>0.007013</td>\n",
       "    </tr>\n",
       "    <tr>\n",
       "      <th>2023-01-11</th>\n",
       "      <td>392.230011</td>\n",
       "      <td>395.600006</td>\n",
       "      <td>391.380005</td>\n",
       "      <td>395.519989</td>\n",
       "      <td>395.519989</td>\n",
       "      <td>68881100</td>\n",
       "      <td>SPY</td>\n",
       "      <td>0.012648</td>\n",
       "    </tr>\n",
       "    <tr>\n",
       "      <th>2023-01-12</th>\n",
       "      <td>396.670013</td>\n",
       "      <td>398.489990</td>\n",
       "      <td>392.420013</td>\n",
       "      <td>396.959991</td>\n",
       "      <td>396.959991</td>\n",
       "      <td>90157700</td>\n",
       "      <td>SPY</td>\n",
       "      <td>0.003641</td>\n",
       "    </tr>\n",
       "    <tr>\n",
       "      <th>2023-01-13</th>\n",
       "      <td>393.619995</td>\n",
       "      <td>399.100006</td>\n",
       "      <td>393.339996</td>\n",
       "      <td>398.500000</td>\n",
       "      <td>398.500000</td>\n",
       "      <td>63863400</td>\n",
       "      <td>SPY</td>\n",
       "      <td>0.003880</td>\n",
       "    </tr>\n",
       "  </tbody>\n",
       "</table>\n",
       "<p>7544 rows × 8 columns</p>\n",
       "</div>"
      ],
      "text/plain": [
       "                  open        high         low       close    adjclose  \\\n",
       "date                                                                     \n",
       "1993-02-01   43.968750   44.250000   43.968750   44.250000   25.397573   \n",
       "1993-02-02   44.218750   44.375000   44.125000   44.343750   25.451389   \n",
       "1993-02-03   44.406250   44.843750   44.375000   44.812500   25.720436   \n",
       "1993-02-04   44.968750   45.093750   44.468750   45.000000   25.828054   \n",
       "1993-02-05   44.968750   45.062500   44.718750   44.968750   25.810122   \n",
       "...                ...         ...         ...         ...         ...   \n",
       "2023-01-09  390.369995  393.700012  387.670013  387.859985  387.859985   \n",
       "2023-01-10  387.250000  390.649994  386.269989  390.579987  390.579987   \n",
       "2023-01-11  392.230011  395.600006  391.380005  395.519989  395.519989   \n",
       "2023-01-12  396.670013  398.489990  392.420013  396.959991  396.959991   \n",
       "2023-01-13  393.619995  399.100006  393.339996  398.500000  398.500000   \n",
       "\n",
       "              volume ticker  close daily returns  \n",
       "date                                              \n",
       "1993-02-01    480500    SPY             0.007112  \n",
       "1993-02-02    201300    SPY             0.002119  \n",
       "1993-02-03    529400    SPY             0.010571  \n",
       "1993-02-04    531500    SPY             0.004184  \n",
       "1993-02-05    492100    SPY            -0.000694  \n",
       "...              ...    ...                  ...  \n",
       "2023-01-09  73978100    SPY            -0.000567  \n",
       "2023-01-10  65358100    SPY             0.007013  \n",
       "2023-01-11  68881100    SPY             0.012648  \n",
       "2023-01-12  90157700    SPY             0.003641  \n",
       "2023-01-13  63863400    SPY             0.003880  \n",
       "\n",
       "[7544 rows x 8 columns]"
      ]
     },
     "execution_count": 15,
     "metadata": {},
     "output_type": "execute_result"
    }
   ],
   "source": [
    "df"
   ]
  },
  {
   "cell_type": "markdown",
   "metadata": {},
   "source": [
    "## Returns"
   ]
  },
  {
   "cell_type": "code",
   "execution_count": null,
   "metadata": {},
   "outputs": [
    {
     "ename": "KeyError",
     "evalue": "'dca_return'",
     "output_type": "error",
     "traceback": [
      "\u001b[1;31m---------------------------------------------------------------------------\u001b[0m",
      "\u001b[1;31mKeyError\u001b[0m                                  Traceback (most recent call last)",
      "\u001b[1;32mc:\\Users\\alexr\\AppData\\Local\\Programs\\Python\\Python38\\lib\\site-packages\\pandas\\core\\indexes\\base.py\u001b[0m in \u001b[0;36mget_loc\u001b[1;34m(self, key, method, tolerance)\u001b[0m\n\u001b[0;32m   3079\u001b[0m             \u001b[1;32mtry\u001b[0m\u001b[1;33m:\u001b[0m\u001b[1;33m\u001b[0m\u001b[1;33m\u001b[0m\u001b[0m\n\u001b[1;32m-> 3080\u001b[1;33m                 \u001b[1;32mreturn\u001b[0m \u001b[0mself\u001b[0m\u001b[1;33m.\u001b[0m\u001b[0m_engine\u001b[0m\u001b[1;33m.\u001b[0m\u001b[0mget_loc\u001b[0m\u001b[1;33m(\u001b[0m\u001b[0mcasted_key\u001b[0m\u001b[1;33m)\u001b[0m\u001b[1;33m\u001b[0m\u001b[1;33m\u001b[0m\u001b[0m\n\u001b[0m\u001b[0;32m   3081\u001b[0m             \u001b[1;32mexcept\u001b[0m \u001b[0mKeyError\u001b[0m \u001b[1;32mas\u001b[0m \u001b[0merr\u001b[0m\u001b[1;33m:\u001b[0m\u001b[1;33m\u001b[0m\u001b[1;33m\u001b[0m\u001b[0m\n",
      "\u001b[1;32mpandas\\_libs\\index.pyx\u001b[0m in \u001b[0;36mpandas._libs.index.IndexEngine.get_loc\u001b[1;34m()\u001b[0m\n",
      "\u001b[1;32mpandas\\_libs\\index.pyx\u001b[0m in \u001b[0;36mpandas._libs.index.IndexEngine.get_loc\u001b[1;34m()\u001b[0m\n",
      "\u001b[1;32mpandas\\_libs\\hashtable_class_helper.pxi\u001b[0m in \u001b[0;36mpandas._libs.hashtable.PyObjectHashTable.get_item\u001b[1;34m()\u001b[0m\n",
      "\u001b[1;32mpandas\\_libs\\hashtable_class_helper.pxi\u001b[0m in \u001b[0;36mpandas._libs.hashtable.PyObjectHashTable.get_item\u001b[1;34m()\u001b[0m\n",
      "\u001b[1;31mKeyError\u001b[0m: 'dca_return'",
      "\nThe above exception was the direct cause of the following exception:\n",
      "\u001b[1;31mKeyError\u001b[0m                                  Traceback (most recent call last)",
      "\u001b[1;32m<ipython-input-16-8294f6829f41>\u001b[0m in \u001b[0;36m<module>\u001b[1;34m\u001b[0m\n\u001b[0;32m      2\u001b[0m     \u001b[0mfig\u001b[0m \u001b[1;33m=\u001b[0m \u001b[0mplt\u001b[0m\u001b[1;33m.\u001b[0m\u001b[0mfigure\u001b[0m\u001b[1;33m(\u001b[0m\u001b[0mfigsize\u001b[0m\u001b[1;33m=\u001b[0m\u001b[1;33m(\u001b[0m\u001b[1;36m14\u001b[0m\u001b[1;33m,\u001b[0m\u001b[1;36m7\u001b[0m\u001b[1;33m)\u001b[0m\u001b[1;33m)\u001b[0m\u001b[1;33m\u001b[0m\u001b[1;33m\u001b[0m\u001b[0m\n\u001b[0;32m      3\u001b[0m     \u001b[0mplt\u001b[0m\u001b[1;33m.\u001b[0m\u001b[0mplot\u001b[0m\u001b[1;33m(\u001b[0m\u001b[0mdf\u001b[0m\u001b[1;33m.\u001b[0m\u001b[0mindex\u001b[0m\u001b[1;33m,\u001b[0m \u001b[0mdf\u001b[0m\u001b[1;33m[\u001b[0m\u001b[1;34m'close daily returns'\u001b[0m\u001b[1;33m]\u001b[0m \u001b[1;33m*\u001b[0m \u001b[1;36m100\u001b[0m\u001b[1;33m,\u001b[0m \u001b[0mlinewidth\u001b[0m\u001b[1;33m=\u001b[0m\u001b[1;36m1.5\u001b[0m\u001b[1;33m,\u001b[0m \u001b[0mlabel\u001b[0m\u001b[1;33m=\u001b[0m\u001b[1;34m'buy_hold'\u001b[0m\u001b[1;33m)\u001b[0m\u001b[1;33m\u001b[0m\u001b[1;33m\u001b[0m\u001b[0m\n\u001b[1;32m----> 4\u001b[1;33m     \u001b[0mplt\u001b[0m\u001b[1;33m.\u001b[0m\u001b[0mplot\u001b[0m\u001b[1;33m(\u001b[0m\u001b[0mdf\u001b[0m\u001b[1;33m.\u001b[0m\u001b[0mindex\u001b[0m\u001b[1;33m,\u001b[0m \u001b[0mdf\u001b[0m\u001b[1;33m[\u001b[0m\u001b[1;34m'dca_return'\u001b[0m\u001b[1;33m]\u001b[0m \u001b[1;33m*\u001b[0m \u001b[1;36m100\u001b[0m\u001b[1;33m,\u001b[0m \u001b[0mlinewidth\u001b[0m\u001b[1;33m=\u001b[0m\u001b[1;36m1.5\u001b[0m\u001b[1;33m,\u001b[0m \u001b[0mlabel\u001b[0m\u001b[1;33m=\u001b[0m\u001b[1;34m'dca'\u001b[0m\u001b[1;33m)\u001b[0m\u001b[1;33m\u001b[0m\u001b[1;33m\u001b[0m\u001b[0m\n\u001b[0m\u001b[0;32m      5\u001b[0m \u001b[1;33m\u001b[0m\u001b[0m\n\u001b[0;32m      6\u001b[0m     \u001b[0mplt\u001b[0m\u001b[1;33m.\u001b[0m\u001b[0mtitle\u001b[0m\u001b[1;33m(\u001b[0m\u001b[1;34m\"Buy_Hold vs DCA (Returns, SP500, dca every 20 days)\"\u001b[0m\u001b[1;33m)\u001b[0m\u001b[1;33m\u001b[0m\u001b[1;33m\u001b[0m\u001b[0m\n",
      "\u001b[1;32mc:\\Users\\alexr\\AppData\\Local\\Programs\\Python\\Python38\\lib\\site-packages\\pandas\\core\\frame.py\u001b[0m in \u001b[0;36m__getitem__\u001b[1;34m(self, key)\u001b[0m\n\u001b[0;32m   3022\u001b[0m             \u001b[1;32mif\u001b[0m \u001b[0mself\u001b[0m\u001b[1;33m.\u001b[0m\u001b[0mcolumns\u001b[0m\u001b[1;33m.\u001b[0m\u001b[0mnlevels\u001b[0m \u001b[1;33m>\u001b[0m \u001b[1;36m1\u001b[0m\u001b[1;33m:\u001b[0m\u001b[1;33m\u001b[0m\u001b[1;33m\u001b[0m\u001b[0m\n\u001b[0;32m   3023\u001b[0m                 \u001b[1;32mreturn\u001b[0m \u001b[0mself\u001b[0m\u001b[1;33m.\u001b[0m\u001b[0m_getitem_multilevel\u001b[0m\u001b[1;33m(\u001b[0m\u001b[0mkey\u001b[0m\u001b[1;33m)\u001b[0m\u001b[1;33m\u001b[0m\u001b[1;33m\u001b[0m\u001b[0m\n\u001b[1;32m-> 3024\u001b[1;33m             \u001b[0mindexer\u001b[0m \u001b[1;33m=\u001b[0m \u001b[0mself\u001b[0m\u001b[1;33m.\u001b[0m\u001b[0mcolumns\u001b[0m\u001b[1;33m.\u001b[0m\u001b[0mget_loc\u001b[0m\u001b[1;33m(\u001b[0m\u001b[0mkey\u001b[0m\u001b[1;33m)\u001b[0m\u001b[1;33m\u001b[0m\u001b[1;33m\u001b[0m\u001b[0m\n\u001b[0m\u001b[0;32m   3025\u001b[0m             \u001b[1;32mif\u001b[0m \u001b[0mis_integer\u001b[0m\u001b[1;33m(\u001b[0m\u001b[0mindexer\u001b[0m\u001b[1;33m)\u001b[0m\u001b[1;33m:\u001b[0m\u001b[1;33m\u001b[0m\u001b[1;33m\u001b[0m\u001b[0m\n\u001b[0;32m   3026\u001b[0m                 \u001b[0mindexer\u001b[0m \u001b[1;33m=\u001b[0m \u001b[1;33m[\u001b[0m\u001b[0mindexer\u001b[0m\u001b[1;33m]\u001b[0m\u001b[1;33m\u001b[0m\u001b[1;33m\u001b[0m\u001b[0m\n",
      "\u001b[1;32mc:\\Users\\alexr\\AppData\\Local\\Programs\\Python\\Python38\\lib\\site-packages\\pandas\\core\\indexes\\base.py\u001b[0m in \u001b[0;36mget_loc\u001b[1;34m(self, key, method, tolerance)\u001b[0m\n\u001b[0;32m   3080\u001b[0m                 \u001b[1;32mreturn\u001b[0m \u001b[0mself\u001b[0m\u001b[1;33m.\u001b[0m\u001b[0m_engine\u001b[0m\u001b[1;33m.\u001b[0m\u001b[0mget_loc\u001b[0m\u001b[1;33m(\u001b[0m\u001b[0mcasted_key\u001b[0m\u001b[1;33m)\u001b[0m\u001b[1;33m\u001b[0m\u001b[1;33m\u001b[0m\u001b[0m\n\u001b[0;32m   3081\u001b[0m             \u001b[1;32mexcept\u001b[0m \u001b[0mKeyError\u001b[0m \u001b[1;32mas\u001b[0m \u001b[0merr\u001b[0m\u001b[1;33m:\u001b[0m\u001b[1;33m\u001b[0m\u001b[1;33m\u001b[0m\u001b[0m\n\u001b[1;32m-> 3082\u001b[1;33m                 \u001b[1;32mraise\u001b[0m \u001b[0mKeyError\u001b[0m\u001b[1;33m(\u001b[0m\u001b[0mkey\u001b[0m\u001b[1;33m)\u001b[0m \u001b[1;32mfrom\u001b[0m \u001b[0merr\u001b[0m\u001b[1;33m\u001b[0m\u001b[1;33m\u001b[0m\u001b[0m\n\u001b[0m\u001b[0;32m   3083\u001b[0m \u001b[1;33m\u001b[0m\u001b[0m\n\u001b[0;32m   3084\u001b[0m         \u001b[1;32mif\u001b[0m \u001b[0mtolerance\u001b[0m \u001b[1;32mis\u001b[0m \u001b[1;32mnot\u001b[0m \u001b[1;32mNone\u001b[0m\u001b[1;33m:\u001b[0m\u001b[1;33m\u001b[0m\u001b[1;33m\u001b[0m\u001b[0m\n",
      "\u001b[1;31mKeyError\u001b[0m: 'dca_return'"
     ]
    },
    {
     "data": {
      "image/png": "[encoded data removed]",
      "text/plain": [
       "<Figure size 1008x504 with 1 Axes>"
      ]
     },
     "metadata": {},
     "output_type": "display_data"
    }
   ],
   "source": [
    "with plt.style.context('fivethirtyeight'):\n",
    "    fig = plt.figure(figsize=(14,7))\n",
    "    plt.plot(df.index, df['close daily returns'] * 100, linewidth=1.5, label='buy_hold')\n",
    "    plt.plot(df.index, df['dca_return'] * 100, linewidth=1.5, label='dca')\n",
    "    \n",
    "    plt.title(\"Buy_Hold vs DCA (Returns, SP500, dca every 20 days)\")\n",
    "    plt.ylabel('Returns %')\n",
    "    plt.legend()"
   ]
  },
  {
   "cell_type": "markdown",
   "metadata": {},
   "source": [
    "## Drawdown"
   ]
  },
  {
   "cell_type": "code",
   "execution_count": null,
   "metadata": {},
   "outputs": [],
   "source": [
    "with plt.style.context('fivethirtyeight'):\n",
    "    fig = plt.figure(figsize=(14,7))\n",
    "    plt.plot(df.index, df['buy_hold_drawdown'] * 100, linewidth=1.5, label='buy_hold')\n",
    "    plt.plot(df.index, df['dca_drawdown'] * 100, linewidth=1.5, label='dca')\n",
    "    \n",
    "\n",
    "\n",
    "    plt.title(\"Buy_Hold vs DCA (Drawdown, SP500, dca every 20 days)\")\n",
    "    plt.ylabel('Drawdown %')\n",
    "    plt.legend()\n"
   ]
  },
  {
   "cell_type": "markdown",
   "metadata": {},
   "source": [
    "## Drawdown Distribution"
   ]
  },
  {
   "cell_type": "code",
   "execution_count": null,
   "metadata": {},
   "outputs": [],
   "source": [
    "buy_hold = sns.displot(df['buy_hold_drawdown'], color='blue', bins=30)\n",
    "dca = sns.displot(df['dca_drawdown'], color='red', bins=30)"
   ]
  },
  {
   "cell_type": "markdown",
   "metadata": {},
   "source": [
    "## Annual Returns Dsitribution"
   ]
  },
  {
   "cell_type": "code",
   "execution_count": null,
   "metadata": {},
   "outputs": [],
   "source": [
    "# Rolling Annual Returns\n",
    "bh_annual_returns = np.array(((df['buy_hold_daily_return'] + 1).rolling(252).apply(np.prod, raw=True) - 1) * 100)\n",
    "dca_annual_returns = np.array(((df['dca_daily_return'] + 1).rolling(252).apply(np.prod, raw=True) - 1) * 100)\n",
    "\n",
    "annual_returns = pd.DataFrame({'buy_hold': bh_annual_returns, 'dca': dca_annual_returns})\n",
    "\n",
    "sns.displot(annual_returns['buy_hold'], color='blue', bins=100)\n",
    "sns.displot(annual_returns['dca'], color='red', bins=100)"
   ]
  },
  {
   "cell_type": "markdown",
   "metadata": {},
   "source": [
    "## Statistics"
   ]
  },
  {
   "cell_type": "code",
   "execution_count": null,
   "metadata": {},
   "outputs": [],
   "source": [
    "num_years = len(df) / 252\n",
    "\n",
    "print('Buy_HODL')\n",
    "print(\"Total Returns:              \" + \"{:.2f}\".format(df['buy_hold_return'][-1] * 100) + \" %\")\n",
    "print(\"CAGR:                       \" + \"{:.2f}\".format(((df['buy_hold_return'][-1] + 1) ** (1 / num_years) - 1) * 100) + \" %\")\n",
    "print(\"Maximum Drawdown:          \" + \"{:.2f}\".format(np.min(df['buy_hold_drawdown'] * 100)) + \" %\")\n",
    "bh_dr_mean = np.mean(df['buy_hold_daily_return'])\n",
    "bh_dr_var = np.var(df['buy_hold_daily_return'])\n",
    "bh_ar_mean = (bh_dr_mean + 1) ** 252 - 1\n",
    "bh_ar_var = bh_dr_var * np.sqrt(252)\n",
    "print(\"Annual Returns Mean:        \" + \"{:.2f}\".format(bh_ar_mean * 100) + \" %\")\n",
    "print(\"Annual Returns Std Dev:     \" + \"{:.2f}\".format(np.sqrt(bh_ar_var) * 100) + \" %\")\n",
    "print(\"99% Worst Annual Drawdown: \" + \"{:.2f}\".format(bh_ar_mean - 2.33 * np.sqrt(bh_ar_var) * 100) + \" %\")\n",
    "\n",
    "print()\n",
    "\n",
    "print('DCA')\n",
    "print(\"Total Returns:              \" + \"{:.2f}\".format(df['dca_return'][-1] * 100) + \" %\")\n",
    "print(\"CAGR:                       \" + \"{:.2f}\".format(((df['dca_return'][-1] + 1) ** (1 / num_years) - 1) * 100) + \" %\")\n",
    "print(\"Maximum Drawdown:          \" + \"{:.2f}\".format(np.min(df['dca_drawdown'] * 100)) + \" %\")\n",
    "dca_dr_mean = np.mean(df['dca_daily_return'])\n",
    "dca_dr_var = np.var(df['dca_daily_return'])\n",
    "dca_ar_mean = (dca_dr_mean + 1) ** 252 - 1\n",
    "dca_ar_var = dca_dr_var * np.sqrt(252)\n",
    "print(\"Annual Returns Mean:        \" + \"{:.2f}\".format(dca_ar_mean * 100) + \" %\")\n",
    "print(\"Annual Returns Std Dev:     \" + \"{:.2f}\".format(np.sqrt(dca_ar_var) * 100) + \" %\")\n",
    "print(\"99% Worst Annual Drawdown: \" + \"{:.2f}\".format(dca_ar_mean - 2.33 * np.sqrt(dca_ar_var) * 100) + \" %\")"
   ]
  }
 ],
 "metadata": {
  "kernelspec": {
   "display_name": "Python 3",
   "language": "python",
   "name": "python3"
  },
  "language_info": {
   "codemirror_mode": {
    "name": "ipython",
    "version": 3
   },
   "file_extension": ".py",
   "mimetype": "text/x-python",
   "name": "python",
   "nbconvert_exporter": "python",
   "pygments_lexer": "ipython3",
   "version": "3.9.6"
  },
  "vscode": {
   "interpreter": {
    "hash": "bd236a709519b3ae3b820ac756eadb1966d4cb8f661a5378fefc33f5d1fc84f1"
   }
  }
 },
 "nbformat": 4,
 "nbformat_minor": 4
}
