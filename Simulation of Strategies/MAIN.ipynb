{
 "cells": [
  {
   "cell_type": "markdown",
   "metadata": {},
   "source": [
    "# Backtesting for Options Strategy\n",
    "\n",
    "This notebook is created to test short-options (theta) strategies, such as the one used by QYLD.\n",
    "\n",
    "The methodology is as follows:\n",
    "- Use a statistical distribution based on historical SPY prices to generate series of daily close prices.\n",
    "- Use the Black-Scholes-Merton equation to evaluate options and trade them according to stated strategy.\n",
    "- Do Monte Carlo simulations to evaluate the returns of each strategy."
   ]
  },
  {
   "cell_type": "code",
   "execution_count": 1,
   "metadata": {},
   "outputs": [],
   "source": [
    "import numpy as np\n",
    "import pandas as pd\n",
    "import misc\n",
    "import matplotlib.pyplot as plt\n",
    "import mplfinance as mpf\n",
    "import seaborn as sns\n",
    "from scipy.stats import laplace, norm, gmean\n",
    "from tqdm.notebook import tqdm\n",
    "\n",
    "pd.options.display.max_columns=300\n",
    "pd.options.display.max_rows=100\n",
    "\n",
    "\n"
   ]
  },
  {
   "cell_type": "markdown",
   "metadata": {},
   "source": [
    "### Dataset\n",
    "Dataset is SPY (S&P 500 ETF). We take closing prices from yahoo finance."
   ]
  },
  {
   "cell_type": "code",
   "execution_count": 2,
   "metadata": {},
   "outputs": [
    {
     "data": {
      "text/html": [
       "<div>\n",
       "<style scoped>\n",
       "    .dataframe tbody tr th:only-of-type {\n",
       "        vertical-align: middle;\n",
       "    }\n",
       "\n",
       "    .dataframe tbody tr th {\n",
       "        vertical-align: top;\n",
       "    }\n",
       "\n",
       "    .dataframe thead th {\n",
       "        text-align: right;\n",
       "    }\n",
       "</style>\n",
       "<table border=\"1\" class=\"dataframe\">\n",
       "  <thead>\n",
       "    <tr style=\"text-align: right;\">\n",
       "      <th></th>\n",
       "      <th>open</th>\n",
       "      <th>high</th>\n",
       "      <th>low</th>\n",
       "      <th>close</th>\n",
       "      <th>adjclose</th>\n",
       "      <th>volume</th>\n",
       "      <th>ticker</th>\n",
       "      <th>close daily returns</th>\n",
       "    </tr>\n",
       "    <tr>\n",
       "      <th>date</th>\n",
       "      <th></th>\n",
       "      <th></th>\n",
       "      <th></th>\n",
       "      <th></th>\n",
       "      <th></th>\n",
       "      <th></th>\n",
       "      <th></th>\n",
       "      <th></th>\n",
       "    </tr>\n",
       "  </thead>\n",
       "  <tbody>\n",
       "    <tr>\n",
       "      <th>1993-02-01</th>\n",
       "      <td>43.968750</td>\n",
       "      <td>44.250000</td>\n",
       "      <td>43.968750</td>\n",
       "      <td>44.250000</td>\n",
       "      <td>25.397589</td>\n",
       "      <td>480500</td>\n",
       "      <td>SPY</td>\n",
       "      <td>0.007112</td>\n",
       "    </tr>\n",
       "    <tr>\n",
       "      <th>1993-02-02</th>\n",
       "      <td>44.218750</td>\n",
       "      <td>44.375000</td>\n",
       "      <td>44.125000</td>\n",
       "      <td>44.343750</td>\n",
       "      <td>25.451385</td>\n",
       "      <td>201300</td>\n",
       "      <td>SPY</td>\n",
       "      <td>0.002119</td>\n",
       "    </tr>\n",
       "    <tr>\n",
       "      <th>1993-02-03</th>\n",
       "      <td>44.406250</td>\n",
       "      <td>44.843750</td>\n",
       "      <td>44.375000</td>\n",
       "      <td>44.812500</td>\n",
       "      <td>25.720421</td>\n",
       "      <td>529400</td>\n",
       "      <td>SPY</td>\n",
       "      <td>0.010571</td>\n",
       "    </tr>\n",
       "    <tr>\n",
       "      <th>1993-02-04</th>\n",
       "      <td>44.968750</td>\n",
       "      <td>45.093750</td>\n",
       "      <td>44.468750</td>\n",
       "      <td>45.000000</td>\n",
       "      <td>25.828049</td>\n",
       "      <td>531500</td>\n",
       "      <td>SPY</td>\n",
       "      <td>0.004184</td>\n",
       "    </tr>\n",
       "    <tr>\n",
       "      <th>1993-02-05</th>\n",
       "      <td>44.968750</td>\n",
       "      <td>45.062500</td>\n",
       "      <td>44.718750</td>\n",
       "      <td>44.968750</td>\n",
       "      <td>25.810123</td>\n",
       "      <td>492100</td>\n",
       "      <td>SPY</td>\n",
       "      <td>-0.000694</td>\n",
       "    </tr>\n",
       "    <tr>\n",
       "      <th>...</th>\n",
       "      <td>...</td>\n",
       "      <td>...</td>\n",
       "      <td>...</td>\n",
       "      <td>...</td>\n",
       "      <td>...</td>\n",
       "      <td>...</td>\n",
       "      <td>...</td>\n",
       "      <td>...</td>\n",
       "    </tr>\n",
       "    <tr>\n",
       "      <th>2023-01-31</th>\n",
       "      <td>401.130005</td>\n",
       "      <td>406.529999</td>\n",
       "      <td>400.769989</td>\n",
       "      <td>406.480011</td>\n",
       "      <td>406.480011</td>\n",
       "      <td>86811800</td>\n",
       "      <td>SPY</td>\n",
       "      <td>0.014703</td>\n",
       "    </tr>\n",
       "    <tr>\n",
       "      <th>2023-02-01</th>\n",
       "      <td>405.209991</td>\n",
       "      <td>413.670013</td>\n",
       "      <td>402.350006</td>\n",
       "      <td>410.799988</td>\n",
       "      <td>410.799988</td>\n",
       "      <td>101459200</td>\n",
       "      <td>SPY</td>\n",
       "      <td>0.010628</td>\n",
       "    </tr>\n",
       "    <tr>\n",
       "      <th>2023-02-02</th>\n",
       "      <td>414.859985</td>\n",
       "      <td>418.309998</td>\n",
       "      <td>412.880005</td>\n",
       "      <td>416.779999</td>\n",
       "      <td>416.779999</td>\n",
       "      <td>101654500</td>\n",
       "      <td>SPY</td>\n",
       "      <td>0.014557</td>\n",
       "    </tr>\n",
       "    <tr>\n",
       "      <th>2023-02-03</th>\n",
       "      <td>411.589996</td>\n",
       "      <td>416.970001</td>\n",
       "      <td>411.089996</td>\n",
       "      <td>412.350006</td>\n",
       "      <td>412.350006</td>\n",
       "      <td>94647400</td>\n",
       "      <td>SPY</td>\n",
       "      <td>-0.010629</td>\n",
       "    </tr>\n",
       "    <tr>\n",
       "      <th>2023-02-06</th>\n",
       "      <td>409.790009</td>\n",
       "      <td>411.290009</td>\n",
       "      <td>408.100006</td>\n",
       "      <td>409.829987</td>\n",
       "      <td>409.829987</td>\n",
       "      <td>60018500</td>\n",
       "      <td>SPY</td>\n",
       "      <td>-0.006111</td>\n",
       "    </tr>\n",
       "  </tbody>\n",
       "</table>\n",
       "<p>7559 rows × 8 columns</p>\n",
       "</div>"
      ],
      "text/plain": [
       "                  open        high         low       close    adjclose  \\\n",
       "date                                                                     \n",
       "1993-02-01   43.968750   44.250000   43.968750   44.250000   25.397589   \n",
       "1993-02-02   44.218750   44.375000   44.125000   44.343750   25.451385   \n",
       "1993-02-03   44.406250   44.843750   44.375000   44.812500   25.720421   \n",
       "1993-02-04   44.968750   45.093750   44.468750   45.000000   25.828049   \n",
       "1993-02-05   44.968750   45.062500   44.718750   44.968750   25.810123   \n",
       "...                ...         ...         ...         ...         ...   \n",
       "2023-01-31  401.130005  406.529999  400.769989  406.480011  406.480011   \n",
       "2023-02-01  405.209991  413.670013  402.350006  410.799988  410.799988   \n",
       "2023-02-02  414.859985  418.309998  412.880005  416.779999  416.779999   \n",
       "2023-02-03  411.589996  416.970001  411.089996  412.350006  412.350006   \n",
       "2023-02-06  409.790009  411.290009  408.100006  409.829987  409.829987   \n",
       "\n",
       "               volume ticker  close daily returns  \n",
       "date                                               \n",
       "1993-02-01     480500    SPY             0.007112  \n",
       "1993-02-02     201300    SPY             0.002119  \n",
       "1993-02-03     529400    SPY             0.010571  \n",
       "1993-02-04     531500    SPY             0.004184  \n",
       "1993-02-05     492100    SPY            -0.000694  \n",
       "...               ...    ...                  ...  \n",
       "2023-01-31   86811800    SPY             0.014703  \n",
       "2023-02-01  101459200    SPY             0.010628  \n",
       "2023-02-02  101654500    SPY             0.014557  \n",
       "2023-02-03   94647400    SPY            -0.010629  \n",
       "2023-02-06   60018500    SPY            -0.006111  \n",
       "\n",
       "[7559 rows x 8 columns]"
      ]
     },
     "execution_count": 2,
     "metadata": {},
     "output_type": "execute_result"
    }
   ],
   "source": [
    "misc.get_price_data('SPY')\n",
    "df = pd.read_csv('SPY.csv')\n",
    "df = misc.clean_df(df)\n",
    "df = df.set_index('date')\n",
    "df['close daily returns'] = (df['close'] - df['close'].shift(1)) / df['close'].shift(1)\n",
    "df = df.dropna()\n",
    "\n",
    "df"
   ]
  },
  {
   "cell_type": "markdown",
   "metadata": {},
   "source": [
    "### Statistics of SPY"
   ]
  },
  {
   "cell_type": "code",
   "execution_count": 3,
   "metadata": {
    "scrolled": true
   },
   "outputs": [
    {
     "data": {
      "image/png": "[encoded data removed]",
      "text/plain": [
       "<Figure size 432x288 with 1 Axes>"
      ]
     },
     "metadata": {
      "needs_background": "light"
     },
     "output_type": "display_data"
    }
   ],
   "source": [
    "# Distribution of daily returns\n",
    "count, bins, ignored = plt.hist(df['close daily returns'], 1000, density=True)"
   ]
  },
  {
   "cell_type": "markdown",
   "metadata": {},
   "source": [
    "Normal distribution:"
   ]
  },
  {
   "cell_type": "code",
   "execution_count": 4,
   "metadata": {},
   "outputs": [
    {
     "name": "stdout",
     "output_type": "stream",
     "text": [
      "(0.0003668407993416805, 0.011943121277198982)\n"
     ]
    },
    {
     "data": {
      "image/png": "[encoded data removed]",
      "text/plain": [
       "<Figure size 432x288 with 1 Axes>"
      ]
     },
     "metadata": {
      "needs_background": "light"
     },
     "output_type": "display_data"
    }
   ],
   "source": [
    "# Fit normal distribution parameters\n",
    "norm_params = norm.fit(df['close daily returns'])\n",
    "print(norm_params)\n",
    "\n",
    "# Plot daily return distribution\n",
    "count, bins, ignored = plt.hist(df['close daily returns'], 1000, density=True)\n",
    "\n",
    "# Plot normal distribution with parameters\n",
    "mu, sigma = norm_params\n",
    "plt.plot(bins, 1/(sigma * np.sqrt(2 * np.pi)) *\n",
    "               np.exp( - (bins - mu)**2 / (2 * sigma**2) ),\n",
    "         linewidth=2, color='r')\n",
    "plt.show()"
   ]
  },
  {
   "attachments": {},
   "cell_type": "markdown",
   "metadata": {},
   "source": [
    "Laplace Distribution:\n",
    "\n",
    "https://arxiv.org/ftp/arxiv/papers/1906/1906.10325.pdf"
   ]
  },
  {
   "cell_type": "code",
   "execution_count": 5,
   "metadata": {},
   "outputs": [
    {
     "name": "stdout",
     "output_type": "stream",
     "text": [
      "(0.0005981412593033632, 0.007940381430541918)\n"
     ]
    },
    {
     "data": {
      "text/plain": [
       "[<matplotlib.lines.Line2D at 0x26cd5535850>]"
      ]
     },
     "execution_count": 5,
     "metadata": {},
     "output_type": "execute_result"
    },
    {
     "data": {
      "image/png": "[encoded data removed]",
      "text/plain": [
       "<Figure size 432x288 with 1 Axes>"
      ]
     },
     "metadata": {
      "needs_background": "light"
     },
     "output_type": "display_data"
    }
   ],
   "source": [
    "# Fit Laplace distribution parameters\n",
    "laplace_params = laplace.fit(df['close daily returns'])\n",
    "print(laplace_params)\n",
    "\n",
    "# Plot daily returns distribution\n",
    "count, bins, ignored = plt.hist(df['close daily returns'], 1000, density=True)\n",
    "\n",
    "# Plot Laplace distribution with parameters\n",
    "loc, scale = laplace_params\n",
    "x = np.arange(-0.2, 0.2, .001)\n",
    "pdf = np.exp(-abs(x-loc)/scale)/(2.*scale)\n",
    "plt.plot(x, pdf)"
   ]
  },
  {
   "cell_type": "markdown",
   "metadata": {},
   "source": [
    "The laplace distribution appears to be fit SPY daily returns distribution more closely.\n",
    "\n",
    "We calculate the historical volatility of SPY for use in the BSM equation.\n",
    "\n",
    "\\begin{equation}\n",
    "    \\sigma_{annual} = \\sigma_{daily} \\times \\sqrt{252}\n",
    "\\end{equation}"
   ]
  },
  {
   "cell_type": "code",
   "execution_count": 6,
   "metadata": {},
   "outputs": [
    {
     "name": "stdout",
     "output_type": "stream",
     "text": [
      "SPY Historical Volatility: 18.96 %\n"
     ]
    }
   ],
   "source": [
    "spy_hist_vol = np.std(df['close daily returns']) * np.sqrt(252)\n",
    "print(\"SPY Historical Volatility: \" + \"{:.2f}\".format(spy_hist_vol * 100) + \" %\")"
   ]
  },
  {
   "attachments": {},
   "cell_type": "markdown",
   "metadata": {},
   "source": [
    "Define experimental parameters"
   ]
  },
  {
   "cell_type": "code",
   "execution_count": 7,
   "metadata": {},
   "outputs": [],
   "source": [
    "# number of days per time period\n",
    "num_days = 252\n",
    "\n",
    "# number of trials for averaging\n",
    "num_trials = 1000"
   ]
  },
  {
   "cell_type": "markdown",
   "metadata": {},
   "source": [
    "### Model Stock Replication\n",
    "\n",
    "We create a model stock by:\n",
    "- Generating a random series of daily returns distributed by the laplace distribution with previously fitted parameters.\n",
    "- Specify an initial price.\n",
    "- Calculate subsequent closing prices by multiplying by daily returns"
   ]
  },
  {
   "cell_type": "code",
   "execution_count": 8,
   "metadata": {},
   "outputs": [
    {
     "data": {
      "image/png": "[encoded data removed]",
      "text/plain": [
       "<Figure size 432x288 with 1 Axes>"
      ]
     },
     "metadata": {
      "needs_background": "light"
     },
     "output_type": "display_data"
    }
   ],
   "source": [
    "def generate_stock(laplace_params, num_days=252, initial_price=400):\n",
    "    '''\n",
    "    Generate array of stock prices according to laplace distribution\n",
    "    '''\n",
    "    # laplace parameters\n",
    "    loc, scale = laplace_params\n",
    "    \n",
    "    # generate daily returns from laplace distribution\n",
    "    s = np.random.laplace(loc, scale, num_days)\n",
    "    \n",
    "    # generate stock price from daily returns\n",
    "    stock_arr = [initial_price]\n",
    "    for i in range(num_days):\n",
    "        stock_arr.append(stock_arr[-1] * (1 + s[i]))\n",
    "        \n",
    "    return np.array(stock_arr), np.array([0] + s)\n",
    "\n",
    "\n",
    "stock_price, daily_change = generate_stock(laplace_params, num_days, 400)\n",
    "t = range(1, num_days + 2)\n",
    "plt.plot(t, stock_price)\n",
    "\n",
    "plt.title(\"Stock Price Evolution\")\n",
    "plt.ylabel('Stock Price')\n",
    "plt.xlabel('Day')\n",
    "# plt.legend()\n",
    "plt.show()"
   ]
  },
  {
   "cell_type": "code",
   "execution_count": 9,
   "metadata": {},
   "outputs": [
    {
     "data": {
      "image/png": "[encoded data removed]",
      "text/plain": [
       "<Figure size 432x288 with 1 Axes>"
      ]
     },
     "metadata": {
      "needs_background": "light"
     },
     "output_type": "display_data"
    }
   ],
   "source": [
    "plt.plot(t[1:], daily_change * 100)\n",
    "# plt.title(\"Daily Change %\")\n",
    "plt.ylabel('Daily Change %')\n",
    "plt.xlabel('Day')\n",
    "# plt.legend()\n",
    "plt.show()"
   ]
  },
  {
   "attachments": {},
   "cell_type": "markdown",
   "metadata": {},
   "source": [
    "### Black-Scholes-Merton Equation\n",
    "BSM equation:\n",
    "\n",
    "\\begin{equation}\n",
    "    C = N(d_1)S - N(d_2)Ke^{-rt}\n",
    "\\end{equation}\n",
    "\n",
    "where\n",
    "- $d_1 = \\frac{\\ln \\frac{S}{K} + (r + \\frac{\\sigma^2}{2})t}{\\sigma\\sqrt{t}}$\n",
    "- $d_2 = d_1 - \\sigma\\sqrt{t}$\n",
    "- $C$ is the call option price.\n",
    "- $N(x)$ is the cummulative distribution function of the normal distribution.\n",
    "- $S$ is the current price of the underlying.\n",
    "- $K$ is the strike price of the contract.\n",
    "- $r$ is the risk-free interest rate (taken as 1 Year US Treasury Bill, $r = 3.26\\%$).\n",
    "- $t$ is the time to maturity.\n",
    "- $\\sigma$ is the volatility.\n",
    "\n",
    "The BSM equation makes several assumptions:\n",
    "- Options are european styled, i.e. they cannot be exercised before expiration.\n",
    "- Volatility remains constant throughout the lifetime of the option."
   ]
  },
  {
   "cell_type": "code",
   "execution_count": 10,
   "metadata": {},
   "outputs": [],
   "source": [
    "def bsm(stock_price, strike_price, dte, volatility=spy_hist_vol, rf_rate=0.03):\n",
    "    '''\n",
    "    Calculate the delta and prices of call/put option according to BSM eqn.\n",
    "    \n",
    "    Input:\n",
    "    - current stock price of underlying\n",
    "    - strike price of contract\n",
    "    - days to expiry (dte)\n",
    "    - volatility (historically 17.73% for SPY)\n",
    "    - risk-free interest rate (3.26% for 1 Year US Treasury Bill)\n",
    "    \n",
    "    Output:\n",
    "    - delta of call option\n",
    "    - price of call option\n",
    "    - delta of put option\n",
    "    - price of put option\n",
    "    '''\n",
    "    \n",
    "    # change units for dte to years\n",
    "    t = dte / 365.25\n",
    "    \n",
    "    # present value of strike price\n",
    "    pv_strike = strike_price * np.exp(-rf_rate * t)\n",
    "    \n",
    "    # d1 and d2 variables of bsm\n",
    "    d1 = (np.log(stock_price / strike_price) \\\n",
    "          + (rf_rate + (volatility ** 2) / 2) * t) / (volatility * np.sqrt(t))\n",
    "    d2 = d1 - volatility * np.sqrt(t)\n",
    "    \n",
    "    # delta of call option\n",
    "    call_delta = norm.cdf(d1)\n",
    "    \n",
    "    # price of call option\n",
    "    call_price = call_delta * stock_price - norm.cdf(d2) * pv_strike\n",
    "    \n",
    "    # delta of put option\n",
    "    put_delta = -norm.cdf(-d1)\n",
    "    \n",
    "    # price of put option\n",
    "    put_price = put_delta * stock_price + norm.cdf(-d2) * pv_strike\n",
    "    \n",
    "    return call_delta, call_price, put_delta, put_price"
   ]
  },
  {
   "attachments": {},
   "cell_type": "markdown",
   "metadata": {},
   "source": [
    "### Key Performance Indicators\n",
    "These are variables that indicate the performance of the strategy.\n",
    "1. Total Return\n",
    "2. Compound Annualised Growth Rate\n",
    "3. Volatility\n",
    "4. Beta\n",
    "5. Sharpe Ratio\n",
    "6. Maximum Drawdown\n",
    "7. Total Return / Maximum Drawdown\n",
    "\n",
    "        \n"
   ]
  },
  {
   "cell_type": "code",
   "execution_count": 23,
   "metadata": {},
   "outputs": [
    {
     "name": "stdout",
     "output_type": "stream",
     "text": [
      "1\n",
      "Total Return:          14.06 %\n",
      "CAGR:                  14.06 %\n",
      "Volatility:            15.62 %\n",
      "Beta:                  0.03\n",
      "Sharpe Ratio:          0.80\n",
      "Max Drawdown:          -13.64 %\n",
      "Return over Max DD:    1.03\n",
      "2\n",
      "Total Return:          26.96 %\n",
      "CAGR:                  26.96 %\n",
      "Volatility:            31.23 %\n",
      "Beta:                  0.05\n",
      "Sharpe Ratio:          0.97\n",
      "Max Drawdown:          -28.75 %\n",
      "Return over Max DD:    0.94\n",
      "3\n",
      "Total Return:          37.94 %\n",
      "CAGR:                  37.94 %\n",
      "Volatility:            46.85 %\n",
      "Beta:                  0.08\n",
      "Sharpe Ratio:          1.09\n",
      "Max Drawdown:          -45.38 %\n",
      "Return over Max DD:    0.84\n"
     ]
    },
    {
     "data": {
      "image/png": "[encoded data removed]",
      "text/plain": [
       "<Figure size 432x288 with 1 Axes>"
      ]
     },
     "metadata": {
      "needs_background": "light"
     },
     "output_type": "display_data"
    },
    {
     "data": {
      "application/vnd.jupyter.widget-view+json": {
       "model_id": "8f88a222c17f4ac4976a4b1656314ca1",
       "version_major": 2,
       "version_minor": 0
      },
      "text/plain": [
       "  0%|          | 0/10000 [00:00<?, ?it/s]"
      ]
     },
     "metadata": {},
     "output_type": "display_data"
    },
    {
     "name": "stdout",
     "output_type": "stream",
     "text": [
      "1\n",
      "Total Return:            16.22 %\n",
      "CAGR:                    16.22 %\n",
      "Volatility:              17.71 %\n",
      "Beta:                    -0.00\n",
      "Sharpe Ratio:            0.85\n",
      "Win-rate:                77.47 %\n",
      "Max Drawdown:            -16.99 %\n",
      "Return over Max DD:      1.34\n",
      "-------------------------------------\n",
      "2\n",
      "Total Return:            35.02 %\n",
      "CAGR:                    35.02 %\n",
      "Volatility:              35.43 %\n",
      "Beta:                    -0.00\n",
      "Sharpe Ratio:            1.16\n",
      "Win-rate:                74.59 %\n",
      "Max Drawdown:            -37.35 %\n",
      "Return over Max DD:      1.18\n",
      "-------------------------------------\n",
      "3\n",
      "Total Return:            56.80 %\n",
      "CAGR:                    56.80 %\n",
      "Volatility:              53.14 %\n",
      "Beta:                    -0.00\n",
      "Sharpe Ratio:            1.46\n",
      "Win-rate:                71.46 %\n",
      "Max Drawdown:            -62.17 %\n",
      "Return over Max DD:      1.03\n",
      "-------------------------------------\n"
     ]
    },
    {
     "data": {
      "text/plain": [
       "{1: {'Total Return': 0.1621722508708925,\n",
       "  'CAGR': 0.16217225087089254,\n",
       "  'Volatility': 0.17714923690692239,\n",
       "  'Beta': -2.146083438982591e-05,\n",
       "  'Sharpe Ratio': 0.8536912070946151,\n",
       "  'Max Drawdown': -0.16990602935653365,\n",
       "  'RoMaxDD': 1.342599297844621,\n",
       "  'Daily Returns': 1.079650295589237,\n",
       "  'Daily Changes': 1.0005970169049043,\n",
       "  'Win-rate': 0.7747},\n",
       " 2: {'Total Return': 0.3502103482278464,\n",
       "  'CAGR': 0.3502103482278466,\n",
       "  'Volatility': 0.35429847381384477,\n",
       "  'Beta': -4.292166877965182e-05,\n",
       "  'Sharpe Ratio': 1.1551436676825462,\n",
       "  'Max Drawdown': -0.3734771810753646,\n",
       "  'RoMaxDD': 1.1817209298817544,\n",
       "  'Daily Returns': 1.1678319814203695,\n",
       "  'Daily Changes': 1.0011940338098093,\n",
       "  'Win-rate': 0.7459},\n",
       " 3: {'Total Return': 0.5680402945338814,\n",
       "  'CAGR': 0.5680402945338815,\n",
       "  'Volatility': 0.5314477107207672,\n",
       "  'Beta': -6.438250316947953e-05,\n",
       "  'Sharpe Ratio': 1.4642202535192148,\n",
       "  'Max Drawdown': -0.6217199734472042,\n",
       "  'RoMaxDD': 1.0276953893799543,\n",
       "  'Daily Returns': 1.2655363469421625,\n",
       "  'Daily Changes': 1.0017910507147127,\n",
       "  'Win-rate': 0.7146}}"
      ]
     },
     "execution_count": 23,
     "metadata": {},
     "output_type": "execute_result"
    }
   ],
   "source": [
    "stock_price, daily_change = generate_stock(laplace_params, num_days, 400)\n",
    "\n",
    "def get_kpi(rt, ch, daily_changes):\n",
    "    kpi_dict = {\n",
    "            'Total Return': rt[-1] - 1,\n",
    "            'CAGR': gmean(ch) ** 252 - 1,\n",
    "            'Volatility': np.std(ch - 1) * np.sqrt(252),\n",
    "            'Beta': np.corrcoef(daily_changes, ch - 1)[0, 1] * np.std(daily_changes) * np.std(ch - 1) / np.var(daily_changes),\n",
    "            'Sharpe Ratio': ((np.mean(ch) ** 252 - 1) - 0.03) / (np.std(ch - 1) * np.sqrt(252)),\n",
    "        }\n",
    "    \n",
    "    max_rt = 0\n",
    "    max_dd = 0\n",
    "    for i in range(len(rt)):\n",
    "        if rt[i] > max_rt:\n",
    "            max_rt = rt[i]\n",
    "        else:\n",
    "            if rt[i] - max_rt < max_dd:\n",
    "                max_dd = rt[i] - max_rt\n",
    "    \n",
    "    kpi_dict['Max Drawdown'] = max_dd\n",
    "    kpi_dict['RoMaxDD'] = kpi_dict['Total Return'] / (-kpi_dict['Max Drawdown'])\n",
    "    kpi_dict['Daily Returns'] = rt\n",
    "    kpi_dict['Daily Changes'] = ch\n",
    "    \n",
    "    return kpi_dict \n",
    "\n",
    "class test:\n",
    "    def __init__(self, strats_func):\n",
    "        '''\n",
    "        strat_func should take stock_price_series as input\n",
    "        and return daily_returns and daily_changes in a dict with strategy names as keys.\n",
    "        '''\n",
    "        self.strats_func = strats_func\n",
    "    \n",
    "    def kpi_given_stock_price_series(self, stock_price_series):\n",
    "        results = self.strats_func(stock_price_series)\n",
    "\n",
    "        for strat in results:\n",
    "            rt, ch = results[strat]\n",
    "            kpi = get_kpi(rt, ch, daily_change)\n",
    "            results[strat] = kpi\n",
    "\n",
    "        return results\n",
    "        \n",
    "    def single_stock_price_series_expt(self, laplace_params, num_days=252, initial_price=400, display=False):\n",
    "        stock_price_series, daily_change = generate_stock(laplace_params, num_days, initial_price)\n",
    "\n",
    "        results = self.kpi_given_stock_price_series(stock_price_series)\n",
    "        for strat in results:\n",
    "            kpi = results[strat]\n",
    "\n",
    "            if display:\n",
    "                print(strat)\n",
    "                print('Total Return:          {:.2f} %'.format(kpi['Total Return'] * 100))\n",
    "                print('CAGR:                  {:.2f} %'.format(kpi['CAGR'] * 100))\n",
    "                print('Volatility:            {:.2f} %'.format(kpi['Volatility'] * 100))\n",
    "                print('Beta:                  {:.2f}'.format(kpi['Beta']))\n",
    "                print('Sharpe Ratio:          {:.2f}'.format(kpi['Sharpe Ratio']))\n",
    "                print('Max Drawdown:          {:.2f} %'.format(kpi['Max Drawdown'] * 100))\n",
    "                print('Return over Max DD:    {:.2f}'.format(kpi['RoMaxDD']))\n",
    "\n",
    "                plt.plot(range(num_days + 1), kpi['Daily Returns'], label=strat)\n",
    "                \n",
    "        if display:\n",
    "            plt.legend()\n",
    "            plt.show()\n",
    "            \n",
    "        return results\n",
    "\n",
    "    def multiple_stock_price_series_expt(self, runs, laplace_params, num_days=252, initial_price=400, display=False):\n",
    "        raw_results = {}\n",
    "        for i in tqdm(range(runs)):\n",
    "            stock_price_series, daily_change = generate_stock(laplace_params, num_days, initial_price)\n",
    "            results = self.kpi_given_stock_price_series(stock_price_series)\n",
    "            for strat in results:\n",
    "                kpi = results[strat]\n",
    "\n",
    "                if i == 0:\n",
    "                    raw_results[strat] = []\n",
    "            \n",
    "                raw_results[strat].append(kpi)\n",
    "\n",
    "        \n",
    "        avg_results = {}\n",
    "        for strat in raw_results:\n",
    "\n",
    "            avg_results[strat] = {}\n",
    "            for key in kpi:\n",
    "                avg_results[strat][key] = np.mean([f[key] for f in raw_results[strat]])\n",
    "            \n",
    "            \n",
    "            avg_results[strat]['Win-rate'] = np.sum([1 for f in raw_results[strat] if f['Total Return'] > 0]) \\\n",
    "                / np.sum([1 for f in raw_results[strat]])\n",
    "        \n",
    "        if display:\n",
    "            for strat in avg_results:\n",
    "                print(strat)\n",
    "                \n",
    "                print('Total Return:            {:.2f} %'.format(avg_results[strat]['Total Return'] * 100))\n",
    "                print('CAGR:                    {:.2f} %'.format(avg_results[strat]['CAGR'] * 100))\n",
    "                print('Volatility:              {:.2f} %'.format(avg_results[strat]['Volatility'] * 100))\n",
    "                print('Beta:                    {:.2f}'.format(avg_results[strat]['Beta']))\n",
    "                print('Sharpe Ratio:            {:.2f}'.format(avg_results[strat]['Sharpe Ratio']))\n",
    "                print('Win-rate:                {:.2f} %'.format(avg_results[strat]['Win-rate'] * 100))\n",
    "                print('Max Drawdown:            {:.2f} %'.format(avg_results[strat]['Max Drawdown'] * 100))\n",
    "                print('Return over Max DD:      {:.2f}'.format(avg_results[strat]['RoMaxDD']))\n",
    "                \n",
    "\n",
    "                print('-------------------------------------')\n",
    "        \n",
    "        return avg_results\n",
    "            \n",
    "        \n",
    "        \n",
    "\n",
    "\n",
    "\n",
    "\n",
    "\n",
    "\n",
    "\n",
    "\n",
    "\n",
    "def strats_func(stock_price):\n",
    "    results = {}\n",
    "    for i in range(1, 4):\n",
    "        results[i] = leveraged_strategy(stock_price, leverage=i)\n",
    "    \n",
    "    return results\n",
    "\n",
    "test1 = test(strats_func)\n",
    "test1.single_stock_price_series_expt(laplace_params, display=True)\n",
    "test1.multiple_stock_price_series_expt(10000, laplace_params, display=True) "
   ]
  },
  {
   "attachments": {},
   "cell_type": "markdown",
   "metadata": {},
   "source": [
    "Strategy should return:\n",
    "1. Daily returns (1.xx)\n",
    "2. Daily changes in portfolio value (1.xx)"
   ]
  },
  {
   "attachments": {},
   "cell_type": "markdown",
   "metadata": {},
   "source": [
    "### Buy-Hold Strategy\n",
    "Buy assets at the start and hold until the end"
   ]
  },
  {
   "cell_type": "code",
   "execution_count": 25,
   "metadata": {},
   "outputs": [],
   "source": [
    "def buy_hold_strategy(stock_price):\n",
    "    arr = stock_price/stock_price[0]\n",
    "    return arr, arr[1:] / arr[:-1]"
   ]
  },
  {
   "attachments": {},
   "cell_type": "markdown",
   "metadata": {},
   "source": [
    "Single run results:"
   ]
  },
  {
   "cell_type": "code",
   "execution_count": 27,
   "metadata": {},
   "outputs": [
    {
     "name": "stdout",
     "output_type": "stream",
     "text": [
      "buy_hold\n",
      "Total Return:          -3.89 %\n",
      "CAGR:                  -3.89 %\n",
      "Volatility:            17.98 %\n",
      "Beta:                  -0.11\n",
      "Sharpe Ratio:          -0.30\n",
      "Max Drawdown:          -24.29 %\n",
      "Return over Max DD:    -0.16\n"
     ]
    },
    {
     "data": {
      "image/png": "[encoded data removed]",
      "text/plain": [
       "<Figure size 432x288 with 1 Axes>"
      ]
     },
     "metadata": {
      "needs_background": "light"
     },
     "output_type": "display_data"
    },
    {
     "data": {
      "text/plain": [
       "{'buy_hold': {'Total Return': -0.038877872644683675,\n",
       "  'CAGR': -0.038877872644673794,\n",
       "  'Volatility': 0.17980364029302676,\n",
       "  'Beta': -0.11314823735772314,\n",
       "  'Sharpe Ratio': -0.29592925364878836,\n",
       "  'Max Drawdown': -0.24287003584446842,\n",
       "  'RoMaxDD': -0.16007685966489782,\n",
       "  'Daily Returns': array([1.        , 0.99927317, 1.03314423, 1.02088932, 1.01518131,\n",
       "         1.02574305, 1.00248725, 0.98834205, 0.98007192, 0.97642267,\n",
       "         0.982247  , 0.96536664, 0.96419357, 0.97577569, 0.98110796,\n",
       "         0.98187828, 0.97910915, 0.98054341, 0.98155679, 0.98682054,\n",
       "         0.99615911, 0.98588105, 0.99136068, 0.9868469 , 0.99818968,\n",
       "         1.00037754, 0.97904274, 0.98353409, 1.00227942, 1.00154935,\n",
       "         0.95366339, 0.95059066, 0.94040845, 0.94178583, 0.93941531,\n",
       "         0.93801156, 0.93934843, 0.9306922 , 0.92338417, 0.92178577,\n",
       "         0.92297636, 0.92639939, 0.93123875, 0.93331114, 0.92939377,\n",
       "         0.92467826, 0.92871531, 0.93419188, 0.93102361, 0.94888765,\n",
       "         0.96497884, 0.9496256 , 0.96236435, 0.97128186, 0.96781949,\n",
       "         0.9729127 , 0.97413037, 0.96890157, 0.97611105, 0.97007091,\n",
       "         0.97472382, 1.02549991, 1.01878227, 1.00229076, 0.99021083,\n",
       "         0.9884586 , 0.97073236, 0.96649022, 0.9364319 , 0.95013717,\n",
       "         0.94224842, 0.94589902, 0.94575959, 0.95366991, 0.96212043,\n",
       "         0.96425644, 0.95974354, 0.97334619, 0.98029107, 0.98483695,\n",
       "         0.98888801, 0.98481195, 0.98771207, 1.00263714, 0.99998063,\n",
       "         0.99705793, 1.00518271, 1.00936924, 1.01023134, 0.99072973,\n",
       "         0.97234867, 0.96572203, 0.95701277, 0.95764076, 0.95539617,\n",
       "         0.95852014, 0.98708612, 0.98412783, 0.9745841 , 0.96724894,\n",
       "         0.96077345, 0.96267512, 0.9604076 , 0.95739878, 0.96550059,\n",
       "         0.96806295, 0.95430185, 0.95637725, 0.96241467, 0.9653829 ,\n",
       "         0.95886459, 0.96112919, 0.94936431, 0.95632928, 0.97864768,\n",
       "         0.98798156, 0.98019766, 0.99419822, 0.9954085 , 0.9960736 ,\n",
       "         1.00224191, 1.00515723, 1.00400355, 1.01349187, 1.02776523,\n",
       "         1.02116767, 1.02850922, 1.02734792, 1.02370371, 1.03289665,\n",
       "         1.05485277, 1.059526  , 1.09096869, 1.09181848, 1.12205918,\n",
       "         1.15659339, 1.15534743, 1.17842456, 1.17630073, 1.18059486,\n",
       "         1.17525502, 1.15926241, 1.16014415, 1.18293833, 1.18890686,\n",
       "         1.18796791, 1.17798549, 1.16421148, 1.16681337, 1.16055565,\n",
       "         1.15208517, 1.12438546, 1.11904277, 1.12409512, 1.12461332,\n",
       "         1.11944049, 1.12276029, 1.11847227, 1.12243442, 1.12231732,\n",
       "         1.13336292, 1.12824933, 1.1261698 , 1.12739688, 1.12149795,\n",
       "         1.10908207, 1.11162633, 1.1099948 , 1.06646084, 1.07234853,\n",
       "         1.06868688, 1.07536606, 1.07872685, 1.07614826, 1.08182295,\n",
       "         1.07435549, 1.07535055, 1.07803728, 1.05171107, 1.03768077,\n",
       "         1.03971838, 1.03727768, 1.04584828, 1.04112114, 1.0402055 ,\n",
       "         1.03938297, 1.00558131, 1.01468   , 1.02116823, 1.01817371,\n",
       "         1.02965946, 1.03002018, 1.02733638, 1.03766507, 1.02694288,\n",
       "         1.04972588, 1.06595659, 1.0607751 , 1.04574833, 1.04808808,\n",
       "         1.05151647, 1.04636613, 1.04727472, 1.0342954 , 1.03116028,\n",
       "         1.02100168, 1.00583845, 1.01290755, 1.0016064 , 1.01113179,\n",
       "         1.0100814 , 1.00241138, 0.99724955, 1.00328775, 1.00360808,\n",
       "         1.01648673, 1.02535888, 1.02962232, 1.04151676, 1.03408867,\n",
       "         1.03423298, 1.01456791, 1.0119439 , 1.00992721, 0.98958842,\n",
       "         0.99261819, 0.99656883, 0.96942018, 0.96920299, 0.97894541,\n",
       "         0.95933027, 0.95013873, 0.94603683, 0.94995044, 0.94881317,\n",
       "         0.95733605, 0.95924633, 0.96031004, 0.95173747, 0.95430599,\n",
       "         0.95408472, 0.95405536, 0.95405568, 0.95785593, 0.96113033,\n",
       "         0.95176771, 0.95039897, 0.94726416, 0.96502338, 0.96473893,\n",
       "         0.95876964, 0.9600474 , 0.96112213]),\n",
       "  'Daily Changes': array([0.99927317, 1.0338957 , 0.98813824, 0.99440879, 1.0104038 ,\n",
       "         0.97732785, 0.98588989, 0.99163232, 0.99627655, 1.00596496,\n",
       "         0.98281456, 0.99878484, 1.01201223, 1.00546465, 1.00078516,\n",
       "         0.99717976, 1.00146486, 1.00103349, 1.00536265, 1.00946329,\n",
       "         0.98968231, 1.00555811, 0.99544688, 1.01149396, 1.00219183,\n",
       "         0.97867325, 1.0045875 , 1.01905916, 0.99927159, 0.95218812,\n",
       "         0.99677797, 0.98928854, 1.00146467, 0.99748295, 0.99850572,\n",
       "         1.00142522, 0.99078486, 0.99214774, 0.99826898, 1.00129161,\n",
       "         1.00370869, 1.00522384, 1.00222541, 0.99580272, 0.99492625,\n",
       "         1.0043659 , 1.00589693, 0.99660854, 1.01918752, 1.01695795,\n",
       "         0.98408956, 1.01341451, 1.00926625, 0.99643526, 1.00526256,\n",
       "         1.00125157, 0.99463234, 1.00744088, 0.99381204, 1.00479646,\n",
       "         1.0520928 , 0.99344939, 0.98381254, 0.98794768, 0.99823044,\n",
       "         0.98206678, 0.99562996, 0.96889951, 1.01463562, 0.99169726,\n",
       "         1.00387434, 0.9998526 , 1.00836398, 1.00886106, 1.00222011,\n",
       "         0.9953198 , 1.01417322, 1.00713505, 1.00463728, 1.00411343,\n",
       "         0.99587814, 1.00294485, 1.01511074, 0.99735049, 0.99707724,\n",
       "         1.00814875, 1.00416495, 1.0008541 , 0.98069589, 0.98144694,\n",
       "         0.99318492, 0.9909816 , 1.0006562 , 0.99765612, 1.00326982,\n",
       "         1.02980217, 0.997003  , 0.99030235, 0.99247355, 0.99330525,\n",
       "         1.00197931, 0.99764457, 0.99686714, 1.00846232, 1.00265391,\n",
       "         0.98578491, 1.00217479, 1.0063128 , 1.00308415, 0.99324796,\n",
       "         1.00236175, 0.98775931, 1.00733646, 1.02333757, 1.00953753,\n",
       "         0.99212141, 1.01428341, 1.00121734, 1.00066817, 1.00619263,\n",
       "         1.0029088 , 0.99885224, 1.00945048, 1.01408335, 0.99358068,\n",
       "         1.00718937, 0.99887089, 0.9964528 , 1.00898008, 1.02125684,\n",
       "         1.00443022, 1.02967618, 1.00077893, 1.02769755, 1.03077753,\n",
       "         0.99892273, 1.01997419, 0.99819774, 1.00365054, 0.99547699,\n",
       "         0.98639222, 1.0007606 , 1.01964772, 1.00504551, 0.99921024,\n",
       "         0.99159706, 0.98830715, 1.00223489, 0.99463692, 0.99270136,\n",
       "         0.97595689, 0.99524835, 1.00451488, 1.000461  , 0.99540035,\n",
       "         1.00296559, 0.99618082, 1.00354247, 0.99989567, 1.00984178,\n",
       "         0.99548813, 0.99815685, 1.00108961, 0.99476765, 0.98892921,\n",
       "         1.00229402, 0.99853231, 0.96078003, 1.00552077, 0.9965854 ,\n",
       "         1.00624989, 1.00312526, 0.99760959, 1.00527315, 0.99309733,\n",
       "         1.0009262 , 1.00249847, 0.9755795 , 0.98665955, 1.00196362,\n",
       "         0.99765254, 1.00826259, 0.99548009, 0.99912053, 0.99920926,\n",
       "         0.96747911, 1.00904819, 1.00639436, 0.99706756, 1.01128074,\n",
       "         1.00035033, 0.99739442, 1.01005385, 0.989667  , 1.02218526,\n",
       "         1.01546186, 0.99513912, 0.98583416, 1.00223739, 1.00327108,\n",
       "         0.99510199, 1.00086833, 0.98760657, 0.99696883, 0.99014838,\n",
       "         0.98514867, 1.00702807, 0.98884286, 1.00951012, 0.99896117,\n",
       "         0.99240654, 0.99485058, 1.00605486, 1.00031928, 1.01283235,\n",
       "         1.00872825, 1.004158  , 1.01155223, 0.99286801, 1.00013956,\n",
       "         0.98098584, 0.99741366, 0.99800712, 0.97986113, 1.00306165,\n",
       "         1.00398002, 0.97275789, 0.99977596, 1.01005199, 0.97996299,\n",
       "         0.99041879, 0.99568284, 1.00413686, 0.99880281, 1.00898268,\n",
       "         1.00199541, 1.0011089 , 0.99107313, 1.00269876, 0.99976814,\n",
       "         0.99996922, 1.00000034, 1.00398326, 1.00341846, 0.99025875,\n",
       "         0.99856189, 0.99670159, 1.0187479 , 0.99970525, 0.99381253,\n",
       "         1.0013327 , 1.00111945])}}"
      ]
     },
     "execution_count": 27,
     "metadata": {},
     "output_type": "execute_result"
    }
   ],
   "source": [
    "def buy_hold_strat_func(stock_price):\n",
    "    return {'buy_hold': buy_hold_strategy(stock_price)}\n",
    "buy_hold_test = test(buy_hold_strat_func)\n",
    "buy_hold_test.single_stock_price_series_expt(laplace_params=laplace_params, display=True)\n"
   ]
  },
  {
   "attachments": {},
   "cell_type": "markdown",
   "metadata": {},
   "source": [
    "Average run results:"
   ]
  },
  {
   "cell_type": "code",
   "execution_count": null,
   "metadata": {},
   "outputs": [
    {
     "data": {
      "application/vnd.jupyter.widget-view+json": {
       "model_id": "19e35325babc479bb189df5faf7dd9e9",
       "version_major": 2,
       "version_minor": 0
      },
      "text/plain": [
       "  0%|          | 0/1000 [00:00<?, ?it/s]"
      ]
     },
     "metadata": {},
     "output_type": "display_data"
    }
   ],
   "source": [
    "kpi_arr = []\n",
    "for i in tqdm(range(1000)):\n",
    "    sp, dc = generate_stock(laplace_params, num_days, 400)\n",
    "    rt, ch = buy_hold_strategy(stock_price)\n",
    "    kpi = get_kpi(rt, ch, dc)\n",
    "    kpi_arr.append(kpi)"
   ]
  },
  {
   "attachments": {},
   "cell_type": "markdown",
   "metadata": {},
   "source": [
    "### Buy-write strategy\n",
    "\n",
    "This strategy replicates the CBOE SP500 buy-write index. We hold assets in the underlying index and sell ATM covered calls every month to generate income with the option premium. This strategy is supposed to generate consistent returns with low volatility, at the expense of capping the upside.\n",
    "\n",
    "This strategy is used by the funds QYLD, XYLD."
   ]
  },
  {
   "cell_type": "code",
   "execution_count": null,
   "metadata": {},
   "outputs": [],
   "source": [
    "\n",
    "def buy_write_strategy(stock_price, dte=22, initial_capital=1E6):\n",
    "    num_days = len(stock_price) - 1\n",
    "\n",
    "    cash = initial_capital\n",
    "    call_dte = 0\n",
    "    day = 0\n",
    "    call_value = 0\n",
    "    stock_value = 0\n",
    "    call_pos = 0\n",
    "    stock_pos = 0\n",
    "    port_value = np.array([0])\n",
    "    call_strike = 0\n",
    "\n",
    "    while day <= num_days:\n",
    "        # print(f'- day: {day}, stock price: {stock_price[day]}')\n",
    "        if day % dte == 0:\n",
    "\n",
    "            if call_pos != 0:\n",
    "                # close the calls\n",
    "                if stock_price[day] < call_strike:\n",
    "                    pass\n",
    "                    # print(f'--- {call_pos} calls expire OTM')\n",
    "                else:\n",
    "                    stock_pos += call_pos\n",
    "                    cash += -call_pos * call_strike\n",
    "                    # print(f'--- {call_pos} calls called away @ {call_strike} for {-call_pos * call_strike}')\n",
    "                call_pos = 0\n",
    "\n",
    "            # buy stock\n",
    "            # print(f'--- buy {cash // stock_price[day]} stock @ {stock_price[day]}')\n",
    "            new_pos = cash // stock_price[day]\n",
    "            stock_pos += new_pos\n",
    "            cash -= new_pos * stock_price[day]\n",
    "            # sell calls\n",
    "            call_strike = int(stock_price[day])\n",
    "            _, call_price, _, _ = bsm(stock_price=stock_price[day], strike_price=call_strike, dte=dte)\n",
    "            call_pos = -stock_pos\n",
    "            # print(f'--- sell {-stock_pos} strike {call_strike} calls @ {call_price}')\n",
    "            cash += -call_pos * call_price\n",
    "\n",
    "        stock_value = stock_pos * stock_price[day]\n",
    "        # print(f'-- stock value: {stock_value}')\n",
    "        _, call_price, _, _ = bsm(stock_price=stock_price[day], strike_price=call_strike, dte=(dte - day % dte))\n",
    "        call_value = call_pos * call_price\n",
    "        # print(f'-- call value: {call_value}')\n",
    "        # print(f'-- cash: {cash}')\n",
    "        port_value = np.append(port_value, stock_value + call_value + cash)\n",
    "        # print(f'-- portfolio value: {port_value[-1]}')\n",
    "\n",
    "        day += 1\n",
    "\n",
    "    port_returns = port_value[1:] / initial_capital\n",
    "    return port_returns, port_returns[1:] / port_returns[:-1]\n",
    "\n"
   ]
  },
  {
   "attachments": {},
   "cell_type": "markdown",
   "metadata": {},
   "source": [
    "### Dollar Cost Average Strategy\n",
    "Divide initial capital into equal amounts to be invested into assets at regular frequency."
   ]
  },
  {
   "cell_type": "code",
   "execution_count": null,
   "metadata": {},
   "outputs": [],
   "source": [
    "def dca_strategy(stock_price, dca_period=22, initial_capital=1E6):\n",
    "    num_days = len(stock_price)\n",
    "    dca_num = np.ceil(num_days / dca_period)\n",
    "    dca_amount = initial_capital // dca_num\n",
    "    cash = initial_capital\n",
    "    stock_pos = np.array([0])\n",
    "    cash_pos = np.array([0])\n",
    "    \n",
    "\n",
    "    for day in range(num_days):\n",
    "        stock_pos = np.append(stock_pos, stock_pos[-1])\n",
    "        if day % dca_period == 0:\n",
    "            dca_stock_pos = dca_amount // stock_price[day]\n",
    "            stock_pos[-1] += dca_stock_pos\n",
    "            cash -= dca_stock_pos * stock_price[day]\n",
    "            \n",
    "        cash_pos = np.append(cash_pos, cash)\n",
    "    \n",
    "    stock_pos = stock_pos[1:]\n",
    "    cash_pos = cash_pos[1:]\n",
    "\n",
    "    port_value = stock_price * stock_pos + cash_pos\n",
    "    arr = (port_value / initial_capital)  \n",
    "    \n",
    "    return arr, arr[1:] / arr[:-1]\n"
   ]
  },
  {
   "attachments": {},
   "cell_type": "markdown",
   "metadata": {},
   "source": [
    "### Leveraged Daily Returns Strategy\n",
    "Strategy for leveraged funds such as UPRO and TQQQ. The daily changes of the underlying index is replicated with leverage."
   ]
  },
  {
   "cell_type": "code",
   "execution_count": 12,
   "metadata": {},
   "outputs": [],
   "source": [
    "def leveraged_strategy(stock_price, leverage=3):\n",
    "\n",
    "    arr = stock_price / stock_price[0]\n",
    "    \n",
    "    daily_changes = leverage * ((stock_price[1:] / stock_price[:-1]) - 1)\n",
    "\n",
    "    daily_returns = np.insert(np.cumprod(daily_changes + 1), 0, 1)\n",
    "    \n",
    "    return daily_returns, daily_changes + 1"
   ]
  },
  {
   "attachments": {},
   "cell_type": "markdown",
   "metadata": {},
   "source": [
    "### Comparison between strategies"
   ]
  },
  {
   "cell_type": "code",
   "execution_count": null,
   "metadata": {},
   "outputs": [
    {
     "name": "stdout",
     "output_type": "stream",
     "text": [
      "[('leverage', 3)]\n"
     ]
    },
    {
     "data": {
      "image/png": "[encoded data removed]",
      "text/plain": [
       "<Figure size 432x288 with 1 Axes>"
      ]
     },
     "metadata": {
      "needs_background": "light"
     },
     "output_type": "display_data"
    },
    {
     "name": "stdout",
     "output_type": "stream",
     "text": [
      "buy-hold\n"
     ]
    },
    {
     "ename": "TypeError",
     "evalue": "get_kpi() missing 1 required positional argument: 'daily_changes'",
     "output_type": "error",
     "traceback": [
      "\u001b[1;31m---------------------------------------------------------------------------\u001b[0m",
      "\u001b[1;31mTypeError\u001b[0m                                 Traceback (most recent call last)",
      "\u001b[1;32mc:\\Users\\alexr\\Quantitative_Finance_Modelling\\Simulation of Strategies\\MAIN.ipynb Cell 37\u001b[0m in \u001b[0;36m<cell line: 27>\u001b[1;34m()\u001b[0m\n\u001b[0;32m     <a href='vscode-notebook-cell:/c%3A/Users/alexr/Quantitative_Finance_Modelling/Simulation%20of%20Strategies/MAIN.ipynb#X51sZmlsZQ%3D%3D?line=27'>28</a>\u001b[0m \u001b[39mprint\u001b[39m(strat)\n\u001b[0;32m     <a href='vscode-notebook-cell:/c%3A/Users/alexr/Quantitative_Finance_Modelling/Simulation%20of%20Strategies/MAIN.ipynb#X51sZmlsZQ%3D%3D?line=28'>29</a>\u001b[0m rt, ch \u001b[39m=\u001b[39m results[strat]\n\u001b[1;32m---> <a href='vscode-notebook-cell:/c%3A/Users/alexr/Quantitative_Finance_Modelling/Simulation%20of%20Strategies/MAIN.ipynb#X51sZmlsZQ%3D%3D?line=29'>30</a>\u001b[0m kpi \u001b[39m=\u001b[39m get_kpi(rt, ch)\n\u001b[0;32m     <a href='vscode-notebook-cell:/c%3A/Users/alexr/Quantitative_Finance_Modelling/Simulation%20of%20Strategies/MAIN.ipynb#X51sZmlsZQ%3D%3D?line=30'>31</a>\u001b[0m \u001b[39mprint\u001b[39m(\u001b[39m'\u001b[39m\u001b[39mTotal Return:          \u001b[39m\u001b[39m{:.2f}\u001b[39;00m\u001b[39m \u001b[39m\u001b[39m%\u001b[39m\u001b[39m'\u001b[39m\u001b[39m.\u001b[39mformat(kpi[\u001b[39m'\u001b[39m\u001b[39mTotal Return\u001b[39m\u001b[39m'\u001b[39m] \u001b[39m*\u001b[39m \u001b[39m100\u001b[39m))\n\u001b[0;32m     <a href='vscode-notebook-cell:/c%3A/Users/alexr/Quantitative_Finance_Modelling/Simulation%20of%20Strategies/MAIN.ipynb#X51sZmlsZQ%3D%3D?line=31'>32</a>\u001b[0m \u001b[39mprint\u001b[39m(\u001b[39m'\u001b[39m\u001b[39mCAGR:                  \u001b[39m\u001b[39m{:.2f}\u001b[39;00m\u001b[39m \u001b[39m\u001b[39m%\u001b[39m\u001b[39m'\u001b[39m\u001b[39m.\u001b[39mformat(kpi[\u001b[39m'\u001b[39m\u001b[39mCAGR\u001b[39m\u001b[39m'\u001b[39m] \u001b[39m*\u001b[39m \u001b[39m100\u001b[39m))\n",
      "\u001b[1;31mTypeError\u001b[0m: get_kpi() missing 1 required positional argument: 'daily_changes'"
     ]
    }
   ],
   "source": [
    "# Take 252 trading days in 1 year\n",
    "num_days = 252\n",
    "stock_price, daily_changes = generate_stock(laplace_params, num_days=num_days, initial_price=400)\n",
    "\n",
    "\n",
    "\n",
    "\n",
    "results = {\n",
    "    'buy-hold': buy_hold_strategy(stock_price),\n",
    "    'buy-write': buy_write_strategy(stock_price),\n",
    "    'dca': dca_strategy(stock_price),\n",
    "    '3x leverage': leveraged_strategy(stock_price, leverage=3),\n",
    "}\n",
    "\n",
    "\n",
    "\n",
    "\n",
    "\n",
    "for key in results:\n",
    "    plt.plot(range(num_days + 1), results[key][0], label=key)\n",
    "plt.legend()\n",
    "plt.xlabel('days')\n",
    "plt.ylabel('returns')\n",
    "plt.show()\n",
    "\n",
    "\n",
    "for strat in results:\n",
    "    print(strat)\n",
    "    rt, ch = results[strat]\n",
    "    kpi = get_kpi(rt, ch)\n",
    "    print('Total Return:          {:.2f} %'.format(kpi['Total Return'] * 100))\n",
    "    print('CAGR:                  {:.2f} %'.format(kpi['CAGR'] * 100))\n",
    "    print('Volatility:            {:.2f} %'.format(kpi['Volatility'] * 100))\n",
    "    print('Beta:                  {:.2f}'.format(kpi['Beta']))\n",
    "    print('Sharpe Ratio:          {:.2f}'.format(kpi['Sharpe Ratio']))\n",
    "    print('Max Drawdown:          {:.2f} %'.format(kpi['Max Drawdown'] * 100))\n",
    "    print('Return over Max DD:    {:.2f}'.format(kpi['RoMaxDD']))\n",
    "\n",
    "    \n",
    "\n",
    "    print('-------------------------------------')"
   ]
  },
  {
   "cell_type": "code",
   "execution_count": null,
   "metadata": {},
   "outputs": [
    {
     "data": {
      "application/vnd.jupyter.widget-view+json": {
       "model_id": "308389bf4cf445e39450daa1a0c3c045",
       "version_major": 2,
       "version_minor": 0
      },
      "text/plain": [
       "  0%|          | 0/1000 [00:00<?, ?it/s]"
      ]
     },
     "metadata": {},
     "output_type": "display_data"
    }
   ],
   "source": [
    "raw_results = {\n",
    "    'buy-hold': [],\n",
    "    'buy-write': [],\n",
    "    'dca': [],\n",
    "    '3x leverage': [],\n",
    "}\n",
    "\n",
    "\n",
    "for i in tqdm(range(1000)):\n",
    "    stock_price, daily_changes = generate_stock(laplace_params, num_days=num_days, initial_price=400)\n",
    "    \n",
    "    results = {\n",
    "        'buy-hold': buy_hold_strategy(stock_price),\n",
    "        'buy-write': buy_write_strategy(stock_price),\n",
    "        'dca': dca_strategy(stock_price),\n",
    "        '3x leverage': leveraged_strategy(stock_price, leverage=3),\n",
    "    }\n",
    "\n",
    "    for strat in results:\n",
    "        rt, ch = results[strat]\n",
    "        kpi_dict = get_kpi(rt, ch)\n",
    "        \n",
    "        raw_results[strat].append(kpi_dict)\n",
    "\n"
   ]
  },
  {
   "cell_type": "code",
   "execution_count": null,
   "metadata": {},
   "outputs": [
    {
     "name": "stdout",
     "output_type": "stream",
     "text": [
      "buy-hold\n",
      "Total Return:            15.53 %\n",
      "CAGR:                    15.53 %\n",
      "Volatility:              17.74 %\n",
      "Beta:                    1.00\n",
      "Sharpe Ratio:            0.81\n",
      "Win-rate:                77.40 %\n",
      "Max Drawdown:            -17.20 %\n",
      "Return over Max DD:      1.26\n",
      "-------------------------------------\n",
      "buy-write\n",
      "Total Return:            4.89 %\n",
      "CAGR:                    4.89 %\n",
      "Volatility:              9.26 %\n",
      "Beta:                    0.43\n",
      "Sharpe Ratio:            0.37\n",
      "Win-rate:                73.40 %\n",
      "Max Drawdown:            -9.58 %\n",
      "Return over Max DD:      1.09\n",
      "-------------------------------------\n",
      "dca\n",
      "Total Return:            7.96 %\n",
      "CAGR:                    7.96 %\n",
      "Volatility:              10.55 %\n",
      "Beta:                    0.53\n",
      "Sharpe Ratio:            0.51\n",
      "Win-rate:                75.60 %\n",
      "Max Drawdown:            -10.11 %\n",
      "Return over Max DD:      1.23\n",
      "-------------------------------------\n",
      "3x leverage\n",
      "Total Return:            53.88 %\n",
      "CAGR:                    53.88 %\n",
      "Volatility:              53.23 %\n",
      "Beta:                    3.00\n",
      "Sharpe Ratio:            1.40\n",
      "Win-rate:                71.80 %\n",
      "Max Drawdown:            -62.60 %\n",
      "Return over Max DD:      0.96\n",
      "-------------------------------------\n"
     ]
    }
   ],
   "source": [
    "avg_results = {}\n",
    "\n",
    "for strat in raw_results:\n",
    "    avg_results[strat] = {}\n",
    "    for key in kpi:\n",
    "        avg_results[strat][key] = np.mean([f[key] for f in raw_results[strat]])\n",
    "    \n",
    "    avg_results[strat]['Win-rate'] = np.sum([1 for f in raw_results[strat] if f['Total Return'] > 0]) \\\n",
    "        / np.sum([1 for f in raw_results[strat]])\n",
    "\n",
    "\n",
    "\n",
    "for strat in avg_results:\n",
    "    print(strat)\n",
    "    \n",
    "    print('Total Return:            {:.2f} %'.format(avg_results[strat]['Total Return'] * 100))\n",
    "    print('CAGR:                    {:.2f} %'.format(avg_results[strat]['CAGR'] * 100))\n",
    "    print('Volatility:              {:.2f} %'.format(avg_results[strat]['Volatility'] * 100))\n",
    "    print('Beta:                    {:.2f}'.format(avg_results[strat]['Beta']))\n",
    "    print('Sharpe Ratio:            {:.2f}'.format(avg_results[strat]['Sharpe Ratio']))\n",
    "    print('Win-rate:                {:.2f} %'.format(avg_results[strat]['Win-rate'] * 100))\n",
    "    print('Max Drawdown:            {:.2f} %'.format(avg_results[strat]['Max Drawdown'] * 100))\n",
    "    print('Return over Max DD:      {:.2f}'.format(avg_results[strat]['RoMaxDD']))\n",
    "    \n",
    "\n",
    "    print('-------------------------------------')\n",
    "\n"
   ]
  },
  {
   "attachments": {},
   "cell_type": "markdown",
   "metadata": {},
   "source": [
    "### Optimal Leverage\n",
    "For leveraged assets, find what is optimal leverage."
   ]
  },
  {
   "cell_type": "code",
   "execution_count": null,
   "metadata": {},
   "outputs": [
    {
     "data": {
      "application/vnd.jupyter.widget-view+json": {
       "model_id": "7a5791a164ef4f0489d693256b2dd7b7",
       "version_major": 2,
       "version_minor": 0
      },
      "text/plain": [
       "  0%|          | 0/1000 [00:00<?, ?it/s]"
      ]
     },
     "metadata": {},
     "output_type": "display_data"
    },
    {
     "ename": "NameError",
     "evalue": "name 'leveraged_strategy' is not defined",
     "output_type": "error",
     "traceback": [
      "\u001b[1;31m---------------------------------------------------------------------------\u001b[0m",
      "\u001b[1;31mNameError\u001b[0m                                 Traceback (most recent call last)",
      "\u001b[1;32mc:\\Users\\alexr\\Quantitative_Finance_Modelling\\Simulation of Strategies\\MAIN.ipynb Cell 40\u001b[0m in \u001b[0;36m<cell line: 10>\u001b[1;34m()\u001b[0m\n\u001b[0;32m     <a href='vscode-notebook-cell:/c%3A/Users/alexr/Quantitative_Finance_Modelling/Simulation%20of%20Strategies/MAIN.ipynb#X50sZmlsZQ%3D%3D?line=11'>12</a>\u001b[0m results \u001b[39m=\u001b[39m {}\n\u001b[0;32m     <a href='vscode-notebook-cell:/c%3A/Users/alexr/Quantitative_Finance_Modelling/Simulation%20of%20Strategies/MAIN.ipynb#X50sZmlsZQ%3D%3D?line=13'>14</a>\u001b[0m \u001b[39mfor\u001b[39;00m lev \u001b[39min\u001b[39;00m leverage_arr:\n\u001b[1;32m---> <a href='vscode-notebook-cell:/c%3A/Users/alexr/Quantitative_Finance_Modelling/Simulation%20of%20Strategies/MAIN.ipynb#X50sZmlsZQ%3D%3D?line=14'>15</a>\u001b[0m     results[lev] \u001b[39m=\u001b[39m leveraged_strategy(stock_price, leverage\u001b[39m=\u001b[39mlev)\n\u001b[0;32m     <a href='vscode-notebook-cell:/c%3A/Users/alexr/Quantitative_Finance_Modelling/Simulation%20of%20Strategies/MAIN.ipynb#X50sZmlsZQ%3D%3D?line=16'>17</a>\u001b[0m \u001b[39mfor\u001b[39;00m strat \u001b[39min\u001b[39;00m results:\n\u001b[0;32m     <a href='vscode-notebook-cell:/c%3A/Users/alexr/Quantitative_Finance_Modelling/Simulation%20of%20Strategies/MAIN.ipynb#X50sZmlsZQ%3D%3D?line=17'>18</a>\u001b[0m     rt, ch \u001b[39m=\u001b[39m results[strat]\n",
      "\u001b[1;31mNameError\u001b[0m: name 'leveraged_strategy' is not defined"
     ]
    }
   ],
   "source": [
    "\n",
    "leverage_arr = np.arange(-5, 5.5, 0.1)\n",
    "\n",
    "leverage_arr = [f for f in leverage_arr if f < -0.5 or f > 0.5]\n",
    "\n",
    "raw_results = {}\n",
    "\n",
    "for lev in leverage_arr:\n",
    "    raw_results[lev] = []\n",
    "\n",
    "for i in tqdm(range(1000)):\n",
    "    stock_price, daily_changes = generate_stock(laplace_params, num_days=num_days, initial_price=400)\n",
    "    results = {}\n",
    "    \n",
    "    for lev in leverage_arr:\n",
    "        results[lev] = leveraged_strategy(stock_price, leverage=lev)\n",
    "\n",
    "    for strat in results:\n",
    "        rt, ch = results[strat]\n",
    "        kpi_dict = get_kpi(rt, ch)\n",
    "        \n",
    "        raw_results[strat].append(kpi_dict)\n",
    "    "
   ]
  },
  {
   "cell_type": "code",
   "execution_count": null,
   "metadata": {},
   "outputs": [
    {
     "data": {
      "image/png": "[encoded data removed]",
      "text/plain": [
       "<Figure size 432x288 with 1 Axes>"
      ]
     },
     "metadata": {
      "needs_background": "light"
     },
     "output_type": "display_data"
    },
    {
     "data": {
      "image/png": "[encoded data removed]",
      "text/plain": [
       "<Figure size 432x288 with 1 Axes>"
      ]
     },
     "metadata": {
      "needs_background": "light"
     },
     "output_type": "display_data"
    }
   ],
   "source": [
    "avg_results = {}\n",
    "\n",
    "for strat in raw_results:\n",
    "    avg_results[strat] = {}\n",
    "    for key in kpi:\n",
    "        avg_results[strat][key] = np.mean([f[key] for f in raw_results[strat]])\n",
    "    \n",
    "    avg_results[strat]['Win-rate'] = np.sum([1 for f in raw_results[strat] if f['Total Return'] > 0]) \\\n",
    "        / np.sum([1 for f in raw_results[strat]])\n",
    "\n",
    "\n",
    "\n",
    "# for strat in avg_results:\n",
    "#     print(strat)\n",
    "    \n",
    "#     print('Total Return:            {:.2f} %'.format(avg_results[strat]['Total Return'] * 100))\n",
    "#     print('CAGR:                    {:.2f} %'.format(avg_results[strat]['CAGR'] * 100))\n",
    "#     print('Volatility:              {:.2f} %'.format(avg_results[strat]['Volatility'] * 100))\n",
    "#     print('Beta:                    {:.2f}'.format(avg_results[strat]['Beta']))\n",
    "#     print('Sharpe Ratio:            {:.2f}'.format(avg_results[strat]['Sharpe Ratio']))\n",
    "#     print('Win-rate:                {:.2f} %'.format(avg_results[strat]['Win-rate'] * 100))\n",
    "#     print('Max Drawdown:            {:.2f} %'.format(avg_results[strat]['Max Drawdown'] * 100))\n",
    "#     print('Return over Max DD:      {:.2f}'.format(avg_results[strat]['RoMaxDD']))\n",
    "    \n",
    "#     print('-------------------------------------')\n",
    "\n",
    "\n",
    "sr_arr = []\n",
    "romaxdd_arr = []\n",
    "for strat in avg_results:\n",
    "    sr_arr.append(avg_results[strat]['Sharpe Ratio'])\n",
    "    romaxdd_arr.append(avg_results[strat]['RoMaxDD'])\n",
    "\n",
    "plt.plot(leverage_arr, sr_arr, marker='^')\n",
    "plt.show()\n",
    "\n",
    "plt.plot(leverage_arr, romaxdd_arr, marker='^')\n",
    "plt.show()\n",
    "\n"
   ]
  },
  {
   "cell_type": "code",
   "execution_count": null,
   "metadata": {},
   "outputs": [
    {
     "data": {
      "text/html": [
       "<div>\n",
       "<style scoped>\n",
       "    .dataframe tbody tr th:only-of-type {\n",
       "        vertical-align: middle;\n",
       "    }\n",
       "\n",
       "    .dataframe tbody tr th {\n",
       "        vertical-align: top;\n",
       "    }\n",
       "\n",
       "    .dataframe thead th {\n",
       "        text-align: right;\n",
       "    }\n",
       "</style>\n",
       "<table border=\"1\" class=\"dataframe\">\n",
       "  <thead>\n",
       "    <tr style=\"text-align: right;\">\n",
       "      <th></th>\n",
       "      <th>open</th>\n",
       "      <th>high</th>\n",
       "      <th>low</th>\n",
       "      <th>close</th>\n",
       "      <th>adjclose</th>\n",
       "      <th>volume</th>\n",
       "      <th>ticker</th>\n",
       "      <th>close daily returns</th>\n",
       "    </tr>\n",
       "    <tr>\n",
       "      <th>date</th>\n",
       "      <th></th>\n",
       "      <th></th>\n",
       "      <th></th>\n",
       "      <th></th>\n",
       "      <th></th>\n",
       "      <th></th>\n",
       "      <th></th>\n",
       "      <th></th>\n",
       "    </tr>\n",
       "  </thead>\n",
       "  <tbody>\n",
       "    <tr>\n",
       "      <th>1993-02-01</th>\n",
       "      <td>43.968750</td>\n",
       "      <td>44.250000</td>\n",
       "      <td>43.968750</td>\n",
       "      <td>44.250000</td>\n",
       "      <td>25.397573</td>\n",
       "      <td>480500</td>\n",
       "      <td>SPY</td>\n",
       "      <td>0.007112</td>\n",
       "    </tr>\n",
       "    <tr>\n",
       "      <th>1993-02-02</th>\n",
       "      <td>44.218750</td>\n",
       "      <td>44.375000</td>\n",
       "      <td>44.125000</td>\n",
       "      <td>44.343750</td>\n",
       "      <td>25.451389</td>\n",
       "      <td>201300</td>\n",
       "      <td>SPY</td>\n",
       "      <td>0.002119</td>\n",
       "    </tr>\n",
       "    <tr>\n",
       "      <th>1993-02-03</th>\n",
       "      <td>44.406250</td>\n",
       "      <td>44.843750</td>\n",
       "      <td>44.375000</td>\n",
       "      <td>44.812500</td>\n",
       "      <td>25.720436</td>\n",
       "      <td>529400</td>\n",
       "      <td>SPY</td>\n",
       "      <td>0.010571</td>\n",
       "    </tr>\n",
       "    <tr>\n",
       "      <th>1993-02-04</th>\n",
       "      <td>44.968750</td>\n",
       "      <td>45.093750</td>\n",
       "      <td>44.468750</td>\n",
       "      <td>45.000000</td>\n",
       "      <td>25.828054</td>\n",
       "      <td>531500</td>\n",
       "      <td>SPY</td>\n",
       "      <td>0.004184</td>\n",
       "    </tr>\n",
       "    <tr>\n",
       "      <th>1993-02-05</th>\n",
       "      <td>44.968750</td>\n",
       "      <td>45.062500</td>\n",
       "      <td>44.718750</td>\n",
       "      <td>44.968750</td>\n",
       "      <td>25.810122</td>\n",
       "      <td>492100</td>\n",
       "      <td>SPY</td>\n",
       "      <td>-0.000694</td>\n",
       "    </tr>\n",
       "    <tr>\n",
       "      <th>...</th>\n",
       "      <td>...</td>\n",
       "      <td>...</td>\n",
       "      <td>...</td>\n",
       "      <td>...</td>\n",
       "      <td>...</td>\n",
       "      <td>...</td>\n",
       "      <td>...</td>\n",
       "      <td>...</td>\n",
       "    </tr>\n",
       "    <tr>\n",
       "      <th>2023-01-09</th>\n",
       "      <td>390.369995</td>\n",
       "      <td>393.700012</td>\n",
       "      <td>387.670013</td>\n",
       "      <td>387.859985</td>\n",
       "      <td>387.859985</td>\n",
       "      <td>73978100</td>\n",
       "      <td>SPY</td>\n",
       "      <td>-0.000567</td>\n",
       "    </tr>\n",
       "    <tr>\n",
       "      <th>2023-01-10</th>\n",
       "      <td>387.250000</td>\n",
       "      <td>390.649994</td>\n",
       "      <td>386.269989</td>\n",
       "      <td>390.579987</td>\n",
       "      <td>390.579987</td>\n",
       "      <td>65358100</td>\n",
       "      <td>SPY</td>\n",
       "      <td>0.007013</td>\n",
       "    </tr>\n",
       "    <tr>\n",
       "      <th>2023-01-11</th>\n",
       "      <td>392.230011</td>\n",
       "      <td>395.600006</td>\n",
       "      <td>391.380005</td>\n",
       "      <td>395.519989</td>\n",
       "      <td>395.519989</td>\n",
       "      <td>68881100</td>\n",
       "      <td>SPY</td>\n",
       "      <td>0.012648</td>\n",
       "    </tr>\n",
       "    <tr>\n",
       "      <th>2023-01-12</th>\n",
       "      <td>396.670013</td>\n",
       "      <td>398.489990</td>\n",
       "      <td>392.420013</td>\n",
       "      <td>396.959991</td>\n",
       "      <td>396.959991</td>\n",
       "      <td>90157700</td>\n",
       "      <td>SPY</td>\n",
       "      <td>0.003641</td>\n",
       "    </tr>\n",
       "    <tr>\n",
       "      <th>2023-01-13</th>\n",
       "      <td>393.619995</td>\n",
       "      <td>399.100006</td>\n",
       "      <td>393.339996</td>\n",
       "      <td>398.500000</td>\n",
       "      <td>398.500000</td>\n",
       "      <td>63863400</td>\n",
       "      <td>SPY</td>\n",
       "      <td>0.003880</td>\n",
       "    </tr>\n",
       "  </tbody>\n",
       "</table>\n",
       "<p>7544 rows × 8 columns</p>\n",
       "</div>"
      ],
      "text/plain": [
       "                  open        high         low       close    adjclose  \\\n",
       "date                                                                     \n",
       "1993-02-01   43.968750   44.250000   43.968750   44.250000   25.397573   \n",
       "1993-02-02   44.218750   44.375000   44.125000   44.343750   25.451389   \n",
       "1993-02-03   44.406250   44.843750   44.375000   44.812500   25.720436   \n",
       "1993-02-04   44.968750   45.093750   44.468750   45.000000   25.828054   \n",
       "1993-02-05   44.968750   45.062500   44.718750   44.968750   25.810122   \n",
       "...                ...         ...         ...         ...         ...   \n",
       "2023-01-09  390.369995  393.700012  387.670013  387.859985  387.859985   \n",
       "2023-01-10  387.250000  390.649994  386.269989  390.579987  390.579987   \n",
       "2023-01-11  392.230011  395.600006  391.380005  395.519989  395.519989   \n",
       "2023-01-12  396.670013  398.489990  392.420013  396.959991  396.959991   \n",
       "2023-01-13  393.619995  399.100006  393.339996  398.500000  398.500000   \n",
       "\n",
       "              volume ticker  close daily returns  \n",
       "date                                              \n",
       "1993-02-01    480500    SPY             0.007112  \n",
       "1993-02-02    201300    SPY             0.002119  \n",
       "1993-02-03    529400    SPY             0.010571  \n",
       "1993-02-04    531500    SPY             0.004184  \n",
       "1993-02-05    492100    SPY            -0.000694  \n",
       "...              ...    ...                  ...  \n",
       "2023-01-09  73978100    SPY            -0.000567  \n",
       "2023-01-10  65358100    SPY             0.007013  \n",
       "2023-01-11  68881100    SPY             0.012648  \n",
       "2023-01-12  90157700    SPY             0.003641  \n",
       "2023-01-13  63863400    SPY             0.003880  \n",
       "\n",
       "[7544 rows x 8 columns]"
      ]
     },
     "execution_count": 15,
     "metadata": {},
     "output_type": "execute_result"
    }
   ],
   "source": [
    "df"
   ]
  },
  {
   "cell_type": "markdown",
   "metadata": {},
   "source": [
    "## Returns"
   ]
  },
  {
   "cell_type": "code",
   "execution_count": null,
   "metadata": {},
   "outputs": [
    {
     "ename": "KeyError",
     "evalue": "'dca_return'",
     "output_type": "error",
     "traceback": [
      "\u001b[1;31m---------------------------------------------------------------------------\u001b[0m",
      "\u001b[1;31mKeyError\u001b[0m                                  Traceback (most recent call last)",
      "\u001b[1;32mc:\\Users\\alexr\\AppData\\Local\\Programs\\Python\\Python38\\lib\\site-packages\\pandas\\core\\indexes\\base.py\u001b[0m in \u001b[0;36mget_loc\u001b[1;34m(self, key, method, tolerance)\u001b[0m\n\u001b[0;32m   3079\u001b[0m             \u001b[1;32mtry\u001b[0m\u001b[1;33m:\u001b[0m\u001b[1;33m\u001b[0m\u001b[1;33m\u001b[0m\u001b[0m\n\u001b[1;32m-> 3080\u001b[1;33m                 \u001b[1;32mreturn\u001b[0m \u001b[0mself\u001b[0m\u001b[1;33m.\u001b[0m\u001b[0m_engine\u001b[0m\u001b[1;33m.\u001b[0m\u001b[0mget_loc\u001b[0m\u001b[1;33m(\u001b[0m\u001b[0mcasted_key\u001b[0m\u001b[1;33m)\u001b[0m\u001b[1;33m\u001b[0m\u001b[1;33m\u001b[0m\u001b[0m\n\u001b[0m\u001b[0;32m   3081\u001b[0m             \u001b[1;32mexcept\u001b[0m \u001b[0mKeyError\u001b[0m \u001b[1;32mas\u001b[0m \u001b[0merr\u001b[0m\u001b[1;33m:\u001b[0m\u001b[1;33m\u001b[0m\u001b[1;33m\u001b[0m\u001b[0m\n",
      "\u001b[1;32mpandas\\_libs\\index.pyx\u001b[0m in \u001b[0;36mpandas._libs.index.IndexEngine.get_loc\u001b[1;34m()\u001b[0m\n",
      "\u001b[1;32mpandas\\_libs\\index.pyx\u001b[0m in \u001b[0;36mpandas._libs.index.IndexEngine.get_loc\u001b[1;34m()\u001b[0m\n",
      "\u001b[1;32mpandas\\_libs\\hashtable_class_helper.pxi\u001b[0m in \u001b[0;36mpandas._libs.hashtable.PyObjectHashTable.get_item\u001b[1;34m()\u001b[0m\n",
      "\u001b[1;32mpandas\\_libs\\hashtable_class_helper.pxi\u001b[0m in \u001b[0;36mpandas._libs.hashtable.PyObjectHashTable.get_item\u001b[1;34m()\u001b[0m\n",
      "\u001b[1;31mKeyError\u001b[0m: 'dca_return'",
      "\nThe above exception was the direct cause of the following exception:\n",
      "\u001b[1;31mKeyError\u001b[0m                                  Traceback (most recent call last)",
      "\u001b[1;32m<ipython-input-16-8294f6829f41>\u001b[0m in \u001b[0;36m<module>\u001b[1;34m\u001b[0m\n\u001b[0;32m      2\u001b[0m     \u001b[0mfig\u001b[0m \u001b[1;33m=\u001b[0m \u001b[0mplt\u001b[0m\u001b[1;33m.\u001b[0m\u001b[0mfigure\u001b[0m\u001b[1;33m(\u001b[0m\u001b[0mfigsize\u001b[0m\u001b[1;33m=\u001b[0m\u001b[1;33m(\u001b[0m\u001b[1;36m14\u001b[0m\u001b[1;33m,\u001b[0m\u001b[1;36m7\u001b[0m\u001b[1;33m)\u001b[0m\u001b[1;33m)\u001b[0m\u001b[1;33m\u001b[0m\u001b[1;33m\u001b[0m\u001b[0m\n\u001b[0;32m      3\u001b[0m     \u001b[0mplt\u001b[0m\u001b[1;33m.\u001b[0m\u001b[0mplot\u001b[0m\u001b[1;33m(\u001b[0m\u001b[0mdf\u001b[0m\u001b[1;33m.\u001b[0m\u001b[0mindex\u001b[0m\u001b[1;33m,\u001b[0m \u001b[0mdf\u001b[0m\u001b[1;33m[\u001b[0m\u001b[1;34m'close daily returns'\u001b[0m\u001b[1;33m]\u001b[0m \u001b[1;33m*\u001b[0m \u001b[1;36m100\u001b[0m\u001b[1;33m,\u001b[0m \u001b[0mlinewidth\u001b[0m\u001b[1;33m=\u001b[0m\u001b[1;36m1.5\u001b[0m\u001b[1;33m,\u001b[0m \u001b[0mlabel\u001b[0m\u001b[1;33m=\u001b[0m\u001b[1;34m'buy_hold'\u001b[0m\u001b[1;33m)\u001b[0m\u001b[1;33m\u001b[0m\u001b[1;33m\u001b[0m\u001b[0m\n\u001b[1;32m----> 4\u001b[1;33m     \u001b[0mplt\u001b[0m\u001b[1;33m.\u001b[0m\u001b[0mplot\u001b[0m\u001b[1;33m(\u001b[0m\u001b[0mdf\u001b[0m\u001b[1;33m.\u001b[0m\u001b[0mindex\u001b[0m\u001b[1;33m,\u001b[0m \u001b[0mdf\u001b[0m\u001b[1;33m[\u001b[0m\u001b[1;34m'dca_return'\u001b[0m\u001b[1;33m]\u001b[0m \u001b[1;33m*\u001b[0m \u001b[1;36m100\u001b[0m\u001b[1;33m,\u001b[0m \u001b[0mlinewidth\u001b[0m\u001b[1;33m=\u001b[0m\u001b[1;36m1.5\u001b[0m\u001b[1;33m,\u001b[0m \u001b[0mlabel\u001b[0m\u001b[1;33m=\u001b[0m\u001b[1;34m'dca'\u001b[0m\u001b[1;33m)\u001b[0m\u001b[1;33m\u001b[0m\u001b[1;33m\u001b[0m\u001b[0m\n\u001b[0m\u001b[0;32m      5\u001b[0m \u001b[1;33m\u001b[0m\u001b[0m\n\u001b[0;32m      6\u001b[0m     \u001b[0mplt\u001b[0m\u001b[1;33m.\u001b[0m\u001b[0mtitle\u001b[0m\u001b[1;33m(\u001b[0m\u001b[1;34m\"Buy_Hold vs DCA (Returns, SP500, dca every 20 days)\"\u001b[0m\u001b[1;33m)\u001b[0m\u001b[1;33m\u001b[0m\u001b[1;33m\u001b[0m\u001b[0m\n",
      "\u001b[1;32mc:\\Users\\alexr\\AppData\\Local\\Programs\\Python\\Python38\\lib\\site-packages\\pandas\\core\\frame.py\u001b[0m in \u001b[0;36m__getitem__\u001b[1;34m(self, key)\u001b[0m\n\u001b[0;32m   3022\u001b[0m             \u001b[1;32mif\u001b[0m \u001b[0mself\u001b[0m\u001b[1;33m.\u001b[0m\u001b[0mcolumns\u001b[0m\u001b[1;33m.\u001b[0m\u001b[0mnlevels\u001b[0m \u001b[1;33m>\u001b[0m \u001b[1;36m1\u001b[0m\u001b[1;33m:\u001b[0m\u001b[1;33m\u001b[0m\u001b[1;33m\u001b[0m\u001b[0m\n\u001b[0;32m   3023\u001b[0m                 \u001b[1;32mreturn\u001b[0m \u001b[0mself\u001b[0m\u001b[1;33m.\u001b[0m\u001b[0m_getitem_multilevel\u001b[0m\u001b[1;33m(\u001b[0m\u001b[0mkey\u001b[0m\u001b[1;33m)\u001b[0m\u001b[1;33m\u001b[0m\u001b[1;33m\u001b[0m\u001b[0m\n\u001b[1;32m-> 3024\u001b[1;33m             \u001b[0mindexer\u001b[0m \u001b[1;33m=\u001b[0m \u001b[0mself\u001b[0m\u001b[1;33m.\u001b[0m\u001b[0mcolumns\u001b[0m\u001b[1;33m.\u001b[0m\u001b[0mget_loc\u001b[0m\u001b[1;33m(\u001b[0m\u001b[0mkey\u001b[0m\u001b[1;33m)\u001b[0m\u001b[1;33m\u001b[0m\u001b[1;33m\u001b[0m\u001b[0m\n\u001b[0m\u001b[0;32m   3025\u001b[0m             \u001b[1;32mif\u001b[0m \u001b[0mis_integer\u001b[0m\u001b[1;33m(\u001b[0m\u001b[0mindexer\u001b[0m\u001b[1;33m)\u001b[0m\u001b[1;33m:\u001b[0m\u001b[1;33m\u001b[0m\u001b[1;33m\u001b[0m\u001b[0m\n\u001b[0;32m   3026\u001b[0m                 \u001b[0mindexer\u001b[0m \u001b[1;33m=\u001b[0m \u001b[1;33m[\u001b[0m\u001b[0mindexer\u001b[0m\u001b[1;33m]\u001b[0m\u001b[1;33m\u001b[0m\u001b[1;33m\u001b[0m\u001b[0m\n",
      "\u001b[1;32mc:\\Users\\alexr\\AppData\\Local\\Programs\\Python\\Python38\\lib\\site-packages\\pandas\\core\\indexes\\base.py\u001b[0m in \u001b[0;36mget_loc\u001b[1;34m(self, key, method, tolerance)\u001b[0m\n\u001b[0;32m   3080\u001b[0m                 \u001b[1;32mreturn\u001b[0m \u001b[0mself\u001b[0m\u001b[1;33m.\u001b[0m\u001b[0m_engine\u001b[0m\u001b[1;33m.\u001b[0m\u001b[0mget_loc\u001b[0m\u001b[1;33m(\u001b[0m\u001b[0mcasted_key\u001b[0m\u001b[1;33m)\u001b[0m\u001b[1;33m\u001b[0m\u001b[1;33m\u001b[0m\u001b[0m\n\u001b[0;32m   3081\u001b[0m             \u001b[1;32mexcept\u001b[0m \u001b[0mKeyError\u001b[0m \u001b[1;32mas\u001b[0m \u001b[0merr\u001b[0m\u001b[1;33m:\u001b[0m\u001b[1;33m\u001b[0m\u001b[1;33m\u001b[0m\u001b[0m\n\u001b[1;32m-> 3082\u001b[1;33m                 \u001b[1;32mraise\u001b[0m \u001b[0mKeyError\u001b[0m\u001b[1;33m(\u001b[0m\u001b[0mkey\u001b[0m\u001b[1;33m)\u001b[0m \u001b[1;32mfrom\u001b[0m \u001b[0merr\u001b[0m\u001b[1;33m\u001b[0m\u001b[1;33m\u001b[0m\u001b[0m\n\u001b[0m\u001b[0;32m   3083\u001b[0m \u001b[1;33m\u001b[0m\u001b[0m\n\u001b[0;32m   3084\u001b[0m         \u001b[1;32mif\u001b[0m \u001b[0mtolerance\u001b[0m \u001b[1;32mis\u001b[0m \u001b[1;32mnot\u001b[0m \u001b[1;32mNone\u001b[0m\u001b[1;33m:\u001b[0m\u001b[1;33m\u001b[0m\u001b[1;33m\u001b[0m\u001b[0m\n",
      "\u001b[1;31mKeyError\u001b[0m: 'dca_return'"
     ]
    },
    {
     "data": {
      "image/png": "[encoded data removed]",
      "text/plain": [
       "<Figure size 1008x504 with 1 Axes>"
      ]
     },
     "metadata": {},
     "output_type": "display_data"
    }
   ],
   "source": [
    "with plt.style.context('fivethirtyeight'):\n",
    "    fig = plt.figure(figsize=(14,7))\n",
    "    plt.plot(df.index, df['close daily returns'] * 100, linewidth=1.5, label='buy_hold')\n",
    "    plt.plot(df.index, df['dca_return'] * 100, linewidth=1.5, label='dca')\n",
    "    \n",
    "    plt.title(\"Buy_Hold vs DCA (Returns, SP500, dca every 20 days)\")\n",
    "    plt.ylabel('Returns %')\n",
    "    plt.legend()"
   ]
  },
  {
   "cell_type": "markdown",
   "metadata": {},
   "source": [
    "## Drawdown"
   ]
  },
  {
   "cell_type": "code",
   "execution_count": null,
   "metadata": {},
   "outputs": [],
   "source": [
    "with plt.style.context('fivethirtyeight'):\n",
    "    fig = plt.figure(figsize=(14,7))\n",
    "    plt.plot(df.index, df['buy_hold_drawdown'] * 100, linewidth=1.5, label='buy_hold')\n",
    "    plt.plot(df.index, df['dca_drawdown'] * 100, linewidth=1.5, label='dca')\n",
    "    \n",
    "\n",
    "\n",
    "    plt.title(\"Buy_Hold vs DCA (Drawdown, SP500, dca every 20 days)\")\n",
    "    plt.ylabel('Drawdown %')\n",
    "    plt.legend()\n"
   ]
  },
  {
   "cell_type": "markdown",
   "metadata": {},
   "source": [
    "## Drawdown Distribution"
   ]
  },
  {
   "cell_type": "code",
   "execution_count": null,
   "metadata": {},
   "outputs": [],
   "source": [
    "buy_hold = sns.displot(df['buy_hold_drawdown'], color='blue', bins=30)\n",
    "dca = sns.displot(df['dca_drawdown'], color='red', bins=30)"
   ]
  },
  {
   "cell_type": "markdown",
   "metadata": {},
   "source": [
    "## Annual Returns Dsitribution"
   ]
  },
  {
   "cell_type": "code",
   "execution_count": null,
   "metadata": {},
   "outputs": [],
   "source": [
    "# Rolling Annual Returns\n",
    "bh_annual_returns = np.array(((df['buy_hold_daily_return'] + 1).rolling(252).apply(np.prod, raw=True) - 1) * 100)\n",
    "dca_annual_returns = np.array(((df['dca_daily_return'] + 1).rolling(252).apply(np.prod, raw=True) - 1) * 100)\n",
    "\n",
    "annual_returns = pd.DataFrame({'buy_hold': bh_annual_returns, 'dca': dca_annual_returns})\n",
    "\n",
    "sns.displot(annual_returns['buy_hold'], color='blue', bins=100)\n",
    "sns.displot(annual_returns['dca'], color='red', bins=100)"
   ]
  },
  {
   "cell_type": "markdown",
   "metadata": {},
   "source": [
    "## Statistics"
   ]
  },
  {
   "cell_type": "code",
   "execution_count": null,
   "metadata": {},
   "outputs": [],
   "source": [
    "num_years = len(df) / 252\n",
    "\n",
    "print('Buy_HODL')\n",
    "print(\"Total Returns:              \" + \"{:.2f}\".format(df['buy_hold_return'][-1] * 100) + \" %\")\n",
    "print(\"CAGR:                       \" + \"{:.2f}\".format(((df['buy_hold_return'][-1] + 1) ** (1 / num_years) - 1) * 100) + \" %\")\n",
    "print(\"Maximum Drawdown:          \" + \"{:.2f}\".format(np.min(df['buy_hold_drawdown'] * 100)) + \" %\")\n",
    "bh_dr_mean = np.mean(df['buy_hold_daily_return'])\n",
    "bh_dr_var = np.var(df['buy_hold_daily_return'])\n",
    "bh_ar_mean = (bh_dr_mean + 1) ** 252 - 1\n",
    "bh_ar_var = bh_dr_var * np.sqrt(252)\n",
    "print(\"Annual Returns Mean:        \" + \"{:.2f}\".format(bh_ar_mean * 100) + \" %\")\n",
    "print(\"Annual Returns Std Dev:     \" + \"{:.2f}\".format(np.sqrt(bh_ar_var) * 100) + \" %\")\n",
    "print(\"99% Worst Annual Drawdown: \" + \"{:.2f}\".format(bh_ar_mean - 2.33 * np.sqrt(bh_ar_var) * 100) + \" %\")\n",
    "\n",
    "print()\n",
    "\n",
    "print('DCA')\n",
    "print(\"Total Returns:              \" + \"{:.2f}\".format(df['dca_return'][-1] * 100) + \" %\")\n",
    "print(\"CAGR:                       \" + \"{:.2f}\".format(((df['dca_return'][-1] + 1) ** (1 / num_years) - 1) * 100) + \" %\")\n",
    "print(\"Maximum Drawdown:          \" + \"{:.2f}\".format(np.min(df['dca_drawdown'] * 100)) + \" %\")\n",
    "dca_dr_mean = np.mean(df['dca_daily_return'])\n",
    "dca_dr_var = np.var(df['dca_daily_return'])\n",
    "dca_ar_mean = (dca_dr_mean + 1) ** 252 - 1\n",
    "dca_ar_var = dca_dr_var * np.sqrt(252)\n",
    "print(\"Annual Returns Mean:        \" + \"{:.2f}\".format(dca_ar_mean * 100) + \" %\")\n",
    "print(\"Annual Returns Std Dev:     \" + \"{:.2f}\".format(np.sqrt(dca_ar_var) * 100) + \" %\")\n",
    "print(\"99% Worst Annual Drawdown: \" + \"{:.2f}\".format(dca_ar_mean - 2.33 * np.sqrt(dca_ar_var) * 100) + \" %\")"
   ]
  }
 ],
 "metadata": {
  "kernelspec": {
   "display_name": "Python 3",
   "language": "python",
   "name": "python3"
  },
  "language_info": {
   "codemirror_mode": {
    "name": "ipython",
    "version": 3
   },
   "file_extension": ".py",
   "mimetype": "text/x-python",
   "name": "python",
   "nbconvert_exporter": "python",
   "pygments_lexer": "ipython3",
   "version": "3.9.6"
  },
  "vscode": {
   "interpreter": {
    "hash": "bd236a709519b3ae3b820ac756eadb1966d4cb8f661a5378fefc33f5d1fc84f1"
   }
  }
 },
 "nbformat": 4,
 "nbformat_minor": 4
}
