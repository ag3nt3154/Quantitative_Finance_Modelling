{
 "cells": [
  {
   "cell_type": "markdown",
   "metadata": {},
   "source": [
    "# Backtesting for Options Strategy\n",
    "\n",
    "This notebook is created to test short-options (theta) strategies, such as the one used by QYLD.\n",
    "\n",
    "The methodology is as follows:\n",
    "- Use a statistical distribution based on historical SPY prices to generate series of daily close prices.\n",
    "- Use the Black-Scholes-Merton equation to evaluate options and trade them according to stated strategy.\n",
    "- Do Monte Carlo simulations to evaluate the returns of each strategy."
   ]
  },
  {
   "cell_type": "code",
   "execution_count": 1,
   "metadata": {},
   "outputs": [],
   "source": [
    "import numpy as np\n",
    "import pandas as pd\n",
    "import misc\n",
    "import matplotlib.pyplot as plt\n",
    "import mplfinance as mpf\n",
    "import seaborn as sns\n",
    "from scipy.stats import laplace, norm, gmean\n",
    "from tqdm.notebook import tqdm\n",
    "\n",
    "pd.options.display.max_columns=300\n",
    "pd.options.display.max_rows=100\n",
    "\n",
    "\n"
   ]
  },
  {
   "cell_type": "markdown",
   "metadata": {},
   "source": [
    "### Dataset\n",
    "Dataset is SPY (S&P 500 ETF). We take closing prices from yahoo finance."
   ]
  },
  {
   "cell_type": "code",
   "execution_count": 2,
   "metadata": {},
   "outputs": [
    {
     "data": {
      "text/html": [
       "<div>\n",
       "<style scoped>\n",
       "    .dataframe tbody tr th:only-of-type {\n",
       "        vertical-align: middle;\n",
       "    }\n",
       "\n",
       "    .dataframe tbody tr th {\n",
       "        vertical-align: top;\n",
       "    }\n",
       "\n",
       "    .dataframe thead th {\n",
       "        text-align: right;\n",
       "    }\n",
       "</style>\n",
       "<table border=\"1\" class=\"dataframe\">\n",
       "  <thead>\n",
       "    <tr style=\"text-align: right;\">\n",
       "      <th></th>\n",
       "      <th>open</th>\n",
       "      <th>high</th>\n",
       "      <th>low</th>\n",
       "      <th>close</th>\n",
       "      <th>adjclose</th>\n",
       "      <th>volume</th>\n",
       "      <th>ticker</th>\n",
       "      <th>close daily change</th>\n",
       "    </tr>\n",
       "    <tr>\n",
       "      <th>date</th>\n",
       "      <th></th>\n",
       "      <th></th>\n",
       "      <th></th>\n",
       "      <th></th>\n",
       "      <th></th>\n",
       "      <th></th>\n",
       "      <th></th>\n",
       "      <th></th>\n",
       "    </tr>\n",
       "  </thead>\n",
       "  <tbody>\n",
       "    <tr>\n",
       "      <th>1993-02-01</th>\n",
       "      <td>43.968750</td>\n",
       "      <td>44.250000</td>\n",
       "      <td>43.968750</td>\n",
       "      <td>44.250000</td>\n",
       "      <td>25.397577</td>\n",
       "      <td>480500</td>\n",
       "      <td>SPY</td>\n",
       "      <td>0.007112</td>\n",
       "    </tr>\n",
       "    <tr>\n",
       "      <th>1993-02-02</th>\n",
       "      <td>44.218750</td>\n",
       "      <td>44.375000</td>\n",
       "      <td>44.125000</td>\n",
       "      <td>44.343750</td>\n",
       "      <td>25.451389</td>\n",
       "      <td>201300</td>\n",
       "      <td>SPY</td>\n",
       "      <td>0.002119</td>\n",
       "    </tr>\n",
       "    <tr>\n",
       "      <th>1993-02-03</th>\n",
       "      <td>44.406250</td>\n",
       "      <td>44.843750</td>\n",
       "      <td>44.375000</td>\n",
       "      <td>44.812500</td>\n",
       "      <td>25.720438</td>\n",
       "      <td>529400</td>\n",
       "      <td>SPY</td>\n",
       "      <td>0.010571</td>\n",
       "    </tr>\n",
       "    <tr>\n",
       "      <th>1993-02-04</th>\n",
       "      <td>44.968750</td>\n",
       "      <td>45.093750</td>\n",
       "      <td>44.468750</td>\n",
       "      <td>45.000000</td>\n",
       "      <td>25.828045</td>\n",
       "      <td>531500</td>\n",
       "      <td>SPY</td>\n",
       "      <td>0.004184</td>\n",
       "    </tr>\n",
       "    <tr>\n",
       "      <th>1993-02-05</th>\n",
       "      <td>44.968750</td>\n",
       "      <td>45.062500</td>\n",
       "      <td>44.718750</td>\n",
       "      <td>44.968750</td>\n",
       "      <td>25.810122</td>\n",
       "      <td>492100</td>\n",
       "      <td>SPY</td>\n",
       "      <td>-0.000694</td>\n",
       "    </tr>\n",
       "    <tr>\n",
       "      <th>...</th>\n",
       "      <td>...</td>\n",
       "      <td>...</td>\n",
       "      <td>...</td>\n",
       "      <td>...</td>\n",
       "      <td>...</td>\n",
       "      <td>...</td>\n",
       "      <td>...</td>\n",
       "      <td>...</td>\n",
       "    </tr>\n",
       "    <tr>\n",
       "      <th>2023-02-13</th>\n",
       "      <td>408.720001</td>\n",
       "      <td>412.970001</td>\n",
       "      <td>408.239990</td>\n",
       "      <td>412.829987</td>\n",
       "      <td>412.829987</td>\n",
       "      <td>64913500</td>\n",
       "      <td>SPY</td>\n",
       "      <td>0.011739</td>\n",
       "    </tr>\n",
       "    <tr>\n",
       "      <th>2023-02-14</th>\n",
       "      <td>411.239990</td>\n",
       "      <td>415.049988</td>\n",
       "      <td>408.510010</td>\n",
       "      <td>412.640015</td>\n",
       "      <td>412.640015</td>\n",
       "      <td>88389300</td>\n",
       "      <td>SPY</td>\n",
       "      <td>-0.000460</td>\n",
       "    </tr>\n",
       "    <tr>\n",
       "      <th>2023-02-15</th>\n",
       "      <td>410.350006</td>\n",
       "      <td>414.059998</td>\n",
       "      <td>409.470001</td>\n",
       "      <td>413.980011</td>\n",
       "      <td>413.980011</td>\n",
       "      <td>61685300</td>\n",
       "      <td>SPY</td>\n",
       "      <td>0.003247</td>\n",
       "    </tr>\n",
       "    <tr>\n",
       "      <th>2023-02-16</th>\n",
       "      <td>408.790009</td>\n",
       "      <td>412.910004</td>\n",
       "      <td>408.140015</td>\n",
       "      <td>408.279999</td>\n",
       "      <td>408.279999</td>\n",
       "      <td>76431500</td>\n",
       "      <td>SPY</td>\n",
       "      <td>-0.013769</td>\n",
       "    </tr>\n",
       "    <tr>\n",
       "      <th>2023-02-17</th>\n",
       "      <td>406.059998</td>\n",
       "      <td>407.510010</td>\n",
       "      <td>404.049988</td>\n",
       "      <td>407.260010</td>\n",
       "      <td>407.260010</td>\n",
       "      <td>89169100</td>\n",
       "      <td>SPY</td>\n",
       "      <td>-0.002498</td>\n",
       "    </tr>\n",
       "  </tbody>\n",
       "</table>\n",
       "<p>7568 rows × 8 columns</p>\n",
       "</div>"
      ],
      "text/plain": [
       "                  open        high         low       close    adjclose  \\\n",
       "date                                                                     \n",
       "1993-02-01   43.968750   44.250000   43.968750   44.250000   25.397577   \n",
       "1993-02-02   44.218750   44.375000   44.125000   44.343750   25.451389   \n",
       "1993-02-03   44.406250   44.843750   44.375000   44.812500   25.720438   \n",
       "1993-02-04   44.968750   45.093750   44.468750   45.000000   25.828045   \n",
       "1993-02-05   44.968750   45.062500   44.718750   44.968750   25.810122   \n",
       "...                ...         ...         ...         ...         ...   \n",
       "2023-02-13  408.720001  412.970001  408.239990  412.829987  412.829987   \n",
       "2023-02-14  411.239990  415.049988  408.510010  412.640015  412.640015   \n",
       "2023-02-15  410.350006  414.059998  409.470001  413.980011  413.980011   \n",
       "2023-02-16  408.790009  412.910004  408.140015  408.279999  408.279999   \n",
       "2023-02-17  406.059998  407.510010  404.049988  407.260010  407.260010   \n",
       "\n",
       "              volume ticker  close daily change  \n",
       "date                                             \n",
       "1993-02-01    480500    SPY            0.007112  \n",
       "1993-02-02    201300    SPY            0.002119  \n",
       "1993-02-03    529400    SPY            0.010571  \n",
       "1993-02-04    531500    SPY            0.004184  \n",
       "1993-02-05    492100    SPY           -0.000694  \n",
       "...              ...    ...                 ...  \n",
       "2023-02-13  64913500    SPY            0.011739  \n",
       "2023-02-14  88389300    SPY           -0.000460  \n",
       "2023-02-15  61685300    SPY            0.003247  \n",
       "2023-02-16  76431500    SPY           -0.013769  \n",
       "2023-02-17  89169100    SPY           -0.002498  \n",
       "\n",
       "[7568 rows x 8 columns]"
      ]
     },
     "execution_count": 2,
     "metadata": {},
     "output_type": "execute_result"
    }
   ],
   "source": [
    "# Get data from yahoo finance\n",
    "misc.get_price_data('SPY')\n",
    "df = pd.read_csv('SPY.csv')\n",
    "df = misc.clean_df(df)\n",
    "df = df.set_index('date')\n",
    "df['close daily change'] = (df['close'] - df['close'].shift(1)) / df['close'].shift(1)\n",
    "df = df.dropna()\n",
    "\n",
    "df"
   ]
  },
  {
   "cell_type": "markdown",
   "metadata": {},
   "source": [
    "### Statistics of SPY"
   ]
  },
  {
   "cell_type": "code",
   "execution_count": 3,
   "metadata": {
    "scrolled": true
   },
   "outputs": [
    {
     "data": {
      "image/png": "[encoded data removed]",
      "text/plain": [
       "<Figure size 432x288 with 1 Axes>"
      ]
     },
     "metadata": {
      "needs_background": "light"
     },
     "output_type": "display_data"
    }
   ],
   "source": [
    "# Distribution of daily returns\n",
    "count, bins, ignored = plt.hist(df['close daily change'], 1000, density=True)\n",
    "plt.ylabel('Frequency')\n",
    "plt.xlabel('daily_change')\n",
    "plt.show()"
   ]
  },
  {
   "cell_type": "markdown",
   "metadata": {},
   "source": [
    "Normal distribution:"
   ]
  },
  {
   "cell_type": "code",
   "execution_count": 4,
   "metadata": {},
   "outputs": [
    {
     "name": "stdout",
     "output_type": "stream",
     "text": [
      "(0.0003656206496960276, 0.011940008715798289)\n"
     ]
    },
    {
     "data": {
      "image/png": "[encoded data removed]",
      "text/plain": [
       "<Figure size 432x288 with 1 Axes>"
      ]
     },
     "metadata": {
      "needs_background": "light"
     },
     "output_type": "display_data"
    }
   ],
   "source": [
    "# Fit normal distribution parameters\n",
    "norm_params = norm.fit(df['close daily change'])\n",
    "print(norm_params)\n",
    "\n",
    "# Plot daily return distribution\n",
    "count, bins, ignored = plt.hist(df['close daily change'], 1000, density=True)\n",
    "\n",
    "# Plot normal distribution with parameters\n",
    "mu, sigma = norm_params\n",
    "plt.plot(bins, 1/(sigma * np.sqrt(2 * np.pi)) *\n",
    "               np.exp( - (bins - mu)**2 / (2 * sigma**2) ),\n",
    "         linewidth=2, color='r')\n",
    "plt.show()"
   ]
  },
  {
   "attachments": {},
   "cell_type": "markdown",
   "metadata": {},
   "source": [
    "Laplace Distribution:\n",
    "\n",
    "https://arxiv.org/ftp/arxiv/papers/1906/1906.10325.pdf"
   ]
  },
  {
   "cell_type": "code",
   "execution_count": 5,
   "metadata": {},
   "outputs": [
    {
     "name": "stdout",
     "output_type": "stream",
     "text": [
      "(0.0005972544007951823, 0.007939834993090523)\n"
     ]
    },
    {
     "data": {
      "text/plain": [
       "[<matplotlib.lines.Line2D at 0x268551c3e20>]"
      ]
     },
     "execution_count": 5,
     "metadata": {},
     "output_type": "execute_result"
    },
    {
     "data": {
      "image/png": "[encoded data removed]",
      "text/plain": [
       "<Figure size 432x288 with 1 Axes>"
      ]
     },
     "metadata": {
      "needs_background": "light"
     },
     "output_type": "display_data"
    }
   ],
   "source": [
    "# Fit Laplace distribution parameters\n",
    "laplace_params = laplace.fit(df['close daily change'])\n",
    "print(laplace_params)\n",
    "\n",
    "# Plot daily returns distribution\n",
    "count, bins, ignored = plt.hist(df['close daily change'], 1000, density=True)\n",
    "\n",
    "# Plot Laplace distribution with parameters\n",
    "loc, scale = laplace_params\n",
    "x = np.arange(-0.2, 0.2, .001)\n",
    "pdf = np.exp(-abs(x-loc)/scale)/(2.*scale)\n",
    "plt.plot(x, pdf)"
   ]
  },
  {
   "cell_type": "markdown",
   "metadata": {},
   "source": [
    "The laplace distribution appears to be fit SPY daily returns distribution more closely.\n",
    "\n",
    "We calculate the historical volatility of SPY for use in the BSM equation.\n",
    "\n",
    "\\begin{equation}\n",
    "    \\sigma_{annual} = \\sigma_{daily} \\times \\sqrt{252}\n",
    "\\end{equation}"
   ]
  },
  {
   "cell_type": "code",
   "execution_count": 6,
   "metadata": {},
   "outputs": [
    {
     "name": "stdout",
     "output_type": "stream",
     "text": [
      "SPY Historical Volatility: 18.95 %\n"
     ]
    }
   ],
   "source": [
    "spy_hist_vol = np.std(df['close daily change']) * np.sqrt(252)\n",
    "print(\"SPY Historical Volatility: \" + \"{:.2f}\".format(spy_hist_vol * 100) + \" %\")"
   ]
  },
  {
   "cell_type": "markdown",
   "metadata": {},
   "source": [
    "### Model Stock Replication\n",
    "\n",
    "We create a model stock by:\n",
    "- Generating a random series of daily returns distributed by the laplace distribution with previously fitted parameters.\n",
    "- Specify an initial price.\n",
    "- Calculate subsequent closing prices by multiplying by daily returns"
   ]
  },
  {
   "cell_type": "code",
   "execution_count": 7,
   "metadata": {},
   "outputs": [
    {
     "data": {
      "image/png": "[encoded data removed]",
      "text/plain": [
       "<Figure size 432x288 with 1 Axes>"
      ]
     },
     "metadata": {
      "needs_background": "light"
     },
     "output_type": "display_data"
    }
   ],
   "source": [
    "def generate_stock(laplace_params, num_days=252, initial_price=400):\n",
    "    '''\n",
    "    Generate array of stock prices according to laplace distribution\n",
    "    '''\n",
    "    # laplace parameters\n",
    "    loc, scale = laplace_params\n",
    "    \n",
    "    # generate daily change from laplace distribution\n",
    "    s = np.random.laplace(loc, scale, num_days)\n",
    "    \n",
    "    # generate stock price from daily change  \n",
    "    stock_price = np.append(np.ones(1), np.cumprod(s + 1)) * initial_price\n",
    "        \n",
    "    return stock_price, s\n",
    "\n",
    "# set 252 trading days in a year\n",
    "num_days = 252\n",
    "stock_price, daily_change = generate_stock(laplace_params, num_days, 400)\n",
    "t = range(1, num_days + 2)\n",
    "plt.plot(t, stock_price)\n",
    "\n",
    "plt.title(\"Stock Price Evolution\")\n",
    "plt.ylabel('Stock Price')\n",
    "plt.xlabel('Day')\n",
    "plt.show()"
   ]
  },
  {
   "cell_type": "code",
   "execution_count": 8,
   "metadata": {},
   "outputs": [
    {
     "data": {
      "image/png": "[encoded data removed]",
      "text/plain": [
       "<Figure size 432x288 with 1 Axes>"
      ]
     },
     "metadata": {
      "needs_background": "light"
     },
     "output_type": "display_data"
    }
   ],
   "source": [
    "plt.plot(t[1:], daily_change * 100)\n",
    "plt.ylabel('Daily Change %')\n",
    "plt.xlabel('Day')\n",
    "plt.show()"
   ]
  },
  {
   "attachments": {},
   "cell_type": "markdown",
   "metadata": {},
   "source": [
    "### Black-Scholes-Merton Equation\n",
    "BSM equation:\n",
    "\n",
    "\\begin{equation}\n",
    "    C = N(d_1)S - N(d_2)Ke^{-rt}\n",
    "\\end{equation}\n",
    "\n",
    "where\n",
    "- $d_1 = \\frac{\\ln \\frac{S}{K} + (r + \\frac{\\sigma^2}{2})t}{\\sigma\\sqrt{t}}$\n",
    "- $d_2 = d_1 - \\sigma\\sqrt{t}$\n",
    "- $C$ is the call option price.\n",
    "- $N(x)$ is the cummulative distribution function of the normal distribution.\n",
    "- $S$ is the current price of the underlying.\n",
    "- $K$ is the strike price of the contract.\n",
    "- $r$ is the risk-free interest rate (taken as 1 Year US Treasury Bill, $r = 3.26\\%$).\n",
    "- $t$ is the time to maturity.\n",
    "- $\\sigma$ is the volatility.\n",
    "\n",
    "The BSM equation makes several assumptions:\n",
    "- Options are european styled, i.e. they cannot be exercised before expiration.\n",
    "- Volatility remains constant throughout the lifetime of the option."
   ]
  },
  {
   "cell_type": "code",
   "execution_count": 9,
   "metadata": {},
   "outputs": [],
   "source": [
    "def bsm(stock_price, strike_price, dte, volatility=spy_hist_vol, rf_rate=0.03):\n",
    "    '''\n",
    "    Calculate the delta and prices of call/put option according to BSM eqn.\n",
    "    \n",
    "    Input:\n",
    "    - current stock price of underlying\n",
    "    - strike price of contract\n",
    "    - days to expiry (dte)\n",
    "    - volatility (historically 17.73% for SPY)\n",
    "    - risk-free interest rate (3.26% for 1 Year US Treasury Bill)\n",
    "    \n",
    "    Output:\n",
    "    - delta of call option\n",
    "    - price of call option\n",
    "    - delta of put option\n",
    "    - price of put option\n",
    "    '''\n",
    "    \n",
    "    # change units for dte to years\n",
    "    t = dte / 365.25\n",
    "    \n",
    "    # present value of strike price\n",
    "    pv_strike = strike_price * np.exp(-rf_rate * t)\n",
    "    \n",
    "    # d1 and d2 variables of bsm\n",
    "    d1 = (np.log(stock_price / strike_price) \\\n",
    "          + (rf_rate + (volatility ** 2) / 2) * t) / (volatility * np.sqrt(t))\n",
    "    d2 = d1 - volatility * np.sqrt(t)\n",
    "    \n",
    "    # delta of call option\n",
    "    call_delta = norm.cdf(d1)\n",
    "    \n",
    "    # price of call option\n",
    "    call_price = call_delta * stock_price - norm.cdf(d2) * pv_strike\n",
    "    \n",
    "    # delta of put option\n",
    "    put_delta = -norm.cdf(-d1)\n",
    "    \n",
    "    # price of put option\n",
    "    put_price = put_delta * stock_price + norm.cdf(-d2) * pv_strike\n",
    "    \n",
    "    return call_delta, call_price, put_delta, put_price"
   ]
  },
  {
   "attachments": {},
   "cell_type": "markdown",
   "metadata": {},
   "source": [
    "### Key Performance Indicators\n",
    "These are variables that indicate the performance of the strategy.\n",
    "1. Total Return\n",
    "2. Compound Annualised Growth Rate\n",
    "3. Volatility\n",
    "4. Beta\n",
    "5. Sharpe Ratio\n",
    "6. Maximum Drawdown\n",
    "7. Total Return / Maximum Drawdown\n",
    "\n",
    "        \n"
   ]
  },
  {
   "cell_type": "code",
   "execution_count": 10,
   "metadata": {},
   "outputs": [],
   "source": [
    "def get_kpi(rt, ch, stock_daily_change):\n",
    "    '''\n",
    "    Calculate key performance indicators from daily returns and daily changes of strategy.\n",
    "    Input: daily returns, daily changes, daily changes\n",
    "    '''\n",
    "    kpi_dict = {\n",
    "            'Total Return': rt[-1] - 1,\n",
    "            'CAGR': gmean(ch) ** 252 - 1,\n",
    "            'Volatility': np.std(ch - 1) * np.sqrt(252),\n",
    "            'Beta': np.corrcoef(stock_daily_change, ch - 1)[0, 1] * np.std(stock_daily_change) * np.std(ch - 1) / np.var(stock_daily_change),\n",
    "            'Sharpe Ratio': ((np.mean(ch) ** 252 - 1) - 0.03) / (np.std(ch - 1) * np.sqrt(252)),\n",
    "        }\n",
    "    \n",
    "    # Find max return and max drawdown\n",
    "    max_rt = 0\n",
    "    max_dd = 0\n",
    "    for i in range(len(rt)):\n",
    "        if rt[i] > max_rt:\n",
    "            max_rt = rt[i]\n",
    "        else:\n",
    "            if rt[i] - max_rt < max_dd:\n",
    "                max_dd = rt[i] - max_rt\n",
    "    \n",
    "    kpi_dict['Max Drawdown'] = max_dd\n",
    "    kpi_dict['RoMaxDD'] = kpi_dict['Total Return'] / (-kpi_dict['Max Drawdown'])\n",
    "    kpi_dict['Daily Returns'] = rt\n",
    "    kpi_dict['Daily Changes'] = ch\n",
    "    \n",
    "    return kpi_dict\n",
    "\n",
    "\n",
    "class test:\n",
    "    def __init__(self, strats_func):\n",
    "        '''\n",
    "        strats_func is a function to that runs several strategies at once\n",
    "        strats_func input: stock price series\n",
    "        strats_func output: dictionary with strategy names as keys and (daily returns, daily change) as value\n",
    "        '''\n",
    "        self.strats_func = strats_func\n",
    "    \n",
    "    def kpi_given_stock_price_series(self, stock_price_series, daily_change):\n",
    "        '''\n",
    "        Runs strats_func on the stock price series and returns kpi\n",
    "        '''\n",
    "        results = self.strats_func(stock_price_series)\n",
    "\n",
    "        for strat in results:\n",
    "            rt, ch = results[strat]\n",
    "            kpi = get_kpi(rt, ch, daily_change)\n",
    "            results[strat] = kpi\n",
    "\n",
    "        return results\n",
    "        \n",
    "    def single_stock_price_series_expt(self, laplace_params, num_days=252, initial_price=400, display=False):\n",
    "        '''\n",
    "        Generates a single stock price series, runs strats_func, and returns kpi\n",
    "        Statistics and graphs can be displayed\n",
    "        '''\n",
    "        # Generate stock price series\n",
    "        stock_price_series, daily_change = generate_stock(laplace_params, num_days, initial_price)\n",
    "        \n",
    "        # Runs strategies and find kpi\n",
    "        results = self.kpi_given_stock_price_series(stock_price_series, daily_change)\n",
    "\n",
    "        # Display statistics and graphs\n",
    "        if display:\n",
    "            for strat in results:\n",
    "                kpi = results[strat]\n",
    "\n",
    "                \n",
    "                print(strat)\n",
    "                print('Total Return:          {:.2f} %'.format(kpi['Total Return'] * 100))\n",
    "                print('CAGR:                  {:.2f} %'.format(kpi['CAGR'] * 100))\n",
    "                print('Volatility:            {:.2f} %'.format(kpi['Volatility'] * 100))\n",
    "                print('Beta:                  {:.2f}'.format(kpi['Beta']))\n",
    "                print('Sharpe Ratio:          {:.2f}'.format(kpi['Sharpe Ratio']))\n",
    "                print('Max Drawdown:          {:.2f} %'.format(kpi['Max Drawdown'] * 100))\n",
    "                print('Return over Max DD:    {:.2f}'.format(kpi['RoMaxDD']))\n",
    "                print('-------------------------------------')\n",
    "\n",
    "                plt.plot(range(num_days + 1), kpi['Daily Returns'], label=strat)\n",
    "\n",
    "            plt.xlabel('Time in Days')\n",
    "            plt.ylabel('Strategy Returns')    \n",
    "            plt.legend()\n",
    "            plt.show()\n",
    "            \n",
    "        return results\n",
    "\n",
    "    def multiple_stock_price_series_expt(self, runs, laplace_params, num_days=252, initial_price=400, display=False):\n",
    "        '''\n",
    "        Generates multiple stock price series, runs strats_func, and returns average kpi across all runs\n",
    "        Statistics and graphs can be displayed\n",
    "        '''\n",
    "        # Initiate raw results to collect all data\n",
    "        raw_results = {}\n",
    "\n",
    "        if display:\n",
    "            rng = tqdm(range(runs))\n",
    "        else:\n",
    "            rng = range(runs)\n",
    "\n",
    "        # Run expt for n times with generated stock price series\n",
    "        for i in rng:\n",
    "\n",
    "            # Generate stock price series\n",
    "            stock_price_series, daily_change = generate_stock(laplace_params, num_days, initial_price)\n",
    "\n",
    "            # Run strategies and find kpi\n",
    "            results = self.kpi_given_stock_price_series(stock_price_series, daily_change)\n",
    "\n",
    "            # Save results\n",
    "            for strat in results:\n",
    "                kpi = results[strat]\n",
    "\n",
    "                # Initialise dict on the 1st run\n",
    "                if i == 0:\n",
    "                    raw_results[strat] = []\n",
    "            \n",
    "                raw_results[strat].append(kpi)\n",
    "\n",
    "        # Find average results\n",
    "        avg_results = {}\n",
    "\n",
    "        for strat in raw_results:\n",
    "            avg_results[strat] = {}\n",
    "\n",
    "            # Average kpi values for all runs\n",
    "            for key in kpi:\n",
    "                avg_results[strat][key] = np.mean([f[key] for f in raw_results[strat]])\n",
    "\n",
    "            # Find winrate of strategy => win = total return at the end of run > 0\n",
    "            avg_results[strat]['Win-rate'] = np.sum([1 for f in raw_results[strat] if f['Total Return'] > 0]) \\\n",
    "                / runs\n",
    "            \n",
    "        \n",
    "        # display average results\n",
    "        if display:\n",
    "            for strat in avg_results:\n",
    "                print(strat)\n",
    "                \n",
    "                print('Total Return:            {:.2f} %'.format(avg_results[strat]['Total Return'] * 100))\n",
    "                print('CAGR:                    {:.2f} %'.format(avg_results[strat]['CAGR'] * 100))\n",
    "                print('Volatility:              {:.2f} %'.format(avg_results[strat]['Volatility'] * 100))\n",
    "                print('Beta:                    {:.2f}'.format(avg_results[strat]['Beta']))\n",
    "                print('Sharpe Ratio:            {:.2f}'.format(avg_results[strat]['Sharpe Ratio']))\n",
    "                print('Win-rate:                {:.2f} %'.format(avg_results[strat]['Win-rate'] * 100))\n",
    "                print('Max Drawdown:            {:.2f} %'.format(avg_results[strat]['Max Drawdown'] * 100))\n",
    "                print('Return over Max DD:      {:.2f}'.format(avg_results[strat]['RoMaxDD']))\n",
    "                \n",
    "                \n",
    "                print('-------------------------------------')\n",
    "        \n",
    "        return avg_results\n",
    "            \n",
    "\n",
    "\n"
   ]
  },
  {
   "attachments": {},
   "cell_type": "markdown",
   "metadata": {},
   "source": [
    "Strategy should return:\n",
    "1. Daily returns (1.xx)\n",
    "2. Daily changes in portfolio value (1.xx)"
   ]
  },
  {
   "attachments": {},
   "cell_type": "markdown",
   "metadata": {},
   "source": [
    "### Buy-Hold Strategy\n",
    "Buy assets at the start and hold until the end"
   ]
  },
  {
   "cell_type": "code",
   "execution_count": 11,
   "metadata": {},
   "outputs": [],
   "source": [
    "def buy_hold_strategy(stock_price):\n",
    "    arr = stock_price/stock_price[0]\n",
    "    return arr, arr[1:] / arr[:-1]"
   ]
  },
  {
   "attachments": {},
   "cell_type": "markdown",
   "metadata": {},
   "source": [
    "Single run results:"
   ]
  },
  {
   "cell_type": "code",
   "execution_count": 12,
   "metadata": {},
   "outputs": [
    {
     "name": "stdout",
     "output_type": "stream",
     "text": [
      "Single Run Results:\n",
      "buy_hold\n",
      "Total Return:          18.81 %\n",
      "CAGR:                  18.81 %\n",
      "Volatility:            17.02 %\n",
      "Beta:                  1.00\n",
      "Sharpe Ratio:          1.03\n",
      "Max Drawdown:          -11.55 %\n",
      "Return over Max DD:    1.63\n",
      "-------------------------------------\n"
     ]
    },
    {
     "data": {
      "image/png": "[encoded data removed]",
      "text/plain": [
       "<Figure size 432x288 with 1 Axes>"
      ]
     },
     "metadata": {
      "needs_background": "light"
     },
     "output_type": "display_data"
    },
    {
     "name": "stdout",
     "output_type": "stream",
     "text": [
      "Multiple Run Results:\n"
     ]
    },
    {
     "data": {
      "application/vnd.jupyter.widget-view+json": {
       "model_id": "ea4e7036a67b439fb630fb1fd2b5e638",
       "version_major": 2,
       "version_minor": 0
      },
      "text/plain": [
       "  0%|          | 0/1000 [00:00<?, ?it/s]"
      ]
     },
     "metadata": {},
     "output_type": "display_data"
    },
    {
     "name": "stdout",
     "output_type": "stream",
     "text": [
      "buy_hold\n",
      "Total Return:            16.39 %\n",
      "CAGR:                    16.39 %\n",
      "Volatility:              17.74 %\n",
      "Beta:                    1.00\n",
      "Sharpe Ratio:            0.86\n",
      "Win-rate:                77.20 %\n",
      "Max Drawdown:            -17.17 %\n",
      "Return over Max DD:      1.31\n",
      "-------------------------------------\n"
     ]
    }
   ],
   "source": [
    "def buy_hold_strat_func(stock_price):\n",
    "    return {'buy_hold': buy_hold_strategy(stock_price)}\n",
    "\n",
    "buy_hold_test = test(buy_hold_strat_func)\n",
    "\n",
    "print('Single Run Results:')\n",
    "_ = buy_hold_test.single_stock_price_series_expt(laplace_params=laplace_params, display=True)\n",
    "print('Multiple Run Results:')\n",
    "_ = buy_hold_test.multiple_stock_price_series_expt(1000, laplace_params, display=True)\n"
   ]
  },
  {
   "cell_type": "code",
   "execution_count": 13,
   "metadata": {},
   "outputs": [
    {
     "data": {
      "application/vnd.jupyter.widget-view+json": {
       "model_id": "e178e715fb944c1dbd7913221a148f79",
       "version_major": 2,
       "version_minor": 0
      },
      "text/plain": [
       "  0%|          | 0/40 [00:00<?, ?it/s]"
      ]
     },
     "metadata": {},
     "output_type": "display_data"
    },
    {
     "name": "stderr",
     "output_type": "stream",
     "text": [
      "C:\\Users\\alexr\\AppData\\Local\\Temp\\ipykernel_9212\\1946691908.py:25: RuntimeWarning: divide by zero encountered in double_scalars\n",
      "  kpi_dict['RoMaxDD'] = kpi_dict['Total Return'] / (-kpi_dict['Max Drawdown'])\n"
     ]
    },
    {
     "data": {
      "image/png": "[encoded data removed]",
      "text/plain": [
       "<Figure size 432x288 with 1 Axes>"
      ]
     },
     "metadata": {
      "needs_background": "light"
     },
     "output_type": "display_data"
    }
   ],
   "source": [
    "y_tr = []\n",
    "y_vol = []\n",
    "rng = range(10, 2000, 50)\n",
    "for i in tqdm(rng):\n",
    "    res = buy_hold_test.multiple_stock_price_series_expt(1000, laplace_params, num_days=i)\n",
    "    y_tr.append(res['buy_hold']['Win-rate'])\n",
    "    y_vol.append(res['buy_hold']['Volatility'])\n",
    "\n",
    "plt.plot(rng, y_tr)\n",
    "plt.xlabel('Time Period / Days')\n",
    "plt.ylabel('Win-rate')\n",
    "plt.show()"
   ]
  },
  {
   "attachments": {},
   "cell_type": "markdown",
   "metadata": {},
   "source": [
    "Win-rate increases with investment time-horizon."
   ]
  },
  {
   "attachments": {},
   "cell_type": "markdown",
   "metadata": {},
   "source": [
    "### Buy-write strategy\n",
    "\n",
    "This strategy replicates the CBOE SP500 buy-write index. We hold assets in the underlying index and sell ATM covered calls every month to generate income with the option premium. This strategy is supposed to generate consistent returns with low volatility, at the expense of capping the upside.\n",
    "\n",
    "This strategy is used by the funds QYLD, XYLD."
   ]
  },
  {
   "cell_type": "code",
   "execution_count": 14,
   "metadata": {},
   "outputs": [],
   "source": [
    "\n",
    "def buy_write_strategy(stock_price, dte=22, initial_capital=1E6, volatility=spy_hist_vol, rf_rate=0.03):\n",
    "    num_days = len(stock_price) - 1\n",
    "\n",
    "    cash = initial_capital\n",
    "    call_dte = 0\n",
    "    day = 0\n",
    "    call_value = 0\n",
    "    stock_value = 0\n",
    "    call_pos = 0\n",
    "    stock_pos = 0\n",
    "    port_value = np.array([0])\n",
    "    call_strike = 0\n",
    "\n",
    "    while day <= num_days:\n",
    "        # print(f'- day: {day}, stock price: {stock_price[day]}')\n",
    "        if day % dte == 0:\n",
    "\n",
    "            if call_pos != 0:\n",
    "                # close the calls\n",
    "                if stock_price[day] < call_strike:\n",
    "                    pass\n",
    "                    # print(f'--- {call_pos} calls expire OTM')\n",
    "                else:\n",
    "                    stock_pos += call_pos\n",
    "                    cash += -call_pos * call_strike\n",
    "                    # print(f'--- {call_pos} calls called away @ {call_strike} for {-call_pos * call_strike}')\n",
    "                call_pos = 0\n",
    "\n",
    "            # buy stock\n",
    "            # print(f'--- buy {cash // stock_price[day]} stock @ {stock_price[day]}')\n",
    "            new_pos = cash // stock_price[day]\n",
    "            stock_pos += new_pos\n",
    "            cash -= new_pos * stock_price[day]\n",
    "            # sell calls\n",
    "            call_strike = int(stock_price[day])\n",
    "            _, call_price, _, _ = bsm(stock_price=stock_price[day], strike_price=call_strike, dte=dte, volatility=volatility, rf_rate=rf_rate)\n",
    "            call_pos = -stock_pos\n",
    "            # print(f'--- sell {-stock_pos} strike {call_strike} calls @ {call_price}')\n",
    "            cash += -call_pos * call_price\n",
    "\n",
    "        stock_value = stock_pos * stock_price[day]\n",
    "        # print(f'-- stock value: {stock_value}')\n",
    "        _, call_price, _, _ = bsm(stock_price=stock_price[day], strike_price=call_strike, dte=(dte - day % dte))\n",
    "        call_value = call_pos * call_price\n",
    "        # print(f'-- call value: {call_value}')\n",
    "        # print(f'-- cash: {cash}')\n",
    "        port_value = np.append(port_value, stock_value + call_value + cash)\n",
    "        # print(f'-- portfolio value: {port_value[-1]}')\n",
    "\n",
    "        day += 1\n",
    "\n",
    "    port_returns = port_value[1:] / initial_capital\n",
    "    return port_returns, port_returns[1:] / port_returns[:-1]\n",
    "\n"
   ]
  },
  {
   "cell_type": "code",
   "execution_count": 15,
   "metadata": {},
   "outputs": [
    {
     "name": "stdout",
     "output_type": "stream",
     "text": [
      "Single Run Results:\n",
      "buy_write\n",
      "Total Return:          3.69 %\n",
      "CAGR:                  3.69 %\n",
      "Volatility:            7.87 %\n",
      "Beta:                  0.37\n",
      "Sharpe Ratio:          0.13\n",
      "Max Drawdown:          -6.83 %\n",
      "Return over Max DD:    0.54\n",
      "-------------------------------------\n",
      "buy_hold\n",
      "Total Return:          13.33 %\n",
      "CAGR:                  13.33 %\n",
      "Volatility:            16.78 %\n",
      "Beta:                  1.00\n",
      "Sharpe Ratio:          0.71\n",
      "Max Drawdown:          -11.20 %\n",
      "Return over Max DD:    1.19\n",
      "-------------------------------------\n"
     ]
    },
    {
     "data": {
      "image/png": "[encoded data removed]",
      "text/plain": [
       "<Figure size 432x288 with 1 Axes>"
      ]
     },
     "metadata": {
      "needs_background": "light"
     },
     "output_type": "display_data"
    },
    {
     "name": "stdout",
     "output_type": "stream",
     "text": [
      "Multiple Run Results:\n"
     ]
    },
    {
     "data": {
      "application/vnd.jupyter.widget-view+json": {
       "model_id": "3663b91d4f704c67be0d5be29665df9c",
       "version_major": 2,
       "version_minor": 0
      },
      "text/plain": [
       "  0%|          | 0/1000 [00:00<?, ?it/s]"
      ]
     },
     "metadata": {},
     "output_type": "display_data"
    },
    {
     "name": "stdout",
     "output_type": "stream",
     "text": [
      "buy_write\n",
      "Total Return:            4.58 %\n",
      "CAGR:                    4.58 %\n",
      "Volatility:              9.31 %\n",
      "Beta:                    0.43\n",
      "Sharpe Ratio:            0.35\n",
      "Win-rate:                69.70 %\n",
      "Max Drawdown:            -9.79 %\n",
      "Return over Max DD:      1.06\n",
      "-------------------------------------\n",
      "buy_hold\n",
      "Total Return:            15.10 %\n",
      "CAGR:                    15.10 %\n",
      "Volatility:              17.78 %\n",
      "Beta:                    1.00\n",
      "Sharpe Ratio:            0.79\n",
      "Win-rate:                77.10 %\n",
      "Max Drawdown:            -17.41 %\n",
      "Return over Max DD:      1.28\n",
      "-------------------------------------\n"
     ]
    }
   ],
   "source": [
    "def buy_write_strat_func(stock_price):\n",
    "    return {\n",
    "        'buy_write': buy_write_strategy(stock_price),\n",
    "        'buy_hold': buy_hold_strategy(stock_price)\n",
    "        }\n",
    "\n",
    "buy_write_test = test(buy_write_strat_func)\n",
    "\n",
    "print('Single Run Results:')\n",
    "_ = buy_write_test.single_stock_price_series_expt(laplace_params=laplace_params, display=True)\n",
    "print('Multiple Run Results:')\n",
    "_ = buy_write_test.multiple_stock_price_series_expt(1000, laplace_params, display=True)"
   ]
  },
  {
   "attachments": {},
   "cell_type": "markdown",
   "metadata": {},
   "source": [
    "### Dollar Cost Average Strategy\n",
    "Divide initial capital into equal amounts to be invested into assets at regular frequency."
   ]
  },
  {
   "cell_type": "code",
   "execution_count": 16,
   "metadata": {},
   "outputs": [],
   "source": [
    "def dca_strategy(stock_price, dca_period=22, initial_capital=1E6):\n",
    "    num_days = len(stock_price)\n",
    "    dca_num = np.ceil(num_days / dca_period)\n",
    "    dca_amount = initial_capital // dca_num\n",
    "    cash = initial_capital\n",
    "    stock_pos = np.array([0])\n",
    "    cash_pos = np.array([0])\n",
    "    \n",
    "\n",
    "    for day in range(num_days):\n",
    "        stock_pos = np.append(stock_pos, stock_pos[-1])\n",
    "        if day % dca_period == 0:\n",
    "            dca_stock_pos = dca_amount // stock_price[day]\n",
    "            stock_pos[-1] += dca_stock_pos\n",
    "            cash -= dca_stock_pos * stock_price[day]\n",
    "            \n",
    "        cash_pos = np.append(cash_pos, cash)\n",
    "    \n",
    "    stock_pos = stock_pos[1:]\n",
    "    cash_pos = cash_pos[1:]\n",
    "\n",
    "    port_value = stock_price * stock_pos + cash_pos\n",
    "    arr = (port_value / initial_capital)  \n",
    "    \n",
    "    return arr, arr[1:] / arr[:-1]\n"
   ]
  },
  {
   "cell_type": "code",
   "execution_count": 17,
   "metadata": {},
   "outputs": [
    {
     "name": "stdout",
     "output_type": "stream",
     "text": [
      "Single Run Results:\n",
      "dca\n",
      "Total Return:          23.62 %\n",
      "CAGR:                  23.62 %\n",
      "Volatility:            10.66 %\n",
      "Beta:                  0.52\n",
      "Sharpe Ratio:          2.00\n",
      "Max Drawdown:          -7.41 %\n",
      "Return over Max DD:    3.19\n",
      "-------------------------------------\n",
      "buy_hold\n",
      "Total Return:          32.11 %\n",
      "CAGR:                  32.11 %\n",
      "Volatility:            18.30 %\n",
      "Beta:                  1.00\n",
      "Sharpe Ratio:          1.71\n",
      "Max Drawdown:          -17.79 %\n",
      "Return over Max DD:    1.80\n",
      "-------------------------------------\n"
     ]
    },
    {
     "data": {
      "image/png": "[encoded data removed]",
      "text/plain": [
       "<Figure size 432x288 with 1 Axes>"
      ]
     },
     "metadata": {
      "needs_background": "light"
     },
     "output_type": "display_data"
    },
    {
     "name": "stdout",
     "output_type": "stream",
     "text": [
      "Multiple Run Results:\n"
     ]
    },
    {
     "data": {
      "application/vnd.jupyter.widget-view+json": {
       "model_id": "d14407bcf1c14efca13810c8ef6af928",
       "version_major": 2,
       "version_minor": 0
      },
      "text/plain": [
       "  0%|          | 0/1000 [00:00<?, ?it/s]"
      ]
     },
     "metadata": {},
     "output_type": "display_data"
    },
    {
     "name": "stdout",
     "output_type": "stream",
     "text": [
      "dca\n",
      "Total Return:            8.97 %\n",
      "CAGR:                    8.97 %\n",
      "Volatility:              10.58 %\n",
      "Beta:                    0.53\n",
      "Sharpe Ratio:            0.62\n",
      "Win-rate:                76.90 %\n",
      "Max Drawdown:            -10.06 %\n",
      "Return over Max DD:      1.36\n",
      "-------------------------------------\n",
      "buy_hold\n",
      "Total Return:            17.40 %\n",
      "CAGR:                    17.40 %\n",
      "Volatility:              17.73 %\n",
      "Beta:                    1.00\n",
      "Sharpe Ratio:            0.92\n",
      "Win-rate:                78.20 %\n",
      "Max Drawdown:            -16.99 %\n",
      "Return over Max DD:      1.41\n",
      "-------------------------------------\n"
     ]
    }
   ],
   "source": [
    "def dca_strat_func(stock_price):\n",
    "    return {\n",
    "        'dca': dca_strategy(stock_price),\n",
    "        'buy_hold': buy_hold_strategy(stock_price)\n",
    "        }\n",
    "\n",
    "dca_test = test(dca_strat_func)\n",
    "\n",
    "print('Single Run Results:')\n",
    "_ = dca_test.single_stock_price_series_expt(laplace_params=laplace_params, display=True)\n",
    "print('Multiple Run Results:')\n",
    "_ = dca_test.multiple_stock_price_series_expt(1000, laplace_params, display=True)"
   ]
  },
  {
   "attachments": {},
   "cell_type": "markdown",
   "metadata": {},
   "source": [
    "### Leveraged Daily Returns Strategy\n",
    "Strategy for leveraged funds such as UPRO and TQQQ. The daily changes of the underlying index is replicated with leverage."
   ]
  },
  {
   "cell_type": "code",
   "execution_count": 18,
   "metadata": {},
   "outputs": [],
   "source": [
    "def leveraged_strategy(stock_price, leverage=3):\n",
    "\n",
    "    arr = stock_price / stock_price[0]\n",
    "    \n",
    "    daily_changes = leverage * ((stock_price[1:] / stock_price[:-1]) - 1)\n",
    "\n",
    "    daily_returns = np.insert(np.cumprod(daily_changes + 1), 0, 1)\n",
    "    \n",
    "    return daily_returns, daily_changes + 1"
   ]
  },
  {
   "cell_type": "code",
   "execution_count": 19,
   "metadata": {},
   "outputs": [
    {
     "name": "stdout",
     "output_type": "stream",
     "text": [
      "Single Run Results:\n",
      "3x leverage\n",
      "Total Return:          33.32 %\n",
      "CAGR:                  33.32 %\n",
      "Volatility:            54.35 %\n",
      "Beta:                  3.00\n",
      "Sharpe Ratio:          0.95\n",
      "Max Drawdown:          -57.22 %\n",
      "Return over Max DD:    0.58\n",
      "-------------------------------------\n",
      "buy_hold\n",
      "Total Return:          13.78 %\n",
      "CAGR:                  13.78 %\n",
      "Volatility:            18.12 %\n",
      "Beta:                  1.00\n",
      "Sharpe Ratio:          0.70\n",
      "Max Drawdown:          -19.40 %\n",
      "Return over Max DD:    0.71\n",
      "-------------------------------------\n"
     ]
    },
    {
     "data": {
      "image/png": "[encoded data removed]",
      "text/plain": [
       "<Figure size 432x288 with 1 Axes>"
      ]
     },
     "metadata": {
      "needs_background": "light"
     },
     "output_type": "display_data"
    },
    {
     "name": "stdout",
     "output_type": "stream",
     "text": [
      "Multiple Run Results:\n"
     ]
    },
    {
     "data": {
      "application/vnd.jupyter.widget-view+json": {
       "model_id": "f89d7dc3335a484d85aededd031e74a2",
       "version_major": 2,
       "version_minor": 0
      },
      "text/plain": [
       "  0%|          | 0/1000 [00:00<?, ?it/s]"
      ]
     },
     "metadata": {},
     "output_type": "display_data"
    },
    {
     "name": "stdout",
     "output_type": "stream",
     "text": [
      "3x leverage\n",
      "Total Return:            56.85 %\n",
      "CAGR:                    56.85 %\n",
      "Volatility:              53.33 %\n",
      "Beta:                    3.00\n",
      "Sharpe Ratio:            1.47\n",
      "Win-rate:                72.60 %\n",
      "Max Drawdown:            -62.20 %\n",
      "Return over Max DD:      1.02\n",
      "-------------------------------------\n",
      "buy_hold\n",
      "Total Return:            16.41 %\n",
      "CAGR:                    16.41 %\n",
      "Volatility:              17.78 %\n",
      "Beta:                    1.00\n",
      "Sharpe Ratio:            0.87\n",
      "Win-rate:                79.10 %\n",
      "Max Drawdown:            -16.82 %\n",
      "Return over Max DD:      1.36\n",
      "-------------------------------------\n"
     ]
    }
   ],
   "source": [
    "def leverage_strat_func(stock_price):\n",
    "    return {\n",
    "        '3x leverage': leveraged_strategy(stock_price),\n",
    "        'buy_hold': buy_hold_strategy(stock_price)\n",
    "        }\n",
    "\n",
    "leverage_test = test(leverage_strat_func)\n",
    "\n",
    "print('Single Run Results:')\n",
    "_ = leverage_test.single_stock_price_series_expt(laplace_params=laplace_params, display=True)\n",
    "print('Multiple Run Results:')\n",
    "_ = leverage_test.multiple_stock_price_series_expt(1000, laplace_params, display=True)"
   ]
  },
  {
   "cell_type": "code",
   "execution_count": 20,
   "metadata": {},
   "outputs": [
    {
     "name": "stdout",
     "output_type": "stream",
     "text": [
      "Multiple Run Results:\n"
     ]
    },
    {
     "data": {
      "application/vnd.jupyter.widget-view+json": {
       "model_id": "2cb65d55968244bca3fd89196cb5e397",
       "version_major": 2,
       "version_minor": 0
      },
      "text/plain": [
       "  0%|          | 0/1000 [00:00<?, ?it/s]"
      ]
     },
     "metadata": {},
     "output_type": "display_data"
    },
    {
     "name": "stdout",
     "output_type": "stream",
     "text": [
      "1\n",
      "Total Return:            15.77 %\n",
      "CAGR:                    15.77 %\n",
      "Volatility:              17.76 %\n",
      "Beta:                    1.00\n",
      "Sharpe Ratio:            0.83\n",
      "Win-rate:                76.50 %\n",
      "Max Drawdown:            -17.22 %\n",
      "Return over Max DD:      1.29\n",
      "-------------------------------------\n",
      "2\n",
      "Total Return:            33.71 %\n",
      "CAGR:                    33.71 %\n",
      "Volatility:              35.53 %\n",
      "Beta:                    2.00\n",
      "Sharpe Ratio:            1.12\n",
      "Win-rate:                73.10 %\n",
      "Max Drawdown:            -37.86 %\n",
      "Return over Max DD:      1.13\n",
      "-------------------------------------\n",
      "3\n",
      "Total Return:            53.96 %\n",
      "CAGR:                    53.96 %\n",
      "Volatility:              53.29 %\n",
      "Beta:                    3.00\n",
      "Sharpe Ratio:            1.40\n",
      "Win-rate:                70.80 %\n",
      "Max Drawdown:            -62.98 %\n",
      "Return over Max DD:      0.97\n",
      "-------------------------------------\n",
      "4\n",
      "Total Return:            76.60 %\n",
      "CAGR:                    76.60 %\n",
      "Volatility:              71.06 %\n",
      "Beta:                    4.00\n",
      "Sharpe Ratio:            1.76\n",
      "Win-rate:                67.30 %\n",
      "Max Drawdown:            -93.64 %\n",
      "Return over Max DD:      0.83\n",
      "-------------------------------------\n"
     ]
    }
   ],
   "source": [
    "def lev_range_strats_func(stock_price):\n",
    "    results = {}\n",
    "    for i in range(1, 5):\n",
    "        results[i] = leveraged_strategy(stock_price, leverage=i)\n",
    "    \n",
    "    return results\n",
    "\n",
    "\n",
    "lev_range_test = test(lev_range_strats_func)\n",
    "\n",
    "print('Multiple Run Results:')\n",
    "res = lev_range_test.multiple_stock_price_series_expt(1000, laplace_params, display=True)\n"
   ]
  },
  {
   "attachments": {},
   "cell_type": "markdown",
   "metadata": {},
   "source": [
    "### Comparison between strategies"
   ]
  },
  {
   "cell_type": "code",
   "execution_count": 21,
   "metadata": {},
   "outputs": [
    {
     "name": "stdout",
     "output_type": "stream",
     "text": [
      "Single Run Results:\n",
      "buy_write\n",
      "Total Return:          1.32 %\n",
      "CAGR:                  1.32 %\n",
      "Volatility:            10.16 %\n",
      "Beta:                  0.54\n",
      "Sharpe Ratio:          -0.11\n",
      "Max Drawdown:          -9.30 %\n",
      "Return over Max DD:    0.14\n",
      "-------------------------------------\n",
      "dca\n",
      "Total Return:          6.14 %\n",
      "CAGR:                  6.14 %\n",
      "Volatility:            8.50 %\n",
      "Beta:                  0.44\n",
      "Sharpe Ratio:          0.41\n",
      "Max Drawdown:          -7.68 %\n",
      "Return over Max DD:    0.80\n",
      "-------------------------------------\n",
      "3x leverage\n",
      "Total Return:          -20.58 %\n",
      "CAGR:                  -20.58 %\n",
      "Volatility:            50.24 %\n",
      "Beta:                  3.00\n",
      "Sharpe Ratio:          -0.26\n",
      "Max Drawdown:          -52.29 %\n",
      "Return over Max DD:    -0.39\n",
      "-------------------------------------\n",
      "buy_hold\n",
      "Total Return:          -4.75 %\n",
      "CAGR:                  -4.75 %\n",
      "Volatility:            16.75 %\n",
      "Beta:                  1.00\n",
      "Sharpe Ratio:          -0.38\n",
      "Max Drawdown:          -20.16 %\n",
      "Return over Max DD:    -0.24\n",
      "-------------------------------------\n"
     ]
    },
    {
     "data": {
      "image/png": "[encoded data removed]",
      "text/plain": [
       "<Figure size 432x288 with 1 Axes>"
      ]
     },
     "metadata": {
      "needs_background": "light"
     },
     "output_type": "display_data"
    },
    {
     "name": "stdout",
     "output_type": "stream",
     "text": [
      "Multiple Run Results:\n"
     ]
    },
    {
     "data": {
      "application/vnd.jupyter.widget-view+json": {
       "model_id": "f0cab7e351044405a1e5cf9431d8997c",
       "version_major": 2,
       "version_minor": 0
      },
      "text/plain": [
       "  0%|          | 0/1000 [00:00<?, ?it/s]"
      ]
     },
     "metadata": {},
     "output_type": "display_data"
    },
    {
     "name": "stdout",
     "output_type": "stream",
     "text": [
      "buy_write\n",
      "Total Return:            5.01 %\n",
      "CAGR:                    5.01 %\n",
      "Volatility:              9.24 %\n",
      "Beta:                    0.43\n",
      "Sharpe Ratio:            0.40\n",
      "Win-rate:                72.20 %\n",
      "Max Drawdown:            -9.48 %\n",
      "Return over Max DD:      1.12\n",
      "-------------------------------------\n",
      "dca\n",
      "Total Return:            8.02 %\n",
      "CAGR:                    8.02 %\n",
      "Volatility:              10.51 %\n",
      "Beta:                    0.52\n",
      "Sharpe Ratio:            0.53\n",
      "Win-rate:                74.50 %\n",
      "Max Drawdown:            -10.11 %\n",
      "Return over Max DD:      1.28\n",
      "-------------------------------------\n",
      "3x leverage\n",
      "Total Return:            55.13 %\n",
      "CAGR:                    55.13 %\n",
      "Volatility:              53.21 %\n",
      "Beta:                    3.00\n",
      "Sharpe Ratio:            1.43\n",
      "Win-rate:                70.70 %\n",
      "Max Drawdown:            -61.69 %\n",
      "Return over Max DD:      1.02\n",
      "-------------------------------------\n",
      "buy_hold\n",
      "Total Return:            15.78 %\n",
      "CAGR:                    15.78 %\n",
      "Volatility:              17.74 %\n",
      "Beta:                    1.00\n",
      "Sharpe Ratio:            0.83\n",
      "Win-rate:                76.90 %\n",
      "Max Drawdown:            -17.02 %\n",
      "Return over Max DD:      1.33\n",
      "-------------------------------------\n"
     ]
    }
   ],
   "source": [
    "def comparison_strat_func(stock_price):\n",
    "    return {\n",
    "        'buy_write': buy_write_strategy(stock_price),\n",
    "        'dca': dca_strategy(stock_price),\n",
    "        '3x leverage': leveraged_strategy(stock_price),\n",
    "        'buy_hold': buy_hold_strategy(stock_price)\n",
    "        }\n",
    "     \n",
    "comparison_test = test(comparison_strat_func)\n",
    "\n",
    "print('Single Run Results:')\n",
    "_ = comparison_test.single_stock_price_series_expt(laplace_params=laplace_params, display=True)\n",
    "print('Multiple Run Results:')\n",
    "_ = comparison_test.multiple_stock_price_series_expt(1000, laplace_params, display=True)"
   ]
  },
  {
   "attachments": {},
   "cell_type": "markdown",
   "metadata": {},
   "source": [
    "### Range of Leverage"
   ]
  },
  {
   "cell_type": "code",
   "execution_count": 22,
   "metadata": {},
   "outputs": [],
   "source": [
    "\n",
    "leverage_arr = np.arange(-5, 5.5, 0.1)\n",
    "\n",
    "leverage_arr = [f for f in leverage_arr if f < -0.3 or f > 0.3]\n",
    "\n",
    "def lev_test_strat_func(stock_price):\n",
    "    dict1 = {f: leveraged_strategy(stock_price, leverage=f) for f in leverage_arr}\n",
    "    return dict1\n",
    "     \n",
    "lev_test = test(lev_test_strat_func)\n",
    "\n",
    "\n",
    "lev_test_avg_res = lev_test.multiple_stock_price_series_expt(1000, laplace_params)\n",
    "\n",
    "\n",
    "    "
   ]
  },
  {
   "cell_type": "code",
   "execution_count": 23,
   "metadata": {},
   "outputs": [
    {
     "data": {
      "image/png": "[encoded data removed]",
      "text/plain": [
       "<Figure size 432x288 with 1 Axes>"
      ]
     },
     "metadata": {
      "needs_background": "light"
     },
     "output_type": "display_data"
    },
    {
     "data": {
      "image/png": "[encoded data removed]",
      "text/plain": [
       "<Figure size 432x288 with 1 Axes>"
      ]
     },
     "metadata": {
      "needs_background": "light"
     },
     "output_type": "display_data"
    },
    {
     "data": {
      "image/png": "[encoded data removed]",
      "text/plain": [
       "<Figure size 432x288 with 1 Axes>"
      ]
     },
     "metadata": {
      "needs_background": "light"
     },
     "output_type": "display_data"
    }
   ],
   "source": [
    "x = []\n",
    "y_cagr = []\n",
    "y_mar = []\n",
    "y_sr = []\n",
    "for i in lev_test_avg_res:\n",
    "    x.append(i)\n",
    "    # print(lev_test_avg_res[i])\n",
    "    y_cagr.append(lev_test_avg_res[i]['CAGR'])\n",
    "    y_mar.append(lev_test_avg_res[i]['RoMaxDD'])\n",
    "    y_sr.append(lev_test_avg_res[i]['Sharpe Ratio'])\n",
    "\n",
    "plt.plot(x, y_cagr, marker='o')\n",
    "plt.xlabel('Leverage')\n",
    "plt.ylabel('CAGR')\n",
    "plt.show()\n",
    "\n",
    "plt.plot(x, y_sr, marker='o')\n",
    "plt.xlabel('Leverage')\n",
    "plt.ylabel('Sharpe Ratio')\n",
    "plt.show()\n",
    "\n",
    "plt.plot(x, y_mar, marker='o')\n",
    "plt.xlabel('Leverage')\n",
    "plt.ylabel('Return over Max Drawdown')\n",
    "plt.show()"
   ]
  },
  {
   "attachments": {},
   "cell_type": "markdown",
   "metadata": {},
   "source": [
    "Find strike price given current price of underlying and delta"
   ]
  },
  {
   "cell_type": "code",
   "execution_count": 24,
   "metadata": {},
   "outputs": [
    {
     "name": "stdout",
     "output_type": "stream",
     "text": [
      "(406, 10.398353153092415)\n"
     ]
    }
   ],
   "source": [
    "def option_price_given_delta(stock_price, delta, dte, volatility, rf_rate=0.03):\n",
    "    '''\n",
    "    Find option strike price and option price given delta and underlying stock price.\n",
    "    Type of option determined by delta:\n",
    "    delta > 0 -> call option\n",
    "    delta < 0 -> put option\n",
    "\n",
    "    Input:\n",
    "    1. current price of underying\n",
    "    2. delta\n",
    "    3. dte\n",
    "    4. volatility\n",
    "    5. risk-free rate\n",
    "\n",
    "    Output\n",
    "    1. strike price\n",
    "    2. option price\n",
    "    '''\n",
    "    strike_price = stock_price\n",
    "    # delta > 0 -> call option\n",
    "    if delta > 0:\n",
    "        opt_delta = 0.5\n",
    "        # OTM call\n",
    "        if delta <= opt_delta:\n",
    "            while delta <= opt_delta:\n",
    "                strike_price += 1\n",
    "                opt_delta, opt_price, _, _ = bsm(stock_price, strike_price, dte, volatility=volatility, rf_rate=rf_rate)\n",
    "        # ITM call\n",
    "        else:\n",
    "            while delta > opt_delta:\n",
    "                strike_price -= 1\n",
    "                opt_delta, opt_price, _, _ = bsm(stock_price, strike_price, dte, volatility=volatility, rf_rate=rf_rate)\n",
    "    # delta < 0 -> put option\n",
    "    else:\n",
    "        opt_delta = -0.5\n",
    "        # OTM put\n",
    "        if delta >= opt_delta:\n",
    "            while delta >= opt_delta:\n",
    "                strike_price -= 1\n",
    "                _, _, opt_delta, opt_price = bsm(stock_price, strike_price, dte, volatility=volatility, rf_rate=rf_rate)\n",
    "        # ITM put\n",
    "        else:\n",
    "            while delta < opt_delta:\n",
    "                strike_price += 1\n",
    "                _, _, opt_delta, opt_price = bsm(stock_price, strike_price, dte, volatility=volatility, rf_rate=rf_rate)\n",
    "\n",
    "    \n",
    "    return strike_price, opt_price\n",
    "\n",
    "print(option_price_given_delta(400, -0.6, 22, volatility=spy_hist_vol))"
   ]
  },
  {
   "attachments": {},
   "cell_type": "markdown",
   "metadata": {},
   "source": [
    "Modified buy-write with varying delta"
   ]
  },
  {
   "cell_type": "code",
   "execution_count": 25,
   "metadata": {},
   "outputs": [],
   "source": [
    "def variable_delta_buy_write_strategy(stock_price, dte=22, delta=0.5, initial_capital=1E6, volatility=spy_hist_vol, rf_rate=0.03):\n",
    "    num_days = len(stock_price) - 1\n",
    "\n",
    "    cash = initial_capital\n",
    "    day = 0\n",
    "    call_value = 0\n",
    "    stock_value = 0\n",
    "    call_pos = 0\n",
    "    stock_pos = 0\n",
    "    port_value = np.array([0])\n",
    "    call_strike = 0\n",
    "\n",
    "    while day <= num_days:\n",
    "        # print(f'- day: {day}, stock price: {stock_price[day]}')\n",
    "        if day % dte == 0:\n",
    "\n",
    "            if call_pos != 0:\n",
    "                # close the calls\n",
    "                if stock_price[day] < call_strike:\n",
    "                    pass\n",
    "                    # print(f'--- {call_pos} calls expire OTM')\n",
    "                else:\n",
    "                    stock_pos += call_pos\n",
    "                    cash += -call_pos * call_strike\n",
    "                    # print(f'--- {call_pos} calls called away @ {call_strike} for {-call_pos * call_strike}')\n",
    "                call_pos = 0\n",
    "\n",
    "            # buy stock\n",
    "            # print(f'--- buy {cash // stock_price[day]} stock @ {stock_price[day]}')\n",
    "            new_pos = cash // stock_price[day]\n",
    "            stock_pos += new_pos\n",
    "            cash -= new_pos * stock_price[day]\n",
    "            # sell calls at specified delta\n",
    "            call_strike, call_price = option_price_given_delta(stock_price=stock_price[day], delta=delta, dte=dte, volatility=volatility, rf_rate=rf_rate)\n",
    "            call_pos = -stock_pos\n",
    "            # print(f'--- sell {-stock_pos} strike {call_strike} calls @ {call_price}')\n",
    "            cash += -call_pos * call_price\n",
    "\n",
    "        stock_value = stock_pos * stock_price[day]\n",
    "        # print(f'-- stock value: {stock_value}')\n",
    "        _, call_price, _, _ = bsm(stock_price=stock_price[day], strike_price=call_strike, dte=(dte - day % dte))\n",
    "        call_value = call_pos * call_price\n",
    "        # print(f'-- call value: {call_value}')\n",
    "        # print(f'-- cash: {cash}')\n",
    "        port_value = np.append(port_value, stock_value + call_value + cash)\n",
    "        # print(f'-- portfolio value: {port_value[-1]}')\n",
    "\n",
    "        day += 1\n",
    "\n",
    "    port_returns = port_value[1:] / initial_capital\n",
    "    return port_returns, port_returns[1:] / port_returns[:-1]"
   ]
  },
  {
   "attachments": {},
   "cell_type": "markdown",
   "metadata": {},
   "source": [
    "### Range of Delta for buy-write strategy\n",
    "We vary the delta of the calls sold."
   ]
  },
  {
   "cell_type": "code",
   "execution_count": 28,
   "metadata": {},
   "outputs": [
    {
     "name": "stdout",
     "output_type": "stream",
     "text": [
      "[0.2  0.25 0.3  0.35 0.4  0.45 0.5  0.55 0.6  0.65 0.7  0.75 0.8 ]\n"
     ]
    }
   ],
   "source": [
    "delta_range = np.arange(0.2, 0.8, 0.05)\n",
    "print(delta_range)\n",
    "def delta_range_strat_func(stock_price):\n",
    "    dict1 = {f: variable_delta_buy_write_strategy(stock_price, delta=f) for f in delta_range}\n",
    "    return dict1\n",
    "     \n",
    "delta_range_test = test(delta_range_strat_func)\n",
    "\n",
    "\n",
    "delta_range_avg_res = delta_range_test.multiple_stock_price_series_expt(500, laplace_params)"
   ]
  },
  {
   "cell_type": "code",
   "execution_count": 29,
   "metadata": {},
   "outputs": [
    {
     "data": {
      "image/png": "[encoded data removed]",
      "text/plain": [
       "<Figure size 432x288 with 1 Axes>"
      ]
     },
     "metadata": {
      "needs_background": "light"
     },
     "output_type": "display_data"
    },
    {
     "data": {
      "image/png": "[encoded data removed]",
      "text/plain": [
       "<Figure size 432x288 with 1 Axes>"
      ]
     },
     "metadata": {
      "needs_background": "light"
     },
     "output_type": "display_data"
    },
    {
     "data": {
      "image/png": "[encoded data removed]",
      "text/plain": [
       "<Figure size 432x288 with 1 Axes>"
      ]
     },
     "metadata": {
      "needs_background": "light"
     },
     "output_type": "display_data"
    },
    {
     "data": {
      "image/png": "[encoded data removed]",
      "text/plain": [
       "<Figure size 432x288 with 1 Axes>"
      ]
     },
     "metadata": {
      "needs_background": "light"
     },
     "output_type": "display_data"
    }
   ],
   "source": [
    "x = []\n",
    "y_cagr = []\n",
    "y_mar = []\n",
    "y_sr = []\n",
    "y_dd = []\n",
    "for i in delta_range_avg_res:\n",
    "    x.append(i)\n",
    "    # print(lev_test_avg_res[i])\n",
    "    y_cagr.append(delta_range_avg_res[i]['CAGR'])\n",
    "    y_mar.append(delta_range_avg_res[i]['RoMaxDD'])\n",
    "    y_sr.append(delta_range_avg_res[i]['Sharpe Ratio'])\n",
    "    y_dd.append(delta_range_avg_res[i]['Max Drawdown'])\n",
    "\n",
    "plt.plot(x, y_cagr, marker='o')\n",
    "plt.xlabel('Leverage')\n",
    "plt.ylabel('CAGR')\n",
    "plt.show()\n",
    "\n",
    "plt.plot(x, y_sr, marker='o')\n",
    "plt.xlabel('Leverage')\n",
    "plt.ylabel('Sharpe Ratio')\n",
    "plt.show()\n",
    "\n",
    "plt.plot(x, y_dd, marker='o')\n",
    "plt.xlabel('Leverage')\n",
    "plt.ylabel('Max Drawdown')\n",
    "plt.show()\n",
    "\n",
    "plt.plot(x, y_mar, marker='o')\n",
    "plt.xlabel('Leverage')\n",
    "plt.ylabel('Return over Max Drawdown')\n",
    "plt.show()"
   ]
  },
  {
   "attachments": {},
   "cell_type": "markdown",
   "metadata": {},
   "source": [
    "### Range of DTE\n",
    "We vary the days to expiry of the calls sold."
   ]
  },
  {
   "cell_type": "code",
   "execution_count": 32,
   "metadata": {},
   "outputs": [
    {
     "name": "stdout",
     "output_type": "stream",
     "text": [
      "[ 1  2  3  4  5  6  7  8  9 10 11 12 13 14 15 16 17 18 19 20 21 22 23 24\n",
      " 25 26 27 28 29 30 31 32 33 34 35 36 37 38 39 40 41 42 43]\n"
     ]
    },
    {
     "data": {
      "application/vnd.jupyter.widget-view+json": {
       "model_id": "507ead5fb0044db08847e50760ffa7f7",
       "version_major": 2,
       "version_minor": 0
      },
      "text/plain": [
       "  0%|          | 0/100 [00:00<?, ?it/s]"
      ]
     },
     "metadata": {},
     "output_type": "display_data"
    },
    {
     "name": "stdout",
     "output_type": "stream",
     "text": [
      "1\n",
      "Total Return:            8.38 %\n",
      "CAGR:                    8.38 %\n",
      "Volatility:              11.68 %\n",
      "Beta:                    0.55\n",
      "Sharpe Ratio:            0.62\n",
      "Win-rate:                73.00 %\n",
      "Max Drawdown:            -11.62 %\n",
      "Return over Max DD:      1.16\n",
      "-------------------------------------\n",
      "2\n",
      "Total Return:            3.88 %\n",
      "CAGR:                    3.88 %\n",
      "Volatility:              11.15 %\n",
      "Beta:                    0.53\n",
      "Sharpe Ratio:            0.22\n",
      "Win-rate:                66.00 %\n",
      "Max Drawdown:            -11.98 %\n",
      "Return over Max DD:      0.69\n",
      "-------------------------------------\n",
      "3\n",
      "Total Return:            3.12 %\n",
      "CAGR:                    3.12 %\n",
      "Volatility:              10.86 %\n",
      "Beta:                    0.52\n",
      "Sharpe Ratio:            0.14\n",
      "Win-rate:                58.00 %\n",
      "Max Drawdown:            -11.85 %\n",
      "Return over Max DD:      0.63\n",
      "-------------------------------------\n",
      "4\n",
      "Total Return:            3.30 %\n",
      "CAGR:                    3.30 %\n",
      "Volatility:              10.70 %\n",
      "Beta:                    0.51\n",
      "Sharpe Ratio:            0.16\n",
      "Win-rate:                65.00 %\n",
      "Max Drawdown:            -11.63 %\n",
      "Return over Max DD:      0.64\n",
      "-------------------------------------\n",
      "5\n",
      "Total Return:            3.22 %\n",
      "CAGR:                    3.22 %\n",
      "Volatility:              10.60 %\n",
      "Beta:                    0.50\n",
      "Sharpe Ratio:            0.16\n",
      "Win-rate:                64.00 %\n",
      "Max Drawdown:            -11.37 %\n",
      "Return over Max DD:      0.66\n",
      "-------------------------------------\n",
      "6\n",
      "Total Return:            3.71 %\n",
      "CAGR:                    3.71 %\n",
      "Volatility:              10.48 %\n",
      "Beta:                    0.50\n",
      "Sharpe Ratio:            0.20\n",
      "Win-rate:                65.00 %\n",
      "Max Drawdown:            -11.24 %\n",
      "Return over Max DD:      0.71\n",
      "-------------------------------------\n",
      "7\n",
      "Total Return:            3.99 %\n",
      "CAGR:                    3.99 %\n",
      "Volatility:              10.48 %\n",
      "Beta:                    0.50\n",
      "Sharpe Ratio:            0.22\n",
      "Win-rate:                64.00 %\n",
      "Max Drawdown:            -11.23 %\n",
      "Return over Max DD:      0.71\n",
      "-------------------------------------\n",
      "8\n",
      "Total Return:            3.70 %\n",
      "CAGR:                    3.70 %\n",
      "Volatility:              10.34 %\n",
      "Beta:                    0.49\n",
      "Sharpe Ratio:            0.20\n",
      "Win-rate:                67.00 %\n",
      "Max Drawdown:            -11.10 %\n",
      "Return over Max DD:      0.69\n",
      "-------------------------------------\n",
      "9\n",
      "Total Return:            3.98 %\n",
      "CAGR:                    3.98 %\n",
      "Volatility:              10.33 %\n",
      "Beta:                    0.49\n",
      "Sharpe Ratio:            0.23\n",
      "Win-rate:                65.00 %\n",
      "Max Drawdown:            -11.21 %\n",
      "Return over Max DD:      0.76\n",
      "-------------------------------------\n",
      "10\n",
      "Total Return:            3.68 %\n",
      "CAGR:                    3.68 %\n",
      "Volatility:              10.19 %\n",
      "Beta:                    0.48\n",
      "Sharpe Ratio:            0.20\n",
      "Win-rate:                62.00 %\n",
      "Max Drawdown:            -11.01 %\n",
      "Return over Max DD:      0.74\n",
      "-------------------------------------\n",
      "11\n",
      "Total Return:            4.38 %\n",
      "CAGR:                    4.38 %\n",
      "Volatility:              10.26 %\n",
      "Beta:                    0.48\n",
      "Sharpe Ratio:            0.27\n",
      "Win-rate:                66.00 %\n",
      "Max Drawdown:            -10.95 %\n",
      "Return over Max DD:      0.86\n",
      "-------------------------------------\n",
      "12\n",
      "Total Return:            4.37 %\n",
      "CAGR:                    4.37 %\n",
      "Volatility:              10.10 %\n",
      "Beta:                    0.47\n",
      "Sharpe Ratio:            0.28\n",
      "Win-rate:                72.00 %\n",
      "Max Drawdown:            -10.69 %\n",
      "Return over Max DD:      0.80\n",
      "-------------------------------------\n",
      "13\n",
      "Total Return:            4.76 %\n",
      "CAGR:                    4.76 %\n",
      "Volatility:              10.11 %\n",
      "Beta:                    0.48\n",
      "Sharpe Ratio:            0.31\n",
      "Win-rate:                67.00 %\n",
      "Max Drawdown:            -10.50 %\n",
      "Return over Max DD:      0.94\n",
      "-------------------------------------\n",
      "14\n",
      "Total Return:            4.02 %\n",
      "CAGR:                    4.02 %\n",
      "Volatility:              10.03 %\n",
      "Beta:                    0.47\n",
      "Sharpe Ratio:            0.25\n",
      "Win-rate:                70.00 %\n",
      "Max Drawdown:            -10.84 %\n",
      "Return over Max DD:      0.80\n",
      "-------------------------------------\n",
      "15\n",
      "Total Return:            4.14 %\n",
      "CAGR:                    4.14 %\n",
      "Volatility:              9.98 %\n",
      "Beta:                    0.47\n",
      "Sharpe Ratio:            0.27\n",
      "Win-rate:                70.00 %\n",
      "Max Drawdown:            -10.60 %\n",
      "Return over Max DD:      0.87\n",
      "-------------------------------------\n",
      "16\n",
      "Total Return:            4.92 %\n",
      "CAGR:                    4.92 %\n",
      "Volatility:              9.99 %\n",
      "Beta:                    0.47\n",
      "Sharpe Ratio:            0.33\n",
      "Win-rate:                75.00 %\n",
      "Max Drawdown:            -10.58 %\n",
      "Return over Max DD:      0.90\n",
      "-------------------------------------\n",
      "17\n",
      "Total Return:            4.68 %\n",
      "CAGR:                    4.68 %\n",
      "Volatility:              10.01 %\n",
      "Beta:                    0.47\n",
      "Sharpe Ratio:            0.32\n",
      "Win-rate:                73.00 %\n",
      "Max Drawdown:            -10.46 %\n",
      "Return over Max DD:      0.89\n",
      "-------------------------------------\n",
      "18\n",
      "Total Return:            4.96 %\n",
      "CAGR:                    4.96 %\n",
      "Volatility:              10.04 %\n",
      "Beta:                    0.47\n",
      "Sharpe Ratio:            0.34\n",
      "Win-rate:                70.00 %\n",
      "Max Drawdown:            -10.61 %\n",
      "Return over Max DD:      0.90\n",
      "-------------------------------------\n",
      "19\n",
      "Total Return:            4.44 %\n",
      "CAGR:                    4.44 %\n",
      "Volatility:              9.93 %\n",
      "Beta:                    0.46\n",
      "Sharpe Ratio:            0.29\n",
      "Win-rate:                73.00 %\n",
      "Max Drawdown:            -10.58 %\n",
      "Return over Max DD:      0.91\n",
      "-------------------------------------\n",
      "20\n",
      "Total Return:            4.95 %\n",
      "CAGR:                    4.95 %\n",
      "Volatility:              10.08 %\n",
      "Beta:                    0.47\n",
      "Sharpe Ratio:            0.34\n",
      "Win-rate:                71.00 %\n",
      "Max Drawdown:            -10.57 %\n",
      "Return over Max DD:      0.97\n",
      "-------------------------------------\n",
      "21\n",
      "Total Return:            5.15 %\n",
      "CAGR:                    5.15 %\n",
      "Volatility:              10.13 %\n",
      "Beta:                    0.48\n",
      "Sharpe Ratio:            0.37\n",
      "Win-rate:                73.00 %\n",
      "Max Drawdown:            -10.75 %\n",
      "Return over Max DD:      0.98\n",
      "-------------------------------------\n",
      "22\n",
      "Total Return:            4.79 %\n",
      "CAGR:                    4.79 %\n",
      "Volatility:              10.18 %\n",
      "Beta:                    0.48\n",
      "Sharpe Ratio:            0.33\n",
      "Win-rate:                66.00 %\n",
      "Max Drawdown:            -10.50 %\n",
      "Return over Max DD:      0.94\n",
      "-------------------------------------\n",
      "23\n",
      "Total Return:            4.98 %\n",
      "CAGR:                    4.98 %\n",
      "Volatility:              10.04 %\n",
      "Beta:                    0.47\n",
      "Sharpe Ratio:            0.37\n",
      "Win-rate:                72.00 %\n",
      "Max Drawdown:            -10.50 %\n",
      "Return over Max DD:      1.01\n",
      "-------------------------------------\n",
      "24\n",
      "Total Return:            5.15 %\n",
      "CAGR:                    5.15 %\n",
      "Volatility:              9.91 %\n",
      "Beta:                    0.47\n",
      "Sharpe Ratio:            0.38\n",
      "Win-rate:                72.00 %\n",
      "Max Drawdown:            -10.52 %\n",
      "Return over Max DD:      1.01\n",
      "-------------------------------------\n",
      "25\n",
      "Total Return:            4.45 %\n",
      "CAGR:                    4.45 %\n",
      "Volatility:              9.97 %\n",
      "Beta:                    0.47\n",
      "Sharpe Ratio:            0.32\n",
      "Win-rate:                69.00 %\n",
      "Max Drawdown:            -10.60 %\n",
      "Return over Max DD:      0.96\n",
      "-------------------------------------\n",
      "26\n",
      "Total Return:            5.17 %\n",
      "CAGR:                    5.17 %\n",
      "Volatility:              9.99 %\n",
      "Beta:                    0.47\n",
      "Sharpe Ratio:            0.39\n",
      "Win-rate:                71.00 %\n",
      "Max Drawdown:            -10.35 %\n",
      "Return over Max DD:      1.05\n",
      "-------------------------------------\n",
      "27\n",
      "Total Return:            5.33 %\n",
      "CAGR:                    5.33 %\n",
      "Volatility:              9.94 %\n",
      "Beta:                    0.47\n",
      "Sharpe Ratio:            0.40\n",
      "Win-rate:                73.00 %\n",
      "Max Drawdown:            -10.41 %\n",
      "Return over Max DD:      1.00\n",
      "-------------------------------------\n",
      "28\n",
      "Total Return:            4.91 %\n",
      "CAGR:                    4.91 %\n",
      "Volatility:              9.81 %\n",
      "Beta:                    0.46\n",
      "Sharpe Ratio:            0.38\n",
      "Win-rate:                74.00 %\n",
      "Max Drawdown:            -10.40 %\n",
      "Return over Max DD:      1.03\n",
      "-------------------------------------\n",
      "29\n",
      "Total Return:            4.72 %\n",
      "CAGR:                    4.72 %\n",
      "Volatility:              9.81 %\n",
      "Beta:                    0.46\n",
      "Sharpe Ratio:            0.35\n",
      "Win-rate:                69.00 %\n",
      "Max Drawdown:            -10.44 %\n",
      "Return over Max DD:      1.04\n",
      "-------------------------------------\n",
      "30\n",
      "Total Return:            5.17 %\n",
      "CAGR:                    5.17 %\n",
      "Volatility:              9.82 %\n",
      "Beta:                    0.46\n",
      "Sharpe Ratio:            0.39\n",
      "Win-rate:                72.00 %\n",
      "Max Drawdown:            -10.35 %\n",
      "Return over Max DD:      1.09\n",
      "-------------------------------------\n",
      "31\n",
      "Total Return:            4.91 %\n",
      "CAGR:                    4.91 %\n",
      "Volatility:              9.87 %\n",
      "Beta:                    0.46\n",
      "Sharpe Ratio:            0.35\n",
      "Win-rate:                73.00 %\n",
      "Max Drawdown:            -10.42 %\n",
      "Return over Max DD:      1.03\n",
      "-------------------------------------\n",
      "32\n",
      "Total Return:            4.98 %\n",
      "CAGR:                    4.98 %\n",
      "Volatility:              9.74 %\n",
      "Beta:                    0.46\n",
      "Sharpe Ratio:            0.39\n",
      "Win-rate:                71.00 %\n",
      "Max Drawdown:            -10.45 %\n",
      "Return over Max DD:      1.02\n",
      "-------------------------------------\n",
      "33\n",
      "Total Return:            4.69 %\n",
      "CAGR:                    4.69 %\n",
      "Volatility:              9.85 %\n",
      "Beta:                    0.46\n",
      "Sharpe Ratio:            0.34\n",
      "Win-rate:                71.00 %\n",
      "Max Drawdown:            -10.43 %\n",
      "Return over Max DD:      1.00\n",
      "-------------------------------------\n",
      "34\n",
      "Total Return:            5.00 %\n",
      "CAGR:                    5.00 %\n",
      "Volatility:              9.67 %\n",
      "Beta:                    0.45\n",
      "Sharpe Ratio:            0.38\n",
      "Win-rate:                76.00 %\n",
      "Max Drawdown:            -10.10 %\n",
      "Return over Max DD:      1.04\n",
      "-------------------------------------\n",
      "35\n",
      "Total Return:            5.40 %\n",
      "CAGR:                    5.40 %\n",
      "Volatility:              9.73 %\n",
      "Beta:                    0.46\n",
      "Sharpe Ratio:            0.43\n",
      "Win-rate:                75.00 %\n",
      "Max Drawdown:            -10.20 %\n",
      "Return over Max DD:      1.04\n",
      "-------------------------------------\n",
      "36\n",
      "Total Return:            5.87 %\n",
      "CAGR:                    5.87 %\n",
      "Volatility:              9.65 %\n",
      "Beta:                    0.45\n",
      "Sharpe Ratio:            0.48\n",
      "Win-rate:                72.00 %\n",
      "Max Drawdown:            -10.01 %\n",
      "Return over Max DD:      1.09\n",
      "-------------------------------------\n",
      "37\n",
      "Total Return:            5.63 %\n",
      "CAGR:                    5.63 %\n",
      "Volatility:              9.66 %\n",
      "Beta:                    0.45\n",
      "Sharpe Ratio:            0.46\n",
      "Win-rate:                75.00 %\n",
      "Max Drawdown:            -10.09 %\n",
      "Return over Max DD:      1.11\n",
      "-------------------------------------\n",
      "38\n",
      "Total Return:            5.47 %\n",
      "CAGR:                    5.47 %\n",
      "Volatility:              9.71 %\n",
      "Beta:                    0.46\n",
      "Sharpe Ratio:            0.44\n",
      "Win-rate:                72.00 %\n",
      "Max Drawdown:            -10.16 %\n",
      "Return over Max DD:      1.04\n",
      "-------------------------------------\n",
      "39\n",
      "Total Return:            5.43 %\n",
      "CAGR:                    5.43 %\n",
      "Volatility:              9.74 %\n",
      "Beta:                    0.46\n",
      "Sharpe Ratio:            0.44\n",
      "Win-rate:                73.00 %\n",
      "Max Drawdown:            -10.12 %\n",
      "Return over Max DD:      1.19\n",
      "-------------------------------------\n",
      "40\n",
      "Total Return:            5.09 %\n",
      "CAGR:                    5.09 %\n",
      "Volatility:              9.74 %\n",
      "Beta:                    0.46\n",
      "Sharpe Ratio:            0.42\n",
      "Win-rate:                72.00 %\n",
      "Max Drawdown:            -10.42 %\n",
      "Return over Max DD:      1.18\n",
      "-------------------------------------\n",
      "41\n",
      "Total Return:            5.50 %\n",
      "CAGR:                    5.50 %\n",
      "Volatility:              9.66 %\n",
      "Beta:                    0.45\n",
      "Sharpe Ratio:            0.46\n",
      "Win-rate:                72.00 %\n",
      "Max Drawdown:            -10.20 %\n",
      "Return over Max DD:      1.19\n",
      "-------------------------------------\n",
      "42\n",
      "Total Return:            5.67 %\n",
      "CAGR:                    5.67 %\n",
      "Volatility:              9.62 %\n",
      "Beta:                    0.45\n",
      "Sharpe Ratio:            0.48\n",
      "Win-rate:                73.00 %\n",
      "Max Drawdown:            -10.05 %\n",
      "Return over Max DD:      1.22\n",
      "-------------------------------------\n",
      "43\n",
      "Total Return:            5.79 %\n",
      "CAGR:                    5.79 %\n",
      "Volatility:              9.55 %\n",
      "Beta:                    0.45\n",
      "Sharpe Ratio:            0.51\n",
      "Win-rate:                71.00 %\n",
      "Max Drawdown:            -9.99 %\n",
      "Return over Max DD:      1.26\n",
      "-------------------------------------\n"
     ]
    }
   ],
   "source": [
    "dte_range = np.arange(1, 44, 1)\n",
    "print(dte_range)\n",
    "def dte_range_strat_func(stock_price):\n",
    "    dict1 = {f: variable_delta_buy_write_strategy(stock_price, dte=f, delta=0.5) for f in dte_range}\n",
    "    return dict1\n",
    "     \n",
    "dte_range_test = test(dte_range_strat_func)\n",
    "\n",
    "\n",
    "dte_range_avg_res = dte_range_test.multiple_stock_price_series_expt(100, laplace_params, display=True)"
   ]
  },
  {
   "cell_type": "code",
   "execution_count": 34,
   "metadata": {},
   "outputs": [
    {
     "data": {
      "image/png": "[encoded data removed]",
      "text/plain": [
       "<Figure size 432x288 with 1 Axes>"
      ]
     },
     "metadata": {
      "needs_background": "light"
     },
     "output_type": "display_data"
    },
    {
     "data": {
      "image/png": "[encoded data removed]",
      "text/plain": [
       "<Figure size 432x288 with 1 Axes>"
      ]
     },
     "metadata": {
      "needs_background": "light"
     },
     "output_type": "display_data"
    },
    {
     "data": {
      "image/png": "[encoded data removed]",
      "text/plain": [
       "<Figure size 432x288 with 1 Axes>"
      ]
     },
     "metadata": {
      "needs_background": "light"
     },
     "output_type": "display_data"
    },
    {
     "data": {
      "image/png": "[encoded data removed]",
      "text/plain": [
       "<Figure size 432x288 with 1 Axes>"
      ]
     },
     "metadata": {
      "needs_background": "light"
     },
     "output_type": "display_data"
    }
   ],
   "source": [
    "x = []\n",
    "y_cagr = []\n",
    "y_mar = []\n",
    "y_sr = []\n",
    "y_dd = []\n",
    "for i in dte_range_avg_res:\n",
    "    x.append(i)\n",
    "    # print(lev_test_avg_res[i])\n",
    "    y_cagr.append(dte_range_avg_res[i]['CAGR'])\n",
    "    y_mar.append(dte_range_avg_res[i]['RoMaxDD'])\n",
    "    y_sr.append(dte_range_avg_res[i]['Sharpe Ratio'])\n",
    "    y_dd.append(dte_range_avg_res[i]['Max Drawdown'])\n",
    "\n",
    "plt.plot(x, y_cagr, marker='o')\n",
    "plt.xlabel('DTE')\n",
    "plt.ylabel('CAGR')\n",
    "plt.show()\n",
    "\n",
    "plt.plot(x, y_sr, marker='o')\n",
    "plt.xlabel('DTE')\n",
    "plt.ylabel('Sharpe Ratio')\n",
    "plt.show()\n",
    "\n",
    "plt.plot(x, y_dd, marker='o')\n",
    "plt.xlabel('DTE')\n",
    "plt.ylabel('Max Drawdown')\n",
    "plt.show()\n",
    "\n",
    "plt.plot(x, y_mar, marker='o')\n",
    "plt.xlabel('DTE')\n",
    "plt.ylabel('Return over Max Drawdown')\n",
    "plt.show()"
   ]
  }
 ],
 "metadata": {
  "kernelspec": {
   "display_name": "Python 3",
   "language": "python",
   "name": "python3"
  },
  "language_info": {
   "codemirror_mode": {
    "name": "ipython",
    "version": 3
   },
   "file_extension": ".py",
   "mimetype": "text/x-python",
   "name": "python",
   "nbconvert_exporter": "python",
   "pygments_lexer": "ipython3",
   "version": "3.9.6"
  },
  "vscode": {
   "interpreter": {
    "hash": "bd236a709519b3ae3b820ac756eadb1966d4cb8f661a5378fefc33f5d1fc84f1"
   }
  }
 },
 "nbformat": 4,
 "nbformat_minor": 4
}
