{
 "cells": [
  {
   "cell_type": "markdown",
   "metadata": {},
   "source": [
    "# Backtesting for Options Strategy\n",
    "\n",
    "This notebook is created to test short-options (theta) strategies, such as the one used by QYLD.\n",
    "\n",
    "The methodology is as follows:\n",
    "- Use a statistical distribution based on historical SPY prices to generate series of daily close prices.\n",
    "- Use the Black-Scholes-Merton equation to evaluate options and trade them according to stated strategy.\n",
    "- Do Monte Carlo simulations to evaluate the returns of each strategy."
   ]
  },
  {
   "cell_type": "code",
   "execution_count": 1,
   "metadata": {},
   "outputs": [],
   "source": [
    "import numpy as np\n",
    "import pandas as pd\n",
    "import misc\n",
    "import matplotlib.pyplot as plt\n",
    "import mplfinance as mpf\n",
    "import seaborn as sns\n",
    "from scipy.stats import laplace, norm, gmean\n",
    "from tqdm.notebook import tqdm\n",
    "\n",
    "pd.options.display.max_columns=300\n",
    "pd.options.display.max_rows=100\n",
    "\n",
    "\n"
   ]
  },
  {
   "cell_type": "markdown",
   "metadata": {},
   "source": [
    "### Dataset\n",
    "Dataset is SPY (S&P 500 ETF). We take closing prices from yahoo finance."
   ]
  },
  {
   "cell_type": "code",
   "execution_count": 2,
   "metadata": {},
   "outputs": [
    {
     "data": {
      "text/html": [
       "<div>\n",
       "<style scoped>\n",
       "    .dataframe tbody tr th:only-of-type {\n",
       "        vertical-align: middle;\n",
       "    }\n",
       "\n",
       "    .dataframe tbody tr th {\n",
       "        vertical-align: top;\n",
       "    }\n",
       "\n",
       "    .dataframe thead th {\n",
       "        text-align: right;\n",
       "    }\n",
       "</style>\n",
       "<table border=\"1\" class=\"dataframe\">\n",
       "  <thead>\n",
       "    <tr style=\"text-align: right;\">\n",
       "      <th></th>\n",
       "      <th>open</th>\n",
       "      <th>high</th>\n",
       "      <th>low</th>\n",
       "      <th>close</th>\n",
       "      <th>adjclose</th>\n",
       "      <th>volume</th>\n",
       "      <th>ticker</th>\n",
       "      <th>close daily change</th>\n",
       "    </tr>\n",
       "    <tr>\n",
       "      <th>date</th>\n",
       "      <th></th>\n",
       "      <th></th>\n",
       "      <th></th>\n",
       "      <th></th>\n",
       "      <th></th>\n",
       "      <th></th>\n",
       "      <th></th>\n",
       "      <th></th>\n",
       "    </tr>\n",
       "  </thead>\n",
       "  <tbody>\n",
       "    <tr>\n",
       "      <th>1993-02-01</th>\n",
       "      <td>43.968750</td>\n",
       "      <td>44.250000</td>\n",
       "      <td>43.968750</td>\n",
       "      <td>44.250000</td>\n",
       "      <td>25.397583</td>\n",
       "      <td>480500</td>\n",
       "      <td>SPY</td>\n",
       "      <td>0.007112</td>\n",
       "    </tr>\n",
       "    <tr>\n",
       "      <th>1993-02-02</th>\n",
       "      <td>44.218750</td>\n",
       "      <td>44.375000</td>\n",
       "      <td>44.125000</td>\n",
       "      <td>44.343750</td>\n",
       "      <td>25.451395</td>\n",
       "      <td>201300</td>\n",
       "      <td>SPY</td>\n",
       "      <td>0.002119</td>\n",
       "    </tr>\n",
       "    <tr>\n",
       "      <th>1993-02-03</th>\n",
       "      <td>44.406250</td>\n",
       "      <td>44.843750</td>\n",
       "      <td>44.375000</td>\n",
       "      <td>44.812500</td>\n",
       "      <td>25.720430</td>\n",
       "      <td>529400</td>\n",
       "      <td>SPY</td>\n",
       "      <td>0.010571</td>\n",
       "    </tr>\n",
       "    <tr>\n",
       "      <th>1993-02-04</th>\n",
       "      <td>44.968750</td>\n",
       "      <td>45.093750</td>\n",
       "      <td>44.468750</td>\n",
       "      <td>45.000000</td>\n",
       "      <td>25.828062</td>\n",
       "      <td>531500</td>\n",
       "      <td>SPY</td>\n",
       "      <td>0.004184</td>\n",
       "    </tr>\n",
       "    <tr>\n",
       "      <th>1993-02-05</th>\n",
       "      <td>44.968750</td>\n",
       "      <td>45.062500</td>\n",
       "      <td>44.718750</td>\n",
       "      <td>44.968750</td>\n",
       "      <td>25.810110</td>\n",
       "      <td>492100</td>\n",
       "      <td>SPY</td>\n",
       "      <td>-0.000694</td>\n",
       "    </tr>\n",
       "    <tr>\n",
       "      <th>...</th>\n",
       "      <td>...</td>\n",
       "      <td>...</td>\n",
       "      <td>...</td>\n",
       "      <td>...</td>\n",
       "      <td>...</td>\n",
       "      <td>...</td>\n",
       "      <td>...</td>\n",
       "      <td>...</td>\n",
       "    </tr>\n",
       "    <tr>\n",
       "      <th>2023-02-02</th>\n",
       "      <td>414.859985</td>\n",
       "      <td>418.309998</td>\n",
       "      <td>412.880005</td>\n",
       "      <td>416.779999</td>\n",
       "      <td>416.779999</td>\n",
       "      <td>101654500</td>\n",
       "      <td>SPY</td>\n",
       "      <td>0.014557</td>\n",
       "    </tr>\n",
       "    <tr>\n",
       "      <th>2023-02-03</th>\n",
       "      <td>411.589996</td>\n",
       "      <td>416.970001</td>\n",
       "      <td>411.089996</td>\n",
       "      <td>412.350006</td>\n",
       "      <td>412.350006</td>\n",
       "      <td>94647400</td>\n",
       "      <td>SPY</td>\n",
       "      <td>-0.010629</td>\n",
       "    </tr>\n",
       "    <tr>\n",
       "      <th>2023-02-06</th>\n",
       "      <td>409.790009</td>\n",
       "      <td>411.290009</td>\n",
       "      <td>408.100006</td>\n",
       "      <td>409.829987</td>\n",
       "      <td>409.829987</td>\n",
       "      <td>60295300</td>\n",
       "      <td>SPY</td>\n",
       "      <td>-0.006111</td>\n",
       "    </tr>\n",
       "    <tr>\n",
       "      <th>2023-02-07</th>\n",
       "      <td>408.869995</td>\n",
       "      <td>416.489990</td>\n",
       "      <td>407.570007</td>\n",
       "      <td>415.190002</td>\n",
       "      <td>415.190002</td>\n",
       "      <td>90990700</td>\n",
       "      <td>SPY</td>\n",
       "      <td>0.013079</td>\n",
       "    </tr>\n",
       "    <tr>\n",
       "      <th>2023-02-08</th>\n",
       "      <td>413.130005</td>\n",
       "      <td>414.529999</td>\n",
       "      <td>409.929993</td>\n",
       "      <td>410.649994</td>\n",
       "      <td>410.649994</td>\n",
       "      <td>76017500</td>\n",
       "      <td>SPY</td>\n",
       "      <td>-0.010935</td>\n",
       "    </tr>\n",
       "  </tbody>\n",
       "</table>\n",
       "<p>7561 rows × 8 columns</p>\n",
       "</div>"
      ],
      "text/plain": [
       "                  open        high         low       close    adjclose  \\\n",
       "date                                                                     \n",
       "1993-02-01   43.968750   44.250000   43.968750   44.250000   25.397583   \n",
       "1993-02-02   44.218750   44.375000   44.125000   44.343750   25.451395   \n",
       "1993-02-03   44.406250   44.843750   44.375000   44.812500   25.720430   \n",
       "1993-02-04   44.968750   45.093750   44.468750   45.000000   25.828062   \n",
       "1993-02-05   44.968750   45.062500   44.718750   44.968750   25.810110   \n",
       "...                ...         ...         ...         ...         ...   \n",
       "2023-02-02  414.859985  418.309998  412.880005  416.779999  416.779999   \n",
       "2023-02-03  411.589996  416.970001  411.089996  412.350006  412.350006   \n",
       "2023-02-06  409.790009  411.290009  408.100006  409.829987  409.829987   \n",
       "2023-02-07  408.869995  416.489990  407.570007  415.190002  415.190002   \n",
       "2023-02-08  413.130005  414.529999  409.929993  410.649994  410.649994   \n",
       "\n",
       "               volume ticker  close daily change  \n",
       "date                                              \n",
       "1993-02-01     480500    SPY            0.007112  \n",
       "1993-02-02     201300    SPY            0.002119  \n",
       "1993-02-03     529400    SPY            0.010571  \n",
       "1993-02-04     531500    SPY            0.004184  \n",
       "1993-02-05     492100    SPY           -0.000694  \n",
       "...               ...    ...                 ...  \n",
       "2023-02-02  101654500    SPY            0.014557  \n",
       "2023-02-03   94647400    SPY           -0.010629  \n",
       "2023-02-06   60295300    SPY           -0.006111  \n",
       "2023-02-07   90990700    SPY            0.013079  \n",
       "2023-02-08   76017500    SPY           -0.010935  \n",
       "\n",
       "[7561 rows x 8 columns]"
      ]
     },
     "execution_count": 2,
     "metadata": {},
     "output_type": "execute_result"
    }
   ],
   "source": [
    "# Get data from yahoo finance\n",
    "misc.get_price_data('SPY')\n",
    "df = pd.read_csv('SPY.csv')\n",
    "df = misc.clean_df(df)\n",
    "df = df.set_index('date')\n",
    "df['close daily change'] = (df['close'] - df['close'].shift(1)) / df['close'].shift(1)\n",
    "df = df.dropna()\n",
    "\n",
    "df"
   ]
  },
  {
   "cell_type": "markdown",
   "metadata": {},
   "source": [
    "### Statistics of SPY"
   ]
  },
  {
   "cell_type": "code",
   "execution_count": 3,
   "metadata": {
    "scrolled": true
   },
   "outputs": [
    {
     "data": {
      "image/png": "[encoded data removed]",
      "text/plain": [
       "<Figure size 432x288 with 1 Axes>"
      ]
     },
     "metadata": {
      "needs_background": "light"
     },
     "output_type": "display_data"
    }
   ],
   "source": [
    "# Distribution of daily returns\n",
    "count, bins, ignored = plt.hist(df['close daily change'], 1000, density=True)\n",
    "plt.ylabel('Frequency')\n",
    "plt.xlabel('daily_change')\n",
    "plt.show()"
   ]
  },
  {
   "cell_type": "markdown",
   "metadata": {},
   "source": [
    "Normal distribution:"
   ]
  },
  {
   "cell_type": "code",
   "execution_count": 4,
   "metadata": {},
   "outputs": [
    {
     "name": "stdout",
     "output_type": "stream",
     "text": [
      "(0.00036702730613099953, 0.011943143644248828)\n"
     ]
    },
    {
     "data": {
      "image/png": "[encoded data removed]",
      "text/plain": [
       "<Figure size 432x288 with 1 Axes>"
      ]
     },
     "metadata": {
      "needs_background": "light"
     },
     "output_type": "display_data"
    }
   ],
   "source": [
    "# Fit normal distribution parameters\n",
    "norm_params = norm.fit(df['close daily change'])\n",
    "print(norm_params)\n",
    "\n",
    "# Plot daily return distribution\n",
    "count, bins, ignored = plt.hist(df['close daily change'], 1000, density=True)\n",
    "\n",
    "# Plot normal distribution with parameters\n",
    "mu, sigma = norm_params\n",
    "plt.plot(bins, 1/(sigma * np.sqrt(2 * np.pi)) *\n",
    "               np.exp( - (bins - mu)**2 / (2 * sigma**2) ),\n",
    "         linewidth=2, color='r')\n",
    "plt.show()"
   ]
  },
  {
   "attachments": {},
   "cell_type": "markdown",
   "metadata": {},
   "source": [
    "Laplace Distribution:\n",
    "\n",
    "https://arxiv.org/ftp/arxiv/papers/1906/1906.10325.pdf"
   ]
  },
  {
   "cell_type": "code",
   "execution_count": 5,
   "metadata": {},
   "outputs": [
    {
     "name": "stdout",
     "output_type": "stream",
     "text": [
      "(0.0005981412593033632, 0.007941457034712284)\n"
     ]
    },
    {
     "data": {
      "text/plain": [
       "[<matplotlib.lines.Line2D at 0x25f29f86790>]"
      ]
     },
     "execution_count": 5,
     "metadata": {},
     "output_type": "execute_result"
    },
    {
     "data": {
      "image/png": "[encoded data removed]",
      "text/plain": [
       "<Figure size 432x288 with 1 Axes>"
      ]
     },
     "metadata": {
      "needs_background": "light"
     },
     "output_type": "display_data"
    }
   ],
   "source": [
    "# Fit Laplace distribution parameters\n",
    "laplace_params = laplace.fit(df['close daily change'])\n",
    "print(laplace_params)\n",
    "\n",
    "# Plot daily returns distribution\n",
    "count, bins, ignored = plt.hist(df['close daily change'], 1000, density=True)\n",
    "\n",
    "# Plot Laplace distribution with parameters\n",
    "loc, scale = laplace_params\n",
    "x = np.arange(-0.2, 0.2, .001)\n",
    "pdf = np.exp(-abs(x-loc)/scale)/(2.*scale)\n",
    "plt.plot(x, pdf)"
   ]
  },
  {
   "cell_type": "markdown",
   "metadata": {},
   "source": [
    "The laplace distribution appears to be fit SPY daily returns distribution more closely.\n",
    "\n",
    "We calculate the historical volatility of SPY for use in the BSM equation.\n",
    "\n",
    "\\begin{equation}\n",
    "    \\sigma_{annual} = \\sigma_{daily} \\times \\sqrt{252}\n",
    "\\end{equation}"
   ]
  },
  {
   "cell_type": "code",
   "execution_count": 6,
   "metadata": {},
   "outputs": [
    {
     "name": "stdout",
     "output_type": "stream",
     "text": [
      "SPY Historical Volatility: 18.96 %\n"
     ]
    }
   ],
   "source": [
    "spy_hist_vol = np.std(df['close daily change']) * np.sqrt(252)\n",
    "print(\"SPY Historical Volatility: \" + \"{:.2f}\".format(spy_hist_vol * 100) + \" %\")"
   ]
  },
  {
   "cell_type": "markdown",
   "metadata": {},
   "source": [
    "### Model Stock Replication\n",
    "\n",
    "We create a model stock by:\n",
    "- Generating a random series of daily returns distributed by the laplace distribution with previously fitted parameters.\n",
    "- Specify an initial price.\n",
    "- Calculate subsequent closing prices by multiplying by daily returns"
   ]
  },
  {
   "cell_type": "code",
   "execution_count": 7,
   "metadata": {},
   "outputs": [
    {
     "data": {
      "image/png": "[encoded data removed]",
      "text/plain": [
       "<Figure size 432x288 with 1 Axes>"
      ]
     },
     "metadata": {
      "needs_background": "light"
     },
     "output_type": "display_data"
    }
   ],
   "source": [
    "def generate_stock(laplace_params, num_days=252, initial_price=400):\n",
    "    '''\n",
    "    Generate array of stock prices according to laplace distribution\n",
    "    '''\n",
    "    # laplace parameters\n",
    "    loc, scale = laplace_params\n",
    "    \n",
    "    # generate daily change from laplace distribution\n",
    "    s = np.random.laplace(loc, scale, num_days)\n",
    "    \n",
    "    # generate stock price from daily change  \n",
    "    stock_price = np.append(np.ones(1), np.cumprod(s + 1)) * initial_price\n",
    "        \n",
    "    return stock_price, s\n",
    "\n",
    "# set 252 trading days in a year\n",
    "num_days = 252\n",
    "stock_price, daily_change = generate_stock(laplace_params, num_days, 400)\n",
    "t = range(1, num_days + 2)\n",
    "plt.plot(t, stock_price)\n",
    "\n",
    "plt.title(\"Stock Price Evolution\")\n",
    "plt.ylabel('Stock Price')\n",
    "plt.xlabel('Day')\n",
    "plt.show()"
   ]
  },
  {
   "cell_type": "code",
   "execution_count": 8,
   "metadata": {},
   "outputs": [
    {
     "data": {
      "image/png": "[encoded data removed]",
      "text/plain": [
       "<Figure size 432x288 with 1 Axes>"
      ]
     },
     "metadata": {
      "needs_background": "light"
     },
     "output_type": "display_data"
    }
   ],
   "source": [
    "plt.plot(t[1:], daily_change * 100)\n",
    "plt.ylabel('Daily Change %')\n",
    "plt.xlabel('Day')\n",
    "plt.show()"
   ]
  },
  {
   "attachments": {},
   "cell_type": "markdown",
   "metadata": {},
   "source": [
    "### Black-Scholes-Merton Equation\n",
    "BSM equation:\n",
    "\n",
    "\\begin{equation}\n",
    "    C = N(d_1)S - N(d_2)Ke^{-rt}\n",
    "\\end{equation}\n",
    "\n",
    "where\n",
    "- $d_1 = \\frac{\\ln \\frac{S}{K} + (r + \\frac{\\sigma^2}{2})t}{\\sigma\\sqrt{t}}$\n",
    "- $d_2 = d_1 - \\sigma\\sqrt{t}$\n",
    "- $C$ is the call option price.\n",
    "- $N(x)$ is the cummulative distribution function of the normal distribution.\n",
    "- $S$ is the current price of the underlying.\n",
    "- $K$ is the strike price of the contract.\n",
    "- $r$ is the risk-free interest rate (taken as 1 Year US Treasury Bill, $r = 3.26\\%$).\n",
    "- $t$ is the time to maturity.\n",
    "- $\\sigma$ is the volatility.\n",
    "\n",
    "The BSM equation makes several assumptions:\n",
    "- Options are european styled, i.e. they cannot be exercised before expiration.\n",
    "- Volatility remains constant throughout the lifetime of the option."
   ]
  },
  {
   "cell_type": "code",
   "execution_count": 9,
   "metadata": {},
   "outputs": [],
   "source": [
    "def bsm(stock_price, strike_price, dte, volatility=spy_hist_vol, rf_rate=0.03):\n",
    "    '''\n",
    "    Calculate the delta and prices of call/put option according to BSM eqn.\n",
    "    \n",
    "    Input:\n",
    "    - current stock price of underlying\n",
    "    - strike price of contract\n",
    "    - days to expiry (dte)\n",
    "    - volatility (historically 17.73% for SPY)\n",
    "    - risk-free interest rate (3.26% for 1 Year US Treasury Bill)\n",
    "    \n",
    "    Output:\n",
    "    - delta of call option\n",
    "    - price of call option\n",
    "    - delta of put option\n",
    "    - price of put option\n",
    "    '''\n",
    "    \n",
    "    # change units for dte to years\n",
    "    t = dte / 365.25\n",
    "    \n",
    "    # present value of strike price\n",
    "    pv_strike = strike_price * np.exp(-rf_rate * t)\n",
    "    \n",
    "    # d1 and d2 variables of bsm\n",
    "    d1 = (np.log(stock_price / strike_price) \\\n",
    "          + (rf_rate + (volatility ** 2) / 2) * t) / (volatility * np.sqrt(t))\n",
    "    d2 = d1 - volatility * np.sqrt(t)\n",
    "    \n",
    "    # delta of call option\n",
    "    call_delta = norm.cdf(d1)\n",
    "    \n",
    "    # price of call option\n",
    "    call_price = call_delta * stock_price - norm.cdf(d2) * pv_strike\n",
    "    \n",
    "    # delta of put option\n",
    "    put_delta = -norm.cdf(-d1)\n",
    "    \n",
    "    # price of put option\n",
    "    put_price = put_delta * stock_price + norm.cdf(-d2) * pv_strike\n",
    "    \n",
    "    return call_delta, call_price, put_delta, put_price"
   ]
  },
  {
   "attachments": {},
   "cell_type": "markdown",
   "metadata": {},
   "source": [
    "### Key Performance Indicators\n",
    "These are variables that indicate the performance of the strategy.\n",
    "1. Total Return\n",
    "2. Compound Annualised Growth Rate\n",
    "3. Volatility\n",
    "4. Beta\n",
    "5. Sharpe Ratio\n",
    "6. Maximum Drawdown\n",
    "7. Total Return / Maximum Drawdown\n",
    "\n",
    "        \n"
   ]
  },
  {
   "cell_type": "code",
   "execution_count": 49,
   "metadata": {},
   "outputs": [],
   "source": [
    "def get_kpi(rt, ch, stock_daily_change):\n",
    "    '''\n",
    "    Calculate key performance indicators from daily returns and daily changes of strategy.\n",
    "    Input: daily returns, daily changes, daily changes\n",
    "    '''\n",
    "    kpi_dict = {\n",
    "            'Total Return': rt[-1] - 1,\n",
    "            'CAGR': gmean(ch) ** 252 - 1,\n",
    "            'Volatility': np.std(ch - 1) * np.sqrt(252),\n",
    "            'Beta': np.corrcoef(stock_daily_change, ch - 1)[0, 1] * np.std(stock_daily_change) * np.std(ch - 1) / np.var(stock_daily_change),\n",
    "            'Sharpe Ratio': ((np.mean(ch) ** 252 - 1) - 0.03) / (np.std(ch - 1) * np.sqrt(252)),\n",
    "        }\n",
    "    \n",
    "    # Find max return and max drawdown\n",
    "    max_rt = 0\n",
    "    max_dd = 0\n",
    "    for i in range(len(rt)):\n",
    "        if rt[i] > max_rt:\n",
    "            max_rt = rt[i]\n",
    "        else:\n",
    "            if rt[i] - max_rt < max_dd:\n",
    "                max_dd = rt[i] - max_rt\n",
    "    \n",
    "    kpi_dict['Max Drawdown'] = max_dd\n",
    "    kpi_dict['RoMaxDD'] = kpi_dict['Total Return'] / (-kpi_dict['Max Drawdown'])\n",
    "    kpi_dict['Daily Returns'] = rt\n",
    "    kpi_dict['Daily Changes'] = ch\n",
    "    \n",
    "    return kpi_dict\n",
    "\n",
    "\n",
    "class test:\n",
    "    def __init__(self, strats_func):\n",
    "        '''\n",
    "        strats_func is a function to that runs several strategies at once\n",
    "        strats_func input: stock price series\n",
    "        strats_func output: dictionary with strategy names as keys and (daily returns, daily change) as value\n",
    "        '''\n",
    "        self.strats_func = strats_func\n",
    "    \n",
    "    def kpi_given_stock_price_series(self, stock_price_series, daily_change):\n",
    "        '''\n",
    "        Runs strats_func on the stock price series and returns kpi\n",
    "        '''\n",
    "        results = self.strats_func(stock_price_series)\n",
    "\n",
    "        for strat in results:\n",
    "            rt, ch = results[strat]\n",
    "            kpi = get_kpi(rt, ch, daily_change)\n",
    "            results[strat] = kpi\n",
    "\n",
    "        return results\n",
    "        \n",
    "    def single_stock_price_series_expt(self, laplace_params, num_days=252, initial_price=400, display=False):\n",
    "        '''\n",
    "        Generates a single stock price series, runs strats_func, and returns kpi\n",
    "        Statistics and graphs can be displayed\n",
    "        '''\n",
    "        # Generate stock price series\n",
    "        stock_price_series, daily_change = generate_stock(laplace_params, num_days, initial_price)\n",
    "        \n",
    "        # Runs strategies and find kpi\n",
    "        results = self.kpi_given_stock_price_series(stock_price_series, daily_change)\n",
    "\n",
    "        # Display statistics and graphs\n",
    "        if display:\n",
    "            for strat in results:\n",
    "                kpi = results[strat]\n",
    "\n",
    "                \n",
    "                print(strat)\n",
    "                print('Total Return:          {:.2f} %'.format(kpi['Total Return'] * 100))\n",
    "                print('CAGR:                  {:.2f} %'.format(kpi['CAGR'] * 100))\n",
    "                print('Volatility:            {:.2f} %'.format(kpi['Volatility'] * 100))\n",
    "                print('Beta:                  {:.2f}'.format(kpi['Beta']))\n",
    "                print('Sharpe Ratio:          {:.2f}'.format(kpi['Sharpe Ratio']))\n",
    "                print('Max Drawdown:          {:.2f} %'.format(kpi['Max Drawdown'] * 100))\n",
    "                print('Return over Max DD:    {:.2f}'.format(kpi['RoMaxDD']))\n",
    "                print('-------------------------------------')\n",
    "\n",
    "                plt.plot(range(num_days + 1), kpi['Daily Returns'], label=strat)\n",
    "\n",
    "            plt.xlabel('Time in Days')\n",
    "            plt.ylabel('Strategy Returns')    \n",
    "            plt.legend()\n",
    "            plt.show()\n",
    "            \n",
    "        return results\n",
    "\n",
    "    def multiple_stock_price_series_expt(self, runs, laplace_params, num_days=252, initial_price=400, display=False):\n",
    "        '''\n",
    "        Generates multiple stock price series, runs strats_func, and returns average kpi across all runs\n",
    "        Statistics and graphs can be displayed\n",
    "        '''\n",
    "        # Initiate raw results to collect all data\n",
    "        raw_results = {}\n",
    "\n",
    "        if display:\n",
    "            rng = tqdm(range(runs))\n",
    "        else:\n",
    "            rng = range(runs)\n",
    "\n",
    "        # Run expt for n times with generated stock price series\n",
    "        for i in rng:\n",
    "\n",
    "            # Generate stock price series\n",
    "            stock_price_series, daily_change = generate_stock(laplace_params, num_days, initial_price)\n",
    "\n",
    "            # Run strategies and find kpi\n",
    "            results = self.kpi_given_stock_price_series(stock_price_series, daily_change)\n",
    "\n",
    "            # Save results\n",
    "            for strat in results:\n",
    "                kpi = results[strat]\n",
    "\n",
    "                # Initialise dict on the 1st run\n",
    "                if i == 0:\n",
    "                    raw_results[strat] = []\n",
    "            \n",
    "                raw_results[strat].append(kpi)\n",
    "\n",
    "        # Find average results\n",
    "        avg_results = {}\n",
    "\n",
    "        for strat in raw_results:\n",
    "            avg_results[strat] = {}\n",
    "\n",
    "            # Average kpi values for all runs\n",
    "            for key in kpi:\n",
    "                avg_results[strat][key] = np.mean([f[key] for f in raw_results[strat]])\n",
    "\n",
    "            # Find winrate of strategy => win = total return at the end of run > 0\n",
    "            avg_results[strat]['Win-rate'] = np.sum([1 for f in raw_results[strat] if f['Total Return'] > 0]) \\\n",
    "                / runs\n",
    "            \n",
    "            # Find performance of strategy relative to buy-hold when buy-hold loses\n",
    "            avg_results[strat]['RelPerfLosing']\n",
    "        \n",
    "        # display average results\n",
    "        if display:\n",
    "            for strat in avg_results:\n",
    "                print(strat)\n",
    "                \n",
    "                print('Total Return:            {:.2f} %'.format(avg_results[strat]['Total Return'] * 100))\n",
    "                print('CAGR:                    {:.2f} %'.format(avg_results[strat]['CAGR'] * 100))\n",
    "                print('Volatility:              {:.2f} %'.format(avg_results[strat]['Volatility'] * 100))\n",
    "                print('Beta:                    {:.2f}'.format(avg_results[strat]['Beta']))\n",
    "                print('Sharpe Ratio:            {:.2f}'.format(avg_results[strat]['Sharpe Ratio']))\n",
    "                print('Win-rate:                {:.2f} %'.format(avg_results[strat]['Win-rate'] * 100))\n",
    "                print('Max Drawdown:            {:.2f} %'.format(avg_results[strat]['Max Drawdown'] * 100))\n",
    "                print('Return over Max DD:      {:.2f}'.format(avg_results[strat]['RoMaxDD']))\n",
    "                \n",
    "                \n",
    "                print('-------------------------------------')\n",
    "        \n",
    "        return avg_results\n",
    "            \n",
    "\n",
    "\n"
   ]
  },
  {
   "attachments": {},
   "cell_type": "markdown",
   "metadata": {},
   "source": [
    "Strategy should return:\n",
    "1. Daily returns (1.xx)\n",
    "2. Daily changes in portfolio value (1.xx)"
   ]
  },
  {
   "attachments": {},
   "cell_type": "markdown",
   "metadata": {},
   "source": [
    "### Buy-Hold Strategy\n",
    "Buy assets at the start and hold until the end"
   ]
  },
  {
   "cell_type": "code",
   "execution_count": 11,
   "metadata": {},
   "outputs": [],
   "source": [
    "def buy_hold_strategy(stock_price):\n",
    "    arr = stock_price/stock_price[0]\n",
    "    return arr, arr[1:] / arr[:-1]"
   ]
  },
  {
   "attachments": {},
   "cell_type": "markdown",
   "metadata": {},
   "source": [
    "Single run results:"
   ]
  },
  {
   "cell_type": "code",
   "execution_count": 48,
   "metadata": {},
   "outputs": [
    {
     "name": "stdout",
     "output_type": "stream",
     "text": [
      "Single Run Results:\n",
      "buy_hold\n",
      "Total Return:          25.57 %\n",
      "CAGR:                  25.57 %\n",
      "Volatility:            18.19 %\n",
      "Beta:                  1.00\n",
      "Sharpe Ratio:          1.36\n",
      "Max Drawdown:          -13.70 %\n",
      "Return over Max DD:    1.87\n",
      "-------------------------------------\n"
     ]
    },
    {
     "data": {
      "image/png": "[encoded data removed]",
      "text/plain": [
       "<Figure size 432x288 with 1 Axes>"
      ]
     },
     "metadata": {
      "needs_background": "light"
     },
     "output_type": "display_data"
    },
    {
     "name": "stdout",
     "output_type": "stream",
     "text": [
      "Multiple Run Results:\n"
     ]
    },
    {
     "data": {
      "application/vnd.jupyter.widget-view+json": {
       "model_id": "fcb1974bf7b44937abd7a3720ca0f646",
       "version_major": 2,
       "version_minor": 0
      },
      "text/plain": [
       "  0%|          | 0/1000 [00:00<?, ?it/s]"
      ]
     },
     "metadata": {},
     "output_type": "display_data"
    },
    {
     "name": "stdout",
     "output_type": "stream",
     "text": [
      "buy_hold\n",
      "Total Return:            16.24 %\n",
      "CAGR:                    16.24 %\n",
      "Volatility:              17.77 %\n",
      "Beta:                    1.00\n",
      "Sharpe Ratio:            0.85\n",
      "Win-rate:                77.70 %\n",
      "Max Drawdown:            -17.18 %\n",
      "Return over Max DD:      1.33\n",
      "-------------------------------------\n"
     ]
    }
   ],
   "source": [
    "def buy_hold_strat_func(stock_price):\n",
    "    return {'buy_hold': buy_hold_strategy(stock_price)}\n",
    "\n",
    "buy_hold_test = test(buy_hold_strat_func)\n",
    "\n",
    "print('Single Run Results:')\n",
    "_ = buy_hold_test.single_stock_price_series_expt(laplace_params=laplace_params, display=True)\n",
    "print('Multiple Run Results:')\n",
    "_ = buy_hold_test.multiple_stock_price_series_expt(1000, laplace_params, display=True)\n"
   ]
  },
  {
   "cell_type": "code",
   "execution_count": 46,
   "metadata": {},
   "outputs": [
    {
     "data": {
      "application/vnd.jupyter.widget-view+json": {
       "model_id": "06d3ab2ceae74404a590f06f7494ea4f",
       "version_major": 2,
       "version_minor": 0
      },
      "text/plain": [
       "  0%|          | 0/40 [00:00<?, ?it/s]"
      ]
     },
     "metadata": {},
     "output_type": "display_data"
    },
    {
     "name": "stderr",
     "output_type": "stream",
     "text": [
      "C:\\Users\\alexr\\AppData\\Local\\Temp\\ipykernel_18036\\467628905.py:25: RuntimeWarning: divide by zero encountered in double_scalars\n",
      "  kpi_dict['RoMaxDD'] = kpi_dict['Total Return'] / (-kpi_dict['Max Drawdown'])\n"
     ]
    },
    {
     "data": {
      "image/png": "[encoded data removed]",
      "text/plain": [
       "<Figure size 432x288 with 1 Axes>"
      ]
     },
     "metadata": {
      "needs_background": "light"
     },
     "output_type": "display_data"
    }
   ],
   "source": [
    "y_tr = []\n",
    "y_vol = []\n",
    "rng = range(10, 2000, 50)\n",
    "for i in tqdm(rng):\n",
    "    res = buy_hold_test.multiple_stock_price_series_expt(1000, laplace_params, num_days=i)\n",
    "    y_tr.append(res['buy_hold']['Win-rate'])\n",
    "    y_vol.append(res['buy_hold']['Volatility'])\n",
    "\n",
    "plt.plot(rng, y_tr)\n",
    "plt.show()"
   ]
  },
  {
   "cell_type": "code",
   "execution_count": 39,
   "metadata": {},
   "outputs": [
    {
     "data": {
      "text/plain": [
       "[<matplotlib.lines.Line2D at 0x25f33d47670>]"
      ]
     },
     "execution_count": 39,
     "metadata": {},
     "output_type": "execute_result"
    },
    {
     "data": {
      "image/png": "[encoded data removed]",
      "text/plain": [
       "<Figure size 432x288 with 1 Axes>"
      ]
     },
     "metadata": {
      "needs_background": "light"
     },
     "output_type": "display_data"
    }
   ],
   "source": [
    "plt.plot(rng, y_vol)"
   ]
  },
  {
   "attachments": {},
   "cell_type": "markdown",
   "metadata": {},
   "source": [
    "### Buy-write strategy\n",
    "\n",
    "This strategy replicates the CBOE SP500 buy-write index. We hold assets in the underlying index and sell ATM covered calls every month to generate income with the option premium. This strategy is supposed to generate consistent returns with low volatility, at the expense of capping the upside.\n",
    "\n",
    "This strategy is used by the funds QYLD, XYLD."
   ]
  },
  {
   "cell_type": "code",
   "execution_count": 13,
   "metadata": {},
   "outputs": [],
   "source": [
    "\n",
    "def buy_write_strategy(stock_price, dte=22, initial_capital=1E6):\n",
    "    num_days = len(stock_price) - 1\n",
    "\n",
    "    cash = initial_capital\n",
    "    call_dte = 0\n",
    "    day = 0\n",
    "    call_value = 0\n",
    "    stock_value = 0\n",
    "    call_pos = 0\n",
    "    stock_pos = 0\n",
    "    port_value = np.array([0])\n",
    "    call_strike = 0\n",
    "\n",
    "    while day <= num_days:\n",
    "        # print(f'- day: {day}, stock price: {stock_price[day]}')\n",
    "        if day % dte == 0:\n",
    "\n",
    "            if call_pos != 0:\n",
    "                # close the calls\n",
    "                if stock_price[day] < call_strike:\n",
    "                    pass\n",
    "                    # print(f'--- {call_pos} calls expire OTM')\n",
    "                else:\n",
    "                    stock_pos += call_pos\n",
    "                    cash += -call_pos * call_strike\n",
    "                    # print(f'--- {call_pos} calls called away @ {call_strike} for {-call_pos * call_strike}')\n",
    "                call_pos = 0\n",
    "\n",
    "            # buy stock\n",
    "            # print(f'--- buy {cash // stock_price[day]} stock @ {stock_price[day]}')\n",
    "            new_pos = cash // stock_price[day]\n",
    "            stock_pos += new_pos\n",
    "            cash -= new_pos * stock_price[day]\n",
    "            # sell calls\n",
    "            call_strike = int(stock_price[day])\n",
    "            _, call_price, _, _ = bsm(stock_price=stock_price[day], strike_price=call_strike, dte=dte)\n",
    "            call_pos = -stock_pos\n",
    "            # print(f'--- sell {-stock_pos} strike {call_strike} calls @ {call_price}')\n",
    "            cash += -call_pos * call_price\n",
    "\n",
    "        stock_value = stock_pos * stock_price[day]\n",
    "        # print(f'-- stock value: {stock_value}')\n",
    "        _, call_price, _, _ = bsm(stock_price=stock_price[day], strike_price=call_strike, dte=(dte - day % dte))\n",
    "        call_value = call_pos * call_price\n",
    "        # print(f'-- call value: {call_value}')\n",
    "        # print(f'-- cash: {cash}')\n",
    "        port_value = np.append(port_value, stock_value + call_value + cash)\n",
    "        # print(f'-- portfolio value: {port_value[-1]}')\n",
    "\n",
    "        day += 1\n",
    "\n",
    "    port_returns = port_value[1:] / initial_capital\n",
    "    return port_returns, port_returns[1:] / port_returns[:-1]\n",
    "\n"
   ]
  },
  {
   "cell_type": "code",
   "execution_count": 14,
   "metadata": {},
   "outputs": [
    {
     "name": "stdout",
     "output_type": "stream",
     "text": [
      "Single Run Results:\n",
      "buy_write\n",
      "Total Return:          20.78 %\n",
      "CAGR:                  20.78 %\n",
      "Volatility:            6.01 %\n",
      "Beta:                  0.01\n",
      "Sharpe Ratio:          2.99\n",
      "Max Drawdown:          -3.00 %\n",
      "Return over Max DD:    6.92\n",
      "-------------------------------------\n",
      "buy_hold\n",
      "Total Return:          47.81 %\n",
      "CAGR:                  47.81 %\n",
      "Volatility:            17.42 %\n",
      "Beta:                  0.06\n",
      "Sharpe Ratio:          2.70\n",
      "Max Drawdown:          -8.07 %\n",
      "Return over Max DD:    5.93\n",
      "-------------------------------------\n"
     ]
    },
    {
     "data": {
      "image/png": "[encoded data removed]",
      "text/plain": [
       "<Figure size 432x288 with 1 Axes>"
      ]
     },
     "metadata": {
      "needs_background": "light"
     },
     "output_type": "display_data"
    },
    {
     "name": "stdout",
     "output_type": "stream",
     "text": [
      "Multiple Run Results:\n"
     ]
    },
    {
     "data": {
      "application/vnd.jupyter.widget-view+json": {
       "model_id": "32658f95224b43c189a736152acf31d3",
       "version_major": 2,
       "version_minor": 0
      },
      "text/plain": [
       "  0%|          | 0/1000 [00:00<?, ?it/s]"
      ]
     },
     "metadata": {},
     "output_type": "display_data"
    },
    {
     "name": "stdout",
     "output_type": "stream",
     "text": [
      "buy_write\n",
      "Total Return:            5.24 %\n",
      "CAGR:                    5.24 %\n",
      "Volatility:              9.14 %\n",
      "Beta:                    -0.00\n",
      "Sharpe Ratio:            0.43\n",
      "Win-rate:                73.70 %\n",
      "Max Drawdown:            -9.43 %\n",
      "Return over Max DD:      1.14\n",
      "-------------------------------------\n",
      "buy_hold\n",
      "Total Return:            17.24 %\n",
      "CAGR:                    17.24 %\n",
      "Volatility:              17.75 %\n",
      "Beta:                    -0.00\n",
      "Sharpe Ratio:            0.91\n",
      "Win-rate:                78.80 %\n",
      "Max Drawdown:            -16.85 %\n",
      "Return over Max DD:      1.42\n",
      "-------------------------------------\n"
     ]
    }
   ],
   "source": [
    "def buy_write_strat_func(stock_price):\n",
    "    return {\n",
    "        'buy_write': buy_write_strategy(stock_price),\n",
    "        'buy_hold': buy_hold_strategy(stock_price)\n",
    "        }\n",
    "\n",
    "buy_write_test = test(buy_write_strat_func)\n",
    "\n",
    "print('Single Run Results:')\n",
    "_ = buy_write_test.single_stock_price_series_expt(laplace_params=laplace_params, display=True)\n",
    "print('Multiple Run Results:')\n",
    "_ = buy_write_test.multiple_stock_price_series_expt(1000, laplace_params, display=True)"
   ]
  },
  {
   "attachments": {},
   "cell_type": "markdown",
   "metadata": {},
   "source": [
    "### Dollar Cost Average Strategy\n",
    "Divide initial capital into equal amounts to be invested into assets at regular frequency."
   ]
  },
  {
   "cell_type": "code",
   "execution_count": 15,
   "metadata": {},
   "outputs": [],
   "source": [
    "def dca_strategy(stock_price, dca_period=22, initial_capital=1E6):\n",
    "    num_days = len(stock_price)\n",
    "    dca_num = np.ceil(num_days / dca_period)\n",
    "    dca_amount = initial_capital // dca_num\n",
    "    cash = initial_capital\n",
    "    stock_pos = np.array([0])\n",
    "    cash_pos = np.array([0])\n",
    "    \n",
    "\n",
    "    for day in range(num_days):\n",
    "        stock_pos = np.append(stock_pos, stock_pos[-1])\n",
    "        if day % dca_period == 0:\n",
    "            dca_stock_pos = dca_amount // stock_price[day]\n",
    "            stock_pos[-1] += dca_stock_pos\n",
    "            cash -= dca_stock_pos * stock_price[day]\n",
    "            \n",
    "        cash_pos = np.append(cash_pos, cash)\n",
    "    \n",
    "    stock_pos = stock_pos[1:]\n",
    "    cash_pos = cash_pos[1:]\n",
    "\n",
    "    port_value = stock_price * stock_pos + cash_pos\n",
    "    arr = (port_value / initial_capital)  \n",
    "    \n",
    "    return arr, arr[1:] / arr[:-1]\n"
   ]
  },
  {
   "cell_type": "code",
   "execution_count": 16,
   "metadata": {},
   "outputs": [
    {
     "name": "stdout",
     "output_type": "stream",
     "text": [
      "Single Run Results:\n",
      "dca\n",
      "Total Return:          8.81 %\n",
      "CAGR:                  8.81 %\n",
      "Volatility:            11.35 %\n",
      "Beta:                  0.00\n",
      "Sharpe Ratio:          0.57\n",
      "Max Drawdown:          -11.45 %\n",
      "Return over Max DD:    0.77\n",
      "-------------------------------------\n",
      "buy_hold\n",
      "Total Return:          33.87 %\n",
      "CAGR:                  33.87 %\n",
      "Volatility:            17.54 %\n",
      "Beta:                  0.03\n",
      "Sharpe Ratio:          1.88\n",
      "Max Drawdown:          -15.19 %\n",
      "Return over Max DD:    2.23\n",
      "-------------------------------------\n"
     ]
    },
    {
     "data": {
      "image/png": "[encoded data removed]",
      "text/plain": [
       "<Figure size 432x288 with 1 Axes>"
      ]
     },
     "metadata": {
      "needs_background": "light"
     },
     "output_type": "display_data"
    },
    {
     "name": "stdout",
     "output_type": "stream",
     "text": [
      "Multiple Run Results:\n"
     ]
    },
    {
     "data": {
      "application/vnd.jupyter.widget-view+json": {
       "model_id": "f933388905014eec9860b1f1a408375d",
       "version_major": 2,
       "version_minor": 0
      },
      "text/plain": [
       "  0%|          | 0/1000 [00:00<?, ?it/s]"
      ]
     },
     "metadata": {},
     "output_type": "display_data"
    },
    {
     "name": "stdout",
     "output_type": "stream",
     "text": [
      "dca\n",
      "Total Return:            8.40 %\n",
      "CAGR:                    8.40 %\n",
      "Volatility:              10.56 %\n",
      "Beta:                    -0.00\n",
      "Sharpe Ratio:            0.56\n",
      "Win-rate:                75.70 %\n",
      "Max Drawdown:            -10.00 %\n",
      "Return over Max DD:      1.27\n",
      "-------------------------------------\n",
      "buy_hold\n",
      "Total Return:            17.10 %\n",
      "CAGR:                    17.10 %\n",
      "Volatility:              17.80 %\n",
      "Beta:                    -0.00\n",
      "Sharpe Ratio:            0.90\n",
      "Win-rate:                80.10 %\n",
      "Max Drawdown:            -16.86 %\n",
      "Return over Max DD:      1.41\n",
      "-------------------------------------\n"
     ]
    }
   ],
   "source": [
    "def dca_strat_func(stock_price):\n",
    "    return {\n",
    "        'dca': dca_strategy(stock_price),\n",
    "        'buy_hold': buy_hold_strategy(stock_price)\n",
    "        }\n",
    "\n",
    "dca_test = test(dca_strat_func)\n",
    "\n",
    "print('Single Run Results:')\n",
    "_ = dca_test.single_stock_price_series_expt(laplace_params=laplace_params, display=True)\n",
    "print('Multiple Run Results:')\n",
    "_ = dca_test.multiple_stock_price_series_expt(1000, laplace_params, display=True)"
   ]
  },
  {
   "attachments": {},
   "cell_type": "markdown",
   "metadata": {},
   "source": [
    "### Leveraged Daily Returns Strategy\n",
    "Strategy for leveraged funds such as UPRO and TQQQ. The daily changes of the underlying index is replicated with leverage."
   ]
  },
  {
   "cell_type": "code",
   "execution_count": 17,
   "metadata": {},
   "outputs": [],
   "source": [
    "def leveraged_strategy(stock_price, leverage=3):\n",
    "\n",
    "    arr = stock_price / stock_price[0]\n",
    "    \n",
    "    daily_changes = leverage * ((stock_price[1:] / stock_price[:-1]) - 1)\n",
    "\n",
    "    daily_returns = np.insert(np.cumprod(daily_changes + 1), 0, 1)\n",
    "    \n",
    "    return daily_returns, daily_changes + 1"
   ]
  },
  {
   "cell_type": "code",
   "execution_count": 18,
   "metadata": {},
   "outputs": [
    {
     "name": "stdout",
     "output_type": "stream",
     "text": [
      "Single Run Results:\n",
      "3x leverage\n",
      "Total Return:          32.00 %\n",
      "CAGR:                  32.00 %\n",
      "Volatility:            52.74 %\n",
      "Beta:                  -0.04\n",
      "Sharpe Ratio:          0.93\n",
      "Max Drawdown:          -123.88 %\n",
      "Return over Max DD:    0.26\n",
      "-------------------------------------\n",
      "buy_hold\n",
      "Total Return:          13.20 %\n",
      "CAGR:                  13.20 %\n",
      "Volatility:            17.58 %\n",
      "Beta:                  -0.01\n",
      "Sharpe Ratio:          0.68\n",
      "Max Drawdown:          -30.29 %\n",
      "Return over Max DD:    0.44\n",
      "-------------------------------------\n"
     ]
    },
    {
     "data": {
      "image/png": "[encoded data removed]",
      "text/plain": [
       "<Figure size 432x288 with 1 Axes>"
      ]
     },
     "metadata": {
      "needs_background": "light"
     },
     "output_type": "display_data"
    },
    {
     "name": "stdout",
     "output_type": "stream",
     "text": [
      "Multiple Run Results:\n"
     ]
    },
    {
     "data": {
      "application/vnd.jupyter.widget-view+json": {
       "model_id": "50f6180418834e848e979fd99800bf1a",
       "version_major": 2,
       "version_minor": 0
      },
      "text/plain": [
       "  0%|          | 0/1000 [00:00<?, ?it/s]"
      ]
     },
     "metadata": {},
     "output_type": "display_data"
    },
    {
     "name": "stdout",
     "output_type": "stream",
     "text": [
      "3x leverage\n",
      "Total Return:            55.89 %\n",
      "CAGR:                    55.89 %\n",
      "Volatility:              53.47 %\n",
      "Beta:                    -0.00\n",
      "Sharpe Ratio:            1.44\n",
      "Win-rate:                72.00 %\n",
      "Max Drawdown:            -62.06 %\n",
      "Return over Max DD:      1.02\n",
      "-------------------------------------\n",
      "buy_hold\n",
      "Total Return:            16.15 %\n",
      "CAGR:                    16.15 %\n",
      "Volatility:              17.82 %\n",
      "Beta:                    -0.00\n",
      "Sharpe Ratio:            0.85\n",
      "Win-rate:                77.10 %\n",
      "Max Drawdown:            -17.03 %\n",
      "Return over Max DD:      1.35\n",
      "-------------------------------------\n"
     ]
    }
   ],
   "source": [
    "def leverage_strat_func(stock_price):\n",
    "    return {\n",
    "        '3x leverage': leveraged_strategy(stock_price),\n",
    "        'buy_hold': buy_hold_strategy(stock_price)\n",
    "        }\n",
    "\n",
    "leverage_test = test(leverage_strat_func)\n",
    "\n",
    "print('Single Run Results:')\n",
    "_ = leverage_test.single_stock_price_series_expt(laplace_params=laplace_params, display=True)\n",
    "print('Multiple Run Results:')\n",
    "_ = leverage_test.multiple_stock_price_series_expt(1000, laplace_params, display=True)"
   ]
  },
  {
   "cell_type": "code",
   "execution_count": 19,
   "metadata": {},
   "outputs": [
    {
     "name": "stdout",
     "output_type": "stream",
     "text": [
      "Multiple Run Results:\n"
     ]
    },
    {
     "data": {
      "application/vnd.jupyter.widget-view+json": {
       "model_id": "9e2c210c3e814e12802a4b45800b43cf",
       "version_major": 2,
       "version_minor": 0
      },
      "text/plain": [
       "  0%|          | 0/1000 [00:00<?, ?it/s]"
      ]
     },
     "metadata": {},
     "output_type": "display_data"
    },
    {
     "name": "stdout",
     "output_type": "stream",
     "text": [
      "1\n",
      "Total Return:            16.36 %\n",
      "CAGR:                    16.36 %\n",
      "Volatility:              17.70 %\n",
      "Beta:                    -0.00\n",
      "Sharpe Ratio:            0.86\n",
      "Win-rate:                77.10 %\n",
      "Max Drawdown:            -17.05 %\n",
      "Return over Max DD:      1.39\n",
      "-------------------------------------\n",
      "2\n",
      "Total Return:            35.61 %\n",
      "CAGR:                    35.61 %\n",
      "Volatility:              35.39 %\n",
      "Beta:                    -0.00\n",
      "Sharpe Ratio:            1.18\n",
      "Win-rate:                74.30 %\n",
      "Max Drawdown:            -37.39 %\n",
      "Return over Max DD:      1.23\n",
      "-------------------------------------\n",
      "3\n",
      "Total Return:            58.29 %\n",
      "CAGR:                    58.29 %\n",
      "Volatility:              53.09 %\n",
      "Beta:                    -0.01\n",
      "Sharpe Ratio:            1.50\n",
      "Win-rate:                71.70 %\n",
      "Max Drawdown:            -62.15 %\n",
      "Return over Max DD:      1.07\n",
      "-------------------------------------\n",
      "4\n",
      "Total Return:            85.03 %\n",
      "CAGR:                    85.03 %\n",
      "Volatility:              70.79 %\n",
      "Beta:                    -0.01\n",
      "Sharpe Ratio:            1.91\n",
      "Win-rate:                68.30 %\n",
      "Max Drawdown:            -92.65 %\n",
      "Return over Max DD:      0.93\n",
      "-------------------------------------\n"
     ]
    }
   ],
   "source": [
    "def lev_range_strats_func(stock_price):\n",
    "    results = {}\n",
    "    for i in range(1, 5):\n",
    "        results[i] = leveraged_strategy(stock_price, leverage=i)\n",
    "    \n",
    "    return results\n",
    "\n",
    "\n",
    "lev_range_test = test(lev_range_strats_func)\n",
    "\n",
    "print('Multiple Run Results:')\n",
    "res = lev_range_test.multiple_stock_price_series_expt(1000, laplace_params, display=True)\n"
   ]
  },
  {
   "attachments": {},
   "cell_type": "markdown",
   "metadata": {},
   "source": [
    "### Comparison between strategies"
   ]
  },
  {
   "cell_type": "code",
   "execution_count": 20,
   "metadata": {},
   "outputs": [
    {
     "name": "stdout",
     "output_type": "stream",
     "text": [
      "Single Run Results:\n",
      "buy_write\n",
      "Total Return:          5.73 %\n",
      "CAGR:                  5.73 %\n",
      "Volatility:            9.47 %\n",
      "Beta:                  -0.01\n",
      "Sharpe Ratio:          0.34\n",
      "Max Drawdown:          -7.72 %\n",
      "Return over Max DD:    0.74\n",
      "-------------------------------------\n",
      "dca\n",
      "Total Return:          5.89 %\n",
      "CAGR:                  5.89 %\n",
      "Volatility:            10.47 %\n",
      "Beta:                  0.00\n",
      "Sharpe Ratio:          0.33\n",
      "Max Drawdown:          -9.85 %\n",
      "Return over Max DD:    0.60\n",
      "-------------------------------------\n",
      "3x leverage\n",
      "Total Return:          57.48 %\n",
      "CAGR:                  57.48 %\n",
      "Volatility:            49.05 %\n",
      "Beta:                  -0.01\n",
      "Sharpe Ratio:          1.52\n",
      "Max Drawdown:          -68.57 %\n",
      "Return over Max DD:    0.84\n",
      "-------------------------------------\n",
      "buy_hold\n",
      "Total Return:          19.52 %\n",
      "CAGR:                  19.52 %\n",
      "Volatility:            16.35 %\n",
      "Beta:                  -0.00\n",
      "Sharpe Ratio:          1.11\n",
      "Max Drawdown:          -15.89 %\n",
      "Return over Max DD:    1.23\n",
      "-------------------------------------\n"
     ]
    },
    {
     "data": {
      "image/png": "[encoded data removed]",
      "text/plain": [
       "<Figure size 432x288 with 1 Axes>"
      ]
     },
     "metadata": {
      "needs_background": "light"
     },
     "output_type": "display_data"
    },
    {
     "name": "stdout",
     "output_type": "stream",
     "text": [
      "Multiple Run Results:\n"
     ]
    },
    {
     "data": {
      "application/vnd.jupyter.widget-view+json": {
       "model_id": "d8357c26a60142448d7f3297753a1aac",
       "version_major": 2,
       "version_minor": 0
      },
      "text/plain": [
       "  0%|          | 0/1000 [00:00<?, ?it/s]"
      ]
     },
     "metadata": {},
     "output_type": "display_data"
    },
    {
     "name": "stdout",
     "output_type": "stream",
     "text": [
      "buy_write\n",
      "Total Return:            4.73 %\n",
      "CAGR:                    4.73 %\n",
      "Volatility:              9.25 %\n",
      "Beta:                    -0.00\n",
      "Sharpe Ratio:            0.35\n",
      "Win-rate:                70.90 %\n",
      "Max Drawdown:            -9.68 %\n",
      "Return over Max DD:      1.04\n",
      "-------------------------------------\n",
      "dca\n",
      "Total Return:            8.07 %\n",
      "CAGR:                    8.07 %\n",
      "Volatility:              10.52 %\n",
      "Beta:                    0.00\n",
      "Sharpe Ratio:            0.53\n",
      "Win-rate:                75.60 %\n",
      "Max Drawdown:            -10.16 %\n",
      "Return over Max DD:      1.24\n",
      "-------------------------------------\n",
      "3x leverage\n",
      "Total Return:            54.33 %\n",
      "CAGR:                    54.33 %\n",
      "Volatility:              53.30 %\n",
      "Beta:                    0.00\n",
      "Sharpe Ratio:            1.41\n",
      "Win-rate:                71.40 %\n",
      "Max Drawdown:            -62.38 %\n",
      "Return over Max DD:      0.97\n",
      "-------------------------------------\n",
      "buy_hold\n",
      "Total Return:            15.77 %\n",
      "CAGR:                    15.77 %\n",
      "Volatility:              17.77 %\n",
      "Beta:                    0.00\n",
      "Sharpe Ratio:            0.82\n",
      "Win-rate:                78.20 %\n",
      "Max Drawdown:            -17.13 %\n",
      "Return over Max DD:      1.28\n",
      "-------------------------------------\n"
     ]
    }
   ],
   "source": [
    "def comparison_strat_func(stock_price):\n",
    "    return {\n",
    "        'buy_write': buy_write_strategy(stock_price),\n",
    "        'dca': dca_strategy(stock_price),\n",
    "        '3x leverage': leveraged_strategy(stock_price),\n",
    "        'buy_hold': buy_hold_strategy(stock_price)\n",
    "        }\n",
    "     \n",
    "comparison_test = test(comparison_strat_func)\n",
    "\n",
    "print('Single Run Results:')\n",
    "_ = comparison_test.single_stock_price_series_expt(laplace_params=laplace_params, display=True)\n",
    "print('Multiple Run Results:')\n",
    "_ = comparison_test.multiple_stock_price_series_expt(1000, laplace_params, display=True)"
   ]
  },
  {
   "cell_type": "code",
   "execution_count": 21,
   "metadata": {},
   "outputs": [
    {
     "data": {
      "application/vnd.jupyter.widget-view+json": {
       "model_id": "6015e4172fd04da2813917b1c73625d8",
       "version_major": 2,
       "version_minor": 0
      },
      "text/plain": [
       "  0%|          | 0/1000 [00:00<?, ?it/s]"
      ]
     },
     "metadata": {},
     "output_type": "display_data"
    },
    {
     "ename": "TypeError",
     "evalue": "get_kpi() missing 1 required positional argument: 'stock_daily_change'",
     "output_type": "error",
     "traceback": [
      "\u001b[1;31m---------------------------------------------------------------------------\u001b[0m",
      "\u001b[1;31mTypeError\u001b[0m                                 Traceback (most recent call last)",
      "\u001b[1;32mc:\\Users\\alexr\\Quantitative_Finance_Modelling\\Simulation of Strategies\\MAIN.ipynb Cell 37\u001b[0m in \u001b[0;36m<cell line: 9>\u001b[1;34m()\u001b[0m\n\u001b[0;32m     <a href='vscode-notebook-cell:/c%3A/Users/alexr/Quantitative_Finance_Modelling/Simulation%20of%20Strategies/MAIN.ipynb#X51sZmlsZQ%3D%3D?line=18'>19</a>\u001b[0m \u001b[39mfor\u001b[39;00m strat \u001b[39min\u001b[39;00m results:\n\u001b[0;32m     <a href='vscode-notebook-cell:/c%3A/Users/alexr/Quantitative_Finance_Modelling/Simulation%20of%20Strategies/MAIN.ipynb#X51sZmlsZQ%3D%3D?line=19'>20</a>\u001b[0m     rt, ch \u001b[39m=\u001b[39m results[strat]\n\u001b[1;32m---> <a href='vscode-notebook-cell:/c%3A/Users/alexr/Quantitative_Finance_Modelling/Simulation%20of%20Strategies/MAIN.ipynb#X51sZmlsZQ%3D%3D?line=20'>21</a>\u001b[0m     kpi_dict \u001b[39m=\u001b[39m get_kpi(rt, ch)\n\u001b[0;32m     <a href='vscode-notebook-cell:/c%3A/Users/alexr/Quantitative_Finance_Modelling/Simulation%20of%20Strategies/MAIN.ipynb#X51sZmlsZQ%3D%3D?line=22'>23</a>\u001b[0m     raw_results[strat]\u001b[39m.\u001b[39mappend(kpi_dict)\n",
      "\u001b[1;31mTypeError\u001b[0m: get_kpi() missing 1 required positional argument: 'stock_daily_change'"
     ]
    }
   ],
   "source": [
    "raw_results = {\n",
    "    'buy-hold': [],\n",
    "    'buy-write': [],\n",
    "    'dca': [],\n",
    "    '3x leverage': [],\n",
    "}\n",
    "\n",
    "\n",
    "for i in tqdm(range(1000)):\n",
    "    stock_price, daily_changes = generate_stock(laplace_params, num_days=num_days, initial_price=400)\n",
    "    \n",
    "    results = {\n",
    "        'buy-hold': buy_hold_strategy(stock_price),\n",
    "        'buy-write': buy_write_strategy(stock_price),\n",
    "        'dca': dca_strategy(stock_price),\n",
    "        '3x leverage': leveraged_strategy(stock_price, leverage=3),\n",
    "    }\n",
    "\n",
    "    for strat in results:\n",
    "        rt, ch = results[strat]\n",
    "        kpi_dict = get_kpi(rt, ch)\n",
    "        \n",
    "        raw_results[strat].append(kpi_dict)\n",
    "\n"
   ]
  },
  {
   "cell_type": "code",
   "execution_count": null,
   "metadata": {},
   "outputs": [
    {
     "name": "stdout",
     "output_type": "stream",
     "text": [
      "buy-hold\n",
      "Total Return:            15.53 %\n",
      "CAGR:                    15.53 %\n",
      "Volatility:              17.74 %\n",
      "Beta:                    1.00\n",
      "Sharpe Ratio:            0.81\n",
      "Win-rate:                77.40 %\n",
      "Max Drawdown:            -17.20 %\n",
      "Return over Max DD:      1.26\n",
      "-------------------------------------\n",
      "buy-write\n",
      "Total Return:            4.89 %\n",
      "CAGR:                    4.89 %\n",
      "Volatility:              9.26 %\n",
      "Beta:                    0.43\n",
      "Sharpe Ratio:            0.37\n",
      "Win-rate:                73.40 %\n",
      "Max Drawdown:            -9.58 %\n",
      "Return over Max DD:      1.09\n",
      "-------------------------------------\n",
      "dca\n",
      "Total Return:            7.96 %\n",
      "CAGR:                    7.96 %\n",
      "Volatility:              10.55 %\n",
      "Beta:                    0.53\n",
      "Sharpe Ratio:            0.51\n",
      "Win-rate:                75.60 %\n",
      "Max Drawdown:            -10.11 %\n",
      "Return over Max DD:      1.23\n",
      "-------------------------------------\n",
      "3x leverage\n",
      "Total Return:            53.88 %\n",
      "CAGR:                    53.88 %\n",
      "Volatility:              53.23 %\n",
      "Beta:                    3.00\n",
      "Sharpe Ratio:            1.40\n",
      "Win-rate:                71.80 %\n",
      "Max Drawdown:            -62.60 %\n",
      "Return over Max DD:      0.96\n",
      "-------------------------------------\n"
     ]
    }
   ],
   "source": [
    "avg_results = {}\n",
    "\n",
    "for strat in raw_results:\n",
    "    avg_results[strat] = {}\n",
    "    for key in kpi:\n",
    "        avg_results[strat][key] = np.mean([f[key] for f in raw_results[strat]])\n",
    "    \n",
    "    avg_results[strat]['Win-rate'] = np.sum([1 for f in raw_results[strat] if f['Total Return'] > 0]) \\\n",
    "        / np.sum([1 for f in raw_results[strat]])\n",
    "\n",
    "\n",
    "\n",
    "for strat in avg_results:\n",
    "    print(strat)\n",
    "    \n",
    "    print('Total Return:            {:.2f} %'.format(avg_results[strat]['Total Return'] * 100))\n",
    "    print('CAGR:                    {:.2f} %'.format(avg_results[strat]['CAGR'] * 100))\n",
    "    print('Volatility:              {:.2f} %'.format(avg_results[strat]['Volatility'] * 100))\n",
    "    print('Beta:                    {:.2f}'.format(avg_results[strat]['Beta']))\n",
    "    print('Sharpe Ratio:            {:.2f}'.format(avg_results[strat]['Sharpe Ratio']))\n",
    "    print('Win-rate:                {:.2f} %'.format(avg_results[strat]['Win-rate'] * 100))\n",
    "    print('Max Drawdown:            {:.2f} %'.format(avg_results[strat]['Max Drawdown'] * 100))\n",
    "    print('Return over Max DD:      {:.2f}'.format(avg_results[strat]['RoMaxDD']))\n",
    "    \n",
    "\n",
    "    print('-------------------------------------')\n",
    "\n"
   ]
  },
  {
   "attachments": {},
   "cell_type": "markdown",
   "metadata": {},
   "source": [
    "### Optimal Leverage\n",
    "For leveraged assets, find what is optimal leverage."
   ]
  },
  {
   "cell_type": "code",
   "execution_count": null,
   "metadata": {},
   "outputs": [
    {
     "data": {
      "application/vnd.jupyter.widget-view+json": {
       "model_id": "7a5791a164ef4f0489d693256b2dd7b7",
       "version_major": 2,
       "version_minor": 0
      },
      "text/plain": [
       "  0%|          | 0/1000 [00:00<?, ?it/s]"
      ]
     },
     "metadata": {},
     "output_type": "display_data"
    },
    {
     "ename": "NameError",
     "evalue": "name 'leveraged_strategy' is not defined",
     "output_type": "error",
     "traceback": [
      "\u001b[1;31m---------------------------------------------------------------------------\u001b[0m",
      "\u001b[1;31mNameError\u001b[0m                                 Traceback (most recent call last)",
      "\u001b[1;32mc:\\Users\\alexr\\Quantitative_Finance_Modelling\\Simulation of Strategies\\MAIN.ipynb Cell 40\u001b[0m in \u001b[0;36m<cell line: 10>\u001b[1;34m()\u001b[0m\n\u001b[0;32m     <a href='vscode-notebook-cell:/c%3A/Users/alexr/Quantitative_Finance_Modelling/Simulation%20of%20Strategies/MAIN.ipynb#X50sZmlsZQ%3D%3D?line=11'>12</a>\u001b[0m results \u001b[39m=\u001b[39m {}\n\u001b[0;32m     <a href='vscode-notebook-cell:/c%3A/Users/alexr/Quantitative_Finance_Modelling/Simulation%20of%20Strategies/MAIN.ipynb#X50sZmlsZQ%3D%3D?line=13'>14</a>\u001b[0m \u001b[39mfor\u001b[39;00m lev \u001b[39min\u001b[39;00m leverage_arr:\n\u001b[1;32m---> <a href='vscode-notebook-cell:/c%3A/Users/alexr/Quantitative_Finance_Modelling/Simulation%20of%20Strategies/MAIN.ipynb#X50sZmlsZQ%3D%3D?line=14'>15</a>\u001b[0m     results[lev] \u001b[39m=\u001b[39m leveraged_strategy(stock_price, leverage\u001b[39m=\u001b[39mlev)\n\u001b[0;32m     <a href='vscode-notebook-cell:/c%3A/Users/alexr/Quantitative_Finance_Modelling/Simulation%20of%20Strategies/MAIN.ipynb#X50sZmlsZQ%3D%3D?line=16'>17</a>\u001b[0m \u001b[39mfor\u001b[39;00m strat \u001b[39min\u001b[39;00m results:\n\u001b[0;32m     <a href='vscode-notebook-cell:/c%3A/Users/alexr/Quantitative_Finance_Modelling/Simulation%20of%20Strategies/MAIN.ipynb#X50sZmlsZQ%3D%3D?line=17'>18</a>\u001b[0m     rt, ch \u001b[39m=\u001b[39m results[strat]\n",
      "\u001b[1;31mNameError\u001b[0m: name 'leveraged_strategy' is not defined"
     ]
    }
   ],
   "source": [
    "\n",
    "leverage_arr = np.arange(-5, 5.5, 0.1)\n",
    "\n",
    "leverage_arr = [f for f in leverage_arr if f < -0.5 or f > 0.5]\n",
    "\n",
    "raw_results = {}\n",
    "\n",
    "for lev in leverage_arr:\n",
    "    raw_results[lev] = []\n",
    "\n",
    "for i in tqdm(range(1000)):\n",
    "    stock_price, daily_changes = generate_stock(laplace_params, num_days=num_days, initial_price=400)\n",
    "    results = {}\n",
    "    \n",
    "    for lev in leverage_arr:\n",
    "        results[lev] = leveraged_strategy(stock_price, leverage=lev)\n",
    "\n",
    "    for strat in results:\n",
    "        rt, ch = results[strat]\n",
    "        kpi_dict = get_kpi(rt, ch)\n",
    "        \n",
    "        raw_results[strat].append(kpi_dict)\n",
    "    "
   ]
  },
  {
   "cell_type": "code",
   "execution_count": null,
   "metadata": {},
   "outputs": [
    {
     "data": {
      "image/png": "[encoded data removed]",
      "text/plain": [
       "<Figure size 432x288 with 1 Axes>"
      ]
     },
     "metadata": {
      "needs_background": "light"
     },
     "output_type": "display_data"
    },
    {
     "data": {
      "image/png": "[encoded data removed]",
      "text/plain": [
       "<Figure size 432x288 with 1 Axes>"
      ]
     },
     "metadata": {
      "needs_background": "light"
     },
     "output_type": "display_data"
    }
   ],
   "source": [
    "avg_results = {}\n",
    "\n",
    "for strat in raw_results:\n",
    "    avg_results[strat] = {}\n",
    "    for key in kpi:\n",
    "        avg_results[strat][key] = np.mean([f[key] for f in raw_results[strat]])\n",
    "    \n",
    "    avg_results[strat]['Win-rate'] = np.sum([1 for f in raw_results[strat] if f['Total Return'] > 0]) \\\n",
    "        / np.sum([1 for f in raw_results[strat]])\n",
    "\n",
    "\n",
    "\n",
    "# for strat in avg_results:\n",
    "#     print(strat)\n",
    "    \n",
    "#     print('Total Return:            {:.2f} %'.format(avg_results[strat]['Total Return'] * 100))\n",
    "#     print('CAGR:                    {:.2f} %'.format(avg_results[strat]['CAGR'] * 100))\n",
    "#     print('Volatility:              {:.2f} %'.format(avg_results[strat]['Volatility'] * 100))\n",
    "#     print('Beta:                    {:.2f}'.format(avg_results[strat]['Beta']))\n",
    "#     print('Sharpe Ratio:            {:.2f}'.format(avg_results[strat]['Sharpe Ratio']))\n",
    "#     print('Win-rate:                {:.2f} %'.format(avg_results[strat]['Win-rate'] * 100))\n",
    "#     print('Max Drawdown:            {:.2f} %'.format(avg_results[strat]['Max Drawdown'] * 100))\n",
    "#     print('Return over Max DD:      {:.2f}'.format(avg_results[strat]['RoMaxDD']))\n",
    "    \n",
    "#     print('-------------------------------------')\n",
    "\n",
    "\n",
    "sr_arr = []\n",
    "romaxdd_arr = []\n",
    "for strat in avg_results:\n",
    "    sr_arr.append(avg_results[strat]['Sharpe Ratio'])\n",
    "    romaxdd_arr.append(avg_results[strat]['RoMaxDD'])\n",
    "\n",
    "plt.plot(leverage_arr, sr_arr, marker='^')\n",
    "plt.show()\n",
    "\n",
    "plt.plot(leverage_arr, romaxdd_arr, marker='^')\n",
    "plt.show()\n",
    "\n"
   ]
  },
  {
   "cell_type": "code",
   "execution_count": null,
   "metadata": {},
   "outputs": [
    {
     "data": {
      "text/html": [
       "<div>\n",
       "<style scoped>\n",
       "    .dataframe tbody tr th:only-of-type {\n",
       "        vertical-align: middle;\n",
       "    }\n",
       "\n",
       "    .dataframe tbody tr th {\n",
       "        vertical-align: top;\n",
       "    }\n",
       "\n",
       "    .dataframe thead th {\n",
       "        text-align: right;\n",
       "    }\n",
       "</style>\n",
       "<table border=\"1\" class=\"dataframe\">\n",
       "  <thead>\n",
       "    <tr style=\"text-align: right;\">\n",
       "      <th></th>\n",
       "      <th>open</th>\n",
       "      <th>high</th>\n",
       "      <th>low</th>\n",
       "      <th>close</th>\n",
       "      <th>adjclose</th>\n",
       "      <th>volume</th>\n",
       "      <th>ticker</th>\n",
       "      <th>close daily returns</th>\n",
       "    </tr>\n",
       "    <tr>\n",
       "      <th>date</th>\n",
       "      <th></th>\n",
       "      <th></th>\n",
       "      <th></th>\n",
       "      <th></th>\n",
       "      <th></th>\n",
       "      <th></th>\n",
       "      <th></th>\n",
       "      <th></th>\n",
       "    </tr>\n",
       "  </thead>\n",
       "  <tbody>\n",
       "    <tr>\n",
       "      <th>1993-02-01</th>\n",
       "      <td>43.968750</td>\n",
       "      <td>44.250000</td>\n",
       "      <td>43.968750</td>\n",
       "      <td>44.250000</td>\n",
       "      <td>25.397573</td>\n",
       "      <td>480500</td>\n",
       "      <td>SPY</td>\n",
       "      <td>0.007112</td>\n",
       "    </tr>\n",
       "    <tr>\n",
       "      <th>1993-02-02</th>\n",
       "      <td>44.218750</td>\n",
       "      <td>44.375000</td>\n",
       "      <td>44.125000</td>\n",
       "      <td>44.343750</td>\n",
       "      <td>25.451389</td>\n",
       "      <td>201300</td>\n",
       "      <td>SPY</td>\n",
       "      <td>0.002119</td>\n",
       "    </tr>\n",
       "    <tr>\n",
       "      <th>1993-02-03</th>\n",
       "      <td>44.406250</td>\n",
       "      <td>44.843750</td>\n",
       "      <td>44.375000</td>\n",
       "      <td>44.812500</td>\n",
       "      <td>25.720436</td>\n",
       "      <td>529400</td>\n",
       "      <td>SPY</td>\n",
       "      <td>0.010571</td>\n",
       "    </tr>\n",
       "    <tr>\n",
       "      <th>1993-02-04</th>\n",
       "      <td>44.968750</td>\n",
       "      <td>45.093750</td>\n",
       "      <td>44.468750</td>\n",
       "      <td>45.000000</td>\n",
       "      <td>25.828054</td>\n",
       "      <td>531500</td>\n",
       "      <td>SPY</td>\n",
       "      <td>0.004184</td>\n",
       "    </tr>\n",
       "    <tr>\n",
       "      <th>1993-02-05</th>\n",
       "      <td>44.968750</td>\n",
       "      <td>45.062500</td>\n",
       "      <td>44.718750</td>\n",
       "      <td>44.968750</td>\n",
       "      <td>25.810122</td>\n",
       "      <td>492100</td>\n",
       "      <td>SPY</td>\n",
       "      <td>-0.000694</td>\n",
       "    </tr>\n",
       "    <tr>\n",
       "      <th>...</th>\n",
       "      <td>...</td>\n",
       "      <td>...</td>\n",
       "      <td>...</td>\n",
       "      <td>...</td>\n",
       "      <td>...</td>\n",
       "      <td>...</td>\n",
       "      <td>...</td>\n",
       "      <td>...</td>\n",
       "    </tr>\n",
       "    <tr>\n",
       "      <th>2023-01-09</th>\n",
       "      <td>390.369995</td>\n",
       "      <td>393.700012</td>\n",
       "      <td>387.670013</td>\n",
       "      <td>387.859985</td>\n",
       "      <td>387.859985</td>\n",
       "      <td>73978100</td>\n",
       "      <td>SPY</td>\n",
       "      <td>-0.000567</td>\n",
       "    </tr>\n",
       "    <tr>\n",
       "      <th>2023-01-10</th>\n",
       "      <td>387.250000</td>\n",
       "      <td>390.649994</td>\n",
       "      <td>386.269989</td>\n",
       "      <td>390.579987</td>\n",
       "      <td>390.579987</td>\n",
       "      <td>65358100</td>\n",
       "      <td>SPY</td>\n",
       "      <td>0.007013</td>\n",
       "    </tr>\n",
       "    <tr>\n",
       "      <th>2023-01-11</th>\n",
       "      <td>392.230011</td>\n",
       "      <td>395.600006</td>\n",
       "      <td>391.380005</td>\n",
       "      <td>395.519989</td>\n",
       "      <td>395.519989</td>\n",
       "      <td>68881100</td>\n",
       "      <td>SPY</td>\n",
       "      <td>0.012648</td>\n",
       "    </tr>\n",
       "    <tr>\n",
       "      <th>2023-01-12</th>\n",
       "      <td>396.670013</td>\n",
       "      <td>398.489990</td>\n",
       "      <td>392.420013</td>\n",
       "      <td>396.959991</td>\n",
       "      <td>396.959991</td>\n",
       "      <td>90157700</td>\n",
       "      <td>SPY</td>\n",
       "      <td>0.003641</td>\n",
       "    </tr>\n",
       "    <tr>\n",
       "      <th>2023-01-13</th>\n",
       "      <td>393.619995</td>\n",
       "      <td>399.100006</td>\n",
       "      <td>393.339996</td>\n",
       "      <td>398.500000</td>\n",
       "      <td>398.500000</td>\n",
       "      <td>63863400</td>\n",
       "      <td>SPY</td>\n",
       "      <td>0.003880</td>\n",
       "    </tr>\n",
       "  </tbody>\n",
       "</table>\n",
       "<p>7544 rows × 8 columns</p>\n",
       "</div>"
      ],
      "text/plain": [
       "                  open        high         low       close    adjclose  \\\n",
       "date                                                                     \n",
       "1993-02-01   43.968750   44.250000   43.968750   44.250000   25.397573   \n",
       "1993-02-02   44.218750   44.375000   44.125000   44.343750   25.451389   \n",
       "1993-02-03   44.406250   44.843750   44.375000   44.812500   25.720436   \n",
       "1993-02-04   44.968750   45.093750   44.468750   45.000000   25.828054   \n",
       "1993-02-05   44.968750   45.062500   44.718750   44.968750   25.810122   \n",
       "...                ...         ...         ...         ...         ...   \n",
       "2023-01-09  390.369995  393.700012  387.670013  387.859985  387.859985   \n",
       "2023-01-10  387.250000  390.649994  386.269989  390.579987  390.579987   \n",
       "2023-01-11  392.230011  395.600006  391.380005  395.519989  395.519989   \n",
       "2023-01-12  396.670013  398.489990  392.420013  396.959991  396.959991   \n",
       "2023-01-13  393.619995  399.100006  393.339996  398.500000  398.500000   \n",
       "\n",
       "              volume ticker  close daily returns  \n",
       "date                                              \n",
       "1993-02-01    480500    SPY             0.007112  \n",
       "1993-02-02    201300    SPY             0.002119  \n",
       "1993-02-03    529400    SPY             0.010571  \n",
       "1993-02-04    531500    SPY             0.004184  \n",
       "1993-02-05    492100    SPY            -0.000694  \n",
       "...              ...    ...                  ...  \n",
       "2023-01-09  73978100    SPY            -0.000567  \n",
       "2023-01-10  65358100    SPY             0.007013  \n",
       "2023-01-11  68881100    SPY             0.012648  \n",
       "2023-01-12  90157700    SPY             0.003641  \n",
       "2023-01-13  63863400    SPY             0.003880  \n",
       "\n",
       "[7544 rows x 8 columns]"
      ]
     },
     "execution_count": 15,
     "metadata": {},
     "output_type": "execute_result"
    }
   ],
   "source": [
    "df"
   ]
  },
  {
   "cell_type": "markdown",
   "metadata": {},
   "source": [
    "## Returns"
   ]
  },
  {
   "cell_type": "code",
   "execution_count": null,
   "metadata": {},
   "outputs": [
    {
     "ename": "KeyError",
     "evalue": "'dca_return'",
     "output_type": "error",
     "traceback": [
      "\u001b[1;31m---------------------------------------------------------------------------\u001b[0m",
      "\u001b[1;31mKeyError\u001b[0m                                  Traceback (most recent call last)",
      "\u001b[1;32mc:\\Users\\alexr\\AppData\\Local\\Programs\\Python\\Python38\\lib\\site-packages\\pandas\\core\\indexes\\base.py\u001b[0m in \u001b[0;36mget_loc\u001b[1;34m(self, key, method, tolerance)\u001b[0m\n\u001b[0;32m   3079\u001b[0m             \u001b[1;32mtry\u001b[0m\u001b[1;33m:\u001b[0m\u001b[1;33m\u001b[0m\u001b[1;33m\u001b[0m\u001b[0m\n\u001b[1;32m-> 3080\u001b[1;33m                 \u001b[1;32mreturn\u001b[0m \u001b[0mself\u001b[0m\u001b[1;33m.\u001b[0m\u001b[0m_engine\u001b[0m\u001b[1;33m.\u001b[0m\u001b[0mget_loc\u001b[0m\u001b[1;33m(\u001b[0m\u001b[0mcasted_key\u001b[0m\u001b[1;33m)\u001b[0m\u001b[1;33m\u001b[0m\u001b[1;33m\u001b[0m\u001b[0m\n\u001b[0m\u001b[0;32m   3081\u001b[0m             \u001b[1;32mexcept\u001b[0m \u001b[0mKeyError\u001b[0m \u001b[1;32mas\u001b[0m \u001b[0merr\u001b[0m\u001b[1;33m:\u001b[0m\u001b[1;33m\u001b[0m\u001b[1;33m\u001b[0m\u001b[0m\n",
      "\u001b[1;32mpandas\\_libs\\index.pyx\u001b[0m in \u001b[0;36mpandas._libs.index.IndexEngine.get_loc\u001b[1;34m()\u001b[0m\n",
      "\u001b[1;32mpandas\\_libs\\index.pyx\u001b[0m in \u001b[0;36mpandas._libs.index.IndexEngine.get_loc\u001b[1;34m()\u001b[0m\n",
      "\u001b[1;32mpandas\\_libs\\hashtable_class_helper.pxi\u001b[0m in \u001b[0;36mpandas._libs.hashtable.PyObjectHashTable.get_item\u001b[1;34m()\u001b[0m\n",
      "\u001b[1;32mpandas\\_libs\\hashtable_class_helper.pxi\u001b[0m in \u001b[0;36mpandas._libs.hashtable.PyObjectHashTable.get_item\u001b[1;34m()\u001b[0m\n",
      "\u001b[1;31mKeyError\u001b[0m: 'dca_return'",
      "\nThe above exception was the direct cause of the following exception:\n",
      "\u001b[1;31mKeyError\u001b[0m                                  Traceback (most recent call last)",
      "\u001b[1;32m<ipython-input-16-8294f6829f41>\u001b[0m in \u001b[0;36m<module>\u001b[1;34m\u001b[0m\n\u001b[0;32m      2\u001b[0m     \u001b[0mfig\u001b[0m \u001b[1;33m=\u001b[0m \u001b[0mplt\u001b[0m\u001b[1;33m.\u001b[0m\u001b[0mfigure\u001b[0m\u001b[1;33m(\u001b[0m\u001b[0mfigsize\u001b[0m\u001b[1;33m=\u001b[0m\u001b[1;33m(\u001b[0m\u001b[1;36m14\u001b[0m\u001b[1;33m,\u001b[0m\u001b[1;36m7\u001b[0m\u001b[1;33m)\u001b[0m\u001b[1;33m)\u001b[0m\u001b[1;33m\u001b[0m\u001b[1;33m\u001b[0m\u001b[0m\n\u001b[0;32m      3\u001b[0m     \u001b[0mplt\u001b[0m\u001b[1;33m.\u001b[0m\u001b[0mplot\u001b[0m\u001b[1;33m(\u001b[0m\u001b[0mdf\u001b[0m\u001b[1;33m.\u001b[0m\u001b[0mindex\u001b[0m\u001b[1;33m,\u001b[0m \u001b[0mdf\u001b[0m\u001b[1;33m[\u001b[0m\u001b[1;34m'close daily returns'\u001b[0m\u001b[1;33m]\u001b[0m \u001b[1;33m*\u001b[0m \u001b[1;36m100\u001b[0m\u001b[1;33m,\u001b[0m \u001b[0mlinewidth\u001b[0m\u001b[1;33m=\u001b[0m\u001b[1;36m1.5\u001b[0m\u001b[1;33m,\u001b[0m \u001b[0mlabel\u001b[0m\u001b[1;33m=\u001b[0m\u001b[1;34m'buy_hold'\u001b[0m\u001b[1;33m)\u001b[0m\u001b[1;33m\u001b[0m\u001b[1;33m\u001b[0m\u001b[0m\n\u001b[1;32m----> 4\u001b[1;33m     \u001b[0mplt\u001b[0m\u001b[1;33m.\u001b[0m\u001b[0mplot\u001b[0m\u001b[1;33m(\u001b[0m\u001b[0mdf\u001b[0m\u001b[1;33m.\u001b[0m\u001b[0mindex\u001b[0m\u001b[1;33m,\u001b[0m \u001b[0mdf\u001b[0m\u001b[1;33m[\u001b[0m\u001b[1;34m'dca_return'\u001b[0m\u001b[1;33m]\u001b[0m \u001b[1;33m*\u001b[0m \u001b[1;36m100\u001b[0m\u001b[1;33m,\u001b[0m \u001b[0mlinewidth\u001b[0m\u001b[1;33m=\u001b[0m\u001b[1;36m1.5\u001b[0m\u001b[1;33m,\u001b[0m \u001b[0mlabel\u001b[0m\u001b[1;33m=\u001b[0m\u001b[1;34m'dca'\u001b[0m\u001b[1;33m)\u001b[0m\u001b[1;33m\u001b[0m\u001b[1;33m\u001b[0m\u001b[0m\n\u001b[0m\u001b[0;32m      5\u001b[0m \u001b[1;33m\u001b[0m\u001b[0m\n\u001b[0;32m      6\u001b[0m     \u001b[0mplt\u001b[0m\u001b[1;33m.\u001b[0m\u001b[0mtitle\u001b[0m\u001b[1;33m(\u001b[0m\u001b[1;34m\"Buy_Hold vs DCA (Returns, SP500, dca every 20 days)\"\u001b[0m\u001b[1;33m)\u001b[0m\u001b[1;33m\u001b[0m\u001b[1;33m\u001b[0m\u001b[0m\n",
      "\u001b[1;32mc:\\Users\\alexr\\AppData\\Local\\Programs\\Python\\Python38\\lib\\site-packages\\pandas\\core\\frame.py\u001b[0m in \u001b[0;36m__getitem__\u001b[1;34m(self, key)\u001b[0m\n\u001b[0;32m   3022\u001b[0m             \u001b[1;32mif\u001b[0m \u001b[0mself\u001b[0m\u001b[1;33m.\u001b[0m\u001b[0mcolumns\u001b[0m\u001b[1;33m.\u001b[0m\u001b[0mnlevels\u001b[0m \u001b[1;33m>\u001b[0m \u001b[1;36m1\u001b[0m\u001b[1;33m:\u001b[0m\u001b[1;33m\u001b[0m\u001b[1;33m\u001b[0m\u001b[0m\n\u001b[0;32m   3023\u001b[0m                 \u001b[1;32mreturn\u001b[0m \u001b[0mself\u001b[0m\u001b[1;33m.\u001b[0m\u001b[0m_getitem_multilevel\u001b[0m\u001b[1;33m(\u001b[0m\u001b[0mkey\u001b[0m\u001b[1;33m)\u001b[0m\u001b[1;33m\u001b[0m\u001b[1;33m\u001b[0m\u001b[0m\n\u001b[1;32m-> 3024\u001b[1;33m             \u001b[0mindexer\u001b[0m \u001b[1;33m=\u001b[0m \u001b[0mself\u001b[0m\u001b[1;33m.\u001b[0m\u001b[0mcolumns\u001b[0m\u001b[1;33m.\u001b[0m\u001b[0mget_loc\u001b[0m\u001b[1;33m(\u001b[0m\u001b[0mkey\u001b[0m\u001b[1;33m)\u001b[0m\u001b[1;33m\u001b[0m\u001b[1;33m\u001b[0m\u001b[0m\n\u001b[0m\u001b[0;32m   3025\u001b[0m             \u001b[1;32mif\u001b[0m \u001b[0mis_integer\u001b[0m\u001b[1;33m(\u001b[0m\u001b[0mindexer\u001b[0m\u001b[1;33m)\u001b[0m\u001b[1;33m:\u001b[0m\u001b[1;33m\u001b[0m\u001b[1;33m\u001b[0m\u001b[0m\n\u001b[0;32m   3026\u001b[0m                 \u001b[0mindexer\u001b[0m \u001b[1;33m=\u001b[0m \u001b[1;33m[\u001b[0m\u001b[0mindexer\u001b[0m\u001b[1;33m]\u001b[0m\u001b[1;33m\u001b[0m\u001b[1;33m\u001b[0m\u001b[0m\n",
      "\u001b[1;32mc:\\Users\\alexr\\AppData\\Local\\Programs\\Python\\Python38\\lib\\site-packages\\pandas\\core\\indexes\\base.py\u001b[0m in \u001b[0;36mget_loc\u001b[1;34m(self, key, method, tolerance)\u001b[0m\n\u001b[0;32m   3080\u001b[0m                 \u001b[1;32mreturn\u001b[0m \u001b[0mself\u001b[0m\u001b[1;33m.\u001b[0m\u001b[0m_engine\u001b[0m\u001b[1;33m.\u001b[0m\u001b[0mget_loc\u001b[0m\u001b[1;33m(\u001b[0m\u001b[0mcasted_key\u001b[0m\u001b[1;33m)\u001b[0m\u001b[1;33m\u001b[0m\u001b[1;33m\u001b[0m\u001b[0m\n\u001b[0;32m   3081\u001b[0m             \u001b[1;32mexcept\u001b[0m \u001b[0mKeyError\u001b[0m \u001b[1;32mas\u001b[0m \u001b[0merr\u001b[0m\u001b[1;33m:\u001b[0m\u001b[1;33m\u001b[0m\u001b[1;33m\u001b[0m\u001b[0m\n\u001b[1;32m-> 3082\u001b[1;33m                 \u001b[1;32mraise\u001b[0m \u001b[0mKeyError\u001b[0m\u001b[1;33m(\u001b[0m\u001b[0mkey\u001b[0m\u001b[1;33m)\u001b[0m \u001b[1;32mfrom\u001b[0m \u001b[0merr\u001b[0m\u001b[1;33m\u001b[0m\u001b[1;33m\u001b[0m\u001b[0m\n\u001b[0m\u001b[0;32m   3083\u001b[0m \u001b[1;33m\u001b[0m\u001b[0m\n\u001b[0;32m   3084\u001b[0m         \u001b[1;32mif\u001b[0m \u001b[0mtolerance\u001b[0m \u001b[1;32mis\u001b[0m \u001b[1;32mnot\u001b[0m \u001b[1;32mNone\u001b[0m\u001b[1;33m:\u001b[0m\u001b[1;33m\u001b[0m\u001b[1;33m\u001b[0m\u001b[0m\n",
      "\u001b[1;31mKeyError\u001b[0m: 'dca_return'"
     ]
    },
    {
     "data": {
      "image/png": "[encoded data removed]",
      "text/plain": [
       "<Figure size 1008x504 with 1 Axes>"
      ]
     },
     "metadata": {},
     "output_type": "display_data"
    }
   ],
   "source": [
    "with plt.style.context('fivethirtyeight'):\n",
    "    fig = plt.figure(figsize=(14,7))\n",
    "    plt.plot(df.index, df['close daily change'] * 100, linewidth=1.5, label='buy_hold')\n",
    "    plt.plot(df.index, df['dca_return'] * 100, linewidth=1.5, label='dca')\n",
    "    \n",
    "    plt.title(\"Buy_Hold vs DCA (Returns, SP500, dca every 20 days)\")\n",
    "    plt.ylabel('Returns %')\n",
    "    plt.legend()"
   ]
  },
  {
   "cell_type": "markdown",
   "metadata": {},
   "source": [
    "## Drawdown"
   ]
  },
  {
   "cell_type": "code",
   "execution_count": null,
   "metadata": {},
   "outputs": [],
   "source": [
    "with plt.style.context('fivethirtyeight'):\n",
    "    fig = plt.figure(figsize=(14,7))\n",
    "    plt.plot(df.index, df['buy_hold_drawdown'] * 100, linewidth=1.5, label='buy_hold')\n",
    "    plt.plot(df.index, df['dca_drawdown'] * 100, linewidth=1.5, label='dca')\n",
    "    \n",
    "\n",
    "\n",
    "    plt.title(\"Buy_Hold vs DCA (Drawdown, SP500, dca every 20 days)\")\n",
    "    plt.ylabel('Drawdown %')\n",
    "    plt.legend()\n"
   ]
  },
  {
   "cell_type": "markdown",
   "metadata": {},
   "source": [
    "## Drawdown Distribution"
   ]
  },
  {
   "cell_type": "code",
   "execution_count": null,
   "metadata": {},
   "outputs": [],
   "source": [
    "buy_hold = sns.displot(df['buy_hold_drawdown'], color='blue', bins=30)\n",
    "dca = sns.displot(df['dca_drawdown'], color='red', bins=30)"
   ]
  },
  {
   "cell_type": "markdown",
   "metadata": {},
   "source": [
    "## Annual Returns Dsitribution"
   ]
  },
  {
   "cell_type": "code",
   "execution_count": null,
   "metadata": {},
   "outputs": [],
   "source": [
    "# Rolling Annual Returns\n",
    "bh_annual_returns = np.array(((df['buy_hold_daily_return'] + 1).rolling(252).apply(np.prod, raw=True) - 1) * 100)\n",
    "dca_annual_returns = np.array(((df['dca_daily_return'] + 1).rolling(252).apply(np.prod, raw=True) - 1) * 100)\n",
    "\n",
    "annual_returns = pd.DataFrame({'buy_hold': bh_annual_returns, 'dca': dca_annual_returns})\n",
    "\n",
    "sns.displot(annual_returns['buy_hold'], color='blue', bins=100)\n",
    "sns.displot(annual_returns['dca'], color='red', bins=100)"
   ]
  },
  {
   "cell_type": "markdown",
   "metadata": {},
   "source": [
    "## Statistics"
   ]
  },
  {
   "cell_type": "code",
   "execution_count": null,
   "metadata": {},
   "outputs": [],
   "source": [
    "num_years = len(df) / 252\n",
    "\n",
    "print('Buy_HODL')\n",
    "print(\"Total Returns:              \" + \"{:.2f}\".format(df['buy_hold_return'][-1] * 100) + \" %\")\n",
    "print(\"CAGR:                       \" + \"{:.2f}\".format(((df['buy_hold_return'][-1] + 1) ** (1 / num_years) - 1) * 100) + \" %\")\n",
    "print(\"Maximum Drawdown:          \" + \"{:.2f}\".format(np.min(df['buy_hold_drawdown'] * 100)) + \" %\")\n",
    "bh_dr_mean = np.mean(df['buy_hold_daily_return'])\n",
    "bh_dr_var = np.var(df['buy_hold_daily_return'])\n",
    "bh_ar_mean = (bh_dr_mean + 1) ** 252 - 1\n",
    "bh_ar_var = bh_dr_var * np.sqrt(252)\n",
    "print(\"Annual Returns Mean:        \" + \"{:.2f}\".format(bh_ar_mean * 100) + \" %\")\n",
    "print(\"Annual Returns Std Dev:     \" + \"{:.2f}\".format(np.sqrt(bh_ar_var) * 100) + \" %\")\n",
    "print(\"99% Worst Annual Drawdown: \" + \"{:.2f}\".format(bh_ar_mean - 2.33 * np.sqrt(bh_ar_var) * 100) + \" %\")\n",
    "\n",
    "print()\n",
    "\n",
    "print('DCA')\n",
    "print(\"Total Returns:              \" + \"{:.2f}\".format(df['dca_return'][-1] * 100) + \" %\")\n",
    "print(\"CAGR:                       \" + \"{:.2f}\".format(((df['dca_return'][-1] + 1) ** (1 / num_years) - 1) * 100) + \" %\")\n",
    "print(\"Maximum Drawdown:          \" + \"{:.2f}\".format(np.min(df['dca_drawdown'] * 100)) + \" %\")\n",
    "dca_dr_mean = np.mean(df['dca_daily_return'])\n",
    "dca_dr_var = np.var(df['dca_daily_return'])\n",
    "dca_ar_mean = (dca_dr_mean + 1) ** 252 - 1\n",
    "dca_ar_var = dca_dr_var * np.sqrt(252)\n",
    "print(\"Annual Returns Mean:        \" + \"{:.2f}\".format(dca_ar_mean * 100) + \" %\")\n",
    "print(\"Annual Returns Std Dev:     \" + \"{:.2f}\".format(np.sqrt(dca_ar_var) * 100) + \" %\")\n",
    "print(\"99% Worst Annual Drawdown: \" + \"{:.2f}\".format(dca_ar_mean - 2.33 * np.sqrt(dca_ar_var) * 100) + \" %\")"
   ]
  }
 ],
 "metadata": {
  "kernelspec": {
   "display_name": "Python 3",
   "language": "python",
   "name": "python3"
  },
  "language_info": {
   "codemirror_mode": {
    "name": "ipython",
    "version": 3
   },
   "file_extension": ".py",
   "mimetype": "text/x-python",
   "name": "python",
   "nbconvert_exporter": "python",
   "pygments_lexer": "ipython3",
   "version": "3.9.6"
  },
  "vscode": {
   "interpreter": {
    "hash": "bd236a709519b3ae3b820ac756eadb1966d4cb8f661a5378fefc33f5d1fc84f1"
   }
  }
 },
 "nbformat": 4,
 "nbformat_minor": 4
}
