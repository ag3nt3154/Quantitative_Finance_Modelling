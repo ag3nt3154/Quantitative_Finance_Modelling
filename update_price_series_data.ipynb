{
 "cells": [
  {
   "attachments": {},
   "cell_type": "markdown",
   "metadata": {},
   "source": [
    "# Update daily OHLCV data from yahoo finance"
   ]
  },
  {
   "cell_type": "code",
   "execution_count": 2,
   "metadata": {},
   "outputs": [
    {
     "name": "stdout",
     "output_type": "stream",
     "text": [
      "SPY\n",
      "UPRO\n",
      "TECL\n",
      "FAS\n",
      "TMF\n",
      "USO\n",
      "DBB\n",
      "BITO\n",
      "DBA\n",
      "GLD\n",
      "EEM\n",
      "JEPI\n",
      "SPYI\n"
     ]
    }
   ],
   "source": [
    "from utils import misc as misc\n",
    "import pandas as pd\n",
    "\n",
    "ticker_list = ['SPY', 'UPRO', 'TECL', 'FAS', 'TMF', 'USO', 'DBB', 'BITO', 'DBA', 'GLD', 'EEM', 'JEPI', 'SPYI']\n",
    "\n",
    "for ticker in ticker_list:\n",
    "    print(ticker)\n",
    "    df = misc.get_price_data(ticker)\n",
    "    df.to_csv('datasets/stock_price_series/' + ticker + '.csv')"
   ]
  }
 ],
 "metadata": {
  "kernelspec": {
   "display_name": "Python 3",
   "language": "python",
   "name": "python3"
  },
  "language_info": {
   "codemirror_mode": {
    "name": "ipython",
    "version": 3
   },
   "file_extension": ".py",
   "mimetype": "text/x-python",
   "name": "python",
   "nbconvert_exporter": "python",
   "pygments_lexer": "ipython3",
   "version": "3.9.16"
  },
  "orig_nbformat": 4,
  "vscode": {
   "interpreter": {
    "hash": "63d416fa26d21159a6eb71389ee5685508ce23e26157debdd759e43076ad061e"
   }
  }
 },
 "nbformat": 4,
 "nbformat_minor": 2
}
