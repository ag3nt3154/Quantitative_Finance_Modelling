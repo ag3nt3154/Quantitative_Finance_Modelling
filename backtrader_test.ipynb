{
 "cells": [
  {
   "cell_type": "code",
   "execution_count": 9,
   "metadata": {},
   "outputs": [
    {
     "name": "stdout",
     "output_type": "stream",
     "text": [
      "Starting Portfolio Value: 5000.00\n"
     ]
    },
    {
     "ename": "ValueError",
     "evalue": "invalid literal for int() with base 10: ''",
     "output_type": "error",
     "traceback": [
      "\u001b[1;31m---------------------------------------------------------------------------\u001b[0m",
      "\u001b[1;31mValueError\u001b[0m                                Traceback (most recent call last)",
      "Cell \u001b[1;32mIn[9], line 32\u001b[0m\n\u001b[0;32m     28\u001b[0m cerebro\u001b[39m.\u001b[39mbroker\u001b[39m.\u001b[39msetcash(\u001b[39m5000.0\u001b[39m)\n\u001b[0;32m     30\u001b[0m \u001b[39mprint\u001b[39m(\u001b[39m'\u001b[39m\u001b[39mStarting Portfolio Value: \u001b[39m\u001b[39m%.2f\u001b[39;00m\u001b[39m'\u001b[39m \u001b[39m%\u001b[39m cerebro\u001b[39m.\u001b[39mbroker\u001b[39m.\u001b[39mgetvalue())\n\u001b[1;32m---> 32\u001b[0m cerebro\u001b[39m.\u001b[39;49mrun()\n\u001b[0;32m     34\u001b[0m \u001b[39mprint\u001b[39m(\u001b[39m'\u001b[39m\u001b[39mFinal Portfolio Value: \u001b[39m\u001b[39m%.2f\u001b[39;00m\u001b[39m'\u001b[39m \u001b[39m%\u001b[39m cerebro\u001b[39m.\u001b[39mbroker\u001b[39m.\u001b[39mgetvalue())\n",
      "File \u001b[1;32mc:\\Users\\alexr\\miniconda3\\envs\\TradeMaster\\lib\\site-packages\\backtrader\\cerebro.py:1132\u001b[0m, in \u001b[0;36mCerebro.run\u001b[1;34m(self, **kwargs)\u001b[0m\n\u001b[0;32m   1128\u001b[0m \u001b[39mif\u001b[39;00m \u001b[39mnot\u001b[39;00m \u001b[39mself\u001b[39m\u001b[39m.\u001b[39m_dooptimize \u001b[39mor\u001b[39;00m \u001b[39mself\u001b[39m\u001b[39m.\u001b[39mp\u001b[39m.\u001b[39mmaxcpus \u001b[39m==\u001b[39m \u001b[39m1\u001b[39m:\n\u001b[0;32m   1129\u001b[0m     \u001b[39m# If no optimmization is wished ... or 1 core is to be used\u001b[39;00m\n\u001b[0;32m   1130\u001b[0m     \u001b[39m# let's skip process \"spawning\"\u001b[39;00m\n\u001b[0;32m   1131\u001b[0m     \u001b[39mfor\u001b[39;00m iterstrat \u001b[39min\u001b[39;00m iterstrats:\n\u001b[1;32m-> 1132\u001b[0m         runstrat \u001b[39m=\u001b[39m \u001b[39mself\u001b[39;49m\u001b[39m.\u001b[39;49mrunstrategies(iterstrat)\n\u001b[0;32m   1133\u001b[0m         \u001b[39mself\u001b[39m\u001b[39m.\u001b[39mrunstrats\u001b[39m.\u001b[39mappend(runstrat)\n\u001b[0;32m   1134\u001b[0m         \u001b[39mif\u001b[39;00m \u001b[39mself\u001b[39m\u001b[39m.\u001b[39m_dooptimize:\n",
      "File \u001b[1;32mc:\\Users\\alexr\\miniconda3\\envs\\TradeMaster\\lib\\site-packages\\backtrader\\cerebro.py:1217\u001b[0m, in \u001b[0;36mCerebro.runstrategies\u001b[1;34m(self, iterstrat, predata)\u001b[0m\n\u001b[0;32m   1215\u001b[0m         data\u001b[39m.\u001b[39m_start()\n\u001b[0;32m   1216\u001b[0m         \u001b[39mif\u001b[39;00m \u001b[39mself\u001b[39m\u001b[39m.\u001b[39m_dopreload:\n\u001b[1;32m-> 1217\u001b[0m             data\u001b[39m.\u001b[39;49mpreload()\n\u001b[0;32m   1219\u001b[0m \u001b[39mfor\u001b[39;00m stratcls, sargs, skwargs \u001b[39min\u001b[39;00m iterstrat:\n\u001b[0;32m   1220\u001b[0m     sargs \u001b[39m=\u001b[39m \u001b[39mself\u001b[39m\u001b[39m.\u001b[39mdatas \u001b[39m+\u001b[39m \u001b[39mlist\u001b[39m(sargs)\n",
      "File \u001b[1;32mc:\\Users\\alexr\\miniconda3\\envs\\TradeMaster\\lib\\site-packages\\backtrader\\feed.py:689\u001b[0m, in \u001b[0;36mCSVDataBase.preload\u001b[1;34m(self)\u001b[0m\n\u001b[0;32m    688\u001b[0m \u001b[39mdef\u001b[39;00m \u001b[39mpreload\u001b[39m(\u001b[39mself\u001b[39m):\n\u001b[1;32m--> 689\u001b[0m     \u001b[39mwhile\u001b[39;00m \u001b[39mself\u001b[39;49m\u001b[39m.\u001b[39;49mload():\n\u001b[0;32m    690\u001b[0m         \u001b[39mpass\u001b[39;00m\n\u001b[0;32m    692\u001b[0m     \u001b[39mself\u001b[39m\u001b[39m.\u001b[39m_last()\n",
      "File \u001b[1;32mc:\\Users\\alexr\\miniconda3\\envs\\TradeMaster\\lib\\site-packages\\backtrader\\feed.py:480\u001b[0m, in \u001b[0;36mAbstractDataBase.load\u001b[1;34m(self)\u001b[0m\n\u001b[0;32m    477\u001b[0m     \u001b[39mreturn\u001b[39;00m \u001b[39mTrue\u001b[39;00m\n\u001b[0;32m    479\u001b[0m \u001b[39mif\u001b[39;00m \u001b[39mnot\u001b[39;00m \u001b[39mself\u001b[39m\u001b[39m.\u001b[39m_fromstack(stash\u001b[39m=\u001b[39m\u001b[39mTrue\u001b[39;00m):\n\u001b[1;32m--> 480\u001b[0m     _loadret \u001b[39m=\u001b[39m \u001b[39mself\u001b[39;49m\u001b[39m.\u001b[39;49m_load()\n\u001b[0;32m    481\u001b[0m     \u001b[39mif\u001b[39;00m \u001b[39mnot\u001b[39;00m _loadret:  \u001b[39m# no bar use force to make sure in exactbars\u001b[39;00m\n\u001b[0;32m    482\u001b[0m         \u001b[39m# the pointer is undone this covers especially (but not\u001b[39;00m\n\u001b[0;32m    483\u001b[0m         \u001b[39m# uniquely) the case in which the last bar has been seen\u001b[39;00m\n\u001b[0;32m    484\u001b[0m         \u001b[39m# and a backwards would ruin pointer accounting in the\u001b[39;00m\n\u001b[0;32m    485\u001b[0m         \u001b[39m# \"stop\" method of the strategy\u001b[39;00m\n\u001b[0;32m    486\u001b[0m         \u001b[39mself\u001b[39m\u001b[39m.\u001b[39mbackwards(force\u001b[39m=\u001b[39m\u001b[39mTrue\u001b[39;00m)  \u001b[39m# undo data pointer\u001b[39;00m\n",
      "File \u001b[1;32mc:\\Users\\alexr\\miniconda3\\envs\\TradeMaster\\lib\\site-packages\\backtrader\\feed.py:711\u001b[0m, in \u001b[0;36mCSVDataBase._load\u001b[1;34m(self)\u001b[0m\n\u001b[0;32m    709\u001b[0m line \u001b[39m=\u001b[39m line\u001b[39m.\u001b[39mrstrip(\u001b[39m'\u001b[39m\u001b[39m\\n\u001b[39;00m\u001b[39m'\u001b[39m)\n\u001b[0;32m    710\u001b[0m linetokens \u001b[39m=\u001b[39m line\u001b[39m.\u001b[39msplit(\u001b[39mself\u001b[39m\u001b[39m.\u001b[39mseparator)\n\u001b[1;32m--> 711\u001b[0m \u001b[39mreturn\u001b[39;00m \u001b[39mself\u001b[39;49m\u001b[39m.\u001b[39;49m_loadline(linetokens)\n",
      "File \u001b[1;32mc:\\Users\\alexr\\miniconda3\\envs\\TradeMaster\\lib\\site-packages\\backtrader\\feeds\\yahoo.py:129\u001b[0m, in \u001b[0;36mYahooFinanceCSVData._loadline\u001b[1;34m(self, linetokens)\u001b[0m\n\u001b[0;32m    126\u001b[0m i \u001b[39m=\u001b[39m itertools\u001b[39m.\u001b[39mcount(\u001b[39m0\u001b[39m)\n\u001b[0;32m    128\u001b[0m dttxt \u001b[39m=\u001b[39m linetokens[\u001b[39mnext\u001b[39m(i)]\n\u001b[1;32m--> 129\u001b[0m dt \u001b[39m=\u001b[39m date(\u001b[39mint\u001b[39m(dttxt[\u001b[39m0\u001b[39m:\u001b[39m4\u001b[39m]), \u001b[39mint\u001b[39;49m(dttxt[\u001b[39m5\u001b[39;49m:\u001b[39m7\u001b[39;49m]), \u001b[39mint\u001b[39m(dttxt[\u001b[39m8\u001b[39m:\u001b[39m10\u001b[39m]))\n\u001b[0;32m    130\u001b[0m dtnum \u001b[39m=\u001b[39m date2num(datetime\u001b[39m.\u001b[39mcombine(dt, \u001b[39mself\u001b[39m\u001b[39m.\u001b[39mp\u001b[39m.\u001b[39msessionend))\n\u001b[0;32m    132\u001b[0m \u001b[39mself\u001b[39m\u001b[39m.\u001b[39mlines\u001b[39m.\u001b[39mdatetime[\u001b[39m0\u001b[39m] \u001b[39m=\u001b[39m dtnum\n",
      "\u001b[1;31mValueError\u001b[0m: invalid literal for int() with base 10: ''"
     ]
    }
   ],
   "source": [
    "import backtrader as bt\n",
    "import backtrader.feeds as btfeeds\n",
    "\n",
    "# Create a Stratey\n",
    "class TestStrategy(bt.Strategy):\n",
    "\n",
    "    def log(self, txt, dt=None):\n",
    "        ''' Logging function for this strategy'''\n",
    "        dt = dt or self.datas[0].datetime.date(0)\n",
    "        print('%s, %s' % (dt.isoformat(), txt))\n",
    "\n",
    "    def __init__(self):\n",
    "        # Keep a reference to the \"close\" line in the data[0] dataseries\n",
    "        self.dataclose = self.datas[0].close\n",
    "\n",
    "    def next(self):\n",
    "        # Simply log the closing price of the series from the reference\n",
    "        self.log('Close, %.2f' % self.dataclose[0])\n",
    "\n",
    "\n",
    "data = btfeeds.YahooFinanceData(dataname='datasets/stock_price_series/SPY.csv')\n",
    "\n",
    "cerebro = bt.Cerebro()\n",
    "\n",
    "cerebro.adddata(data)\n",
    "\n",
    "cerebro.addstrategy(TestStrategy)\n",
    "cerebro.broker.setcash(5000.0)\n",
    "\n",
    "print('Starting Portfolio Value: %.2f' % cerebro.broker.getvalue())\n",
    "\n",
    "cerebro.run()\n",
    "\n",
    "print('Final Portfolio Value: %.2f' % cerebro.broker.getvalue())"
   ]
  }
 ],
 "metadata": {
  "kernelspec": {
   "display_name": "TradeMaster",
   "language": "python",
   "name": "python3"
  },
  "language_info": {
   "codemirror_mode": {
    "name": "ipython",
    "version": 3
   },
   "file_extension": ".py",
   "mimetype": "text/x-python",
   "name": "python",
   "nbconvert_exporter": "python",
   "pygments_lexer": "ipython3",
   "version": "3.9.16"
  },
  "orig_nbformat": 4
 },
 "nbformat": 4,
 "nbformat_minor": 2
}
