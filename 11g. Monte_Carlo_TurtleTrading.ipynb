{
 "cells": [
  {
   "attachments": {},
   "cell_type": "markdown",
   "metadata": {},
   "source": [
    "# Monte Carlo Turtle Trading\n",
    "\n",
    "In this notebook, I explore the performance of the Turtle trading strategy on randomly generated price series. In particular, I explore 2 areas:\n",
    "1. Using leveraged ETFs vs underlying asset (UPRO vs SPY)\n",
    "2. Hedging with calls.\n"
   ]
  },
  {
   "cell_type": "code",
   "execution_count": null,
   "metadata": {},
   "outputs": [],
   "source": [
    "import pandas as pd\n",
    "import matplotlib.pyplot as plt\n",
    "import numpy as np\n",
    "import datetime as dt\n",
    "from utils import misc\n",
    "import datetime as dt\n",
    "from trade_obj import *\n",
    "from simple_backtester import backTester\n",
    "from mpl_toolkits.mplot3d import Axes3D\n",
    "import optuna\n",
    "from tqdm.notebook import tqdm\n",
    "\n",
    "\n",
    "\n",
    "ticker = 'SPY'\n",
    "df = pd.read_csv('datasets/stock_price_series/' + ticker + '.csv')\n",
    "df = misc.clean_df(df)\n",
    "df = df.set_index('date')\n",
    "\n",
    "df['ret'] = df['close'].pct_change()\n",
    "\n",
    "mu = df['ret'].mean()\n",
    "sigma = df['ret'].std()\n",
    "\n",
    "print('Daily returns')\n",
    "print(f'mean: {mu}, vol: {sigma}')"
   ]
  },
  {
   "cell_type": "code",
   "execution_count": null,
   "metadata": {},
   "outputs": [],
   "source": [
    "price_series, lev_price_series = misc.generate_price_series_norm(mu, sigma, 100, 2520, 3)\n",
    "plt.plot(price_series)\n",
    "plt.plot(lev_price_series)\n",
    "plt.show()"
   ]
  },
  {
   "cell_type": "code",
   "execution_count": null,
   "metadata": {},
   "outputs": [],
   "source": [
    "def generate_price_df(mean, volatility, length, initial_price=100, leverage=3):\n",
    "    close, lev_close = misc.generate_price_series_norm(\n",
    "        mean=mean, \n",
    "        volatility=volatility, \n",
    "        num_days=length, \n",
    "        initial_price=initial_price,\n",
    "        leverage=leverage\n",
    "        )\n",
    "    df = pd.DataFrame({\n",
    "        'open': close,\n",
    "        'high': close,\n",
    "        'low': close, \n",
    "        'close': close,\n",
    "        'adjclose': close,\n",
    "    })\n",
    "\n",
    "    lev_df = pd.DataFrame({\n",
    "        'open': lev_close,\n",
    "        'high': lev_close,\n",
    "        'low': lev_close, \n",
    "        'close': lev_close,\n",
    "        'adjclose': lev_close,\n",
    "    })\n",
    "\n",
    "\n",
    "    return df, lev_df\n",
    "\n",
    "    "
   ]
  },
  {
   "attachments": {},
   "cell_type": "markdown",
   "metadata": {},
   "source": [
    "Modify the indicator and trading strategy to use 1 price per day."
   ]
  },
  {
   "cell_type": "code",
   "execution_count": null,
   "metadata": {},
   "outputs": [],
   "source": [
    "def generate_high_low(df, high_window, low_window):\n",
    "\n",
    "    df['up_bound'] = df['close'].shift(1).rolling(high_window).max()\n",
    "    df['low_bound'] = df['close'].shift(1).rolling(low_window).min()\n",
    "\n",
    "    return df\n",
    "\n",
    "def generate_atr(df, window):\n",
    "    df['TR'] = abs(df['close'] - df['close'].shift(1))\n",
    "    df['ATR'] = df['TR'].rolling(window).mean()\n",
    "    return df\n",
    "\n"
   ]
  },
  {
   "cell_type": "code",
   "execution_count": null,
   "metadata": {},
   "outputs": [],
   "source": [
    "def hatr_backtest(df, high_window, low_window, atr_window, atr_multiple):\n",
    "\n",
    "    df = generate_high_low(df, high_window=high_window, low_window=low_window)\n",
    "    df = generate_atr(df, atr_window)\n",
    "\n",
    "    df['ATR'] = df['ATR'].shift(1)\n",
    "    \n",
    "\n",
    "    df.dropna(inplace=True)\n",
    "    atr = df['ATR'].to_numpy()\n",
    "\n",
    "    df['signal'] = 0\n",
    "\n",
    "    # Generate trading signals\n",
    "    df.loc[df['close'].shift(1) > df['up_bound'].shift(2), 'signal'] = 1    \n",
    "\n",
    "    trades_arr = df['signal'].to_numpy()\n",
    "\n",
    "    bt = backTester()\n",
    "    bt.set_asset(df)\n",
    "\n",
    "    tl = tradeList()\n",
    "\n",
    "    open_trade = None\n",
    "    stop_loss = np.nan\n",
    "    stop_arr = []\n",
    "    \n",
    "\n",
    "    for i in range(len(bt.df)):\n",
    "        \n",
    "        order_quantity = 0\n",
    "        order_price = 0\n",
    "        \n",
    "\n",
    "        if trades_arr[i] == 1 and open_trade == None:\n",
    "    \n",
    "            # order price at breakout\n",
    "            order_price = bt.close[i]\n",
    "            # order 1 unit\n",
    "            order_quantity = bt.cash // order_price\n",
    "            # open trade on record\n",
    "            open_trade = trade(bt.date[i], order_price, order_quantity)\n",
    "            n3 = atr_multiple * atr[i]\n",
    "            stop_loss = order_price - n3\n",
    "            \n",
    "        # open trades present \n",
    "        elif open_trade != None:\n",
    "            stop_loss = max(stop_loss, bt.close[i - 1] - n3, df['low_bound'].to_numpy()[i])\n",
    "            if bt.low[i] < stop_loss:\n",
    "\n",
    "                order_price = stop_loss\n",
    "                order_quantity = -open_trade.quantity\n",
    "                    \n",
    "                open_trade.close(bt.date[i], order_price)\n",
    "                tl.append(open_trade)\n",
    "                \n",
    "                open_trade = None\n",
    "                stop_loss = np.nan\n",
    "        \n",
    "        stop_arr.append(stop_loss)\n",
    "\n",
    "        bt.take_action(order_quantity=order_quantity, order_price=order_price)\n",
    "    bt.df['stop_loss'] = stop_arr\n",
    "\n",
    "    return bt, tl"
   ]
  },
  {
   "cell_type": "code",
   "execution_count": null,
   "metadata": {},
   "outputs": [],
   "source": [
    "df, lev_df = generate_price_df(mean=mu, volatility=sigma, length=2520)\n",
    "\n",
    "bt, tl = hatr_backtest(df, 20, 20, 20, 5)\n",
    "bt.analyse()\n",
    "bt.plot_graphs()"
   ]
  },
  {
   "cell_type": "code",
   "execution_count": null,
   "metadata": {},
   "outputs": [],
   "source": [
    "lev_bt, lev_tl = hatr_backtest(lev_df, 20, 20, 20, 5)\n",
    "lev_bt.analyse()\n",
    "lev_bt.plot_graphs()"
   ]
  },
  {
   "cell_type": "code",
   "execution_count": null,
   "metadata": {},
   "outputs": [],
   "source": [
    "print('Returns')\n",
    "print(f'buy_hold:           {bt.buy_hold_annual_return}')\n",
    "print(f'leveraged_buy_hold: {lev_bt.buy_hold_annual_return}')\n",
    "print(f'strat:              {bt.annual_return}')\n",
    "print(f'leveraged_strat:    {lev_bt.annual_return}')\n",
    "\n",
    "print('--------------')\n",
    "print('Sharpe Ratio')\n",
    "print(f'buy_hold:           {bt.buy_hold_sharpe}')\n",
    "print(f'leveraged_buy_hold: {lev_bt.buy_hold_sharpe}')\n",
    "print(f'strat:              {bt.sharpe}')\n",
    "print(f'leveraged_strat:    {lev_bt.sharpe}')"
   ]
  },
  {
   "cell_type": "code",
   "execution_count": null,
   "metadata": {},
   "outputs": [],
   "source": [
    "def monte_carlo_test(mu, sigma, length, num_trials, high_window, low_window, atr_window, atr_mult):\n",
    "\n",
    "    res_dict = {\n",
    "        'ret': [],\n",
    "        'bh_ret': [],\n",
    "        'vol': [],\n",
    "        'bh_vol': [],\n",
    "    }\n",
    "\n",
    "    lev_res_dict = {\n",
    "        'ret': [],\n",
    "        'bh_ret': [],\n",
    "        'vol': [],\n",
    "        'bh_vol': [],\n",
    "    }\n",
    "\n",
    "    for i in range(num_trials):\n",
    "        df, lev_df = generate_price_df(mean=mu, volatility=sigma, length=length)\n",
    "\n",
    "        bt, _ = hatr_backtest(df, \n",
    "                              high_window=high_window, \n",
    "                              low_window=low_window, \n",
    "                              atr_window=atr_window, \n",
    "                              atr_multiple=atr_mult\n",
    "                              )\n",
    "        bt.analyse()\n",
    "\n",
    "        res_dict['ret'].append(bt.annual_return)\n",
    "        res_dict['vol'].append(bt.annual_vol)\n",
    "        res_dict['bh_ret'].append(bt.buy_hold_annual_return)\n",
    "        res_dict['bh_vol'].append(bt.buy_hold_annual_vol)\n",
    "\n",
    "\n",
    "        bt, _ = hatr_backtest(lev_df, \n",
    "                              high_window=high_window, \n",
    "                              low_window=low_window, \n",
    "                              atr_window=atr_window, \n",
    "                              atr_multiple=atr_mult)\n",
    "        bt.analyse()\n",
    "\n",
    "        # lret.append(bt.annual_return - bt.buy_hold_annual_return)\n",
    "        # lvol.append(bt.annual_vol - bt.buy_hold_annual_vol)\n",
    "        # lsharpe.append(bt.sharpe - bt.buy_hold_sharpe)\n",
    "\n",
    "        lev_res_dict['ret'].append(bt.annual_return)\n",
    "        lev_res_dict['vol'].append(bt.annual_vol)\n",
    "        lev_res_dict['bh_ret'].append(bt.buy_hold_annual_return)\n",
    "        lev_res_dict['bh_vol'].append(bt.buy_hold_annual_vol)\n",
    "\n",
    "    for i in res_dict:\n",
    "        res_dict[i] = np.array(res_dict[i])\n",
    "        lev_res_dict[i] = np.array(lev_res_dict[i])\n",
    "    \n",
    "    return res_dict, lev_res_dict\n"
   ]
  },
  {
   "cell_type": "code",
   "execution_count": null,
   "metadata": {},
   "outputs": [],
   "source": [
    "res_dict, lev_res_dict = monte_carlo_test(mu, sigma, 252, 1000, 20, 20, 20, 5)\n",
    "print('Returns')\n",
    "print(f'buy_hold:       {np.mean(res_dict[\"bh_ret\"])}')\n",
    "print(f'strat:          {np.mean(res_dict[\"ret\"])}')\n",
    "print(f'lev_buy_hold:   {np.mean(lev_res_dict[\"bh_ret\"])}')\n",
    "print(f'lev_strat:      {np.mean(lev_res_dict[\"ret\"])}')\n",
    "print('-----------------')\n",
    "\n",
    "print('Vol')\n",
    "print(f'buy_hold:       {np.mean(res_dict[\"bh_vol\"])}')\n",
    "print(f'strat:          {np.mean(res_dict[\"vol\"])}')\n",
    "print(f'lev_buy_hold:   {np.mean(lev_res_dict[\"bh_vol\"])}')\n",
    "print(f'lev_strat:      {np.mean(lev_res_dict[\"vol\"])}')\n",
    "print('-----------------')\n",
    "\n",
    "print('Sharpe')\n",
    "print(f'buy_hold:       {np.mean(res_dict[\"bh_ret\"] / res_dict[\"bh_vol\"])}')\n",
    "print(f'strat:          {np.mean(res_dict[\"ret\"] / res_dict[\"vol\"])}')\n",
    "print(f'lev_buy_hold:   {np.mean(lev_res_dict[\"bh_ret\"] / lev_res_dict[\"bh_vol\"])}')\n",
    "print(f'lev_strat:      {np.mean(lev_res_dict[\"ret\"] / lev_res_dict[\"vol\"])}')\n",
    "print('-----------------')"
   ]
  },
  {
   "cell_type": "code",
   "execution_count": null,
   "metadata": {},
   "outputs": [],
   "source": [
    "plt.scatter(res_dict['bh_ret'], lev_res_dict['ret'], label='lev_strat')\n",
    "\n",
    "plt.scatter(res_dict['bh_ret'], res_dict['ret'], label='stra')\n",
    "# plt.scatter(res_dict['bh_ret'], lev_res_dict['bh_ret'], label='lev')\n",
    "plt.plot(res_dict['bh_ret'], res_dict['bh_ret'], color='red')\n",
    "\n",
    "plt.legend()\n",
    "plt.show()"
   ]
  },
  {
   "cell_type": "code",
   "execution_count": 14,
   "metadata": {},
   "outputs": [
    {
     "data": {
      "application/vnd.jupyter.widget-view+json": {
       "model_id": "154f04912ffb4cfba635c90fd1230ca6",
       "version_major": 2,
       "version_minor": 0
      },
      "text/plain": [
       "  0%|          | 0/46 [00:00<?, ?it/s]"
      ]
     },
     "metadata": {},
     "output_type": "display_data"
    },
    {
     "name": "stdout",
     "output_type": "stream",
     "text": [
      "252\n",
      "302\n",
      "352\n",
      "402\n",
      "452\n",
      "502\n",
      "552\n",
      "602\n",
      "652\n",
      "702\n",
      "752\n",
      "802\n",
      "852\n",
      "902\n",
      "952\n",
      "1002\n",
      "1052\n",
      "1102\n",
      "1152\n",
      "1202\n",
      "1252\n",
      "1302\n",
      "1352\n",
      "1402\n",
      "1452\n",
      "1502\n",
      "1552\n",
      "1602\n",
      "1652\n",
      "1702\n",
      "1752\n",
      "1802\n",
      "1852\n",
      "1902\n",
      "1952\n",
      "2002\n",
      "2052\n",
      "2102\n",
      "2152\n",
      "2202\n",
      "2252\n",
      "2302\n",
      "2352\n",
      "2402\n",
      "2452\n",
      "2502\n"
     ]
    }
   ],
   "source": [
    "length_dict = {\n",
    "    'ret': [],\n",
    "    'bh_ret': [],\n",
    "    'lret': [],\n",
    "    'bh_lret': [],\n",
    "    'sr': [],\n",
    "    'bh_sr': [],\n",
    "    'lsr': [],\n",
    "    'bh_lsr': [],\n",
    "}\n",
    "length_arr = []\n",
    "for i in tqdm(range(252, 2523, 50)):\n",
    "    length_arr.append(i)\n",
    "    res_dict, lev_res_dict = monte_carlo_test(mu, sigma, i, 2000, 20, 20, 20, 5)\n",
    "    length_dict['ret'].append(np.mean(res_dict['ret']))\n",
    "    length_dict['bh_ret'].append(np.mean(res_dict['bh_ret']))\n",
    "    length_dict['lret'].append(np.mean(lev_res_dict['ret']))\n",
    "    length_dict['bh_lret'].append(np.mean(lev_res_dict['bh_ret']))\n",
    "    length_dict['sr'].append(np.mean(res_dict['ret'] / res_dict['vol']))\n",
    "    length_dict['bh_sr'].append(np.mean(res_dict['bh_ret'] / res_dict['bh_vol']))\n",
    "    length_dict['lsr'].append(np.mean(lev_res_dict['ret'] / lev_res_dict['vol']))\n",
    "    length_dict['bh_lsr'].append(np.mean(lev_res_dict['bh_ret'] / lev_res_dict['bh_vol']))"
   ]
  },
  {
   "cell_type": "code",
   "execution_count": 15,
   "metadata": {},
   "outputs": [
    {
     "data": {
      "image/png": "[encoded data removed]",
      "text/plain": [
       "<Figure size 640x480 with 1 Axes>"
      ]
     },
     "metadata": {},
     "output_type": "display_data"
    }
   ],
   "source": [
    "plt.plot(length_arr, length_dict['ret'], label='strat')\n",
    "plt.plot(length_arr, length_dict['bh_ret'], label='bh')\n",
    "plt.plot(length_arr, length_dict['lret'], label='lev strat')\n",
    "plt.plot(length_arr, length_dict['bh_lret'], label='lev bh')\n",
    "plt.legend()\n",
    "plt.show()"
   ]
  },
  {
   "cell_type": "code",
   "execution_count": 16,
   "metadata": {},
   "outputs": [
    {
     "data": {
      "image/png": "[encoded data removed]",
      "text/plain": [
       "<Figure size 640x480 with 1 Axes>"
      ]
     },
     "metadata": {},
     "output_type": "display_data"
    }
   ],
   "source": [
    "plt.plot(length_arr, length_dict['sr'], label='strat')\n",
    "plt.plot(length_arr, length_dict['bh_sr'], label='bh')\n",
    "plt.plot(length_arr, length_dict['lsr'], label='lev strat')\n",
    "plt.plot(length_arr, length_dict['bh_lsr'], label='lev bh')\n",
    "plt.legend()\n",
    "plt.show()"
   ]
  },
  {
   "cell_type": "code",
   "execution_count": null,
   "metadata": {},
   "outputs": [],
   "source": [
    "\n",
    "\n",
    "def objective(trial):\n",
    "    # Define the parameters to optimize\n",
    "    h_wind = trial.suggest_int('high_window', 5, 200)\n",
    "    l_wind = trial.suggest_int('low_window', 5, 200)\n",
    "    atr_wind = trial.suggest_int('atr_window', 5, 100)\n",
    "    atr_mult = trial.suggest_int('atr_multiple', 1, 10)\n",
    "    \n",
    "    # Call your function with the chosen parameters\n",
    "    bt, _ = hatr_backtest(\n",
    "            df.copy(), \n",
    "            high_window=h_wind, \n",
    "            low_window=l_wind, \n",
    "            atr_window=atr_wind, \n",
    "            atr_multiple=atr_mult\n",
    "            )\n",
    "    \n",
    "    bt.analyse()\n",
    "    # Define the objective to minimize or maximize (e.g., error or loss)\n",
    "    objective_value = bt.sharpe  # Assuming you want to maximize the result\n",
    "    \n",
    "    return objective_value\n",
    "\n",
    "# Create an Optuna study\n",
    "study = optuna.create_study(direction='maximize')\n",
    "\n",
    "# Run the optimization process\n",
    "study.optimize(objective, n_trials=200)\n",
    "\n",
    "# Get the best parameters and objective value\n",
    "best_params = study.best_params\n",
    "best_value = study.best_value\n",
    "\n",
    "print(\"Best Parameters:\", best_params)\n",
    "print(\"Best Value:\", best_value)\n"
   ]
  },
  {
   "cell_type": "markdown",
   "metadata": {},
   "source": [
    "### Effects of High/Low Window"
   ]
  },
  {
   "cell_type": "code",
   "execution_count": null,
   "metadata": {},
   "outputs": [],
   "source": [
    "hl_period = np.arange(5, 201, 5)\n",
    "results = []\n",
    "\n",
    "for i in range(len(hl_period)):\n",
    "    for j in range(len(hl_period)):\n",
    "        # print(i, j)\n",
    "        bt, _ = hatr_backtest(\n",
    "            df.copy(), \n",
    "            high_window=hl_period[i], \n",
    "            low_window=hl_period[j], \n",
    "            atr_window=best_params['atr_window'], \n",
    "            atr_multiple=best_params['atr_multiple']\n",
    "            )\n",
    "        bt.analyse()\n",
    "        results.append((hl_period[i], hl_period[j], bt.annual_return, bt.annual_vol, bt.sharpe))"
   ]
  },
  {
   "cell_type": "code",
   "execution_count": null,
   "metadata": {},
   "outputs": [],
   "source": [
    "print('Buy Hold Results')\n",
    "print(f'Annual Return = {bt.buy_hold_annual_return}')\n",
    "print(f'Annual Volatility = {bt.buy_hold_annual_vol}')\n",
    "print(f'Sharpe Ratio = {bt.buy_hold_sharpe}')\n",
    "print('-----------')\n",
    "best_sr = max(results, key=lambda x: x[2])\n",
    "print(f'Max Total Returns:')\n",
    "print(f'High Window = {best_sr[0]}, Low Window = {best_sr[1]}')\n",
    "print(f'Annual Return = {best_sr[2]}')\n",
    "print(f'Annual Volatility = {best_sr[3]}')\n",
    "print(f'Sharpe Ratio = {best_sr[4]}')\n",
    "print('-----------')\n",
    "best_sr = max(results, key=lambda x: x[4])\n",
    "print(f'Max Sharpe Ratio:')\n",
    "print(f'High Window = {best_sr[0]}, Low Window = {best_sr[1]}')\n",
    "print(f'Annual Return = {best_sr[2]}')\n",
    "print(f'Annual Volatility = {best_sr[3]}')\n",
    "print(f'Sharpe Ratio = {best_sr[4]}')\n",
    "print('-----------')\n"
   ]
  },
  {
   "cell_type": "code",
   "execution_count": null,
   "metadata": {},
   "outputs": [],
   "source": [
    "x = np.array([f[0] for f in results])\n",
    "y = np.array([f[1] for f in results])\n",
    "z = np.array([f[2] for f in results])\n",
    "\n",
    "fig = plt.figure(figsize=(7, 7))\n",
    "ax = fig.add_subplot(111, projection='3d')\n",
    "\n",
    "surf = ax.plot_trisurf(x, y, z, cmap='jet', linewidth=0)\n",
    "fig.colorbar(surf)\n",
    "\n",
    "# Set labels and title\n",
    "ax.set_xlabel('High window')\n",
    "ax.set_ylabel('Low window')\n",
    "ax.set_zlabel('Annual Return')\n",
    "ax.set_title('Annual Return')\n",
    "\n",
    "fig.tight_layout()\n",
    "\n",
    "plt.show()"
   ]
  },
  {
   "cell_type": "code",
   "execution_count": null,
   "metadata": {},
   "outputs": [],
   "source": [
    "x = np.array([f[0] for f in results])\n",
    "y = np.array([f[1] for f in results])\n",
    "z = np.array([f[3] for f in results])\n",
    "\n",
    "fig = plt.figure(figsize=(7, 7))\n",
    "ax = fig.add_subplot(111, projection='3d')\n",
    "\n",
    "surf = ax.plot_trisurf(x, y, z, cmap='jet', linewidth=0)\n",
    "fig.colorbar(surf)\n",
    "\n",
    "# Set labels and title\n",
    "ax.set_xlabel('High window')\n",
    "ax.set_ylabel('Low window')\n",
    "ax.set_zlabel('Annual Return')\n",
    "ax.set_title('Annual Volatility')\n",
    "\n",
    "fig.tight_layout()\n",
    "\n",
    "plt.show()"
   ]
  },
  {
   "cell_type": "code",
   "execution_count": null,
   "metadata": {},
   "outputs": [],
   "source": [
    "x = np.array([f[0] for f in results])\n",
    "y = np.array([f[1] for f in results])\n",
    "z = np.array([f[4] for f in results])\n",
    "\n",
    "fig = plt.figure(figsize=(7, 7))\n",
    "ax = fig.add_subplot(111, projection='3d')\n",
    "\n",
    "surf = ax.plot_trisurf(x, y, z, cmap='jet', linewidth=0)\n",
    "fig.colorbar(surf)\n",
    "\n",
    "# Set labels and title\n",
    "ax.set_xlabel('High window')\n",
    "ax.set_ylabel('Low window')\n",
    "ax.set_zlabel('Annual Return')\n",
    "ax.set_title('Sharpe Ratio')\n",
    "\n",
    "fig.tight_layout()\n",
    "\n",
    "plt.show()"
   ]
  },
  {
   "cell_type": "markdown",
   "metadata": {},
   "source": [
    "### Effects of ATR multiple and ATR window"
   ]
  },
  {
   "cell_type": "code",
   "execution_count": null,
   "metadata": {},
   "outputs": [],
   "source": [
    "atr_window_range = np.arange(5, 101, 5)\n",
    "atr_multiple_range = np.arange(1, 11, 1)\n",
    "results = []\n",
    "\n",
    "for i in range(len(atr_window_range)):\n",
    "    for j in range(len(atr_multiple_range)):\n",
    "        # print(i, j)\n",
    "        bt, _ = hatr_backtest(\n",
    "            df.copy(), \n",
    "            high_window=best_params['high_window'], \n",
    "            low_window=best_params['low_window'], \n",
    "            atr_window=atr_window_range[i], \n",
    "            atr_multiple=atr_multiple_range[j]\n",
    "            )\n",
    "        bt.analyse()\n",
    "        results.append((atr_window_range[i], atr_multiple_range[j], bt.annual_return, bt.annual_vol, bt.sharpe))"
   ]
  },
  {
   "cell_type": "code",
   "execution_count": null,
   "metadata": {},
   "outputs": [],
   "source": [
    "print('Buy Hold Results')\n",
    "print(f'Annual Return = {bt.buy_hold_annual_return}')\n",
    "print(f'Annual Volatility = {bt.buy_hold_annual_vol}')\n",
    "print(f'Sharpe Ratio = {bt.buy_hold_sharpe}')\n",
    "print('-----------')\n",
    "best_sr = max(results, key=lambda x: x[2])\n",
    "print(f'Max Total Returns:')\n",
    "print(f'ATR Window = {best_sr[0]}, ATR multiple = {best_sr[1]}')\n",
    "print(f'Annual Return = {best_sr[2]}')\n",
    "print(f'Annual Volatility = {best_sr[3]}')\n",
    "print(f'Sharpe Ratio = {best_sr[4]}')\n",
    "print('-----------')\n",
    "best_sr = max(results, key=lambda x: x[4])\n",
    "print(f'Max Sharpe Ratio:')\n",
    "print(f'ATR Window = {best_sr[0]}, ATR multiple = {best_sr[1]}')\n",
    "print(f'Annual Return = {best_sr[2]}')\n",
    "print(f'Annual Volatility = {best_sr[3]}')\n",
    "print(f'Sharpe Ratio = {best_sr[4]}')\n",
    "print('-----------')"
   ]
  },
  {
   "cell_type": "code",
   "execution_count": null,
   "metadata": {},
   "outputs": [],
   "source": [
    "x = np.array([f[0] for f in results])\n",
    "y = np.array([f[1] for f in results])\n",
    "z = np.array([f[2] for f in results])\n",
    "\n",
    "fig = plt.figure(figsize=(7, 7))\n",
    "ax = fig.add_subplot(111, projection='3d')\n",
    "\n",
    "surf = ax.plot_trisurf(x, y, z, cmap='jet', linewidth=0)\n",
    "fig.colorbar(surf)\n",
    "\n",
    "# Set labels and title\n",
    "ax.set_xlabel('ATR window')\n",
    "ax.set_ylabel('ATR multiple')\n",
    "ax.set_zlabel('Annual Return')\n",
    "ax.set_title('Annual Return')\n",
    "\n",
    "fig.tight_layout()\n",
    "\n",
    "plt.show()"
   ]
  },
  {
   "cell_type": "code",
   "execution_count": null,
   "metadata": {},
   "outputs": [],
   "source": [
    "x = np.array([f[0] for f in results])\n",
    "y = np.array([f[1] for f in results])\n",
    "z = np.array([f[3] for f in results])\n",
    "\n",
    "fig = plt.figure(figsize=(7, 7))\n",
    "ax = fig.add_subplot(111, projection='3d')\n",
    "\n",
    "surf = ax.plot_trisurf(x, y, z, cmap='jet', linewidth=0)\n",
    "fig.colorbar(surf)\n",
    "\n",
    "# Set labels and title\n",
    "ax.set_xlabel('ATR window')\n",
    "ax.set_ylabel('ATR multiple')\n",
    "ax.set_zlabel('Annual Return')\n",
    "ax.set_title('Annual Volatility')\n",
    "\n",
    "fig.tight_layout()\n",
    "\n",
    "plt.show()"
   ]
  },
  {
   "cell_type": "code",
   "execution_count": null,
   "metadata": {},
   "outputs": [],
   "source": [
    "x = np.array([f[0] for f in results])\n",
    "y = np.array([f[1] for f in results])\n",
    "z = np.array([f[4] for f in results])\n",
    "\n",
    "fig = plt.figure(figsize=(7, 7))\n",
    "ax = fig.add_subplot(111, projection='3d')\n",
    "\n",
    "surf = ax.plot_trisurf(x, y, z, cmap='jet', linewidth=0)\n",
    "fig.colorbar(surf)\n",
    "\n",
    "# Set labels and title\n",
    "ax.set_xlabel('ATR window')\n",
    "ax.set_ylabel('ATR multiple')\n",
    "ax.set_zlabel('Annual Return')\n",
    "ax.set_title('Sharpe Ratio')\n",
    "\n",
    "fig.tight_layout()\n",
    "\n",
    "plt.show()"
   ]
  },
  {
   "attachments": {},
   "cell_type": "markdown",
   "metadata": {},
   "source": [
    "### Portfolio Stats\n",
    "\n",
    "This section looks at the stats of a portfolio that runs this trade at no leverage.\n",
    "\n",
    "This portfolio has lower returns and lower volatility/drawdowns compared to a buy-hold strategy. The portfolio manages to avoid the large drawdown events, thus preserving capital."
   ]
  },
  {
   "cell_type": "code",
   "execution_count": null,
   "metadata": {},
   "outputs": [],
   "source": [
    "bt, tl = hatr_backtest(\n",
    "    df.copy(), \n",
    "    high_window=best_params['high_window'], \n",
    "    low_window=best_params['low_window'], \n",
    "    atr_window=best_params['atr_window'], \n",
    "    atr_multiple=best_params['atr_multiple'])\n",
    "\n",
    "bt.analyse()\n",
    "bt.plot_graphs()"
   ]
  },
  {
   "cell_type": "code",
   "execution_count": null,
   "metadata": {},
   "outputs": [],
   "source": [
    "fig, ax1 = plt.subplots()\n",
    "\n",
    "color = 'C0'\n",
    "ax1.set_xlabel('time')\n",
    "ax1.set_ylabel('returns', color=color)\n",
    "ax1.plot(bt.date, bt.records['cum_returns'], color=color)\n",
    "ax1.tick_params(axis='y', labelcolor=color)\n",
    "\n",
    "color = 'C1'\n",
    "ax2 = ax1.twinx()\n",
    "ax2.set_ylabel('returns', color=color)\n",
    "ax2.plot(bt.date, bt.records['buy_hold_cum_returns'], color=color)\n",
    "ax2.tick_params(axis='y', labelcolor=color)\n",
    "\n",
    "ax1.set_facecolor('xkcd:white')\n",
    "plt.show()"
   ]
  },
  {
   "cell_type": "code",
   "execution_count": null,
   "metadata": {},
   "outputs": [],
   "source": [
    "print(f'Annualised return:          {bt.annual_return}')\n",
    "print(f'buy_hold annual return:     {bt.buy_hold_annual_return}')\n",
    "print('---------')\n",
    "print(f'Annualised vol:             {bt.annual_vol}')\n",
    "print(f'buy_hold annual vol:        {bt.buy_hold_annual_vol}')\n",
    "print('---------')\n",
    "print(f'Sharpe ratio:               {bt.sharpe}')\n",
    "print(f'buy_hold Sharpe ratio:      {bt.buy_hold_sharpe}')"
   ]
  },
  {
   "attachments": {},
   "cell_type": "markdown",
   "metadata": {},
   "source": [
    "### Trade record stats\n",
    "\n",
    "This section looks at the backtest results on a trade-by-trade basis."
   ]
  },
  {
   "cell_type": "code",
   "execution_count": null,
   "metadata": {},
   "outputs": [],
   "source": [
    "tl.analyse(bt.df)\n",
    "tl.stats"
   ]
  },
  {
   "attachments": {},
   "cell_type": "markdown",
   "metadata": {},
   "source": [
    "We plot every single trade to view the characteristics of each trade."
   ]
  },
  {
   "cell_type": "code",
   "execution_count": null,
   "metadata": {},
   "outputs": [],
   "source": [
    "tl.plot_all_trades()"
   ]
  },
  {
   "attachments": {},
   "cell_type": "markdown",
   "metadata": {},
   "source": [
    "We can plot the trades that occur over a specific period of time to see how this strategy perform."
   ]
  },
  {
   "cell_type": "code",
   "execution_count": null,
   "metadata": {},
   "outputs": [],
   "source": [
    "\n",
    "start_datetime= pd.to_datetime(dt.date(2008, 1, 1))\n",
    "end_datetime = pd.to_datetime(dt.date(2009, 1, 1))\n",
    "\n",
    "tl.plot_time_period(df, start_datetime, end_datetime)"
   ]
  },
  {
   "attachments": {},
   "cell_type": "markdown",
   "metadata": {},
   "source": [
    "We note that the time in trade for winning trades is generally higher than that of losing trades."
   ]
  },
  {
   "cell_type": "code",
   "execution_count": null,
   "metadata": {},
   "outputs": [],
   "source": [
    "tl.win_records['time_in_trade'].hist(bins=20, label='wins')\n",
    "tl.loss_records['time_in_trade'].hist(bins=20, label='losses')\n",
    "plt.xlabel('time in trade (days)')\n",
    "plt.ylabel('count')\n",
    "plt.title('time in trade')\n",
    "plt.legend()\n",
    "plt.show()"
   ]
  },
  {
   "cell_type": "code",
   "execution_count": null,
   "metadata": {},
   "outputs": [],
   "source": [
    "plt.scatter(tl.win_records['time_in_trade'], tl.win_records['returns'], label='wins')\n",
    "plt.scatter(tl.loss_records['time_in_trade'], tl.loss_records['returns'], label='losses')\n",
    "plt.hlines(0, -10, 4000, color='red')\n",
    "plt.legend()\n",
    "plt.xlabel('time in trade (days)')\n",
    "plt.ylabel('trade returns (%)')\n",
    "plt.show()"
   ]
  },
  {
   "attachments": {},
   "cell_type": "markdown",
   "metadata": {},
   "source": [
    "### Analysis\n",
    "\n",
    "We note that the turtle trading rules follow a trend-following or momentum trading strategy. The characteristic of these strategies is greater volatility, with lower win-rate but higher returns per winning trade.\n",
    "\n",
    "Ideally, the strategy goes long when a long-term upward trend is established and follows the trend until it is exhausted, while avoiding big drawdowns when long-term downward trends are established. \n",
    "\n",
    "The downside to this strategy is that short-term volatility is likely to cause whipsaw losses. An example of this is losses when the underlying is trading within a range.\n",
    "\n",
    "Therefore, the way to optimise this strategy is to pick the underlying to more frequent long-term trends with greater magnitude compared to short-term volatility. It does not matter which direction that long-term trend is in since we can just inverse the rules, e.g. go short when price breaks out under the 20-day low. This is also possibly why the original turtle traders focused on commodity trading, since commodities tend to exhibit trends based on the physical demand and supply of the commodity, whereas equities may be more volatile in the short-term due to speculation.\n",
    "\n",
    "Another key part to the success of this strategy is to trade diversified and uncorrelated assets so that the various assets will be trending at different times. This will go a long way towards reducing the volatility of a portfolio trading all of these assets.\n",
    "\n",
    "Another idea is to trade this strategy on leveraged ETFs, for example UPRO (3 x leveraged SP500) instead of trading on SPY. The nature of the ETF (3 x daily returns) is likely to cause the magnitude of long-term trends to increase significantly, thus increasing the returns per winning trade of this strategy. The volatility drag of the leverage should also reduce the number of whipsaw losing trades. Therefore, the overall profitability of this strategy on leveraged ETFs should increase. More testing is required however, since we have to account for a higher expense ratio, tracking error, and a lack of historical data since these ETFs are a relatively recent invention."
   ]
  }
 ],
 "metadata": {
  "kernelspec": {
   "display_name": "TradeMaster",
   "language": "python",
   "name": "python3"
  },
  "language_info": {
   "codemirror_mode": {
    "name": "ipython",
    "version": 3
   },
   "file_extension": ".py",
   "mimetype": "text/x-python",
   "name": "python",
   "nbconvert_exporter": "python",
   "pygments_lexer": "ipython3",
   "version": "3.9.16"
  },
  "orig_nbformat": 4
 },
 "nbformat": 4,
 "nbformat_minor": 2
}
