{
 "cells": [
  {
   "cell_type": "code",
   "execution_count": 1,
   "metadata": {},
   "outputs": [],
   "source": [
    "%load_ext autoreload\n",
    "%autoreload 2"
   ]
  },
  {
   "cell_type": "code",
   "execution_count": 2,
   "metadata": {},
   "outputs": [
    {
     "name": "stdout",
     "output_type": "stream",
     "text": [
      "06-10-2024\n"
     ]
    }
   ],
   "source": [
    "import pandas as pd\n",
    "import numpy as np\n",
    "from datetime import datetime\n",
    "from tqdm.notebook import tqdm\n",
    "import matplotlib.pyplot as plt\n",
    "from functools import partial\n",
    "from Scripts.utils import load_df\n",
    "\n",
    "# format the date\n",
    "today_date = datetime.now().strftime('%d-%m-%Y')\n",
    "\n",
    "print(today_date)"
   ]
  },
  {
   "cell_type": "markdown",
   "metadata": {},
   "source": [
    "# Trend Following"
   ]
  },
  {
   "cell_type": "markdown",
   "metadata": {},
   "source": [
    "## Select Assets\n",
    "\n",
    "We want to select assets from major asset classes and tradable as an ETF on IBKR:\n",
    "1. Commodities\n",
    "    - DBA   - Agriculture\n",
    "    - USO   - Oil\n",
    "2. Metals\n",
    "    - DBB   - Base metal \n",
    "    - GLD   - Gold\n",
    "3. Bonds\n",
    "    - TLT   - 20+ year treasury\n",
    "    - LQD   - Investment grade corporate bonds\n",
    "4. Equities\n",
    "    - UPRO  - 3x Leveraged S&P500\n",
    "    - EEM   - Emerging market equity\n",
    "5. Currency\n",
    "    - UUP   - USD bullish fund\n",
    "    - BITO  - Bitcoin futures\n",
    "\n"
   ]
  },
  {
   "cell_type": "code",
   "execution_count": 3,
   "metadata": {},
   "outputs": [],
   "source": [
    "asset_list = [\n",
    "    # Commodity\n",
    "    'DBA', \n",
    "    'USO',\n",
    "\n",
    "    # Metals\n",
    "    'DBB',\n",
    "    'GLD', \n",
    "\n",
    "    # Bonds\n",
    "    'TLT',\n",
    "    'LQD',\n",
    "\n",
    "    # Equity\n",
    "    'EEM',\n",
    "    'UPRO', \n",
    "    \n",
    "    # Currency\n",
    "    'UUP', \n",
    "    'BITO',\n",
    "]"
   ]
  },
  {
   "cell_type": "markdown",
   "metadata": {},
   "source": [
    "## Update Daily Price Data"
   ]
  },
  {
   "cell_type": "code",
   "execution_count": 4,
   "metadata": {},
   "outputs": [],
   "source": [
    "from Scripts.update_data import update_daily_price_data_yahoo\n",
    "\n",
    "for ticker in asset_list:\n",
    "    update_daily_price_data_yahoo(ticker, save=True)"
   ]
  },
  {
   "cell_type": "code",
   "execution_count": 5,
   "metadata": {},
   "outputs": [
    {
     "data": {
      "text/html": [
       "<div>\n",
       "<style scoped>\n",
       "    .dataframe tbody tr th:only-of-type {\n",
       "        vertical-align: middle;\n",
       "    }\n",
       "\n",
       "    .dataframe tbody tr th {\n",
       "        vertical-align: top;\n",
       "    }\n",
       "\n",
       "    .dataframe thead th {\n",
       "        text-align: right;\n",
       "    }\n",
       "</style>\n",
       "<table border=\"1\" class=\"dataframe\">\n",
       "  <thead>\n",
       "    <tr style=\"text-align: right;\">\n",
       "      <th></th>\n",
       "      <th>asset</th>\n",
       "    </tr>\n",
       "  </thead>\n",
       "  <tbody>\n",
       "    <tr>\n",
       "      <th>0</th>\n",
       "      <td>DBA</td>\n",
       "    </tr>\n",
       "    <tr>\n",
       "      <th>1</th>\n",
       "      <td>USO</td>\n",
       "    </tr>\n",
       "    <tr>\n",
       "      <th>2</th>\n",
       "      <td>DBB</td>\n",
       "    </tr>\n",
       "    <tr>\n",
       "      <th>3</th>\n",
       "      <td>GLD</td>\n",
       "    </tr>\n",
       "    <tr>\n",
       "      <th>4</th>\n",
       "      <td>TLT</td>\n",
       "    </tr>\n",
       "    <tr>\n",
       "      <th>5</th>\n",
       "      <td>LQD</td>\n",
       "    </tr>\n",
       "    <tr>\n",
       "      <th>6</th>\n",
       "      <td>EEM</td>\n",
       "    </tr>\n",
       "    <tr>\n",
       "      <th>7</th>\n",
       "      <td>UPRO</td>\n",
       "    </tr>\n",
       "    <tr>\n",
       "      <th>8</th>\n",
       "      <td>UUP</td>\n",
       "    </tr>\n",
       "    <tr>\n",
       "      <th>9</th>\n",
       "      <td>BITO</td>\n",
       "    </tr>\n",
       "  </tbody>\n",
       "</table>\n",
       "</div>"
      ],
      "text/plain": [
       "  asset\n",
       "0   DBA\n",
       "1   USO\n",
       "2   DBB\n",
       "3   GLD\n",
       "4   TLT\n",
       "5   LQD\n",
       "6   EEM\n",
       "7  UPRO\n",
       "8   UUP\n",
       "9  BITO"
      ]
     },
     "execution_count": 5,
     "metadata": {},
     "output_type": "execute_result"
    }
   ],
   "source": [
    "df_main = dict()\n",
    "df_main['asset'] = asset_list\n",
    "df_main = pd.DataFrame(df_main)\n",
    "\n",
    "df_main"
   ]
  },
  {
   "cell_type": "markdown",
   "metadata": {},
   "source": [
    "## Configuration"
   ]
  },
  {
   "cell_type": "code",
   "execution_count": null,
   "metadata": {},
   "outputs": [],
   "source": [
    "config = {\n",
    "    'DBA': {\n",
    "        \n",
    "    },\n",
    "}"
   ]
  }
 ],
 "metadata": {
  "kernelspec": {
   "display_name": "ai",
   "language": "python",
   "name": "python3"
  },
  "language_info": {
   "codemirror_mode": {
    "name": "ipython",
    "version": 3
   },
   "file_extension": ".py",
   "mimetype": "text/x-python",
   "name": "python",
   "nbconvert_exporter": "python",
   "pygments_lexer": "ipython3",
   "version": "3.11.4"
  }
 },
 "nbformat": 4,
 "nbformat_minor": 2
}
