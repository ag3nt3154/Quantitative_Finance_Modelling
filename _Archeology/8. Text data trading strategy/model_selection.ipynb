{
  "cells": [
    {
      "cell_type": "code",
      "execution_count": 2,
      "metadata": {
        "id": "s9rsFB8UyOq9"
      },
      "outputs": [],
      "source": [
        "# Load libraries\n",
        "import numpy as np\n",
        "import pandas as pd\n",
        "import matplotlib.pyplot as plt\n",
        "from pandas import read_csv, set_option\n",
        "from pandas.plotting import scatter_matrix\n",
        "import seaborn as sns\n",
        "from sklearn.preprocessing import StandardScaler\n",
        "from sklearn.model_selection import train_test_split, KFold, cross_val_score, GridSearchCV\n",
        "from sklearn.linear_model import LogisticRegression\n",
        "from sklearn.tree import DecisionTreeClassifier\n",
        "from sklearn.neighbors import KNeighborsClassifier\n",
        "from sklearn.discriminant_analysis import LinearDiscriminantAnalysis\n",
        "from sklearn.naive_bayes import GaussianNB\n",
        "from sklearn.svm import SVC\n",
        "from sklearn.neural_network import MLPClassifier\n",
        "from sklearn.pipeline import Pipeline\n",
        "from sklearn.ensemble import AdaBoostClassifier, GradientBoostingClassifier, RandomForestClassifier, ExtraTreesClassifier\n",
        "from sklearn.metrics import classification_report, confusion_matrix, accuracy_score\n",
        "\n",
        "#Libraries for Deep Learning Models\n",
        "from keras.models import Sequential\n",
        "from keras.layers import Dense,LSTM\n",
        "from keras.wrappers.scikit_learn import KerasClassifier\n",
        "from tensorflow.keras.optimizers import SGD\n",
        "from lightgbm import LGBMClassifier\n",
        "from tensorflow.keras.utils import to_categorical\n",
        "\n",
        "#nltk.download('vader_lexicon')\n",
        "#load all the wsb_* files\n",
        "stocks = [\"GME\", \"AMC\", \"BB\", \"TSLA\", \"PLTR\", \"MSFT\", \"BBBY\", \"SPY\", \"AAPL\"]"
      ]
    },
    {
      "cell_type": "code",
      "execution_count": 3,
      "metadata": {
        "colab": {
          "base_uri": "https://localhost:8080/"
        },
        "id": "XVcHdxnYIIc9",
        "outputId": "dc84bd96-c616-4c08-eea2-cdad031b3f90"
      },
      "outputs": [
        {
          "name": "stdout",
          "output_type": "stream",
          "text": [
            "Mounted at /content/drive/\n"
          ]
        }
      ],
      "source": [
        "#from google.colab import drive\n",
        "#drive.mount('/content/drive/')\n",
        "#dirpath = '/content/drive/MyDrive/FT5005/GW_dataset/'\n",
        "dirpath = ''"
      ]
    },
    {
      "cell_type": "code",
      "execution_count": 4,
      "metadata": {
        "id": "b0yScBz3ZD1T"
      },
      "outputs": [],
      "source": [
        "# load the data\n",
        "# Here I just use AAPL as test\n",
        "stock = \"AAPL\"\n",
        "df_stock_price = pd.read_csv(dirpath + f\"yahoo stock data/{stock}.csv\")\n",
        "df_collated = pd.read_csv(dirpath + f\"Collated/collated_{stock}.csv\")\n",
        "\n",
        "#df_stock_price = pd.read_csv(f\"{stock}.csv\")\n",
        "#df_collated = pd.read_csv(f\"collated_{stock}.csv\")"
      ]
    },
    {
      "cell_type": "code",
      "execution_count": 5,
      "metadata": {
        "id": "IWge4H6NctrT"
      },
      "outputs": [],
      "source": [
        "# Convert 'date' feature into date type\n",
        "df_stock_price['Date'] = pd.to_datetime(df_stock_price['date'], format='%Y-%m-%d').dt.date\n",
        "df_sortedbyDate_stock_price = df_stock_price.sort_values(by='Date').dropna(subset=['Date'], inplace=False)\n"
      ]
    },
    {
      "cell_type": "code",
      "execution_count": 6,
      "metadata": {
        "id": "VcwUItT-xObx"
      },
      "outputs": [],
      "source": [
        "# Get the price of t-lag_t\n",
        "# for example, if the date_t-1 is not working day, then we'll find the latest work date as date_t-1\n",
        "# if date_t-1 and date_t-2 are not working days, date_t-1 will be the latest work date, t-2 will be one day ahead of date_t-1\n",
        "import datetime\n",
        "def get_previous_price(date, df_stock_price, lag_t):\n",
        "  count = lag_t\n",
        "  lag_date = date\n",
        "  while count > 0:\n",
        "    lag_date = lag_date - datetime.timedelta(days=1)\n",
        "    if lag_date not in df_stock_price['Date'].values:\n",
        "      continue\n",
        "    else:\n",
        "      count -= 1\n",
        "\n",
        "  return df_stock_price.loc[df_stock_price['Date'] == lag_date]['close'].values[0]"
      ]
    },
    {
      "cell_type": "code",
      "execution_count": 7,
      "metadata": {
        "colab": {
          "base_uri": "https://localhost:8080/"
        },
        "id": "d3K2_3sZxXtp",
        "outputId": "a3b8dbc4-eb46-4273-f65c-d680aa857d8c"
      },
      "outputs": [
        {
          "name": "stderr",
          "output_type": "stream",
          "text": [
            "<ipython-input-7-435979c76a37>:4: SettingWithCopyWarning: \n",
            "A value is trying to be set on a copy of a slice from a DataFrame.\n",
            "Try using .loc[row_indexer,col_indexer] = value instead\n",
            "\n",
            "See the caveats in the documentation: https://pandas.pydata.org/pandas-docs/stable/user_guide/indexing.html#returning-a-view-versus-a-copy\n",
            "  df_collated_dataset['date2'] = pd.to_datetime(df_collated_dataset['date'], format='%Y-%m-%d').dt.date\n"
          ]
        }
      ],
      "source": [
        "# get the columns we need\n",
        "df_collated_dataset = df_collated[['date','volume', 'labels_shifted', 'score', 'sentiment_score','capital_letter_ratio','profanity_count','emoji_count','capital_letter_count','post_length']]\n",
        "\n",
        "df_collated_dataset['date2'] = pd.to_datetime(df_collated_dataset['date'], format='%Y-%m-%d').dt.date"
      ]
    },
    {
      "cell_type": "code",
      "execution_count": 8,
      "metadata": {
        "colab": {
          "base_uri": "https://localhost:8080/"
        },
        "id": "WYSDJq1-vpC9",
        "outputId": "10caf8f4-472f-48e7-b4b4-499b81597ec7"
      },
      "outputs": [
        {
          "name": "stderr",
          "output_type": "stream",
          "text": [
            "<ipython-input-8-fd9295c84810>:3: SettingWithCopyWarning: \n",
            "A value is trying to be set on a copy of a slice from a DataFrame.\n",
            "Try using .loc[row_indexer,col_indexer] = value instead\n",
            "\n",
            "See the caveats in the documentation: https://pandas.pydata.org/pandas-docs/stable/user_guide/indexing.html#returning-a-view-versus-a-copy\n",
            "  df_collated_dataset['price_t-1'] = df_collated_dataset['date2'].apply(lambda x: get_previous_price(x, df_sortedbyDate_stock_price,1))\n",
            "<ipython-input-8-fd9295c84810>:4: SettingWithCopyWarning: \n",
            "A value is trying to be set on a copy of a slice from a DataFrame.\n",
            "Try using .loc[row_indexer,col_indexer] = value instead\n",
            "\n",
            "See the caveats in the documentation: https://pandas.pydata.org/pandas-docs/stable/user_guide/indexing.html#returning-a-view-versus-a-copy\n",
            "  df_collated_dataset['price_t-2'] = df_collated_dataset['date2'].apply(lambda x: get_previous_price(x, df_sortedbyDate_stock_price,2))\n"
          ]
        }
      ],
      "source": [
        "# Get historical price\n",
        "df_collated_dataset['price_t-1'] = df_collated_dataset['date2'].apply(lambda x: get_previous_price(x, df_sortedbyDate_stock_price,1))\n",
        "df_collated_dataset['price_t-2'] = df_collated_dataset['date2'].apply(lambda x: get_previous_price(x, df_sortedbyDate_stock_price,2))"
      ]
    },
    {
      "cell_type": "code",
      "execution_count": 9,
      "metadata": {
        "colab": {
          "base_uri": "https://localhost:8080/",
          "height": 658
        },
        "id": "ll2hYg82y2K2",
        "outputId": "9dcb8e7f-6e39-40c1-fc23-55f50a6ec125"
      },
      "outputs": [
        {
          "data": {
            "text/html": [
              "\n",
              "  <div id=\"df-f2a39983-cf84-41dd-8435-02e6b4a012f2\">\n",
              "    <div class=\"colab-df-container\">\n",
              "      <div>\n",
              "<style scoped>\n",
              "    .dataframe tbody tr th:only-of-type {\n",
              "        vertical-align: middle;\n",
              "    }\n",
              "\n",
              "    .dataframe tbody tr th {\n",
              "        vertical-align: top;\n",
              "    }\n",
              "\n",
              "    .dataframe thead th {\n",
              "        text-align: right;\n",
              "    }\n",
              "</style>\n",
              "<table border=\"1\" class=\"dataframe\">\n",
              "  <thead>\n",
              "    <tr style=\"text-align: right;\">\n",
              "      <th></th>\n",
              "      <th>date</th>\n",
              "      <th>volume</th>\n",
              "      <th>labels_shifted</th>\n",
              "      <th>score</th>\n",
              "      <th>sentiment_score</th>\n",
              "      <th>capital_letter_ratio</th>\n",
              "      <th>profanity_count</th>\n",
              "      <th>emoji_count</th>\n",
              "      <th>capital_letter_count</th>\n",
              "      <th>post_length</th>\n",
              "      <th>date2</th>\n",
              "      <th>price_t-1</th>\n",
              "      <th>price_t-2</th>\n",
              "    </tr>\n",
              "  </thead>\n",
              "  <tbody>\n",
              "    <tr>\n",
              "      <th>0</th>\n",
              "      <td>2021-01-29</td>\n",
              "      <td>177523800</td>\n",
              "      <td>1.0</td>\n",
              "      <td>498.571429</td>\n",
              "      <td>-0.243786</td>\n",
              "      <td>0.169031</td>\n",
              "      <td>43.0</td>\n",
              "      <td>37.0</td>\n",
              "      <td>879.0</td>\n",
              "      <td>12875.0</td>\n",
              "      <td>2021-01-29</td>\n",
              "      <td>137.089996</td>\n",
              "      <td>142.059998</td>\n",
              "    </tr>\n",
              "    <tr>\n",
              "      <th>1</th>\n",
              "      <td>2021-02-01</td>\n",
              "      <td>106239800</td>\n",
              "      <td>1.0</td>\n",
              "      <td>207.250000</td>\n",
              "      <td>0.270533</td>\n",
              "      <td>0.046063</td>\n",
              "      <td>62.0</td>\n",
              "      <td>354.0</td>\n",
              "      <td>4029.0</td>\n",
              "      <td>76115.0</td>\n",
              "      <td>2021-02-01</td>\n",
              "      <td>131.960007</td>\n",
              "      <td>137.089996</td>\n",
              "    </tr>\n",
              "    <tr>\n",
              "      <th>2</th>\n",
              "      <td>2021-02-02</td>\n",
              "      <td>83305400</td>\n",
              "      <td>0.0</td>\n",
              "      <td>846.454545</td>\n",
              "      <td>0.337473</td>\n",
              "      <td>0.035424</td>\n",
              "      <td>29.0</td>\n",
              "      <td>40.0</td>\n",
              "      <td>2528.0</td>\n",
              "      <td>69182.0</td>\n",
              "      <td>2021-02-02</td>\n",
              "      <td>134.139999</td>\n",
              "      <td>131.960007</td>\n",
              "    </tr>\n",
              "    <tr>\n",
              "      <th>3</th>\n",
              "      <td>2021-02-03</td>\n",
              "      <td>89880900</td>\n",
              "      <td>1.0</td>\n",
              "      <td>114.600000</td>\n",
              "      <td>0.576980</td>\n",
              "      <td>0.064974</td>\n",
              "      <td>27.0</td>\n",
              "      <td>16.0</td>\n",
              "      <td>1291.0</td>\n",
              "      <td>14847.0</td>\n",
              "      <td>2021-02-03</td>\n",
              "      <td>134.990005</td>\n",
              "      <td>134.139999</td>\n",
              "    </tr>\n",
              "    <tr>\n",
              "      <th>4</th>\n",
              "      <td>2021-02-04</td>\n",
              "      <td>84183100</td>\n",
              "      <td>0.0</td>\n",
              "      <td>6172.600000</td>\n",
              "      <td>0.640170</td>\n",
              "      <td>0.036137</td>\n",
              "      <td>21.0</td>\n",
              "      <td>3.0</td>\n",
              "      <td>1000.0</td>\n",
              "      <td>26299.0</td>\n",
              "      <td>2021-02-04</td>\n",
              "      <td>133.940002</td>\n",
              "      <td>134.990005</td>\n",
              "    </tr>\n",
              "    <tr>\n",
              "      <th>...</th>\n",
              "      <td>...</td>\n",
              "      <td>...</td>\n",
              "      <td>...</td>\n",
              "      <td>...</td>\n",
              "      <td>...</td>\n",
              "      <td>...</td>\n",
              "      <td>...</td>\n",
              "      <td>...</td>\n",
              "      <td>...</td>\n",
              "      <td>...</td>\n",
              "      <td>...</td>\n",
              "      <td>...</td>\n",
              "      <td>...</td>\n",
              "    </tr>\n",
              "    <tr>\n",
              "      <th>530</th>\n",
              "      <td>2023-03-09</td>\n",
              "      <td>53833600</td>\n",
              "      <td>0.0</td>\n",
              "      <td>3.000000</td>\n",
              "      <td>0.146967</td>\n",
              "      <td>0.052511</td>\n",
              "      <td>0.0</td>\n",
              "      <td>1.0</td>\n",
              "      <td>14.0</td>\n",
              "      <td>279.0</td>\n",
              "      <td>2023-03-09</td>\n",
              "      <td>152.869995</td>\n",
              "      <td>151.600006</td>\n",
              "    </tr>\n",
              "    <tr>\n",
              "      <th>531</th>\n",
              "      <td>2023-03-10</td>\n",
              "      <td>68572400</td>\n",
              "      <td>1.0</td>\n",
              "      <td>6.000000</td>\n",
              "      <td>0.699800</td>\n",
              "      <td>0.091118</td>\n",
              "      <td>0.0</td>\n",
              "      <td>0.0</td>\n",
              "      <td>88.0</td>\n",
              "      <td>1124.0</td>\n",
              "      <td>2023-03-10</td>\n",
              "      <td>150.589996</td>\n",
              "      <td>152.869995</td>\n",
              "    </tr>\n",
              "    <tr>\n",
              "      <th>532</th>\n",
              "      <td>2023-03-13</td>\n",
              "      <td>84457100</td>\n",
              "      <td>1.0</td>\n",
              "      <td>3.500000</td>\n",
              "      <td>-0.210750</td>\n",
              "      <td>0.057266</td>\n",
              "      <td>0.0</td>\n",
              "      <td>0.0</td>\n",
              "      <td>12.0</td>\n",
              "      <td>214.0</td>\n",
              "      <td>2023-03-13</td>\n",
              "      <td>148.500000</td>\n",
              "      <td>150.589996</td>\n",
              "    </tr>\n",
              "    <tr>\n",
              "      <th>533</th>\n",
              "      <td>2023-03-14</td>\n",
              "      <td>73695900</td>\n",
              "      <td>1.0</td>\n",
              "      <td>5.000000</td>\n",
              "      <td>0.000000</td>\n",
              "      <td>0.050505</td>\n",
              "      <td>0.0</td>\n",
              "      <td>1.0</td>\n",
              "      <td>5.0</td>\n",
              "      <td>99.0</td>\n",
              "      <td>2023-03-14</td>\n",
              "      <td>150.470001</td>\n",
              "      <td>148.500000</td>\n",
              "    </tr>\n",
              "    <tr>\n",
              "      <th>534</th>\n",
              "      <td>2023-03-15</td>\n",
              "      <td>77167900</td>\n",
              "      <td>1.0</td>\n",
              "      <td>3.000000</td>\n",
              "      <td>0.969800</td>\n",
              "      <td>0.139116</td>\n",
              "      <td>0.0</td>\n",
              "      <td>0.0</td>\n",
              "      <td>85.0</td>\n",
              "      <td>611.0</td>\n",
              "      <td>2023-03-15</td>\n",
              "      <td>152.589996</td>\n",
              "      <td>150.470001</td>\n",
              "    </tr>\n",
              "  </tbody>\n",
              "</table>\n",
              "<p>535 rows × 13 columns</p>\n",
              "</div>\n",
              "      <button class=\"colab-df-convert\" onclick=\"convertToInteractive('df-f2a39983-cf84-41dd-8435-02e6b4a012f2')\"\n",
              "              title=\"Convert this dataframe to an interactive table.\"\n",
              "              style=\"display:none;\">\n",
              "        \n",
              "  <svg xmlns=\"http://www.w3.org/2000/svg\" height=\"24px\"viewBox=\"0 0 24 24\"\n",
              "       width=\"24px\">\n",
              "    <path d=\"M0 0h24v24H0V0z\" fill=\"none\"/>\n",
              "    <path d=\"M18.56 5.44l.94 2.06.94-2.06 2.06-.94-2.06-.94-.94-2.06-.94 2.06-2.06.94zm-11 1L8.5 8.5l.94-2.06 2.06-.94-2.06-.94L8.5 2.5l-.94 2.06-2.06.94zm10 10l.94 2.06.94-2.06 2.06-.94-2.06-.94-.94-2.06-.94 2.06-2.06.94z\"/><path d=\"M17.41 7.96l-1.37-1.37c-.4-.4-.92-.59-1.43-.59-.52 0-1.04.2-1.43.59L10.3 9.45l-7.72 7.72c-.78.78-.78 2.05 0 2.83L4 21.41c.39.39.9.59 1.41.59.51 0 1.02-.2 1.41-.59l7.78-7.78 2.81-2.81c.8-.78.8-2.07 0-2.86zM5.41 20L4 18.59l7.72-7.72 1.47 1.35L5.41 20z\"/>\n",
              "  </svg>\n",
              "      </button>\n",
              "      \n",
              "  <style>\n",
              "    .colab-df-container {\n",
              "      display:flex;\n",
              "      flex-wrap:wrap;\n",
              "      gap: 12px;\n",
              "    }\n",
              "\n",
              "    .colab-df-convert {\n",
              "      background-color: #E8F0FE;\n",
              "      border: none;\n",
              "      border-radius: 50%;\n",
              "      cursor: pointer;\n",
              "      display: none;\n",
              "      fill: #1967D2;\n",
              "      height: 32px;\n",
              "      padding: 0 0 0 0;\n",
              "      width: 32px;\n",
              "    }\n",
              "\n",
              "    .colab-df-convert:hover {\n",
              "      background-color: #E2EBFA;\n",
              "      box-shadow: 0px 1px 2px rgba(60, 64, 67, 0.3), 0px 1px 3px 1px rgba(60, 64, 67, 0.15);\n",
              "      fill: #174EA6;\n",
              "    }\n",
              "\n",
              "    [theme=dark] .colab-df-convert {\n",
              "      background-color: #3B4455;\n",
              "      fill: #D2E3FC;\n",
              "    }\n",
              "\n",
              "    [theme=dark] .colab-df-convert:hover {\n",
              "      background-color: #434B5C;\n",
              "      box-shadow: 0px 1px 3px 1px rgba(0, 0, 0, 0.15);\n",
              "      filter: drop-shadow(0px 1px 2px rgba(0, 0, 0, 0.3));\n",
              "      fill: #FFFFFF;\n",
              "    }\n",
              "  </style>\n",
              "\n",
              "      <script>\n",
              "        const buttonEl =\n",
              "          document.querySelector('#df-f2a39983-cf84-41dd-8435-02e6b4a012f2 button.colab-df-convert');\n",
              "        buttonEl.style.display =\n",
              "          google.colab.kernel.accessAllowed ? 'block' : 'none';\n",
              "\n",
              "        async function convertToInteractive(key) {\n",
              "          const element = document.querySelector('#df-f2a39983-cf84-41dd-8435-02e6b4a012f2');\n",
              "          const dataTable =\n",
              "            await google.colab.kernel.invokeFunction('convertToInteractive',\n",
              "                                                     [key], {});\n",
              "          if (!dataTable) return;\n",
              "\n",
              "          const docLinkHtml = 'Like what you see? Visit the ' +\n",
              "            '<a target=\"_blank\" href=https://colab.research.google.com/notebooks/data_table.ipynb>data table notebook</a>'\n",
              "            + ' to learn more about interactive tables.';\n",
              "          element.innerHTML = '';\n",
              "          dataTable['output_type'] = 'display_data';\n",
              "          await google.colab.output.renderOutput(dataTable, element);\n",
              "          const docLink = document.createElement('div');\n",
              "          docLink.innerHTML = docLinkHtml;\n",
              "          element.appendChild(docLink);\n",
              "        }\n",
              "      </script>\n",
              "    </div>\n",
              "  </div>\n",
              "  "
            ],
            "text/plain": [
              "           date     volume  labels_shifted        score  sentiment_score  \\\n",
              "0    2021-01-29  177523800             1.0   498.571429        -0.243786   \n",
              "1    2021-02-01  106239800             1.0   207.250000         0.270533   \n",
              "2    2021-02-02   83305400             0.0   846.454545         0.337473   \n",
              "3    2021-02-03   89880900             1.0   114.600000         0.576980   \n",
              "4    2021-02-04   84183100             0.0  6172.600000         0.640170   \n",
              "..          ...        ...             ...          ...              ...   \n",
              "530  2023-03-09   53833600             0.0     3.000000         0.146967   \n",
              "531  2023-03-10   68572400             1.0     6.000000         0.699800   \n",
              "532  2023-03-13   84457100             1.0     3.500000        -0.210750   \n",
              "533  2023-03-14   73695900             1.0     5.000000         0.000000   \n",
              "534  2023-03-15   77167900             1.0     3.000000         0.969800   \n",
              "\n",
              "     capital_letter_ratio  profanity_count  emoji_count  capital_letter_count  \\\n",
              "0                0.169031             43.0         37.0                 879.0   \n",
              "1                0.046063             62.0        354.0                4029.0   \n",
              "2                0.035424             29.0         40.0                2528.0   \n",
              "3                0.064974             27.0         16.0                1291.0   \n",
              "4                0.036137             21.0          3.0                1000.0   \n",
              "..                    ...              ...          ...                   ...   \n",
              "530              0.052511              0.0          1.0                  14.0   \n",
              "531              0.091118              0.0          0.0                  88.0   \n",
              "532              0.057266              0.0          0.0                  12.0   \n",
              "533              0.050505              0.0          1.0                   5.0   \n",
              "534              0.139116              0.0          0.0                  85.0   \n",
              "\n",
              "     post_length       date2   price_t-1   price_t-2  \n",
              "0        12875.0  2021-01-29  137.089996  142.059998  \n",
              "1        76115.0  2021-02-01  131.960007  137.089996  \n",
              "2        69182.0  2021-02-02  134.139999  131.960007  \n",
              "3        14847.0  2021-02-03  134.990005  134.139999  \n",
              "4        26299.0  2021-02-04  133.940002  134.990005  \n",
              "..           ...         ...         ...         ...  \n",
              "530        279.0  2023-03-09  152.869995  151.600006  \n",
              "531       1124.0  2023-03-10  150.589996  152.869995  \n",
              "532        214.0  2023-03-13  148.500000  150.589996  \n",
              "533         99.0  2023-03-14  150.470001  148.500000  \n",
              "534        611.0  2023-03-15  152.589996  150.470001  \n",
              "\n",
              "[535 rows x 13 columns]"
            ]
          },
          "execution_count": 9,
          "metadata": {},
          "output_type": "execute_result"
        }
      ],
      "source": [
        "df_collated_dataset"
      ]
    },
    {
      "cell_type": "code",
      "execution_count": 33,
      "metadata": {
        "colab": {
          "base_uri": "https://localhost:8080/"
        },
        "id": "Q5HDXi_5LA8z",
        "outputId": "283bab9c-287d-417a-9d69-bd5fb4be2afa"
      },
      "outputs": [
        {
          "name": "stderr",
          "output_type": "stream",
          "text": [
            "<ipython-input-33-04a66ac04036>:1: SettingWithCopyWarning: \n",
            "A value is trying to be set on a copy of a slice from a DataFrame.\n",
            "Try using .loc[row_indexer,col_indexer] = value instead\n",
            "\n",
            "See the caveats in the documentation: https://pandas.pydata.org/pandas-docs/stable/user_guide/indexing.html#returning-a-view-versus-a-copy\n",
            "  df_collated_dataset['dif_price'] = df_collated['close']-df_collated['open']\n"
          ]
        }
      ],
      "source": [
        "# get price difference\n",
        "df_collated_dataset['dif_price'] = df_collated['close']-df_collated['open']"
      ]
    },
    {
      "cell_type": "code",
      "execution_count": 34,
      "metadata": {
        "id": "Je7nv6extXTa"
      },
      "outputs": [],
      "source": [
        "HP = ['price_t-1', 'price_t-2']\n",
        "HP_V = ['price_t-1', 'price_t-2','volume']\n",
        "HP_V_TF = ['price_t-1', 'price_t-2','volume','sentiment_score','capital_letter_ratio','profanity_count','emoji_count','capital_letter_count','post_length']\n",
        "All_features = ['dif_price','volume', 'score', 'sentiment_score','capital_letter_ratio','profanity_count','emoji_count','capital_letter_count','post_length','price_t-1','price_t-2']\n",
        "X = df_collated_dataset[All_features]\n",
        "Y = df_collated_dataset['labels_shifted']\n",
        "X_train, X_test, y_train, y_test = train_test_split(X, Y, test_size=0.2, random_state=42, shuffle=False)\n"
      ]
    },
    {
      "cell_type": "code",
      "execution_count": 28,
      "metadata": {
        "colab": {
          "base_uri": "https://localhost:8080/"
        },
        "id": "3oyL5oJiOl0j",
        "outputId": "e5b7af45-0a21-40bb-9c55-464f418f8766"
      },
      "outputs": [
        {
          "name": "stdout",
          "output_type": "stream",
          "text": [
            "Fitting 5 folds for each of 90 candidates, totalling 450 fits\n",
            "Report the best parameters and rmse for best result:\n",
            "##############################################################################################\n",
            "Grid Search Best Parameters:  {'learning_rate': 0.005, 'max_depth': 4, 'n_estimators': 420}\n",
            "Grid Search Best accuracy:  0.5330506155950753\n",
            "##############################################################################################\n",
            "Predicted accuracy score: 0.5327102803738317\n"
          ]
        }
      ],
      "source": [
        "# Here I try with the base input features(price_t-1, price_t-2, sentiment_score).\n",
        "\n",
        "from time import time\n",
        "time1 = time()\n",
        "param_grid = {\n",
        "    'n_estimators': range(400,500,20),\n",
        "    'max_depth': range(3,6),\n",
        "    'learning_rate':[0.003, 0.005, 0.007, 0.1,0.2 ,0.3]\n",
        "}\n",
        "\n",
        "# I try different input features, the simplest is price_t-1, price_t-2 and sentiment_score, which performs the best yet\n",
        "X = df_collated_dataset[['score', 'volume','sentiment_score','post_length','price_t-1', 'price_t-2']]\n",
        "Y = df_collated_dataset['labels_shifted']\n",
        "X_train, X_test, y_train, y_test = train_test_split(X, Y, test_size=0.2, random_state=42, shuffle=False)\n",
        "\n",
        "# Perform grid search with 5-fold cross-validation\n",
        "kf = KFold(n_splits=5, shuffle=False)\n",
        "grid_search = GridSearchCV(LGBMClassifier(random_state=42), param_grid, cv=kf, scoring='accuracy',verbose=1)\n",
        "grid_search.fit(X_train, y_train)\n",
        "\n",
        "\n",
        "print('Report the best parameters and rmse for best result:')\n",
        "print('##############################################################################################')\n",
        "print('Grid Search Best Parameters: ', grid_search.best_params_)\n",
        "print('Grid Search Best accuracy: ', grid_search.best_score_)\n",
        "print('##############################################################################################')\n",
        "\n",
        "best_grid_model = grid_search.best_estimator_\n",
        "\n",
        "y_pred = best_grid_model.predict(X_test)\n",
        "\n",
        "# Calculate the RMSE for each model\n",
        "pre_accuracy_score = accuracy_score(y_test, y_pred)\n",
        "\n",
        "print(\"Predicted accuracy score:\", pre_accuracy_score)"
      ]
    },
    {
      "cell_type": "code",
      "execution_count": 45,
      "metadata": {
        "id": "p-vH5E8h1e1k"
      },
      "outputs": [],
      "source": [
        "# also here, I tried other methods, and lightGMB has the best performance(I'm still trying to tuning other models as well.)\n",
        "models = []\n",
        "models.append(('LR', LogisticRegression(n_jobs=-1)))\n",
        "# models.append(('LDA', LinearDiscriminantAnalysis()))\n",
        "models.append(('KNN', KNeighborsClassifier()))\n",
        "models.append(('CART', DecisionTreeClassifier()))\n",
        "models.append(('NB', GaussianNB()))\n",
        "\n",
        "#Neural Network\"\n",
        "models.append(('NN', MLPClassifier(hidden_layer_sizes=(5,3),activation='relu',solver='sgd'))) # replace by NN with 2 hidden layer, 5 neurons, 3 neurons each, relu activation, SGD optimizer. \n",
        "\n",
        "models.append(('SVM',SVC()))\n",
        "models.append(('LGBM', LGBMClassifier(learning_rate=0.005, max_depth=4, n_estimators = 420)))\n",
        "\n",
        "\n",
        "# Bagging methods\n",
        "models.append(('RF', RandomForestClassifier()))"
      ]
    },
    {
      "cell_type": "code",
      "execution_count": 43,
      "metadata": {
        "id": "ustEjSDh1uMv"
      },
      "outputs": [],
      "source": [
        "from sklearn.model_selection import TimeSeriesSplit\n",
        "def kfold_training(name, model, X, Y):\n",
        "    model.fit(X,Y)\n",
        "    tscv = TimeSeriesSplit(n_splits=5)\n",
        "    cv_results = cross_val_score(model, X, Y, cv=tscv, scoring='accuracy')\n",
        "    y_pred = model.predict(X_test)\n",
        "    pre_accuracy_score = accuracy_score(y_test, y_pred)\n",
        "    print(name, \"predicted accuracy score:\", pre_accuracy_score)\n",
        "    return cv_results"
      ]
    },
    {
      "cell_type": "code",
      "execution_count": 46,
      "metadata": {
        "colab": {
          "base_uri": "https://localhost:8080/"
        },
        "id": "DnJ5KZZZ1wBC",
        "outputId": "81466530-98ad-40f2-bcc1-99f1fbc30e37"
      },
      "outputs": [
        {
          "name": "stdout",
          "output_type": "stream",
          "text": [
            "LR predicted accuracy score: 0.5327102803738317\n",
            "accuracy of  LR is [0.53521127 0.57746479 0.43661972 0.50704225 0.49295775]\n",
            "KNN predicted accuracy score: 0.5607476635514018\n",
            "accuracy of  KNN is [0.52112676 0.54929577 0.6056338  0.52112676 0.47887324]\n",
            "CART predicted accuracy score: 0.4205607476635514\n",
            "accuracy of  CART is [0.42253521 0.50704225 0.46478873 0.43661972 0.46478873]\n",
            "NB predicted accuracy score: 0.4485981308411215\n",
            "accuracy of  NB is [0.46478873 0.4084507  0.54929577 0.49295775 0.52112676]\n",
            "NN predicted accuracy score: 0.4672897196261682\n",
            "accuracy of  NN is [0.46478873 0.57746479 0.43661972 0.50704225 0.49295775]\n",
            "SVM predicted accuracy score: 0.5327102803738317\n",
            "accuracy of  SVM is [0.46478873 0.57746479 0.43661972 0.50704225 0.49295775]\n",
            "LGBM predicted accuracy score: 0.5700934579439252\n",
            "accuracy of  LGBM is [0.36619718 0.4084507  0.46478873 0.54929577 0.43661972]\n",
            "RF predicted accuracy score: 0.5233644859813084\n",
            "accuracy of  RF is [0.47887324 0.53521127 0.49295775 0.52112676 0.5915493 ]\n"
          ]
        }
      ],
      "source": [
        "results = []\n",
        "names = []\n",
        "for name, model in models:\n",
        "    cv_results = kfold_training(name, model, X_train, y_train)\n",
        "    print(\"accuracy of \", name, \"is\", cv_results)\n",
        "    results.append(cv_results.mean())\n",
        "    names.append(name)"
      ]
    }
  ],
  "metadata": {
    "colab": {
      "provenance": []
    },
    "kernelspec": {
      "display_name": "Python 3 (ipykernel)",
      "language": "python",
      "name": "python3"
    },
    "language_info": {
      "codemirror_mode": {
        "name": "ipython",
        "version": 3
      },
      "file_extension": ".py",
      "mimetype": "text/x-python",
      "name": "python",
      "nbconvert_exporter": "python",
      "pygments_lexer": "ipython3",
      "version": "3.8.16"
    }
  },
  "nbformat": 4,
  "nbformat_minor": 0
}
