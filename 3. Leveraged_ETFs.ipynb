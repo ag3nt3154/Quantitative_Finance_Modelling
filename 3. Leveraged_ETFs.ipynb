{
 "cells": [
  {
   "cell_type": "code",
   "execution_count": 1,
   "metadata": {},
   "outputs": [],
   "source": [
    "%load_ext autoreload\n",
    "%autoreload 2"
   ]
  },
  {
   "cell_type": "markdown",
   "metadata": {},
   "source": [
    "# Leveraged ETFs\n",
    "\n",
    "This notebook tries to explore the performance of leveraged ETFs"
   ]
  },
  {
   "cell_type": "markdown",
   "metadata": {},
   "source": [
    "## Imports"
   ]
  },
  {
   "cell_type": "code",
   "execution_count": 2,
   "metadata": {},
   "outputs": [],
   "source": [
    "import os\n",
    "import numpy as np\n",
    "# import pandas as pd\n",
    "import polars as pl\n",
    "import matplotlib.pyplot as plt\n",
    "import seaborn as sns\n",
    "from scipy.stats import norm, laplace, gmean\n",
    "from Scripts.update_data import update_daily_price_data_yahoo\n",
    "from scipy.stats import gaussian_kde"
   ]
  },
  {
   "cell_type": "markdown",
   "metadata": {},
   "source": [
    "## Load Data"
   ]
  },
  {
   "cell_type": "code",
   "execution_count": 5,
   "metadata": {},
   "outputs": [
    {
     "data": {
      "text/html": [
       "<div><style>\n",
       ".dataframe > thead > tr,\n",
       ".dataframe > tbody > tr {\n",
       "  text-align: right;\n",
       "  white-space: pre-wrap;\n",
       "}\n",
       "</style>\n",
       "<small>shape: (7_977, 9)</small><table border=\"1\" class=\"dataframe\"><thead><tr><th></th><th>date</th><th>open</th><th>high</th><th>low</th><th>close</th><th>adjclose</th><th>volume</th><th>return</th></tr><tr><td>i64</td><td>date</td><td>f64</td><td>f64</td><td>f64</td><td>f64</td><td>f64</td><td>i64</td><td>f64</td></tr></thead><tbody><tr><td>1</td><td>1993-02-01</td><td>43.96875</td><td>44.25</td><td>43.96875</td><td>44.25</td><td>24.783653</td><td>480500</td><td>0.007112</td></tr><tr><td>2</td><td>1993-02-02</td><td>44.21875</td><td>44.375</td><td>44.125</td><td>44.34375</td><td>24.836157</td><td>201300</td><td>0.002119</td></tr><tr><td>3</td><td>1993-02-03</td><td>44.40625</td><td>44.84375</td><td>44.375</td><td>44.8125</td><td>25.098688</td><td>529400</td><td>0.010571</td></tr><tr><td>4</td><td>1993-02-04</td><td>44.96875</td><td>45.09375</td><td>44.46875</td><td>45.0</td><td>25.203701</td><td>531500</td><td>0.004184</td></tr><tr><td>5</td><td>1993-02-05</td><td>44.96875</td><td>45.0625</td><td>44.71875</td><td>44.96875</td><td>25.186214</td><td>492100</td><td>-0.000694</td></tr><tr><td>&hellip;</td><td>&hellip;</td><td>&hellip;</td><td>&hellip;</td><td>&hellip;</td><td>&hellip;</td><td>&hellip;</td><td>&hellip;</td><td>&hellip;</td></tr><tr><td>7973</td><td>2024-09-30</td><td>570.419983</td><td>574.380005</td><td>568.080017</td><td>573.76001</td><td>573.76001</td><td>63557400</td><td>0.004007</td></tr><tr><td>7974</td><td>2024-10-01</td><td>573.400024</td><td>574.059998</td><td>566.0</td><td>568.619995</td><td>568.619995</td><td>72668800</td><td>-0.008958</td></tr><tr><td>7975</td><td>2024-10-02</td><td>567.710022</td><td>569.900024</td><td>565.27002</td><td>568.859985</td><td>568.859985</td><td>38097800</td><td>0.000422</td></tr><tr><td>7976</td><td>2024-10-03</td><td>567.359985</td><td>569.799988</td><td>565.48999</td><td>567.820007</td><td>567.820007</td><td>40846500</td><td>-0.001828</td></tr><tr><td>7977</td><td>2024-10-04</td><td>572.349976</td><td>573.359985</td><td>568.099976</td><td>572.97998</td><td>572.97998</td><td>42939100</td><td>0.009087</td></tr></tbody></table></div>"
      ],
      "text/plain": [
       "shape: (7_977, 9)\n",
       "┌──────┬────────────┬────────────┬────────────┬───┬────────────┬────────────┬──────────┬───────────┐\n",
       "│      ┆ date       ┆ open       ┆ high       ┆ … ┆ close      ┆ adjclose   ┆ volume   ┆ return    │\n",
       "│ ---  ┆ ---        ┆ ---        ┆ ---        ┆   ┆ ---        ┆ ---        ┆ ---      ┆ ---       │\n",
       "│ i64  ┆ date       ┆ f64        ┆ f64        ┆   ┆ f64        ┆ f64        ┆ i64      ┆ f64       │\n",
       "╞══════╪════════════╪════════════╪════════════╪═══╪════════════╪════════════╪══════════╪═══════════╡\n",
       "│ 1    ┆ 1993-02-01 ┆ 43.96875   ┆ 44.25      ┆ … ┆ 44.25      ┆ 24.783653  ┆ 480500   ┆ 0.007112  │\n",
       "│ 2    ┆ 1993-02-02 ┆ 44.21875   ┆ 44.375     ┆ … ┆ 44.34375   ┆ 24.836157  ┆ 201300   ┆ 0.002119  │\n",
       "│ 3    ┆ 1993-02-03 ┆ 44.40625   ┆ 44.84375   ┆ … ┆ 44.8125    ┆ 25.098688  ┆ 529400   ┆ 0.010571  │\n",
       "│ 4    ┆ 1993-02-04 ┆ 44.96875   ┆ 45.09375   ┆ … ┆ 45.0       ┆ 25.203701  ┆ 531500   ┆ 0.004184  │\n",
       "│ 5    ┆ 1993-02-05 ┆ 44.96875   ┆ 45.0625    ┆ … ┆ 44.96875   ┆ 25.186214  ┆ 492100   ┆ -0.000694 │\n",
       "│ …    ┆ …          ┆ …          ┆ …          ┆ … ┆ …          ┆ …          ┆ …        ┆ …         │\n",
       "│ 7973 ┆ 2024-09-30 ┆ 570.419983 ┆ 574.380005 ┆ … ┆ 573.76001  ┆ 573.76001  ┆ 63557400 ┆ 0.004007  │\n",
       "│ 7974 ┆ 2024-10-01 ┆ 573.400024 ┆ 574.059998 ┆ … ┆ 568.619995 ┆ 568.619995 ┆ 72668800 ┆ -0.008958 │\n",
       "│ 7975 ┆ 2024-10-02 ┆ 567.710022 ┆ 569.900024 ┆ … ┆ 568.859985 ┆ 568.859985 ┆ 38097800 ┆ 0.000422  │\n",
       "│ 7976 ┆ 2024-10-03 ┆ 567.359985 ┆ 569.799988 ┆ … ┆ 567.820007 ┆ 567.820007 ┆ 40846500 ┆ -0.001828 │\n",
       "│ 7977 ┆ 2024-10-04 ┆ 572.349976 ┆ 573.359985 ┆ … ┆ 572.97998  ┆ 572.97998  ┆ 42939100 ┆ 0.009087  │\n",
       "└──────┴────────────┴────────────┴────────────┴───┴────────────┴────────────┴──────────┴───────────┘"
      ]
     },
     "execution_count": 5,
     "metadata": {},
     "output_type": "execute_result"
    }
   ],
   "source": [
    "asset = 'SPY'\n",
    "\n",
    "update_daily_price_data_yahoo(asset)\n",
    "df = pl.read_csv(f'./Data/Daily_price_data/yahoo_finance/{asset}.csv')\n",
    "df = df.with_columns(pl.col('date').str.to_date())\n",
    "df = df.with_columns(pl.col('close').pct_change().alias('return'))\n",
    "df = df.drop_nulls()\n",
    "df"
   ]
  },
  {
   "cell_type": "markdown",
   "metadata": {},
   "source": [
    "# Fit KDE distribution"
   ]
  },
  {
   "cell_type": "code",
   "execution_count": 8,
   "metadata": {},
   "outputs": [
    {
     "data": {
      "image/png": "[encoded data removed]",
      "text/plain": [
       "<Figure size 640x480 with 1 Axes>"
      ]
     },
     "metadata": {},
     "output_type": "display_data"
    }
   ],
   "source": [
    "kde = gaussian_kde(df['return'])\n",
    "num_samples = 10000\n",
    "monte_carlo_samples = kde.resample(num_samples)[0]\n",
    "\n",
    "x_vals = np.linspace(min(df['return']), max(df['return']), 1000)\n",
    "kde_vals = kde(x_vals)\n",
    "\n",
    "# plt.figure(figsize=(10, 6))\n",
    "plt.plot(x_vals, kde_vals, color='blue', label='KDE Distribution')\n",
    "plt.hist(df['return'], bins=100, density=True, alpha=0.4, color='black', label='Original Sample')\n",
    "plt.hist(monte_carlo_samples, bins=100, density=True, alpha=0.3, color='green', label='Monte Carlo Samples')\n",
    "plt.legend()\n",
    "plt.show()"
   ]
  },
  {
   "cell_type": "markdown",
   "metadata": {},
   "source": [
    "## Monte Carlo Simulation\n",
    "\n",
    "Simulate performance for 1 year = 252 trading days"
   ]
  },
  {
   "cell_type": "code",
   "execution_count": null,
   "metadata": {},
   "outputs": [],
   "source": [
    "num_trials = 1000\n",
    "trial_length = 252\n",
    "\n"
   ]
  }
 ],
 "metadata": {
  "kernelspec": {
   "display_name": "Python 3",
   "language": "python",
   "name": "python3"
  },
  "language_info": {
   "codemirror_mode": {
    "name": "ipython",
    "version": 3
   },
   "file_extension": ".py",
   "mimetype": "text/x-python",
   "name": "python",
   "nbconvert_exporter": "python",
   "pygments_lexer": "ipython3",
   "version": "3.11.4"
  }
 },
 "nbformat": 4,
 "nbformat_minor": 2
}
