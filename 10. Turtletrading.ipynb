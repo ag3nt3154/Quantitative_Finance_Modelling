{
 "cells": [
  {
   "cell_type": "code",
   "execution_count": 1,
   "metadata": {},
   "outputs": [],
   "source": [
    "import numpy as np\n",
    "import matplotlib.pyplot as plt\n",
    "from utils import misc\n",
    "import pandas as pd"
   ]
  },
  {
   "cell_type": "code",
   "execution_count": 2,
   "metadata": {},
   "outputs": [],
   "source": [
    "def turtle_trading_calc(ticker, initial_capital):\n",
    "    print(ticker)\n",
    "    df = misc.get_price_data(ticker)\n",
    "    df['20_up_bound'] = df['high'].rolling(20).max()\n",
    "    df['20_low_bound'] = df['low'].rolling(20).min()\n",
    "    df['10_up_bound'] = df['high'].rolling(10).max()\n",
    "    df['10_low_bound'] = df['low'].rolling(10).min()\n",
    "\n",
    "    df = df.dropna()\n",
    "\n",
    "    df['High-Low'] = df['high'] - df['low']\n",
    "    df['High-PrevClose'] = abs(df['high'] - df['close'].shift(1))\n",
    "    df['Low-PrevClose'] = abs(df['low'] - df['close'].shift(1))\n",
    "    df['TR'] = df[['High-Low', 'High-PrevClose', 'Low-PrevClose']].max(axis=1)\n",
    "    df['ATR'] = df['TR'].rolling(20).mean()\n",
    "\n",
    "\n",
    "    long_entry = df['20_up_bound'].to_numpy()[-1]\n",
    "    short_entry = df['20_low_bound'].to_numpy()[-1]\n",
    "    long_exit = df['10_low_bound'].to_numpy()[-1]\n",
    "    short_exit = df['10_up_bound'].to_numpy()[-1]\n",
    "\n",
    "    atr = df['ATR'].to_numpy()[-1]\n",
    "\n",
    "    \n",
    "    risk_unit_size = int(0.01 * initial_capital / (2 * atr))\n",
    "\n",
    "    print(f'long entry breakout:    {long_entry}')\n",
    "    print(f'short entry breakout:   {short_entry}')\n",
    "\n",
    "    print(f'risk_unit_size:         {risk_unit_size}')\n",
    "\n",
    "    print(f'trailing_stoploss:      {2 * atr}')\n",
    "    print(f'trailing_stop last val: {df[\"high\"].to_numpy()[-1] - 2 * atr}')\n",
    "\n",
    "    print(f'long_exit:              {long_exit}')\n",
    "    print(f'short_exit:             {short_exit}')\n"
   ]
  },
  {
   "cell_type": "code",
   "execution_count": 3,
   "metadata": {},
   "outputs": [
    {
     "name": "stdout",
     "output_type": "stream",
     "text": [
      "SPY\n",
      "long entry breakout:    422.5799865722656\n",
      "short entry breakout:   403.739990234375\n",
      "risk_unit_size:         11\n",
      "trailing_stoploss:      9.03800048828125\n",
      "trailing_stop last val: 413.5419860839844\n",
      "long_exit:              409.8800048828125\n",
      "short_exit:             422.5799865722656\n"
     ]
    }
   ],
   "source": [
    "turtle_trading_calc('SPY', 10000)"
   ]
  },
  {
   "cell_type": "code",
   "execution_count": 4,
   "metadata": {},
   "outputs": [
    {
     "name": "stdout",
     "output_type": "stream",
     "text": [
      "TMF\n",
      "long entry breakout:    8.90999984741211\n",
      "short entry breakout:   7.269999980926514\n",
      "risk_unit_size:         185\n",
      "trailing_stoploss:      0.5389998435974122\n",
      "trailing_stop last val: 7.200999927520752\n",
      "long_exit:              7.269999980926514\n",
      "short_exit:             8.029999732971191\n"
     ]
    }
   ],
   "source": [
    "turtle_trading_calc('TMF', 10000)"
   ]
  }
 ],
 "metadata": {
  "kernelspec": {
   "display_name": "Python 3",
   "language": "python",
   "name": "python3"
  },
  "language_info": {
   "codemirror_mode": {
    "name": "ipython",
    "version": 3
   },
   "file_extension": ".py",
   "mimetype": "text/x-python",
   "name": "python",
   "nbconvert_exporter": "python",
   "pygments_lexer": "ipython3",
   "version": "3.9.16"
  },
  "orig_nbformat": 4
 },
 "nbformat": 4,
 "nbformat_minor": 2
}
