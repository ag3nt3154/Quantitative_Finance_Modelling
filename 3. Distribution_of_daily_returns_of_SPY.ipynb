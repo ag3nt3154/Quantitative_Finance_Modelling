{
 "cells": [
  {
   "cell_type": "code",
   "execution_count": 19,
   "metadata": {},
   "outputs": [],
   "source": [
    "import numpy as np\n",
    "import pandas as pd\n",
    "import misc\n",
    "import matplotlib.pyplot as plt\n",
    "import seaborn as sns\n",
    "from scipy.stats import laplace, norm, gmean\n",
    "# from tqdm.notebook import tqdm\n",
    "from tqdm import tqdm\n",
    "from bsm import bsm\n",
    "\n",
    "pd.options.display.max_columns=300\n",
    "pd.options.display.max_rows=100"
   ]
  },
  {
   "cell_type": "code",
   "execution_count": 20,
   "metadata": {},
   "outputs": [
    {
     "data": {
      "text/html": [
       "<div>\n",
       "<style scoped>\n",
       "    .dataframe tbody tr th:only-of-type {\n",
       "        vertical-align: middle;\n",
       "    }\n",
       "\n",
       "    .dataframe tbody tr th {\n",
       "        vertical-align: top;\n",
       "    }\n",
       "\n",
       "    .dataframe thead th {\n",
       "        text-align: right;\n",
       "    }\n",
       "</style>\n",
       "<table border=\"1\" class=\"dataframe\">\n",
       "  <thead>\n",
       "    <tr style=\"text-align: right;\">\n",
       "      <th></th>\n",
       "      <th>open</th>\n",
       "      <th>high</th>\n",
       "      <th>low</th>\n",
       "      <th>close</th>\n",
       "      <th>adjclose</th>\n",
       "      <th>volume</th>\n",
       "      <th>ticker</th>\n",
       "      <th>close daily change</th>\n",
       "    </tr>\n",
       "    <tr>\n",
       "      <th>date</th>\n",
       "      <th></th>\n",
       "      <th></th>\n",
       "      <th></th>\n",
       "      <th></th>\n",
       "      <th></th>\n",
       "      <th></th>\n",
       "      <th></th>\n",
       "      <th></th>\n",
       "    </tr>\n",
       "  </thead>\n",
       "  <tbody>\n",
       "    <tr>\n",
       "      <th>1993-02-01</th>\n",
       "      <td>43.968750</td>\n",
       "      <td>44.250000</td>\n",
       "      <td>43.968750</td>\n",
       "      <td>44.250000</td>\n",
       "      <td>25.397581</td>\n",
       "      <td>480500</td>\n",
       "      <td>SPY</td>\n",
       "      <td>0.007112</td>\n",
       "    </tr>\n",
       "    <tr>\n",
       "      <th>1993-02-02</th>\n",
       "      <td>44.218750</td>\n",
       "      <td>44.375000</td>\n",
       "      <td>44.125000</td>\n",
       "      <td>44.343750</td>\n",
       "      <td>25.451406</td>\n",
       "      <td>201300</td>\n",
       "      <td>SPY</td>\n",
       "      <td>0.002119</td>\n",
       "    </tr>\n",
       "    <tr>\n",
       "      <th>1993-02-03</th>\n",
       "      <td>44.406250</td>\n",
       "      <td>44.843750</td>\n",
       "      <td>44.375000</td>\n",
       "      <td>44.812500</td>\n",
       "      <td>25.720440</td>\n",
       "      <td>529400</td>\n",
       "      <td>SPY</td>\n",
       "      <td>0.010571</td>\n",
       "    </tr>\n",
       "    <tr>\n",
       "      <th>1993-02-04</th>\n",
       "      <td>44.968750</td>\n",
       "      <td>45.093750</td>\n",
       "      <td>44.468750</td>\n",
       "      <td>45.000000</td>\n",
       "      <td>25.828053</td>\n",
       "      <td>531500</td>\n",
       "      <td>SPY</td>\n",
       "      <td>0.004184</td>\n",
       "    </tr>\n",
       "    <tr>\n",
       "      <th>1993-02-05</th>\n",
       "      <td>44.968750</td>\n",
       "      <td>45.062500</td>\n",
       "      <td>44.718750</td>\n",
       "      <td>44.968750</td>\n",
       "      <td>25.810101</td>\n",
       "      <td>492100</td>\n",
       "      <td>SPY</td>\n",
       "      <td>-0.000694</td>\n",
       "    </tr>\n",
       "    <tr>\n",
       "      <th>...</th>\n",
       "      <td>...</td>\n",
       "      <td>...</td>\n",
       "      <td>...</td>\n",
       "      <td>...</td>\n",
       "      <td>...</td>\n",
       "      <td>...</td>\n",
       "      <td>...</td>\n",
       "      <td>...</td>\n",
       "    </tr>\n",
       "    <tr>\n",
       "      <th>2023-03-03</th>\n",
       "      <td>399.709991</td>\n",
       "      <td>404.450012</td>\n",
       "      <td>399.029999</td>\n",
       "      <td>404.190002</td>\n",
       "      <td>404.190002</td>\n",
       "      <td>90038300</td>\n",
       "      <td>SPY</td>\n",
       "      <td>0.016038</td>\n",
       "    </tr>\n",
       "    <tr>\n",
       "      <th>2023-03-06</th>\n",
       "      <td>405.049988</td>\n",
       "      <td>407.450012</td>\n",
       "      <td>404.010010</td>\n",
       "      <td>404.470001</td>\n",
       "      <td>404.470001</td>\n",
       "      <td>72795900</td>\n",
       "      <td>SPY</td>\n",
       "      <td>0.000693</td>\n",
       "    </tr>\n",
       "    <tr>\n",
       "      <th>2023-03-07</th>\n",
       "      <td>404.420013</td>\n",
       "      <td>404.670013</td>\n",
       "      <td>397.630005</td>\n",
       "      <td>398.269989</td>\n",
       "      <td>398.269989</td>\n",
       "      <td>108310600</td>\n",
       "      <td>SPY</td>\n",
       "      <td>-0.015329</td>\n",
       "    </tr>\n",
       "    <tr>\n",
       "      <th>2023-03-08</th>\n",
       "      <td>398.390015</td>\n",
       "      <td>399.709991</td>\n",
       "      <td>396.589996</td>\n",
       "      <td>398.920013</td>\n",
       "      <td>398.920013</td>\n",
       "      <td>74746600</td>\n",
       "      <td>SPY</td>\n",
       "      <td>0.001632</td>\n",
       "    </tr>\n",
       "    <tr>\n",
       "      <th>2023-03-09</th>\n",
       "      <td>399.739990</td>\n",
       "      <td>401.480011</td>\n",
       "      <td>390.529999</td>\n",
       "      <td>391.559998</td>\n",
       "      <td>391.559998</td>\n",
       "      <td>111556600</td>\n",
       "      <td>SPY</td>\n",
       "      <td>-0.018450</td>\n",
       "    </tr>\n",
       "  </tbody>\n",
       "</table>\n",
       "<p>7581 rows × 8 columns</p>\n",
       "</div>"
      ],
      "text/plain": [
       "                  open        high         low       close    adjclose  \\\n",
       "date                                                                     \n",
       "1993-02-01   43.968750   44.250000   43.968750   44.250000   25.397581   \n",
       "1993-02-02   44.218750   44.375000   44.125000   44.343750   25.451406   \n",
       "1993-02-03   44.406250   44.843750   44.375000   44.812500   25.720440   \n",
       "1993-02-04   44.968750   45.093750   44.468750   45.000000   25.828053   \n",
       "1993-02-05   44.968750   45.062500   44.718750   44.968750   25.810101   \n",
       "...                ...         ...         ...         ...         ...   \n",
       "2023-03-03  399.709991  404.450012  399.029999  404.190002  404.190002   \n",
       "2023-03-06  405.049988  407.450012  404.010010  404.470001  404.470001   \n",
       "2023-03-07  404.420013  404.670013  397.630005  398.269989  398.269989   \n",
       "2023-03-08  398.390015  399.709991  396.589996  398.920013  398.920013   \n",
       "2023-03-09  399.739990  401.480011  390.529999  391.559998  391.559998   \n",
       "\n",
       "               volume ticker  close daily change  \n",
       "date                                              \n",
       "1993-02-01     480500    SPY            0.007112  \n",
       "1993-02-02     201300    SPY            0.002119  \n",
       "1993-02-03     529400    SPY            0.010571  \n",
       "1993-02-04     531500    SPY            0.004184  \n",
       "1993-02-05     492100    SPY           -0.000694  \n",
       "...               ...    ...                 ...  \n",
       "2023-03-03   90038300    SPY            0.016038  \n",
       "2023-03-06   72795900    SPY            0.000693  \n",
       "2023-03-07  108310600    SPY           -0.015329  \n",
       "2023-03-08   74746600    SPY            0.001632  \n",
       "2023-03-09  111556600    SPY           -0.018450  \n",
       "\n",
       "[7581 rows x 8 columns]"
      ]
     },
     "execution_count": 20,
     "metadata": {},
     "output_type": "execute_result"
    }
   ],
   "source": [
    "# Get data from yahoo finance\n",
    "misc.get_price_data('SPY')\n",
    "df = pd.read_csv('datasets/stock_price_series/SPY.csv')\n",
    "df = misc.clean_df(df)\n",
    "df = df.set_index('date')\n",
    "df['close daily change'] = (df['close'] - df['close'].shift(1)) / df['close'].shift(1)\n",
    "df = df.dropna()\n",
    "df"
   ]
  },
  {
   "cell_type": "code",
   "execution_count": 43,
   "metadata": {},
   "outputs": [
    {
     "data": {
      "text/plain": [
       "0.00211864406779661"
      ]
     },
     "execution_count": 43,
     "metadata": {},
     "output_type": "execute_result"
    }
   ],
   "source": [
    "df\n",
    "(44.343750 - 44.250000) / 44.250000"
   ]
  },
  {
   "cell_type": "code",
   "execution_count": 22,
   "metadata": {},
   "outputs": [
    {
     "data": {
      "image/png": "[encoded data removed]",
      "text/plain": [
       "<Figure size 432x288 with 1 Axes>"
      ]
     },
     "metadata": {
      "needs_background": "light"
     },
     "output_type": "display_data"
    }
   ],
   "source": [
    "# Distribution of daily returns\n",
    "count, bins, ignored = plt.hist(df['close daily change'], 1000, density=True)\n",
    "plt.ylabel('Frequency')\n",
    "plt.xlabel('daily_change')\n",
    "plt.show()"
   ]
  },
  {
   "cell_type": "code",
   "execution_count": 23,
   "metadata": {},
   "outputs": [
    {
     "name": "stdout",
     "output_type": "stream",
     "text": [
      "(0.00035990639857369576, 0.011938126573499568)\n"
     ]
    },
    {
     "data": {
      "image/png": "[encoded data removed]",
      "text/plain": [
       "<Figure size 432x288 with 1 Axes>"
      ]
     },
     "metadata": {
      "needs_background": "light"
     },
     "output_type": "display_data"
    }
   ],
   "source": [
    "# Fit normal distribution parameters\n",
    "norm_params = norm.fit(df['close daily change'])\n",
    "print(norm_params)\n",
    "\n",
    "# Plot daily return distribution\n",
    "count, bins, ignored = plt.hist(df['close daily change'], 1000, density=True)\n",
    "\n",
    "# Plot normal distribution with parameters\n",
    "mu, sigma = norm_params\n",
    "plt.plot(bins, 1/(sigma * np.sqrt(2 * np.pi)) *\n",
    "               np.exp( - (bins - mu)**2 / (2 * sigma**2) ),\n",
    "         linewidth=2, color='r')\n",
    "plt.show()"
   ]
  },
  {
   "attachments": {},
   "cell_type": "markdown",
   "metadata": {},
   "source": [
    "Laplace Distribution:\n",
    "\n",
    "https://arxiv.org/ftp/arxiv/papers/1906/1906.10325.pdf"
   ]
  },
  {
   "cell_type": "code",
   "execution_count": 24,
   "metadata": {},
   "outputs": [
    {
     "name": "stdout",
     "output_type": "stream",
     "text": [
      "(0.0005963675422870013, 0.007940583654808073)\n"
     ]
    },
    {
     "data": {
      "text/plain": [
       "[<matplotlib.lines.Line2D at 0x15814ff62e0>]"
      ]
     },
     "execution_count": 24,
     "metadata": {},
     "output_type": "execute_result"
    },
    {
     "data": {
      "image/png": "[encoded data removed]",
      "text/plain": [
       "<Figure size 432x288 with 1 Axes>"
      ]
     },
     "metadata": {
      "needs_background": "light"
     },
     "output_type": "display_data"
    }
   ],
   "source": [
    "# Fit Laplace distribution parameters\n",
    "laplace_params = laplace.fit(df['close daily change'])\n",
    "print(laplace_params)\n",
    "\n",
    "# Plot daily returns distribution\n",
    "count, bins, ignored = plt.hist(df['close daily change'], 1000, density=True)\n",
    "\n",
    "# Plot Laplace distribution with parameters\n",
    "loc, scale = laplace_params\n",
    "x = np.arange(-0.2, 0.2, .001)\n",
    "pdf = np.exp(-abs(x-loc)/scale)/(2.*scale)\n",
    "plt.plot(x, pdf)"
   ]
  },
  {
   "attachments": {},
   "cell_type": "markdown",
   "metadata": {},
   "source": [
    "The laplace distribution appears to be fit SPY daily returns distribution more closely.\n",
    "\n",
    "We calculate the historical volatility of SPY for use in the BSM equation.\n",
    "\n",
    "\\begin{equation}\n",
    "    \\sigma_{annual} = \\sigma_{daily} \\times \\sqrt{252}\n",
    "\\end{equation}"
   ]
  },
  {
   "cell_type": "code",
   "execution_count": 25,
   "metadata": {},
   "outputs": [
    {
     "name": "stdout",
     "output_type": "stream",
     "text": [
      "SPY Historical Volatility: 18.95 %\n"
     ]
    }
   ],
   "source": [
    "spy_hist_vol = np.std(df['close daily change']) * np.sqrt(252)\n",
    "print(\"SPY Historical Volatility: \" + \"{:.2f}\".format(spy_hist_vol * 100) + \" %\")"
   ]
  },
  {
   "cell_type": "code",
   "execution_count": 44,
   "metadata": {},
   "outputs": [
    {
     "name": "stdout",
     "output_type": "stream",
     "text": [
      "[ 0.00211864  0.01057082  0.0041841  ... -0.01532873  0.00163212\n",
      " -0.01844985]\n",
      "[ 0.00711238  0.00211864  0.01057082 ... -0.01532873  0.00163212\n",
      " -0.01844985]\n"
     ]
    }
   ],
   "source": [
    "from strategy_testing import fit_laplace\n",
    "test = df['close'].copy()\n",
    "test = np.array(test)\n",
    "test1 = (test[1:] - test[:-1])/test[:-1]\n",
    "test2 = np.array(df['close daily change'])\n",
    "\n",
    "print(test1)\n",
    "print(test2)"
   ]
  }
 ],
 "metadata": {
  "kernelspec": {
   "display_name": "Python 3",
   "language": "python",
   "name": "python3"
  },
  "language_info": {
   "codemirror_mode": {
    "name": "ipython",
    "version": 3
   },
   "file_extension": ".py",
   "mimetype": "text/x-python",
   "name": "python",
   "nbconvert_exporter": "python",
   "pygments_lexer": "ipython3",
   "version": "3.8.6"
  },
  "orig_nbformat": 4
 },
 "nbformat": 4,
 "nbformat_minor": 2
}
