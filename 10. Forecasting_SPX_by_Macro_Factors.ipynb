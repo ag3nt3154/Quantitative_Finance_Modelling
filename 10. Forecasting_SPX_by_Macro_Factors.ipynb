{
 "cells": [
  {
   "attachments": {},
   "cell_type": "markdown",
   "metadata": {},
   "source": [
    "# Forecasting SPX by using Macro Data\n",
    "\n",
    "### Theory\n",
    "\n",
    "We assume that all investors allocate all of their capital into 3 classes of assets:\n",
    "1. Cash\n",
    "2. Bonds\n",
    "3. Equities\n",
    "\n",
    "Investors switch between assets by buying/selling them through an auction-like process. For example, if equities offer unattractive returns compared to bonds and cash, investors will sell stocks until stock prices are low enough that they become attractive to a willing buyer.\n",
    "\n",
    "The market price is therefore the current exchange rate between an asset and cash.\n",
    "\n",
    "We define the supply of an asset as the total market value of the asset (e.g. market cap for stocks). The supply of an asset class relative to other asset classes reflects the prevailing opinion of investors towards that asset class. \n",
    "\n",
    "For example, if no investors are willing to hold equities at its current price, the market price of stocks (reflected as the SP500 index SPX) will fall until a willing buyer is found. Therefore, the market cap, which indicates the 'supply' of equities will fall.\n",
    "\n",
    "We hypothesize that the allocation of investor capital towards equities is mean-reverting. \n",
    "\n",
    "The allocation of investor capital towards equities is the relative supply of equities compared to cash and bonds.\n",
    "\n",
    "\\begin{equation}\n",
    "    \\text{Allocation towards equities} = \\frac{\\text{market cap of SP500}}{\\text{total amount of bonds} + \\text{total amount of cash}}\n",
    "\\end{equation}"
   ]
  },
  {
   "cell_type": "code",
   "execution_count": null,
   "metadata": {},
   "outputs": [],
   "source": []
  }
 ],
 "metadata": {
  "language_info": {
   "name": "python"
  },
  "orig_nbformat": 4
 },
 "nbformat": 4,
 "nbformat_minor": 2
}
